{
 "cells": [
  {
   "cell_type": "markdown",
   "metadata": {},
   "source": [
    "# Lesson 5: High level plotting"
   ]
  },
  {
   "cell_type": "code",
   "execution_count": 1,
   "metadata": {},
   "outputs": [
    {
     "data": {
      "text/html": [
       "\n",
       "    <div class=\"bk-root\">\n",
       "        <a href=\"https://bokeh.pydata.org\" target=\"_blank\" class=\"bk-logo bk-logo-small bk-logo-notebook\"></a>\n",
       "        <span id=\"1001\">Loading BokehJS ...</span>\n",
       "    </div>"
      ]
     },
     "metadata": {},
     "output_type": "display_data"
    },
    {
     "data": {
      "application/javascript": [
       "\n",
       "(function(root) {\n",
       "  function now() {\n",
       "    return new Date();\n",
       "  }\n",
       "\n",
       "  var force = true;\n",
       "\n",
       "  if (typeof root._bokeh_onload_callbacks === \"undefined\" || force === true) {\n",
       "    root._bokeh_onload_callbacks = [];\n",
       "    root._bokeh_is_loading = undefined;\n",
       "  }\n",
       "\n",
       "  var JS_MIME_TYPE = 'application/javascript';\n",
       "  var HTML_MIME_TYPE = 'text/html';\n",
       "  var EXEC_MIME_TYPE = 'application/vnd.bokehjs_exec.v0+json';\n",
       "  var CLASS_NAME = 'output_bokeh rendered_html';\n",
       "\n",
       "  /**\n",
       "   * Render data to the DOM node\n",
       "   */\n",
       "  function render(props, node) {\n",
       "    var script = document.createElement(\"script\");\n",
       "    node.appendChild(script);\n",
       "  }\n",
       "\n",
       "  /**\n",
       "   * Handle when an output is cleared or removed\n",
       "   */\n",
       "  function handleClearOutput(event, handle) {\n",
       "    var cell = handle.cell;\n",
       "\n",
       "    var id = cell.output_area._bokeh_element_id;\n",
       "    var server_id = cell.output_area._bokeh_server_id;\n",
       "    // Clean up Bokeh references\n",
       "    if (id != null && id in Bokeh.index) {\n",
       "      Bokeh.index[id].model.document.clear();\n",
       "      delete Bokeh.index[id];\n",
       "    }\n",
       "\n",
       "    if (server_id !== undefined) {\n",
       "      // Clean up Bokeh references\n",
       "      var cmd = \"from bokeh.io.state import curstate; print(curstate().uuid_to_server['\" + server_id + \"'].get_sessions()[0].document.roots[0]._id)\";\n",
       "      cell.notebook.kernel.execute(cmd, {\n",
       "        iopub: {\n",
       "          output: function(msg) {\n",
       "            var id = msg.content.text.trim();\n",
       "            if (id in Bokeh.index) {\n",
       "              Bokeh.index[id].model.document.clear();\n",
       "              delete Bokeh.index[id];\n",
       "            }\n",
       "          }\n",
       "        }\n",
       "      });\n",
       "      // Destroy server and session\n",
       "      var cmd = \"import bokeh.io.notebook as ion; ion.destroy_server('\" + server_id + \"')\";\n",
       "      cell.notebook.kernel.execute(cmd);\n",
       "    }\n",
       "  }\n",
       "\n",
       "  /**\n",
       "   * Handle when a new output is added\n",
       "   */\n",
       "  function handleAddOutput(event, handle) {\n",
       "    var output_area = handle.output_area;\n",
       "    var output = handle.output;\n",
       "\n",
       "    // limit handleAddOutput to display_data with EXEC_MIME_TYPE content only\n",
       "    if ((output.output_type != \"display_data\") || (!output.data.hasOwnProperty(EXEC_MIME_TYPE))) {\n",
       "      return\n",
       "    }\n",
       "\n",
       "    var toinsert = output_area.element.find(\".\" + CLASS_NAME.split(' ')[0]);\n",
       "\n",
       "    if (output.metadata[EXEC_MIME_TYPE][\"id\"] !== undefined) {\n",
       "      toinsert[toinsert.length - 1].firstChild.textContent = output.data[JS_MIME_TYPE];\n",
       "      // store reference to embed id on output_area\n",
       "      output_area._bokeh_element_id = output.metadata[EXEC_MIME_TYPE][\"id\"];\n",
       "    }\n",
       "    if (output.metadata[EXEC_MIME_TYPE][\"server_id\"] !== undefined) {\n",
       "      var bk_div = document.createElement(\"div\");\n",
       "      bk_div.innerHTML = output.data[HTML_MIME_TYPE];\n",
       "      var script_attrs = bk_div.children[0].attributes;\n",
       "      for (var i = 0; i < script_attrs.length; i++) {\n",
       "        toinsert[toinsert.length - 1].firstChild.setAttribute(script_attrs[i].name, script_attrs[i].value);\n",
       "      }\n",
       "      // store reference to server id on output_area\n",
       "      output_area._bokeh_server_id = output.metadata[EXEC_MIME_TYPE][\"server_id\"];\n",
       "    }\n",
       "  }\n",
       "\n",
       "  function register_renderer(events, OutputArea) {\n",
       "\n",
       "    function append_mime(data, metadata, element) {\n",
       "      // create a DOM node to render to\n",
       "      var toinsert = this.create_output_subarea(\n",
       "        metadata,\n",
       "        CLASS_NAME,\n",
       "        EXEC_MIME_TYPE\n",
       "      );\n",
       "      this.keyboard_manager.register_events(toinsert);\n",
       "      // Render to node\n",
       "      var props = {data: data, metadata: metadata[EXEC_MIME_TYPE]};\n",
       "      render(props, toinsert[toinsert.length - 1]);\n",
       "      element.append(toinsert);\n",
       "      return toinsert\n",
       "    }\n",
       "\n",
       "    /* Handle when an output is cleared or removed */\n",
       "    events.on('clear_output.CodeCell', handleClearOutput);\n",
       "    events.on('delete.Cell', handleClearOutput);\n",
       "\n",
       "    /* Handle when a new output is added */\n",
       "    events.on('output_added.OutputArea', handleAddOutput);\n",
       "\n",
       "    /**\n",
       "     * Register the mime type and append_mime function with output_area\n",
       "     */\n",
       "    OutputArea.prototype.register_mime_type(EXEC_MIME_TYPE, append_mime, {\n",
       "      /* Is output safe? */\n",
       "      safe: true,\n",
       "      /* Index of renderer in `output_area.display_order` */\n",
       "      index: 0\n",
       "    });\n",
       "  }\n",
       "\n",
       "  // register the mime type if in Jupyter Notebook environment and previously unregistered\n",
       "  if (root.Jupyter !== undefined) {\n",
       "    var events = require('base/js/events');\n",
       "    var OutputArea = require('notebook/js/outputarea').OutputArea;\n",
       "\n",
       "    if (OutputArea.prototype.mime_types().indexOf(EXEC_MIME_TYPE) == -1) {\n",
       "      register_renderer(events, OutputArea);\n",
       "    }\n",
       "  }\n",
       "\n",
       "  \n",
       "  if (typeof (root._bokeh_timeout) === \"undefined\" || force === true) {\n",
       "    root._bokeh_timeout = Date.now() + 5000;\n",
       "    root._bokeh_failed_load = false;\n",
       "  }\n",
       "\n",
       "  var NB_LOAD_WARNING = {'data': {'text/html':\n",
       "     \"<div style='background-color: #fdd'>\\n\"+\n",
       "     \"<p>\\n\"+\n",
       "     \"BokehJS does not appear to have successfully loaded. If loading BokehJS from CDN, this \\n\"+\n",
       "     \"may be due to a slow or bad network connection. Possible fixes:\\n\"+\n",
       "     \"</p>\\n\"+\n",
       "     \"<ul>\\n\"+\n",
       "     \"<li>re-rerun `output_notebook()` to attempt to load from CDN again, or</li>\\n\"+\n",
       "     \"<li>use INLINE resources instead, as so:</li>\\n\"+\n",
       "     \"</ul>\\n\"+\n",
       "     \"<code>\\n\"+\n",
       "     \"from bokeh.resources import INLINE\\n\"+\n",
       "     \"output_notebook(resources=INLINE)\\n\"+\n",
       "     \"</code>\\n\"+\n",
       "     \"</div>\"}};\n",
       "\n",
       "  function display_loaded() {\n",
       "    var el = document.getElementById(\"1001\");\n",
       "    if (el != null) {\n",
       "      el.textContent = \"BokehJS is loading...\";\n",
       "    }\n",
       "    if (root.Bokeh !== undefined) {\n",
       "      if (el != null) {\n",
       "        el.textContent = \"BokehJS \" + root.Bokeh.version + \" successfully loaded.\";\n",
       "      }\n",
       "    } else if (Date.now() < root._bokeh_timeout) {\n",
       "      setTimeout(display_loaded, 100)\n",
       "    }\n",
       "  }\n",
       "\n",
       "\n",
       "  function run_callbacks() {\n",
       "    try {\n",
       "      root._bokeh_onload_callbacks.forEach(function(callback) {\n",
       "        if (callback != null)\n",
       "          callback();\n",
       "      });\n",
       "    } finally {\n",
       "      delete root._bokeh_onload_callbacks\n",
       "    }\n",
       "    console.debug(\"Bokeh: all callbacks have finished\");\n",
       "  }\n",
       "\n",
       "  function load_libs(css_urls, js_urls, callback) {\n",
       "    if (css_urls == null) css_urls = [];\n",
       "    if (js_urls == null) js_urls = [];\n",
       "\n",
       "    root._bokeh_onload_callbacks.push(callback);\n",
       "    if (root._bokeh_is_loading > 0) {\n",
       "      console.debug(\"Bokeh: BokehJS is being loaded, scheduling callback at\", now());\n",
       "      return null;\n",
       "    }\n",
       "    if (js_urls == null || js_urls.length === 0) {\n",
       "      run_callbacks();\n",
       "      return null;\n",
       "    }\n",
       "    console.debug(\"Bokeh: BokehJS not loaded, scheduling load and callback at\", now());\n",
       "    root._bokeh_is_loading = css_urls.length + js_urls.length;\n",
       "\n",
       "    function on_load() {\n",
       "      root._bokeh_is_loading--;\n",
       "      if (root._bokeh_is_loading === 0) {\n",
       "        console.debug(\"Bokeh: all BokehJS libraries/stylesheets loaded\");\n",
       "        run_callbacks()\n",
       "      }\n",
       "    }\n",
       "\n",
       "    function on_error() {\n",
       "      console.error(\"failed to load \" + url);\n",
       "    }\n",
       "\n",
       "    for (var i = 0; i < css_urls.length; i++) {\n",
       "      var url = css_urls[i];\n",
       "      const element = document.createElement(\"link\");\n",
       "      element.onload = on_load;\n",
       "      element.onerror = on_error;\n",
       "      element.rel = \"stylesheet\";\n",
       "      element.type = \"text/css\";\n",
       "      element.href = url;\n",
       "      console.debug(\"Bokeh: injecting link tag for BokehJS stylesheet: \", url);\n",
       "      document.body.appendChild(element);\n",
       "    }\n",
       "\n",
       "    for (var i = 0; i < js_urls.length; i++) {\n",
       "      var url = js_urls[i];\n",
       "      var element = document.createElement('script');\n",
       "      element.onload = on_load;\n",
       "      element.onerror = on_error;\n",
       "      element.async = false;\n",
       "      element.src = url;\n",
       "      console.debug(\"Bokeh: injecting script tag for BokehJS library: \", url);\n",
       "      document.head.appendChild(element);\n",
       "    }\n",
       "  };var element = document.getElementById(\"1001\");\n",
       "  if (element == null) {\n",
       "    console.error(\"Bokeh: ERROR: autoload.js configured with elementid '1001' but no matching script tag was found. \")\n",
       "    return false;\n",
       "  }\n",
       "\n",
       "  function inject_raw_css(css) {\n",
       "    const element = document.createElement(\"style\");\n",
       "    element.appendChild(document.createTextNode(css));\n",
       "    document.body.appendChild(element);\n",
       "  }\n",
       "\n",
       "  var js_urls = [\"https://cdn.pydata.org/bokeh/release/bokeh-1.2.0.min.js\", \"https://cdn.pydata.org/bokeh/release/bokeh-widgets-1.2.0.min.js\", \"https://cdn.pydata.org/bokeh/release/bokeh-tables-1.2.0.min.js\", \"https://cdn.pydata.org/bokeh/release/bokeh-gl-1.2.0.min.js\"];\n",
       "  var css_urls = [\"https://cdn.pydata.org/bokeh/release/bokeh-1.2.0.min.css\", \"https://cdn.pydata.org/bokeh/release/bokeh-widgets-1.2.0.min.css\", \"https://cdn.pydata.org/bokeh/release/bokeh-tables-1.2.0.min.css\"];\n",
       "\n",
       "  var inline_js = [\n",
       "    function(Bokeh) {\n",
       "      Bokeh.set_log_level(\"info\");\n",
       "    },\n",
       "    \n",
       "    function(Bokeh) {\n",
       "      \n",
       "    },\n",
       "    function(Bokeh) {} // ensure no trailing comma for IE\n",
       "  ];\n",
       "\n",
       "  function run_inline_js() {\n",
       "    \n",
       "    if ((root.Bokeh !== undefined) || (force === true)) {\n",
       "      for (var i = 0; i < inline_js.length; i++) {\n",
       "        inline_js[i].call(root, root.Bokeh);\n",
       "      }if (force === true) {\n",
       "        display_loaded();\n",
       "      }} else if (Date.now() < root._bokeh_timeout) {\n",
       "      setTimeout(run_inline_js, 100);\n",
       "    } else if (!root._bokeh_failed_load) {\n",
       "      console.log(\"Bokeh: BokehJS failed to load within specified timeout.\");\n",
       "      root._bokeh_failed_load = true;\n",
       "    } else if (force !== true) {\n",
       "      var cell = $(document.getElementById(\"1001\")).parents('.cell').data().cell;\n",
       "      cell.output_area.append_execute_result(NB_LOAD_WARNING)\n",
       "    }\n",
       "\n",
       "  }\n",
       "\n",
       "  if (root._bokeh_is_loading === 0) {\n",
       "    console.debug(\"Bokeh: BokehJS loaded, going straight to plotting\");\n",
       "    run_inline_js();\n",
       "  } else {\n",
       "    load_libs(css_urls, js_urls, function() {\n",
       "      console.debug(\"Bokeh: BokehJS plotting callback run at\", now());\n",
       "      run_inline_js();\n",
       "    });\n",
       "  }\n",
       "}(window));"
      ],
      "application/vnd.bokehjs_load.v0+json": "\n(function(root) {\n  function now() {\n    return new Date();\n  }\n\n  var force = true;\n\n  if (typeof root._bokeh_onload_callbacks === \"undefined\" || force === true) {\n    root._bokeh_onload_callbacks = [];\n    root._bokeh_is_loading = undefined;\n  }\n\n  \n\n  \n  if (typeof (root._bokeh_timeout) === \"undefined\" || force === true) {\n    root._bokeh_timeout = Date.now() + 5000;\n    root._bokeh_failed_load = false;\n  }\n\n  var NB_LOAD_WARNING = {'data': {'text/html':\n     \"<div style='background-color: #fdd'>\\n\"+\n     \"<p>\\n\"+\n     \"BokehJS does not appear to have successfully loaded. If loading BokehJS from CDN, this \\n\"+\n     \"may be due to a slow or bad network connection. Possible fixes:\\n\"+\n     \"</p>\\n\"+\n     \"<ul>\\n\"+\n     \"<li>re-rerun `output_notebook()` to attempt to load from CDN again, or</li>\\n\"+\n     \"<li>use INLINE resources instead, as so:</li>\\n\"+\n     \"</ul>\\n\"+\n     \"<code>\\n\"+\n     \"from bokeh.resources import INLINE\\n\"+\n     \"output_notebook(resources=INLINE)\\n\"+\n     \"</code>\\n\"+\n     \"</div>\"}};\n\n  function display_loaded() {\n    var el = document.getElementById(\"1001\");\n    if (el != null) {\n      el.textContent = \"BokehJS is loading...\";\n    }\n    if (root.Bokeh !== undefined) {\n      if (el != null) {\n        el.textContent = \"BokehJS \" + root.Bokeh.version + \" successfully loaded.\";\n      }\n    } else if (Date.now() < root._bokeh_timeout) {\n      setTimeout(display_loaded, 100)\n    }\n  }\n\n\n  function run_callbacks() {\n    try {\n      root._bokeh_onload_callbacks.forEach(function(callback) {\n        if (callback != null)\n          callback();\n      });\n    } finally {\n      delete root._bokeh_onload_callbacks\n    }\n    console.debug(\"Bokeh: all callbacks have finished\");\n  }\n\n  function load_libs(css_urls, js_urls, callback) {\n    if (css_urls == null) css_urls = [];\n    if (js_urls == null) js_urls = [];\n\n    root._bokeh_onload_callbacks.push(callback);\n    if (root._bokeh_is_loading > 0) {\n      console.debug(\"Bokeh: BokehJS is being loaded, scheduling callback at\", now());\n      return null;\n    }\n    if (js_urls == null || js_urls.length === 0) {\n      run_callbacks();\n      return null;\n    }\n    console.debug(\"Bokeh: BokehJS not loaded, scheduling load and callback at\", now());\n    root._bokeh_is_loading = css_urls.length + js_urls.length;\n\n    function on_load() {\n      root._bokeh_is_loading--;\n      if (root._bokeh_is_loading === 0) {\n        console.debug(\"Bokeh: all BokehJS libraries/stylesheets loaded\");\n        run_callbacks()\n      }\n    }\n\n    function on_error() {\n      console.error(\"failed to load \" + url);\n    }\n\n    for (var i = 0; i < css_urls.length; i++) {\n      var url = css_urls[i];\n      const element = document.createElement(\"link\");\n      element.onload = on_load;\n      element.onerror = on_error;\n      element.rel = \"stylesheet\";\n      element.type = \"text/css\";\n      element.href = url;\n      console.debug(\"Bokeh: injecting link tag for BokehJS stylesheet: \", url);\n      document.body.appendChild(element);\n    }\n\n    for (var i = 0; i < js_urls.length; i++) {\n      var url = js_urls[i];\n      var element = document.createElement('script');\n      element.onload = on_load;\n      element.onerror = on_error;\n      element.async = false;\n      element.src = url;\n      console.debug(\"Bokeh: injecting script tag for BokehJS library: \", url);\n      document.head.appendChild(element);\n    }\n  };var element = document.getElementById(\"1001\");\n  if (element == null) {\n    console.error(\"Bokeh: ERROR: autoload.js configured with elementid '1001' but no matching script tag was found. \")\n    return false;\n  }\n\n  function inject_raw_css(css) {\n    const element = document.createElement(\"style\");\n    element.appendChild(document.createTextNode(css));\n    document.body.appendChild(element);\n  }\n\n  var js_urls = [\"https://cdn.pydata.org/bokeh/release/bokeh-1.2.0.min.js\", \"https://cdn.pydata.org/bokeh/release/bokeh-widgets-1.2.0.min.js\", \"https://cdn.pydata.org/bokeh/release/bokeh-tables-1.2.0.min.js\", \"https://cdn.pydata.org/bokeh/release/bokeh-gl-1.2.0.min.js\"];\n  var css_urls = [\"https://cdn.pydata.org/bokeh/release/bokeh-1.2.0.min.css\", \"https://cdn.pydata.org/bokeh/release/bokeh-widgets-1.2.0.min.css\", \"https://cdn.pydata.org/bokeh/release/bokeh-tables-1.2.0.min.css\"];\n\n  var inline_js = [\n    function(Bokeh) {\n      Bokeh.set_log_level(\"info\");\n    },\n    \n    function(Bokeh) {\n      \n    },\n    function(Bokeh) {} // ensure no trailing comma for IE\n  ];\n\n  function run_inline_js() {\n    \n    if ((root.Bokeh !== undefined) || (force === true)) {\n      for (var i = 0; i < inline_js.length; i++) {\n        inline_js[i].call(root, root.Bokeh);\n      }if (force === true) {\n        display_loaded();\n      }} else if (Date.now() < root._bokeh_timeout) {\n      setTimeout(run_inline_js, 100);\n    } else if (!root._bokeh_failed_load) {\n      console.log(\"Bokeh: BokehJS failed to load within specified timeout.\");\n      root._bokeh_failed_load = true;\n    } else if (force !== true) {\n      var cell = $(document.getElementById(\"1001\")).parents('.cell').data().cell;\n      cell.output_area.append_execute_result(NB_LOAD_WARNING)\n    }\n\n  }\n\n  if (root._bokeh_is_loading === 0) {\n    console.debug(\"Bokeh: BokehJS loaded, going straight to plotting\");\n    run_inline_js();\n  } else {\n    load_libs(css_urls, js_urls, function() {\n      console.debug(\"Bokeh: BokehJS plotting callback run at\", now());\n      run_inline_js();\n    });\n  }\n}(window));"
     },
     "metadata": {},
     "output_type": "display_data"
    }
   ],
   "source": [
    "import numpy as np\n",
    "import pandas as pd\n",
    "\n",
    "import bokeh_catplot\n",
    "\n",
    "import bokeh.plotting\n",
    "import bokeh.io\n",
    "\n",
    "bokeh.io.output_notebook()"
   ]
  },
  {
   "cell_type": "markdown",
   "metadata": {},
   "source": [
    "<hr/>\n",
    "\n",
    "In this lesson, do some plotting with a high-level package [Bokeh-catplot](https://github.com/justinbois/bokeh-catplot). If you haven't already, you should install it.\n",
    "\n",
    "    pip install --upgrade bokeh-catplot\n",
    "\n",
    "For this lesson, we will use [the frog tongue data set from Kleinteich and Gorb](https://doi.org/10.1038/srep05225) that we used in [lesson 21](l21_practice_with_pandas.html). Let's get the data frame loaded in so we can be on our way."
   ]
  },
  {
   "cell_type": "code",
   "execution_count": 2,
   "metadata": {},
   "outputs": [
    {
     "data": {
      "text/html": [
       "<div>\n",
       "<style scoped>\n",
       "    .dataframe tbody tr th:only-of-type {\n",
       "        vertical-align: middle;\n",
       "    }\n",
       "\n",
       "    .dataframe tbody tr th {\n",
       "        vertical-align: top;\n",
       "    }\n",
       "\n",
       "    .dataframe thead th {\n",
       "        text-align: right;\n",
       "    }\n",
       "</style>\n",
       "<table border=\"1\" class=\"dataframe\">\n",
       "  <thead>\n",
       "    <tr style=\"text-align: right;\">\n",
       "      <th></th>\n",
       "      <th>date</th>\n",
       "      <th>ID</th>\n",
       "      <th>trial number</th>\n",
       "      <th>impact force (mN)</th>\n",
       "      <th>impact time (ms)</th>\n",
       "      <th>impact force / body weight</th>\n",
       "      <th>adhesive force (mN)</th>\n",
       "      <th>time frog pulls on target (ms)</th>\n",
       "      <th>adhesive force / body weight</th>\n",
       "      <th>adhesive impulse (N-s)</th>\n",
       "      <th>total contact area (mm2)</th>\n",
       "      <th>contact area without mucus (mm2)</th>\n",
       "      <th>contact area with mucus / contact area without mucus</th>\n",
       "      <th>contact pressure (Pa)</th>\n",
       "      <th>adhesive strength (Pa)</th>\n",
       "    </tr>\n",
       "  </thead>\n",
       "  <tbody>\n",
       "    <tr>\n",
       "      <th>0</th>\n",
       "      <td>2013_02_26</td>\n",
       "      <td>I</td>\n",
       "      <td>3</td>\n",
       "      <td>1205</td>\n",
       "      <td>46</td>\n",
       "      <td>1.95</td>\n",
       "      <td>-785</td>\n",
       "      <td>884</td>\n",
       "      <td>1.27</td>\n",
       "      <td>-0.290</td>\n",
       "      <td>387</td>\n",
       "      <td>70</td>\n",
       "      <td>0.82</td>\n",
       "      <td>3117</td>\n",
       "      <td>-2030</td>\n",
       "    </tr>\n",
       "    <tr>\n",
       "      <th>1</th>\n",
       "      <td>2013_02_26</td>\n",
       "      <td>I</td>\n",
       "      <td>4</td>\n",
       "      <td>2527</td>\n",
       "      <td>44</td>\n",
       "      <td>4.08</td>\n",
       "      <td>-983</td>\n",
       "      <td>248</td>\n",
       "      <td>1.59</td>\n",
       "      <td>-0.181</td>\n",
       "      <td>101</td>\n",
       "      <td>94</td>\n",
       "      <td>0.07</td>\n",
       "      <td>24923</td>\n",
       "      <td>-9695</td>\n",
       "    </tr>\n",
       "    <tr>\n",
       "      <th>2</th>\n",
       "      <td>2013_03_01</td>\n",
       "      <td>I</td>\n",
       "      <td>1</td>\n",
       "      <td>1745</td>\n",
       "      <td>34</td>\n",
       "      <td>2.82</td>\n",
       "      <td>-850</td>\n",
       "      <td>211</td>\n",
       "      <td>1.37</td>\n",
       "      <td>-0.157</td>\n",
       "      <td>83</td>\n",
       "      <td>79</td>\n",
       "      <td>0.05</td>\n",
       "      <td>21020</td>\n",
       "      <td>-10239</td>\n",
       "    </tr>\n",
       "    <tr>\n",
       "      <th>3</th>\n",
       "      <td>2013_03_01</td>\n",
       "      <td>I</td>\n",
       "      <td>2</td>\n",
       "      <td>1556</td>\n",
       "      <td>41</td>\n",
       "      <td>2.51</td>\n",
       "      <td>-455</td>\n",
       "      <td>1025</td>\n",
       "      <td>0.74</td>\n",
       "      <td>-0.170</td>\n",
       "      <td>330</td>\n",
       "      <td>158</td>\n",
       "      <td>0.52</td>\n",
       "      <td>4718</td>\n",
       "      <td>-1381</td>\n",
       "    </tr>\n",
       "    <tr>\n",
       "      <th>4</th>\n",
       "      <td>2013_03_01</td>\n",
       "      <td>I</td>\n",
       "      <td>3</td>\n",
       "      <td>493</td>\n",
       "      <td>36</td>\n",
       "      <td>0.80</td>\n",
       "      <td>-974</td>\n",
       "      <td>499</td>\n",
       "      <td>1.57</td>\n",
       "      <td>-0.423</td>\n",
       "      <td>245</td>\n",
       "      <td>216</td>\n",
       "      <td>0.12</td>\n",
       "      <td>2012</td>\n",
       "      <td>-3975</td>\n",
       "    </tr>\n",
       "  </tbody>\n",
       "</table>\n",
       "</div>"
      ],
      "text/plain": [
       "         date ID  trial number  impact force (mN)  impact time (ms)  \\\n",
       "0  2013_02_26  I             3               1205                46   \n",
       "1  2013_02_26  I             4               2527                44   \n",
       "2  2013_03_01  I             1               1745                34   \n",
       "3  2013_03_01  I             2               1556                41   \n",
       "4  2013_03_01  I             3                493                36   \n",
       "\n",
       "   impact force / body weight  adhesive force (mN)  \\\n",
       "0                        1.95                 -785   \n",
       "1                        4.08                 -983   \n",
       "2                        2.82                 -850   \n",
       "3                        2.51                 -455   \n",
       "4                        0.80                 -974   \n",
       "\n",
       "   time frog pulls on target (ms)  adhesive force / body weight  \\\n",
       "0                             884                          1.27   \n",
       "1                             248                          1.59   \n",
       "2                             211                          1.37   \n",
       "3                            1025                          0.74   \n",
       "4                             499                          1.57   \n",
       "\n",
       "   adhesive impulse (N-s)  total contact area (mm2)  \\\n",
       "0                  -0.290                       387   \n",
       "1                  -0.181                       101   \n",
       "2                  -0.157                        83   \n",
       "3                  -0.170                       330   \n",
       "4                  -0.423                       245   \n",
       "\n",
       "   contact area without mucus (mm2)  \\\n",
       "0                                70   \n",
       "1                                94   \n",
       "2                                79   \n",
       "3                               158   \n",
       "4                               216   \n",
       "\n",
       "   contact area with mucus / contact area without mucus  \\\n",
       "0                                               0.82      \n",
       "1                                               0.07      \n",
       "2                                               0.05      \n",
       "3                                               0.52      \n",
       "4                                               0.12      \n",
       "\n",
       "   contact pressure (Pa)  adhesive strength (Pa)  \n",
       "0                   3117                   -2030  \n",
       "1                  24923                   -9695  \n",
       "2                  21020                  -10239  \n",
       "3                   4718                   -1381  \n",
       "4                   2012                   -3975  "
      ]
     },
     "execution_count": 2,
     "metadata": {},
     "output_type": "execute_result"
    }
   ],
   "source": [
    "df = pd.read_csv('Dataset/frog_tongue_adhesion.csv', comment='#')\n",
    "\n",
    "# Have a look so we remember\n",
    "df.head()"
   ]
  },
  {
   "cell_type": "markdown",
   "metadata": {},
   "source": [
    "## High level plotting and rendering with Bokeh\n",
    "\n",
    "[HoloViews](https://holoviews.org/) is an excellent high-level plotting package that can use Bokeh to render plots. In my view, it is one of the best high-level plotting languaes in the Python plotting landscape. We will work with HoloViews in a future lesson, but in this lesson, we will do our high-level plotting using a package I wrote called [Bokeh-catplot](https://github.com/justinbois/bokeh-catplot).\n",
    "\n",
    "Why are we using this package and not HoloViews? In next year's bootcamp, I am almost certain we will use HoloViews exclusively for high-level plotting because I suspect that most of the functionality in Bokeh-catplot will be incorporated into HoloViews. Bokeh-catplot exists because HoloViews lacks some important functionality. (More on these very important plot types in a moment; don't worry if you don't know what they are just yet.)\n",
    "\n",
    "- It does not natively make ECDFs.\n",
    "- Its definition of a box plot is non-canonical ([my fault](https://github.com/pyviz/holoviews/pull/1926), but will soon be [fixed](https://github.com/pyviz/holoviews/pull/3755)).\n",
    "- It does not (easily, or as far as I can tell) enable an axis with more than one categorical variable for strip plots (though it does for box plots).\n",
    "- It has a [bug when making horizontal strip plots](https://github.com/pyviz/holoviews/issues/3748).\n",
    "\n",
    "There are all relatively minor fixes for HoloViews, which will likely have this functionality in the near future.\n",
    "\n",
    "Nonetheless, ECDFs and horizontal strip plots are important visualizations and I advocate using them often, and Bokeh-catplot provides a high-level way to render them using Bokeh."
   ]
  },
  {
   "cell_type": "markdown",
   "metadata": {},
   "source": [
    "## Plots with categorical variables\n",
    "\n",
    "Let us first consider the different kinds of data we may encounter as we think about constructing a plot.\n",
    "\n",
    "- **Quantitative** data may have continuously varying (and therefore ordered) values.\n",
    "- **Categorical** data has discrete, unordered values that a variable can take.\n",
    "- **Ordinal** data has discrete, ordered values. Integers are a classic example.\n",
    "- **Temporal** data refers to time, which can be represented as dates.\n",
    "\n",
    "In practice, ordinal data can be cast as quantitative or treated as categorical with an ordering enforced on the categories (e.g., categorical data `[1, 2, 3]` becomes `['1', '2', '3']`.). Temporal data can also be cast as quantitative, (e.g., second from the start time). We will therefore focus out attention on quantitative and categorical data.\n",
    "\n",
    "When we made scatter plots in the previous lesson, both types of data were quantitative. We did actually incorporate categorical information in the form of colors of the glyph (insomniacs and normal sleepers being colored differently) and in tooltips. \n",
    "\n",
    "But what if we wanted a single type of measurement, say impact force, for each frog. Here, we have the quantitative impact force data and the categorical frog ID data. One of our axes is now categorical."
   ]
  },
  {
   "cell_type": "markdown",
   "metadata": {},
   "source": [
    "## Bar graph"
   ]
  },
  {
   "cell_type": "markdown",
   "metadata": {},
   "source": [
    "To demonstrate how to set up a categorical axis with Bokeh, I will make a bar graph of the mean impact force for each of the four frogs. But before I even begin this, I will give you the following piece of advice: *Don't make bar graphs.* More on that in a moment.\n",
    "\n",
    "Before we do that, we need to compute the means from the inputted data frame."
   ]
  },
  {
   "cell_type": "code",
   "execution_count": 3,
   "metadata": {},
   "outputs": [
    {
     "data": {
      "text/html": [
       "<div>\n",
       "<style scoped>\n",
       "    .dataframe tbody tr th:only-of-type {\n",
       "        vertical-align: middle;\n",
       "    }\n",
       "\n",
       "    .dataframe tbody tr th {\n",
       "        vertical-align: top;\n",
       "    }\n",
       "\n",
       "    .dataframe thead th {\n",
       "        text-align: right;\n",
       "    }\n",
       "</style>\n",
       "<table border=\"1\" class=\"dataframe\">\n",
       "  <thead>\n",
       "    <tr style=\"text-align: right;\">\n",
       "      <th></th>\n",
       "      <th>ID</th>\n",
       "      <th>impact force (mN)</th>\n",
       "    </tr>\n",
       "  </thead>\n",
       "  <tbody>\n",
       "    <tr>\n",
       "      <th>0</th>\n",
       "      <td>I</td>\n",
       "      <td>1530.20</td>\n",
       "    </tr>\n",
       "    <tr>\n",
       "      <th>1</th>\n",
       "      <td>II</td>\n",
       "      <td>707.35</td>\n",
       "    </tr>\n",
       "    <tr>\n",
       "      <th>2</th>\n",
       "      <td>III</td>\n",
       "      <td>550.10</td>\n",
       "    </tr>\n",
       "    <tr>\n",
       "      <th>3</th>\n",
       "      <td>IV</td>\n",
       "      <td>419.10</td>\n",
       "    </tr>\n",
       "  </tbody>\n",
       "</table>\n",
       "</div>"
      ],
      "text/plain": [
       "    ID  impact force (mN)\n",
       "0    I            1530.20\n",
       "1   II             707.35\n",
       "2  III             550.10\n",
       "3   IV             419.10"
      ]
     },
     "execution_count": 3,
     "metadata": {},
     "output_type": "execute_result"
    }
   ],
   "source": [
    "df_mean = df.groupby('ID')['impact force (mN)'].mean().reset_index()\n",
    "\n",
    "# Take a look\n",
    "df_mean"
   ]
  },
  {
   "cell_type": "markdown",
   "metadata": {},
   "source": [
    "To set up a categorical axis, you need to specify the `x_range` (or `y_range` if you want the y-axis to be categorical) as a list with the categories you want on the axis when you instantiate the figure. I will make a horizontal bar graph, so I will specify `y_range`. Also, when I instantiate this figure, because it is not very tall and I do not want the reset tool cut off, I will also explicitly set the tools I want in the toolbar."
   ]
  },
  {
   "cell_type": "code",
   "execution_count": 4,
   "metadata": {},
   "outputs": [],
   "source": [
    "p = bokeh.plotting.figure(\n",
    "    height=200,\n",
    "    width=400,\n",
    "    x_axis_label='impact force (mN)',\n",
    "    y_range=df_mean['ID'].unique()[::-1],\n",
    "    tools='pan,wheel_zoom,save,reset'\n",
    ")"
   ]
  },
  {
   "cell_type": "markdown",
   "metadata": {},
   "source": [
    "Now that we have the figure, we can put the bars on. The `p.hbar()` method populates the figure with horizontal bar glyphs. The `right` kwarg says what column of the data source dictates how far to the right to show the bar, while the `height` kwarg says how think the bars are.\n",
    "\n",
    "I will also ensure the quantitative axis starts at zero and turn off the grid lines on the categorical axis, which is commonly done."
   ]
  },
  {
   "cell_type": "code",
   "execution_count": 5,
   "metadata": {},
   "outputs": [
    {
     "data": {
      "text/html": [
       "\n",
       "\n",
       "\n",
       "\n",
       "\n",
       "\n",
       "  <div class=\"bk-root\" id=\"f77b735b-1993-465b-a7cf-66ab35775a3f\" data-root-id=\"1002\"></div>\n"
      ]
     },
     "metadata": {},
     "output_type": "display_data"
    },
    {
     "data": {
      "application/javascript": [
       "(function(root) {\n",
       "  function embed_document(root) {\n",
       "    \n",
       "  var docs_json = {\"b848966e-2c8e-4bac-a3d0-efe5021e2f01\":{\"roots\":{\"references\":[{\"attributes\":{\"below\":[{\"id\":\"1011\",\"type\":\"LinearAxis\"}],\"center\":[{\"id\":\"1015\",\"type\":\"Grid\"},{\"id\":\"1019\",\"type\":\"Grid\"}],\"left\":[{\"id\":\"1016\",\"type\":\"CategoricalAxis\"}],\"plot_height\":200,\"plot_width\":400,\"renderers\":[{\"id\":\"1033\",\"type\":\"GlyphRenderer\"}],\"title\":{\"id\":\"1035\",\"type\":\"Title\"},\"toolbar\":{\"id\":\"1024\",\"type\":\"Toolbar\"},\"x_range\":{\"id\":\"1003\",\"type\":\"DataRange1d\"},\"x_scale\":{\"id\":\"1007\",\"type\":\"LinearScale\"},\"y_range\":{\"id\":\"1005\",\"type\":\"FactorRange\"},\"y_scale\":{\"id\":\"1009\",\"type\":\"CategoricalScale\"}},\"id\":\"1002\",\"subtype\":\"Figure\",\"type\":\"Plot\"},{\"attributes\":{},\"id\":\"1012\",\"type\":\"BasicTicker\"},{\"attributes\":{},\"id\":\"1037\",\"type\":\"BasicTickFormatter\"},{\"attributes\":{\"ticker\":{\"id\":\"1012\",\"type\":\"BasicTicker\"}},\"id\":\"1015\",\"type\":\"Grid\"},{\"attributes\":{},\"id\":\"1039\",\"type\":\"CategoricalTickFormatter\"},{\"attributes\":{\"formatter\":{\"id\":\"1039\",\"type\":\"CategoricalTickFormatter\"},\"ticker\":{\"id\":\"1017\",\"type\":\"CategoricalTicker\"}},\"id\":\"1016\",\"type\":\"CategoricalAxis\"},{\"attributes\":{},\"id\":\"1017\",\"type\":\"CategoricalTicker\"},{\"attributes\":{},\"id\":\"1041\",\"type\":\"UnionRenderers\"},{\"attributes\":{\"dimension\":1,\"grid_line_color\":null,\"ticker\":{\"id\":\"1017\",\"type\":\"CategoricalTicker\"}},\"id\":\"1019\",\"type\":\"Grid\"},{\"attributes\":{},\"id\":\"1042\",\"type\":\"Selection\"},{\"attributes\":{},\"id\":\"1020\",\"type\":\"PanTool\"},{\"attributes\":{\"axis_label\":\"impact force (mN)\",\"formatter\":{\"id\":\"1037\",\"type\":\"BasicTickFormatter\"},\"ticker\":{\"id\":\"1012\",\"type\":\"BasicTicker\"}},\"id\":\"1011\",\"type\":\"LinearAxis\"},{\"attributes\":{},\"id\":\"1021\",\"type\":\"WheelZoomTool\"},{\"attributes\":{\"callback\":null,\"start\":0},\"id\":\"1003\",\"type\":\"DataRange1d\"},{\"attributes\":{},\"id\":\"1022\",\"type\":\"SaveTool\"},{\"attributes\":{},\"id\":\"1023\",\"type\":\"ResetTool\"},{\"attributes\":{\"active_drag\":\"auto\",\"active_inspect\":\"auto\",\"active_multi\":null,\"active_scroll\":\"auto\",\"active_tap\":\"auto\",\"tools\":[{\"id\":\"1020\",\"type\":\"PanTool\"},{\"id\":\"1021\",\"type\":\"WheelZoomTool\"},{\"id\":\"1022\",\"type\":\"SaveTool\"},{\"id\":\"1023\",\"type\":\"ResetTool\"}]},\"id\":\"1024\",\"type\":\"Toolbar\"},{\"attributes\":{},\"id\":\"1009\",\"type\":\"CategoricalScale\"},{\"attributes\":{\"callback\":null,\"data\":{\"ID\":[\"I\",\"II\",\"III\",\"IV\"],\"impact force (mN)\":{\"__ndarray__\":\"zczMzMzol0DNzMzMzBqGQM3MzMzMMIFAmpmZmZkxekA=\",\"dtype\":\"float64\",\"shape\":[4]},\"index\":[0,1,2,3]},\"selected\":{\"id\":\"1042\",\"type\":\"Selection\"},\"selection_policy\":{\"id\":\"1041\",\"type\":\"UnionRenderers\"}},\"id\":\"1029\",\"type\":\"ColumnDataSource\"},{\"attributes\":{\"source\":{\"id\":\"1029\",\"type\":\"ColumnDataSource\"}},\"id\":\"1034\",\"type\":\"CDSView\"},{\"attributes\":{\"data_source\":{\"id\":\"1029\",\"type\":\"ColumnDataSource\"},\"glyph\":{\"id\":\"1031\",\"type\":\"HBar\"},\"hover_glyph\":null,\"muted_glyph\":null,\"nonselection_glyph\":{\"id\":\"1032\",\"type\":\"HBar\"},\"selection_glyph\":null,\"view\":{\"id\":\"1034\",\"type\":\"CDSView\"}},\"id\":\"1033\",\"type\":\"GlyphRenderer\"},{\"attributes\":{\"fill_color\":{\"value\":\"#1f77b4\"},\"height\":{\"value\":0.6},\"line_color\":{\"value\":\"#1f77b4\"},\"right\":{\"field\":\"impact force (mN)\"},\"y\":{\"field\":\"ID\"}},\"id\":\"1031\",\"type\":\"HBar\"},{\"attributes\":{\"fill_alpha\":{\"value\":0.1},\"fill_color\":{\"value\":\"#1f77b4\"},\"height\":{\"value\":0.6},\"line_alpha\":{\"value\":0.1},\"line_color\":{\"value\":\"#1f77b4\"},\"right\":{\"field\":\"impact force (mN)\"},\"y\":{\"field\":\"ID\"}},\"id\":\"1032\",\"type\":\"HBar\"},{\"attributes\":{\"callback\":null,\"factors\":[\"IV\",\"III\",\"II\",\"I\"]},\"id\":\"1005\",\"type\":\"FactorRange\"},{\"attributes\":{},\"id\":\"1007\",\"type\":\"LinearScale\"},{\"attributes\":{\"text\":\"\"},\"id\":\"1035\",\"type\":\"Title\"}],\"root_ids\":[\"1002\"]},\"title\":\"Bokeh Application\",\"version\":\"1.2.0\"}};\n",
       "  var render_items = [{\"docid\":\"b848966e-2c8e-4bac-a3d0-efe5021e2f01\",\"roots\":{\"1002\":\"f77b735b-1993-465b-a7cf-66ab35775a3f\"}}];\n",
       "  root.Bokeh.embed.embed_items_notebook(docs_json, render_items);\n",
       "\n",
       "  }\n",
       "  if (root.Bokeh !== undefined) {\n",
       "    embed_document(root);\n",
       "  } else {\n",
       "    var attempts = 0;\n",
       "    var timer = setInterval(function(root) {\n",
       "      if (root.Bokeh !== undefined) {\n",
       "        embed_document(root);\n",
       "        clearInterval(timer);\n",
       "      }\n",
       "      attempts++;\n",
       "      if (attempts > 100) {\n",
       "        console.log(\"Bokeh: ERROR: Unable to run BokehJS code because BokehJS library is missing\");\n",
       "        clearInterval(timer);\n",
       "      }\n",
       "    }, 10, root)\n",
       "  }\n",
       "})(window);"
      ],
      "application/vnd.bokehjs_exec.v0+json": ""
     },
     "metadata": {
      "application/vnd.bokehjs_exec.v0+json": {
       "id": "1002"
      }
     },
     "output_type": "display_data"
    }
   ],
   "source": [
    "p.hbar(\n",
    "    source=df_mean,\n",
    "    y='ID',\n",
    "    right='impact force (mN)',\n",
    "    height=0.6\n",
    ")\n",
    "\n",
    "# Turn off gridlines on categorical axis\n",
    "p.ygrid.grid_line_color = None\n",
    "\n",
    "# Start axes at origin on quantitative axis\n",
    "p.x_range.start = 0\n",
    "\n",
    "bokeh.io.show(p)"
   ]
  },
  {
   "cell_type": "markdown",
   "metadata": {},
   "source": [
    "We similarly make vertical bar graphs specifying `x_range` and using `p.vbar()`."
   ]
  },
  {
   "cell_type": "code",
   "execution_count": 6,
   "metadata": {},
   "outputs": [
    {
     "data": {
      "text/html": [
       "\n",
       "\n",
       "\n",
       "\n",
       "\n",
       "\n",
       "  <div class=\"bk-root\" id=\"4b3a5dc9-c072-48e8-8e68-ce25e31d7c67\" data-root-id=\"1091\"></div>\n"
      ]
     },
     "metadata": {},
     "output_type": "display_data"
    },
    {
     "data": {
      "application/javascript": [
       "(function(root) {\n",
       "  function embed_document(root) {\n",
       "    \n",
       "  var docs_json = {\"0a3d8691-8b57-45a6-ba13-bdcc80d751d3\":{\"roots\":{\"references\":[{\"attributes\":{\"below\":[{\"id\":\"1100\",\"type\":\"CategoricalAxis\"}],\"center\":[{\"id\":\"1103\",\"type\":\"Grid\"},{\"id\":\"1108\",\"type\":\"Grid\"}],\"left\":[{\"id\":\"1104\",\"type\":\"LinearAxis\"}],\"plot_height\":250,\"plot_width\":250,\"renderers\":[{\"id\":\"1126\",\"type\":\"GlyphRenderer\"}],\"title\":{\"id\":\"1136\",\"type\":\"Title\"},\"toolbar\":{\"id\":\"1115\",\"type\":\"Toolbar\"},\"x_range\":{\"id\":\"1092\",\"type\":\"FactorRange\"},\"x_scale\":{\"id\":\"1096\",\"type\":\"CategoricalScale\"},\"y_range\":{\"id\":\"1094\",\"type\":\"DataRange1d\"},\"y_scale\":{\"id\":\"1098\",\"type\":\"LinearScale\"}},\"id\":\"1091\",\"subtype\":\"Figure\",\"type\":\"Plot\"},{\"attributes\":{},\"id\":\"1110\",\"type\":\"WheelZoomTool\"},{\"attributes\":{},\"id\":\"1138\",\"type\":\"CategoricalTickFormatter\"},{\"attributes\":{},\"id\":\"1109\",\"type\":\"PanTool\"},{\"attributes\":{},\"id\":\"1140\",\"type\":\"BasicTickFormatter\"},{\"attributes\":{\"source\":{\"id\":\"1122\",\"type\":\"ColumnDataSource\"}},\"id\":\"1127\",\"type\":\"CDSView\"},{\"attributes\":{\"text\":\"\"},\"id\":\"1136\",\"type\":\"Title\"},{\"attributes\":{\"fill_color\":{\"value\":\"#1f77b4\"},\"line_color\":{\"value\":\"#1f77b4\"},\"top\":{\"field\":\"impact force (mN)\"},\"width\":{\"value\":0.6},\"x\":{\"field\":\"ID\"}},\"id\":\"1124\",\"type\":\"VBar\"},{\"attributes\":{\"bottom_units\":\"screen\",\"fill_alpha\":{\"value\":0.5},\"fill_color\":{\"value\":\"lightgrey\"},\"left_units\":\"screen\",\"level\":\"overlay\",\"line_alpha\":{\"value\":1.0},\"line_color\":{\"value\":\"black\"},\"line_dash\":[4,4],\"line_width\":{\"value\":2},\"render_mode\":\"css\",\"right_units\":\"screen\",\"top_units\":\"screen\"},\"id\":\"1144\",\"type\":\"BoxAnnotation\"},{\"attributes\":{},\"id\":\"1113\",\"type\":\"ResetTool\"},{\"attributes\":{\"data_source\":{\"id\":\"1122\",\"type\":\"ColumnDataSource\"},\"glyph\":{\"id\":\"1124\",\"type\":\"VBar\"},\"hover_glyph\":null,\"muted_glyph\":null,\"nonselection_glyph\":{\"id\":\"1125\",\"type\":\"VBar\"},\"selection_glyph\":null,\"view\":{\"id\":\"1127\",\"type\":\"CDSView\"}},\"id\":\"1126\",\"type\":\"GlyphRenderer\"},{\"attributes\":{\"callback\":null,\"start\":0},\"id\":\"1094\",\"type\":\"DataRange1d\"},{\"attributes\":{\"callback\":null,\"factors\":[\"I\",\"II\",\"III\",\"IV\"]},\"id\":\"1092\",\"type\":\"FactorRange\"},{\"attributes\":{\"active_drag\":\"auto\",\"active_inspect\":\"auto\",\"active_multi\":null,\"active_scroll\":\"auto\",\"active_tap\":\"auto\",\"tools\":[{\"id\":\"1109\",\"type\":\"PanTool\"},{\"id\":\"1110\",\"type\":\"WheelZoomTool\"},{\"id\":\"1111\",\"type\":\"BoxZoomTool\"},{\"id\":\"1112\",\"type\":\"SaveTool\"},{\"id\":\"1113\",\"type\":\"ResetTool\"},{\"id\":\"1114\",\"type\":\"HelpTool\"}]},\"id\":\"1115\",\"type\":\"Toolbar\"},{\"attributes\":{\"callback\":null,\"data\":{\"ID\":[\"I\",\"II\",\"III\",\"IV\"],\"impact force (mN)\":{\"__ndarray__\":\"zczMzMzol0DNzMzMzBqGQM3MzMzMMIFAmpmZmZkxekA=\",\"dtype\":\"float64\",\"shape\":[4]},\"index\":[0,1,2,3]},\"selected\":{\"id\":\"1143\",\"type\":\"Selection\"},\"selection_policy\":{\"id\":\"1142\",\"type\":\"UnionRenderers\"}},\"id\":\"1122\",\"type\":\"ColumnDataSource\"},{\"attributes\":{},\"id\":\"1101\",\"type\":\"CategoricalTicker\"},{\"attributes\":{},\"id\":\"1143\",\"type\":\"Selection\"},{\"attributes\":{},\"id\":\"1096\",\"type\":\"CategoricalScale\"},{\"attributes\":{\"dimension\":1,\"ticker\":{\"id\":\"1105\",\"type\":\"BasicTicker\"}},\"id\":\"1108\",\"type\":\"Grid\"},{\"attributes\":{\"grid_line_color\":null,\"ticker\":{\"id\":\"1101\",\"type\":\"CategoricalTicker\"}},\"id\":\"1103\",\"type\":\"Grid\"},{\"attributes\":{},\"id\":\"1098\",\"type\":\"LinearScale\"},{\"attributes\":{\"formatter\":{\"id\":\"1138\",\"type\":\"CategoricalTickFormatter\"},\"ticker\":{\"id\":\"1101\",\"type\":\"CategoricalTicker\"}},\"id\":\"1100\",\"type\":\"CategoricalAxis\"},{\"attributes\":{\"fill_alpha\":{\"value\":0.1},\"fill_color\":{\"value\":\"#1f77b4\"},\"line_alpha\":{\"value\":0.1},\"line_color\":{\"value\":\"#1f77b4\"},\"top\":{\"field\":\"impact force (mN)\"},\"width\":{\"value\":0.6},\"x\":{\"field\":\"ID\"}},\"id\":\"1125\",\"type\":\"VBar\"},{\"attributes\":{},\"id\":\"1105\",\"type\":\"BasicTicker\"},{\"attributes\":{},\"id\":\"1112\",\"type\":\"SaveTool\"},{\"attributes\":{\"axis_label\":\"impact force (mN)\",\"formatter\":{\"id\":\"1140\",\"type\":\"BasicTickFormatter\"},\"ticker\":{\"id\":\"1105\",\"type\":\"BasicTicker\"}},\"id\":\"1104\",\"type\":\"LinearAxis\"},{\"attributes\":{},\"id\":\"1142\",\"type\":\"UnionRenderers\"},{\"attributes\":{},\"id\":\"1114\",\"type\":\"HelpTool\"},{\"attributes\":{\"overlay\":{\"id\":\"1144\",\"type\":\"BoxAnnotation\"}},\"id\":\"1111\",\"type\":\"BoxZoomTool\"}],\"root_ids\":[\"1091\"]},\"title\":\"Bokeh Application\",\"version\":\"1.2.0\"}};\n",
       "  var render_items = [{\"docid\":\"0a3d8691-8b57-45a6-ba13-bdcc80d751d3\",\"roots\":{\"1091\":\"4b3a5dc9-c072-48e8-8e68-ce25e31d7c67\"}}];\n",
       "  root.Bokeh.embed.embed_items_notebook(docs_json, render_items);\n",
       "\n",
       "  }\n",
       "  if (root.Bokeh !== undefined) {\n",
       "    embed_document(root);\n",
       "  } else {\n",
       "    var attempts = 0;\n",
       "    var timer = setInterval(function(root) {\n",
       "      if (root.Bokeh !== undefined) {\n",
       "        embed_document(root);\n",
       "        clearInterval(timer);\n",
       "      }\n",
       "      attempts++;\n",
       "      if (attempts > 100) {\n",
       "        console.log(\"Bokeh: ERROR: Unable to run BokehJS code because BokehJS library is missing\");\n",
       "        clearInterval(timer);\n",
       "      }\n",
       "    }, 10, root)\n",
       "  }\n",
       "})(window);"
      ],
      "application/vnd.bokehjs_exec.v0+json": ""
     },
     "metadata": {
      "application/vnd.bokehjs_exec.v0+json": {
       "id": "1091"
      }
     },
     "output_type": "display_data"
    }
   ],
   "source": [
    "p = bokeh.plotting.figure(\n",
    "    height=250,\n",
    "    width=250,\n",
    "    y_axis_label='impact force (mN)',\n",
    "    x_range=df_mean['ID'].unique(),\n",
    ")\n",
    "\n",
    "p.vbar(\n",
    "    source=df_mean,\n",
    "    x='ID',\n",
    "    top='impact force (mN)',\n",
    "    width=0.6\n",
    ")\n",
    "\n",
    "p.xgrid.grid_line_color = None\n",
    "p.y_range.start = 0\n",
    "\n",
    "bokeh.io.show(p)"
   ]
  },
  {
   "cell_type": "markdown",
   "metadata": {},
   "source": [
    "## Bokeh-catplot\n",
    "\n",
    "Generating the bar graphs was not too painful, even tough we used Bokeh, a low-level plotting library. We would like to make plots more directly. We do not want to have to explicitly pre-process the data, set up the categorical axis, etc. We would like to just provide a data set, say which column(s) is/are categorical and which is quantitative, and then just get our plot. As I mentioned before, Holoviews is excellent for this purpose, but we will use Bokeh-catplot as our high-level package for making plots.\n",
    "\n",
    "Bokeh-catplot generates plots from tidy data frames where one or more columns contains categorical data and the column of interest in the plot is quantitative.\n",
    "\n",
    "There are four types of plots that Bokeh-catplot can generate. As you will see, all four of these modes of plotting are meant to give a picture about how the quantitative measurements are *distributed* for each category.\n",
    "\n",
    "- **Plots with a categorical axis**\n",
    "    + Box plots: `bokeh_catplot.box()`\n",
    "    + Strip plots: `bokeh_catplot.strip()`\n",
    " \n",
    "    \n",
    "- **Plots without a categorical axis**\n",
    "    + Histograms: `bokeh_catplot.histogram()`\n",
    "    + [ECDFs](https://en.wikipedia.org/wiki/Empirical_distribution_function): `bokeh_catplot.ecdf()`\n",
    "    \n",
    "\n",
    "The first three arguments of each of these functions are necessary to build the plot. They are:\n",
    "\n",
    "- `data`: A tidy data frame\n",
    "- `cats`: A list of columns in the data frame that are to be considered as categorical variables in the plot. If `None`, a single box, strip, histogram, or ECDF is plotted.\n",
    "- `val`: The column of the data frame to be treated as the quantitative variable. \n",
    "\n",
    "With this in mind, we will put Bokeh-catplot to use on the frog data set."
   ]
  },
  {
   "cell_type": "markdown",
   "metadata": {},
   "source": [
    "## Box plots with Bokeh-catplot\n",
    "\n",
    "As I [discuss below](#Don't-make-bar-graphs), bar graphs are almost never a good choice for visualization. You distill all of the information in the data set down to one or two summary statistics, and then use giant glyphs to show them. As a start for improvement, you could distill the data set down to five or so summary statistics and show those graphically, as opposed to just one or two. \n",
    "\n",
    "Box plots provide such a summary. I will first make one using `bokeh_catplot.box()` and then describe how a box plot is interpreted."
   ]
  },
  {
   "cell_type": "code",
   "execution_count": 7,
   "metadata": {},
   "outputs": [
    {
     "data": {
      "text/html": [
       "\n",
       "\n",
       "\n",
       "\n",
       "\n",
       "\n",
       "  <div class=\"bk-root\" id=\"10349cc6-a13c-4f2c-9aec-f63abceb38cc\" data-root-id=\"1200\"></div>\n"
      ]
     },
     "metadata": {},
     "output_type": "display_data"
    },
    {
     "data": {
      "application/javascript": [
       "(function(root) {\n",
       "  function embed_document(root) {\n",
       "    \n",
       "  var docs_json = {\"8c198e92-2be5-42be-ac4c-4dcf004b80ea\":{\"roots\":{\"references\":[{\"attributes\":{\"below\":[{\"id\":\"1208\",\"type\":\"CategoricalAxis\"}],\"center\":[{\"id\":\"1211\",\"type\":\"Grid\"},{\"id\":\"1216\",\"type\":\"Grid\"}],\"left\":[{\"id\":\"1212\",\"type\":\"LinearAxis\"}],\"plot_height\":300,\"plot_width\":400,\"renderers\":[{\"id\":\"1238\",\"type\":\"GlyphRenderer\"},{\"id\":\"1243\",\"type\":\"GlyphRenderer\"},{\"id\":\"1248\",\"type\":\"GlyphRenderer\"},{\"id\":\"1253\",\"type\":\"GlyphRenderer\"},{\"id\":\"1258\",\"type\":\"GlyphRenderer\"}],\"title\":{\"id\":\"1277\",\"type\":\"Title\"},\"toolbar\":{\"id\":\"1223\",\"type\":\"Toolbar\"},\"x_range\":{\"id\":\"1199\",\"type\":\"FactorRange\"},\"x_scale\":{\"id\":\"1204\",\"type\":\"CategoricalScale\"},\"y_range\":{\"id\":\"1202\",\"type\":\"DataRange1d\"},\"y_scale\":{\"id\":\"1206\",\"type\":\"LinearScale\"}},\"id\":\"1200\",\"subtype\":\"Figure\",\"type\":\"Plot\"},{\"attributes\":{\"source\":{\"id\":\"1230\",\"type\":\"ColumnDataSource\"}},\"id\":\"1244\",\"type\":\"CDSView\"},{\"attributes\":{\"dimension\":1,\"ticker\":{\"id\":\"1213\",\"type\":\"BasicTicker\"}},\"id\":\"1216\",\"type\":\"Grid\"},{\"attributes\":{\"data_source\":{\"id\":\"1230\",\"type\":\"ColumnDataSource\"},\"glyph\":{\"id\":\"1246\",\"type\":\"VBar\"},\"hover_glyph\":null,\"muted_glyph\":null,\"nonselection_glyph\":{\"id\":\"1247\",\"type\":\"VBar\"},\"selection_glyph\":null,\"view\":{\"id\":\"1249\",\"type\":\"CDSView\"}},\"id\":\"1248\",\"type\":\"GlyphRenderer\"},{\"attributes\":{\"source\":{\"id\":\"1230\",\"type\":\"ColumnDataSource\"}},\"id\":\"1239\",\"type\":\"CDSView\"},{\"attributes\":{\"fill_alpha\":{\"value\":0.1},\"fill_color\":{\"value\":\"#1f77b4\"},\"line_alpha\":{\"value\":0.1},\"line_color\":{\"value\":\"#1f77b4\"},\"x\":{\"field\":\"cat\"},\"y\":{\"field\":\"impact force (mN)\"}},\"id\":\"1257\",\"type\":\"Circle\"},{\"attributes\":{\"source\":{\"id\":\"1230\",\"type\":\"ColumnDataSource\"}},\"id\":\"1249\",\"type\":\"CDSView\"},{\"attributes\":{},\"id\":\"1221\",\"type\":\"ResetTool\"},{\"attributes\":{\"bottom\":{\"field\":\"bottom\"},\"fill_alpha\":{\"value\":0.1},\"fill_color\":{\"value\":\"#1f77b4\"},\"line_alpha\":{\"value\":0.1},\"line_color\":{\"value\":\"#1f77b4\"},\"top\":{\"field\":\"top\"},\"width\":{\"value\":0.4},\"x\":{\"field\":\"cat\"}},\"id\":\"1247\",\"type\":\"VBar\"},{\"attributes\":{},\"id\":\"1222\",\"type\":\"HelpTool\"},{\"attributes\":{\"callback\":null,\"factors\":[\"I\",\"II\",\"III\",\"IV\"]},\"id\":\"1199\",\"type\":\"FactorRange\"},{\"attributes\":{},\"id\":\"1220\",\"type\":\"SaveTool\"},{\"attributes\":{\"bottom\":{\"field\":\"middle\"},\"fill_alpha\":{\"value\":0.1},\"fill_color\":{\"value\":\"#1f77b4\"},\"line_alpha\":{\"value\":0.1},\"line_color\":{\"value\":\"#1f77b4\"},\"top\":{\"field\":\"middle\"},\"width\":{\"value\":0.4},\"x\":{\"field\":\"cat\"}},\"id\":\"1252\",\"type\":\"VBar\"},{\"attributes\":{},\"id\":\"1286\",\"type\":\"Selection\"},{\"attributes\":{\"fill_color\":{\"field\":\"cat\",\"transform\":{\"id\":\"1232\",\"type\":\"CategoricalColorMapper\"}},\"line_color\":{\"field\":\"cat\",\"transform\":{\"id\":\"1233\",\"type\":\"CategoricalColorMapper\"}},\"x\":{\"field\":\"cat\"},\"y\":{\"field\":\"impact force (mN)\"}},\"id\":\"1256\",\"type\":\"Circle\"},{\"attributes\":{\"bottom_units\":\"screen\",\"fill_alpha\":{\"value\":0.5},\"fill_color\":{\"value\":\"lightgrey\"},\"left_units\":\"screen\",\"level\":\"overlay\",\"line_alpha\":{\"value\":1.0},\"line_color\":{\"value\":\"black\"},\"line_dash\":[4,4],\"line_width\":{\"value\":2},\"render_mode\":\"css\",\"right_units\":\"screen\",\"top_units\":\"screen\"},\"id\":\"1287\",\"type\":\"BoxAnnotation\"},{\"attributes\":{\"x0\":{\"field\":\"cat\"},\"x1\":{\"field\":\"cat\"},\"y0\":{\"field\":\"top\"},\"y1\":{\"field\":\"top_whisker\"}},\"id\":\"1236\",\"type\":\"Segment\"},{\"attributes\":{\"overlay\":{\"id\":\"1287\",\"type\":\"BoxAnnotation\"}},\"id\":\"1219\",\"type\":\"BoxZoomTool\"},{\"attributes\":{},\"id\":\"1217\",\"type\":\"PanTool\"},{\"attributes\":{\"data_source\":{\"id\":\"1230\",\"type\":\"ColumnDataSource\"},\"glyph\":{\"id\":\"1251\",\"type\":\"VBar\"},\"hover_glyph\":null,\"muted_glyph\":null,\"nonselection_glyph\":{\"id\":\"1252\",\"type\":\"VBar\"},\"selection_glyph\":null,\"view\":{\"id\":\"1254\",\"type\":\"CDSView\"}},\"id\":\"1253\",\"type\":\"GlyphRenderer\"},{\"attributes\":{\"active_drag\":\"auto\",\"active_inspect\":\"auto\",\"active_multi\":null,\"active_scroll\":\"auto\",\"active_tap\":\"auto\",\"tools\":[{\"id\":\"1217\",\"type\":\"PanTool\"},{\"id\":\"1218\",\"type\":\"WheelZoomTool\"},{\"id\":\"1219\",\"type\":\"BoxZoomTool\"},{\"id\":\"1220\",\"type\":\"SaveTool\"},{\"id\":\"1221\",\"type\":\"ResetTool\"},{\"id\":\"1222\",\"type\":\"HelpTool\"}]},\"id\":\"1223\",\"type\":\"Toolbar\"},{\"attributes\":{\"x0\":{\"field\":\"cat\"},\"x1\":{\"field\":\"cat\"},\"y0\":{\"field\":\"bottom\"},\"y1\":{\"field\":\"bottom_whisker\"}},\"id\":\"1241\",\"type\":\"Segment\"},{\"attributes\":{\"source\":{\"id\":\"1230\",\"type\":\"ColumnDataSource\"}},\"id\":\"1254\",\"type\":\"CDSView\"},{\"attributes\":{},\"id\":\"1218\",\"type\":\"WheelZoomTool\"},{\"attributes\":{\"data_source\":{\"id\":\"1231\",\"type\":\"ColumnDataSource\"},\"glyph\":{\"id\":\"1256\",\"type\":\"Circle\"},\"hover_glyph\":null,\"muted_glyph\":null,\"nonselection_glyph\":{\"id\":\"1257\",\"type\":\"Circle\"},\"selection_glyph\":null,\"view\":{\"id\":\"1259\",\"type\":\"CDSView\"}},\"id\":\"1258\",\"type\":\"GlyphRenderer\"},{\"attributes\":{\"callback\":null,\"data\":{\"ID\":[\"II\",\"II\",\"II\"],\"__label\":[\"II\",\"II\",\"II\"],\"cat\":[\"II\",\"II\",\"II\"],\"impact force (mN)\":[1612,1539,1453]},\"selected\":{\"id\":\"1286\",\"type\":\"Selection\"},\"selection_policy\":{\"id\":\"1285\",\"type\":\"UnionRenderers\"}},\"id\":\"1231\",\"type\":\"ColumnDataSource\"},{\"attributes\":{},\"id\":\"1279\",\"type\":\"CategoricalTickFormatter\"},{\"attributes\":{\"factors\":[\"I\",\"II\",\"III\",\"IV\"],\"palette\":[\"#4e79a7\",\"#f28e2b\",\"#e15759\",\"#76b7b2\",\"#59a14f\",\"#edc948\",\"#b07aa1\",\"#ff9da7\",\"#9c755f\",\"#bab0ac\"]},\"id\":\"1234\",\"type\":\"CategoricalColorMapper\"},{\"attributes\":{\"factors\":[\"I\",\"II\",\"III\",\"IV\"],\"palette\":[\"#4e79a7\",\"#f28e2b\",\"#e15759\",\"#76b7b2\",\"#59a14f\",\"#edc948\",\"#b07aa1\",\"#ff9da7\",\"#9c755f\",\"#bab0ac\"]},\"id\":\"1232\",\"type\":\"CategoricalColorMapper\"},{\"attributes\":{},\"id\":\"1285\",\"type\":\"UnionRenderers\"},{\"attributes\":{\"source\":{\"id\":\"1231\",\"type\":\"ColumnDataSource\"}},\"id\":\"1259\",\"type\":\"CDSView\"},{\"attributes\":{\"data_source\":{\"id\":\"1230\",\"type\":\"ColumnDataSource\"},\"glyph\":{\"id\":\"1236\",\"type\":\"Segment\"},\"hover_glyph\":null,\"muted_glyph\":null,\"nonselection_glyph\":{\"id\":\"1237\",\"type\":\"Segment\"},\"selection_glyph\":null,\"view\":{\"id\":\"1239\",\"type\":\"CDSView\"}},\"id\":\"1238\",\"type\":\"GlyphRenderer\"},{\"attributes\":{},\"id\":\"1281\",\"type\":\"BasicTickFormatter\"},{\"attributes\":{\"factors\":[\"I\",\"II\",\"III\",\"IV\"],\"palette\":[\"#4e79a7\",\"#f28e2b\",\"#e15759\",\"#76b7b2\",\"#59a14f\",\"#edc948\",\"#b07aa1\",\"#ff9da7\",\"#9c755f\",\"#bab0ac\"]},\"id\":\"1233\",\"type\":\"CategoricalColorMapper\"},{\"attributes\":{\"callback\":null},\"id\":\"1202\",\"type\":\"DataRange1d\"},{\"attributes\":{\"grid_line_color\":null,\"ticker\":{\"id\":\"1209\",\"type\":\"CategoricalTicker\"}},\"id\":\"1211\",\"type\":\"Grid\"},{\"attributes\":{},\"id\":\"1283\",\"type\":\"UnionRenderers\"},{\"attributes\":{\"text\":\"\"},\"id\":\"1277\",\"type\":\"Title\"},{\"attributes\":{\"line_alpha\":{\"value\":0.1},\"line_color\":{\"value\":\"#1f77b4\"},\"x0\":{\"field\":\"cat\"},\"x1\":{\"field\":\"cat\"},\"y0\":{\"field\":\"top\"},\"y1\":{\"field\":\"top_whisker\"}},\"id\":\"1237\",\"type\":\"Segment\"},{\"attributes\":{\"data_source\":{\"id\":\"1230\",\"type\":\"ColumnDataSource\"},\"glyph\":{\"id\":\"1241\",\"type\":\"Segment\"},\"hover_glyph\":null,\"muted_glyph\":null,\"nonselection_glyph\":{\"id\":\"1242\",\"type\":\"Segment\"},\"selection_glyph\":null,\"view\":{\"id\":\"1244\",\"type\":\"CDSView\"}},\"id\":\"1243\",\"type\":\"GlyphRenderer\"},{\"attributes\":{\"bottom\":{\"field\":\"bottom\"},\"fill_color\":{\"field\":\"cat\",\"transform\":{\"id\":\"1234\",\"type\":\"CategoricalColorMapper\"}},\"line_color\":{\"value\":null},\"top\":{\"field\":\"top\"},\"width\":{\"value\":0.4},\"x\":{\"field\":\"cat\"}},\"id\":\"1246\",\"type\":\"VBar\"},{\"attributes\":{},\"id\":\"1209\",\"type\":\"CategoricalTicker\"},{\"attributes\":{\"axis_label\":\"impact force (mN)\",\"formatter\":{\"id\":\"1281\",\"type\":\"BasicTickFormatter\"},\"ticker\":{\"id\":\"1213\",\"type\":\"BasicTicker\"}},\"id\":\"1212\",\"type\":\"LinearAxis\"},{\"attributes\":{},\"id\":\"1206\",\"type\":\"LinearScale\"},{\"attributes\":{\"line_alpha\":{\"value\":0.1},\"line_color\":{\"value\":\"#1f77b4\"},\"x0\":{\"field\":\"cat\"},\"x1\":{\"field\":\"cat\"},\"y0\":{\"field\":\"bottom\"},\"y1\":{\"field\":\"bottom_whisker\"}},\"id\":\"1242\",\"type\":\"Segment\"},{\"attributes\":{},\"id\":\"1213\",\"type\":\"BasicTicker\"},{\"attributes\":{},\"id\":\"1204\",\"type\":\"CategoricalScale\"},{\"attributes\":{\"callback\":null,\"data\":{\"__label\":[\"I\",\"II\",\"III\",\"IV\"],\"bottom\":[1231.25,422.0,458.75,198.0],\"bottom_whisker\":[473.0,245.0,324.0,22.0],\"cat\":[\"I\",\"II\",\"III\",\"IV\"],\"middle\":[1550.5,573.0,544.0,460.5],\"top\":[1904.75,799.75,615.75,599.0],\"top_whisker\":[2641.0,1182.0,806.0,815.0]},\"selected\":{\"id\":\"1284\",\"type\":\"Selection\"},\"selection_policy\":{\"id\":\"1283\",\"type\":\"UnionRenderers\"}},\"id\":\"1230\",\"type\":\"ColumnDataSource\"},{\"attributes\":{\"formatter\":{\"id\":\"1279\",\"type\":\"CategoricalTickFormatter\"},\"ticker\":{\"id\":\"1209\",\"type\":\"CategoricalTicker\"}},\"id\":\"1208\",\"type\":\"CategoricalAxis\"},{\"attributes\":{\"bottom\":{\"field\":\"middle\"},\"fill_color\":{\"value\":\"#1f77b4\"},\"line_color\":{\"value\":\"white\"},\"top\":{\"field\":\"middle\"},\"width\":{\"value\":0.4},\"x\":{\"field\":\"cat\"}},\"id\":\"1251\",\"type\":\"VBar\"},{\"attributes\":{},\"id\":\"1284\",\"type\":\"Selection\"}],\"root_ids\":[\"1200\"]},\"title\":\"Bokeh Application\",\"version\":\"1.2.0\"}};\n",
       "  var render_items = [{\"docid\":\"8c198e92-2be5-42be-ac4c-4dcf004b80ea\",\"roots\":{\"1200\":\"10349cc6-a13c-4f2c-9aec-f63abceb38cc\"}}];\n",
       "  root.Bokeh.embed.embed_items_notebook(docs_json, render_items);\n",
       "\n",
       "  }\n",
       "  if (root.Bokeh !== undefined) {\n",
       "    embed_document(root);\n",
       "  } else {\n",
       "    var attempts = 0;\n",
       "    var timer = setInterval(function(root) {\n",
       "      if (root.Bokeh !== undefined) {\n",
       "        embed_document(root);\n",
       "        clearInterval(timer);\n",
       "      }\n",
       "      attempts++;\n",
       "      if (attempts > 100) {\n",
       "        console.log(\"Bokeh: ERROR: Unable to run BokehJS code because BokehJS library is missing\");\n",
       "        clearInterval(timer);\n",
       "      }\n",
       "    }, 10, root)\n",
       "  }\n",
       "})(window);"
      ],
      "application/vnd.bokehjs_exec.v0+json": ""
     },
     "metadata": {
      "application/vnd.bokehjs_exec.v0+json": {
       "id": "1200"
      }
     },
     "output_type": "display_data"
    }
   ],
   "source": [
    "p = bokeh_catplot.box(\n",
    "    data=df,\n",
    "    cats='ID',\n",
    "    val='impact force (mN)'\n",
    ")\n",
    "\n",
    "bokeh.io.show(p)"
   ]
  },
  {
   "cell_type": "markdown",
   "metadata": {},
   "source": [
    "The line in the middle of each box is the median and the top and bottom of the box at the 75th and 25th percentiles, respectively. The distance between the 25th and 75th percentiles is called the **interquartile range**, or IQR. The whiskers of the box plot extend to the most extreme data point within 1.5 times the interquartile range. If any data points are more extreme than the end of the whisker, they are shown individually, and are often referred to as _outliers_.\n",
    "\n",
    "A box plot can use a useful visualization if you have many data points and it is difficult to plot them all. I rarely find that there are situations where all data cannot be plotted, either with strip plots of ECDFs, which we will cover in a moment, so I generally do not use box plots. Nonetheless, I do not find them too objectionable, as they effectively display important nonparametric summary statistics of your data set."
   ]
  },
  {
   "cell_type": "markdown",
   "metadata": {},
   "source": [
    "## Plot all your data\n",
    "\n",
    "Box plots summarize a data set with summary statistics, but what not plot all your data? You work hard to acquire them. You should show them all. This is a mantra to live by.\n",
    "\n",
    "<center><font color=\"dodgerblue\"><b>Plot all your data.</b></font></center><br/>\n",
    "\n",
    "Let's do that now."
   ]
  },
  {
   "cell_type": "markdown",
   "metadata": {},
   "source": [
    "## Strip plots\n",
    "\n",
    "A **strip plot** is like a scatter plot; it puts a glyph for every measured data point. The only different is that one of the axes is categorical. In this case, you are plotting all of your data."
   ]
  },
  {
   "cell_type": "code",
   "execution_count": 8,
   "metadata": {},
   "outputs": [
    {
     "data": {
      "text/html": [
       "\n",
       "\n",
       "\n",
       "\n",
       "\n",
       "\n",
       "  <div class=\"bk-root\" id=\"4c0fcd5d-76f9-4627-a76f-23904f345927\" data-root-id=\"1355\"></div>\n"
      ]
     },
     "metadata": {},
     "output_type": "display_data"
    },
    {
     "data": {
      "application/javascript": [
       "(function(root) {\n",
       "  function embed_document(root) {\n",
       "    \n",
       "  var docs_json = {\"46148cd3-4e4d-40e1-b33b-4403fd132cd4\":{\"roots\":{\"references\":[{\"attributes\":{\"below\":[{\"id\":\"1363\",\"type\":\"CategoricalAxis\"}],\"center\":[{\"id\":\"1366\",\"type\":\"Grid\"},{\"id\":\"1371\",\"type\":\"Grid\"}],\"left\":[{\"id\":\"1367\",\"type\":\"LinearAxis\"}],\"plot_height\":300,\"plot_width\":400,\"renderers\":[{\"id\":\"1390\",\"type\":\"GlyphRenderer\"}],\"title\":{\"id\":\"1420\",\"type\":\"Title\"},\"toolbar\":{\"id\":\"1378\",\"type\":\"Toolbar\"},\"x_range\":{\"id\":\"1354\",\"type\":\"FactorRange\"},\"x_scale\":{\"id\":\"1359\",\"type\":\"CategoricalScale\"},\"y_range\":{\"id\":\"1357\",\"type\":\"DataRange1d\"},\"y_scale\":{\"id\":\"1361\",\"type\":\"LinearScale\"}},\"id\":\"1355\",\"subtype\":\"Figure\",\"type\":\"Plot\"},{\"attributes\":{},\"id\":\"1424\",\"type\":\"BasicTickFormatter\"},{\"attributes\":{},\"id\":\"1359\",\"type\":\"CategoricalScale\"},{\"attributes\":{\"fill_alpha\":{\"value\":0.1},\"fill_color\":{\"value\":\"#1f77b4\"},\"line_alpha\":{\"value\":0.1},\"line_color\":{\"value\":\"#1f77b4\"},\"x\":{\"field\":\"cat\"},\"y\":{\"field\":\"impact force (mN)\"}},\"id\":\"1389\",\"type\":\"Circle\"},{\"attributes\":{},\"id\":\"1361\",\"type\":\"LinearScale\"},{\"attributes\":{\"data_source\":{\"id\":\"1386\",\"type\":\"ColumnDataSource\"},\"glyph\":{\"id\":\"1388\",\"type\":\"Circle\"},\"hover_glyph\":null,\"muted_glyph\":null,\"nonselection_glyph\":{\"id\":\"1389\",\"type\":\"Circle\"},\"selection_glyph\":null,\"view\":{\"id\":\"1391\",\"type\":\"CDSView\"}},\"id\":\"1390\",\"type\":\"GlyphRenderer\"},{\"attributes\":{\"formatter\":{\"id\":\"1422\",\"type\":\"CategoricalTickFormatter\"},\"ticker\":{\"id\":\"1364\",\"type\":\"CategoricalTicker\"}},\"id\":\"1363\",\"type\":\"CategoricalAxis\"},{\"attributes\":{\"source\":{\"id\":\"1386\",\"type\":\"ColumnDataSource\"}},\"id\":\"1391\",\"type\":\"CDSView\"},{\"attributes\":{},\"id\":\"1364\",\"type\":\"CategoricalTicker\"},{\"attributes\":{},\"id\":\"1426\",\"type\":\"UnionRenderers\"},{\"attributes\":{\"grid_line_color\":null,\"ticker\":{\"id\":\"1364\",\"type\":\"CategoricalTicker\"}},\"id\":\"1366\",\"type\":\"Grid\"},{\"attributes\":{},\"id\":\"1427\",\"type\":\"Selection\"},{\"attributes\":{\"axis_label\":\"impact force (mN)\",\"formatter\":{\"id\":\"1424\",\"type\":\"BasicTickFormatter\"},\"ticker\":{\"id\":\"1368\",\"type\":\"BasicTicker\"}},\"id\":\"1367\",\"type\":\"LinearAxis\"},{\"attributes\":{},\"id\":\"1422\",\"type\":\"CategoricalTickFormatter\"},{\"attributes\":{\"bottom_units\":\"screen\",\"fill_alpha\":{\"value\":0.5},\"fill_color\":{\"value\":\"lightgrey\"},\"left_units\":\"screen\",\"level\":\"overlay\",\"line_alpha\":{\"value\":1.0},\"line_color\":{\"value\":\"black\"},\"line_dash\":[4,4],\"line_width\":{\"value\":2},\"render_mode\":\"css\",\"right_units\":\"screen\",\"top_units\":\"screen\"},\"id\":\"1428\",\"type\":\"BoxAnnotation\"},{\"attributes\":{},\"id\":\"1368\",\"type\":\"BasicTicker\"},{\"attributes\":{\"dimension\":1,\"ticker\":{\"id\":\"1368\",\"type\":\"BasicTicker\"}},\"id\":\"1371\",\"type\":\"Grid\"},{\"attributes\":{\"factors\":[\"I\",\"II\",\"III\",\"IV\"],\"palette\":[\"#4e79a7\",\"#f28e2b\",\"#e15759\",\"#76b7b2\",\"#59a14f\",\"#edc948\",\"#b07aa1\",\"#ff9da7\",\"#9c755f\",\"#bab0ac\"]},\"id\":\"1385\",\"type\":\"CategoricalColorMapper\"},{\"attributes\":{\"callback\":null,\"data\":{\"ID\":[\"I\",\"I\",\"I\",\"I\",\"I\",\"I\",\"I\",\"I\",\"I\",\"I\",\"I\",\"I\",\"I\",\"I\",\"I\",\"I\",\"I\",\"I\",\"I\",\"I\",\"II\",\"II\",\"II\",\"II\",\"II\",\"II\",\"II\",\"II\",\"II\",\"II\",\"II\",\"II\",\"II\",\"II\",\"II\",\"II\",\"II\",\"II\",\"II\",\"II\",\"III\",\"III\",\"III\",\"III\",\"III\",\"III\",\"III\",\"III\",\"III\",\"III\",\"III\",\"III\",\"III\",\"III\",\"III\",\"III\",\"III\",\"III\",\"III\",\"III\",\"IV\",\"IV\",\"IV\",\"IV\",\"IV\",\"IV\",\"IV\",\"IV\",\"IV\",\"IV\",\"IV\",\"IV\",\"IV\",\"IV\",\"IV\",\"IV\",\"IV\",\"IV\",\"IV\",\"IV\"],\"__label\":[\"I\",\"I\",\"I\",\"I\",\"I\",\"I\",\"I\",\"I\",\"I\",\"I\",\"I\",\"I\",\"I\",\"I\",\"I\",\"I\",\"I\",\"I\",\"I\",\"I\",\"II\",\"II\",\"II\",\"II\",\"II\",\"II\",\"II\",\"II\",\"II\",\"II\",\"II\",\"II\",\"II\",\"II\",\"II\",\"II\",\"II\",\"II\",\"II\",\"II\",\"III\",\"III\",\"III\",\"III\",\"III\",\"III\",\"III\",\"III\",\"III\",\"III\",\"III\",\"III\",\"III\",\"III\",\"III\",\"III\",\"III\",\"III\",\"III\",\"III\",\"IV\",\"IV\",\"IV\",\"IV\",\"IV\",\"IV\",\"IV\",\"IV\",\"IV\",\"IV\",\"IV\",\"IV\",\"IV\",\"IV\",\"IV\",\"IV\",\"IV\",\"IV\",\"IV\",\"IV\"],\"cat\":[\"I\",\"I\",\"I\",\"I\",\"I\",\"I\",\"I\",\"I\",\"I\",\"I\",\"I\",\"I\",\"I\",\"I\",\"I\",\"I\",\"I\",\"I\",\"I\",\"I\",\"II\",\"II\",\"II\",\"II\",\"II\",\"II\",\"II\",\"II\",\"II\",\"II\",\"II\",\"II\",\"II\",\"II\",\"II\",\"II\",\"II\",\"II\",\"II\",\"II\",\"III\",\"III\",\"III\",\"III\",\"III\",\"III\",\"III\",\"III\",\"III\",\"III\",\"III\",\"III\",\"III\",\"III\",\"III\",\"III\",\"III\",\"III\",\"III\",\"III\",\"IV\",\"IV\",\"IV\",\"IV\",\"IV\",\"IV\",\"IV\",\"IV\",\"IV\",\"IV\",\"IV\",\"IV\",\"IV\",\"IV\",\"IV\",\"IV\",\"IV\",\"IV\",\"IV\",\"IV\"],\"impact force (mN)\":[1205,2527,1745,1556,493,2276,556,1928,2641,1897,1891,1545,1307,1692,1543,1282,775,2032,1240,473,1612,605,327,946,541,1539,529,628,1453,297,703,269,751,245,1182,515,435,383,457,730,614,414,324,776,611,544,538,579,806,459,458,626,621,544,535,385,401,614,665,488,172,142,37,453,355,22,502,273,720,582,198,198,597,516,815,402,605,711,614,468]},\"selected\":{\"id\":\"1427\",\"type\":\"Selection\"},\"selection_policy\":{\"id\":\"1426\",\"type\":\"UnionRenderers\"}},\"id\":\"1386\",\"type\":\"ColumnDataSource\"},{\"attributes\":{\"active_drag\":\"auto\",\"active_inspect\":\"auto\",\"active_multi\":null,\"active_scroll\":\"auto\",\"active_tap\":\"auto\",\"tools\":[{\"id\":\"1372\",\"type\":\"PanTool\"},{\"id\":\"1373\",\"type\":\"WheelZoomTool\"},{\"id\":\"1374\",\"type\":\"BoxZoomTool\"},{\"id\":\"1375\",\"type\":\"SaveTool\"},{\"id\":\"1376\",\"type\":\"ResetTool\"},{\"id\":\"1377\",\"type\":\"HelpTool\"}]},\"id\":\"1378\",\"type\":\"Toolbar\"},{\"attributes\":{},\"id\":\"1372\",\"type\":\"PanTool\"},{\"attributes\":{\"callback\":null},\"id\":\"1357\",\"type\":\"DataRange1d\"},{\"attributes\":{},\"id\":\"1373\",\"type\":\"WheelZoomTool\"},{\"attributes\":{\"overlay\":{\"id\":\"1428\",\"type\":\"BoxAnnotation\"}},\"id\":\"1374\",\"type\":\"BoxZoomTool\"},{\"attributes\":{\"callback\":null,\"factors\":[\"I\",\"II\",\"III\",\"IV\"]},\"id\":\"1354\",\"type\":\"FactorRange\"},{\"attributes\":{},\"id\":\"1375\",\"type\":\"SaveTool\"},{\"attributes\":{},\"id\":\"1376\",\"type\":\"ResetTool\"},{\"attributes\":{\"text\":\"\"},\"id\":\"1420\",\"type\":\"Title\"},{\"attributes\":{},\"id\":\"1377\",\"type\":\"HelpTool\"},{\"attributes\":{\"fill_color\":{\"field\":\"cat\",\"transform\":{\"id\":\"1385\",\"type\":\"CategoricalColorMapper\"}},\"line_color\":{\"field\":\"cat\",\"transform\":{\"id\":\"1385\",\"type\":\"CategoricalColorMapper\"}},\"x\":{\"field\":\"cat\"},\"y\":{\"field\":\"impact force (mN)\"}},\"id\":\"1388\",\"type\":\"Circle\"}],\"root_ids\":[\"1355\"]},\"title\":\"Bokeh Application\",\"version\":\"1.2.0\"}};\n",
       "  var render_items = [{\"docid\":\"46148cd3-4e4d-40e1-b33b-4403fd132cd4\",\"roots\":{\"1355\":\"4c0fcd5d-76f9-4627-a76f-23904f345927\"}}];\n",
       "  root.Bokeh.embed.embed_items_notebook(docs_json, render_items);\n",
       "\n",
       "  }\n",
       "  if (root.Bokeh !== undefined) {\n",
       "    embed_document(root);\n",
       "  } else {\n",
       "    var attempts = 0;\n",
       "    var timer = setInterval(function(root) {\n",
       "      if (root.Bokeh !== undefined) {\n",
       "        embed_document(root);\n",
       "        clearInterval(timer);\n",
       "      }\n",
       "      attempts++;\n",
       "      if (attempts > 100) {\n",
       "        console.log(\"Bokeh: ERROR: Unable to run BokehJS code because BokehJS library is missing\");\n",
       "        clearInterval(timer);\n",
       "      }\n",
       "    }, 10, root)\n",
       "  }\n",
       "})(window);"
      ],
      "application/vnd.bokehjs_exec.v0+json": ""
     },
     "metadata": {
      "application/vnd.bokehjs_exec.v0+json": {
       "id": "1355"
      }
     },
     "output_type": "display_data"
    }
   ],
   "source": [
    "p = bokeh_catplot.strip(\n",
    "    data=df,\n",
    "    cats='ID',\n",
    "    val='impact force (mN)'\n",
    ")\n",
    "\n",
    "bokeh.io.show(p)"
   ]
  },
  {
   "cell_type": "markdown",
   "metadata": {},
   "source": [
    "This is a good plot to make since you are plotting all of your data, but it does have the problem that you cannot tell if multiple ticks overlap. Let's look at some alternatives."
   ]
  },
  {
   "cell_type": "markdown",
   "metadata": {},
   "source": [
    "## Histograms\n",
    "\n",
    "In plotting all of our data in a strip plot, we can roughly see how the data are distributed. There are more measurements where there are more glyphs."
   ]
  },
  {
   "cell_type": "code",
   "execution_count": 9,
   "metadata": {},
   "outputs": [
    {
     "data": {
      "text/html": [
       "\n",
       "\n",
       "\n",
       "\n",
       "\n",
       "\n",
       "  <div class=\"bk-root\" id=\"29d4de9d-35a0-4351-ac9d-9bf3b85a4c0f\" data-root-id=\"1484\"></div>\n"
      ]
     },
     "metadata": {},
     "output_type": "display_data"
    },
    {
     "data": {
      "application/javascript": [
       "(function(root) {\n",
       "  function embed_document(root) {\n",
       "    \n",
       "  var docs_json = {\"982fab35-cf5c-488d-930b-b1986d32a2e5\":{\"roots\":{\"references\":[{\"attributes\":{\"below\":[{\"id\":\"1492\",\"type\":\"LinearAxis\"}],\"center\":[{\"id\":\"1496\",\"type\":\"Grid\"},{\"id\":\"1501\",\"type\":\"Grid\"},{\"id\":\"1527\",\"type\":\"Legend\"}],\"left\":[{\"id\":\"1497\",\"type\":\"LinearAxis\"}],\"plot_height\":300,\"plot_width\":400,\"renderers\":[{\"id\":\"1518\",\"type\":\"GlyphRenderer\"},{\"id\":\"1532\",\"type\":\"GlyphRenderer\"},{\"id\":\"1546\",\"type\":\"GlyphRenderer\"},{\"id\":\"1563\",\"type\":\"GlyphRenderer\"},{\"id\":\"1581\",\"type\":\"GlyphRenderer\"},{\"id\":\"1602\",\"type\":\"GlyphRenderer\"},{\"id\":\"1624\",\"type\":\"GlyphRenderer\"},{\"id\":\"1649\",\"type\":\"GlyphRenderer\"}],\"title\":{\"id\":\"1520\",\"type\":\"Title\"},\"toolbar\":{\"id\":\"1508\",\"type\":\"Toolbar\"},\"x_range\":{\"id\":\"1485\",\"type\":\"DataRange1d\"},\"x_scale\":{\"id\":\"1488\",\"type\":\"LinearScale\"},\"y_range\":{\"id\":\"1483\",\"type\":\"DataRange1d\"},\"y_scale\":{\"id\":\"1490\",\"type\":\"LinearScale\"}},\"id\":\"1484\",\"subtype\":\"Figure\",\"type\":\"Plot\"},{\"attributes\":{\"callback\":null,\"data\":{\"x\":{\"__ndarray__\":\"AAAAAABAdEAAAAAAAEB0QGZmZmZmRnpAZmZmZmZGekBmZmZmZiaAQGZmZmZmJoBAmpmZmZkpg0CamZmZmSmDQM3MzMzMLIZAzczMzMwshkAAAAAAADCJQAAAAAAAMIlAAAAAAAAwiUAAAAAAAEB0QA==\",\"dtype\":\"float64\",\"shape\":[14]},\"y\":{\"__ndarray__\":\"AAAAAAAAAAAAAAAAAAAQQAAAAAAAABBAAAAAAAAACEAAAAAAAAAIQAAAAAAAABhAAAAAAAAAGEAAAAAAAAAUQAAAAAAAABRAAAAAAAAAAEAAAAAAAAAAQAAAAAAAAAAAAAAAAAAAAAAAAAAAAAAAAA==\",\"dtype\":\"float64\",\"shape\":[14]}},\"selected\":{\"id\":\"1643\",\"type\":\"Selection\"},\"selection_policy\":{\"id\":\"1642\",\"type\":\"UnionRenderers\"}},\"id\":\"1599\",\"type\":\"ColumnDataSource\"},{\"attributes\":{},\"id\":\"1522\",\"type\":\"BasicTickFormatter\"},{\"attributes\":{},\"id\":\"1557\",\"type\":\"Selection\"},{\"attributes\":{\"dimension\":1,\"ticker\":{\"id\":\"1498\",\"type\":\"BasicTicker\"}},\"id\":\"1501\",\"type\":\"Grid\"},{\"attributes\":{\"fill_alpha\":0.3,\"fill_color\":\"#e15759\",\"line_alpha\":0,\"line_color\":\"#e15759\",\"x\":{\"field\":\"x\"},\"y\":{\"field\":\"y\"}},\"id\":\"1600\",\"type\":\"Patch\"},{\"attributes\":{\"active_drag\":\"auto\",\"active_inspect\":\"auto\",\"active_multi\":null,\"active_scroll\":\"auto\",\"active_tap\":\"auto\",\"tools\":[{\"id\":\"1502\",\"type\":\"PanTool\"},{\"id\":\"1503\",\"type\":\"WheelZoomTool\"},{\"id\":\"1504\",\"type\":\"BoxZoomTool\"},{\"id\":\"1505\",\"type\":\"SaveTool\"},{\"id\":\"1506\",\"type\":\"ResetTool\"},{\"id\":\"1507\",\"type\":\"HelpTool\"}]},\"id\":\"1508\",\"type\":\"Toolbar\"},{\"attributes\":{\"source\":{\"id\":\"1646\",\"type\":\"ColumnDataSource\"}},\"id\":\"1650\",\"type\":\"CDSView\"},{\"attributes\":{},\"id\":\"1524\",\"type\":\"BasicTickFormatter\"},{\"attributes\":{\"label\":{\"value\":\"II\"},\"renderers\":[{\"id\":\"1546\",\"type\":\"GlyphRenderer\"},{\"id\":\"1563\",\"type\":\"GlyphRenderer\"}]},\"id\":\"1559\",\"type\":\"LegendItem\"},{\"attributes\":{},\"id\":\"1502\",\"type\":\"PanTool\"},{\"attributes\":{\"fill_alpha\":0.1,\"fill_color\":\"#1f77b4\",\"line_alpha\":0.1,\"line_color\":\"#1f77b4\",\"x\":{\"field\":\"x\"},\"y\":{\"field\":\"y\"}},\"id\":\"1601\",\"type\":\"Patch\"},{\"attributes\":{},\"id\":\"1669\",\"type\":\"UnionRenderers\"},{\"attributes\":{\"bottom_units\":\"screen\",\"fill_alpha\":{\"value\":0.5},\"fill_color\":{\"value\":\"lightgrey\"},\"left_units\":\"screen\",\"level\":\"overlay\",\"line_alpha\":{\"value\":1.0},\"line_color\":{\"value\":\"black\"},\"line_dash\":[4,4],\"line_width\":{\"value\":2},\"render_mode\":\"css\",\"right_units\":\"screen\",\"top_units\":\"screen\"},\"id\":\"1526\",\"type\":\"BoxAnnotation\"},{\"attributes\":{},\"id\":\"1503\",\"type\":\"WheelZoomTool\"},{\"attributes\":{},\"id\":\"1729\",\"type\":\"UnionRenderers\"},{\"attributes\":{\"data_source\":{\"id\":\"1599\",\"type\":\"ColumnDataSource\"},\"glyph\":{\"id\":\"1600\",\"type\":\"Patch\"},\"hover_glyph\":null,\"muted_glyph\":null,\"nonselection_glyph\":{\"id\":\"1601\",\"type\":\"Patch\"},\"selection_glyph\":null,\"view\":{\"id\":\"1603\",\"type\":\"CDSView\"}},\"id\":\"1602\",\"type\":\"GlyphRenderer\"},{\"attributes\":{\"callback\":null,\"data\":{\"x\":{\"__ndarray__\":\"AAAAAACgbkAAAAAAAKBuQDMzMzMzM4BAMzMzMzMzgEBmZmZmZr6IQGZmZmZmvohAzMzMzMykkEDMzMzMzKSQQGZmZmZm6pRAZmZmZmbqlEAAAAAAADCZQAAAAAAAMJlAAAAAAAAwmUAAAAAAAKBuQA==\",\"dtype\":\"float64\",\"shape\":[14]},\"y\":{\"__ndarray__\":\"AAAAAAAAAAAAAAAAAAAgQAAAAAAAACBAAAAAAAAAHEAAAAAAAAAcQAAAAAAAAPA/AAAAAAAA8D8AAAAAAADwPwAAAAAAAPA/AAAAAAAACEAAAAAAAAAIQAAAAAAAAAAAAAAAAAAAAAAAAAAAAAAAAA==\",\"dtype\":\"float64\",\"shape\":[14]}},\"selected\":{\"id\":\"1596\",\"type\":\"Selection\"},\"selection_policy\":{\"id\":\"1595\",\"type\":\"UnionRenderers\"}},\"id\":\"1560\",\"type\":\"ColumnDataSource\"},{\"attributes\":{\"click_policy\":\"hide\",\"items\":[{\"id\":\"1528\",\"type\":\"LegendItem\"},{\"id\":\"1559\",\"type\":\"LegendItem\"},{\"id\":\"1598\",\"type\":\"LegendItem\"},{\"id\":\"1645\",\"type\":\"LegendItem\"}]},\"id\":\"1527\",\"type\":\"Legend\"},{\"attributes\":{},\"id\":\"1670\",\"type\":\"Selection\"},{\"attributes\":{\"overlay\":{\"id\":\"1526\",\"type\":\"BoxAnnotation\"}},\"id\":\"1504\",\"type\":\"BoxZoomTool\"},{\"attributes\":{\"source\":{\"id\":\"1599\",\"type\":\"ColumnDataSource\"}},\"id\":\"1603\",\"type\":\"CDSView\"},{\"attributes\":{\"fill_alpha\":0.3,\"fill_color\":\"#f28e2b\",\"line_alpha\":0,\"line_color\":\"#f28e2b\",\"x\":{\"field\":\"x\"},\"y\":{\"field\":\"y\"}},\"id\":\"1561\",\"type\":\"Patch\"},{\"attributes\":{\"label\":{\"value\":\"I\"},\"renderers\":[{\"id\":\"1518\",\"type\":\"GlyphRenderer\"},{\"id\":\"1532\",\"type\":\"GlyphRenderer\"}]},\"id\":\"1528\",\"type\":\"LegendItem\"},{\"attributes\":{},\"id\":\"1505\",\"type\":\"SaveTool\"},{\"attributes\":{},\"id\":\"1618\",\"type\":\"UnionRenderers\"},{\"attributes\":{\"fill_alpha\":0.1,\"fill_color\":\"#1f77b4\",\"line_alpha\":0.1,\"line_color\":\"#1f77b4\",\"x\":{\"field\":\"x\"},\"y\":{\"field\":\"y\"}},\"id\":\"1562\",\"type\":\"Patch\"},{\"attributes\":{\"callback\":null,\"data\":{\"x\":{\"__ndarray__\":\"AAAAAACQfUAAAAAAAJB9QM3MzMzMVIxAzczMzMxUjEDNzMzMzPCUQM3MzMzM8JRANDMzMzO3m0A0MzMzM7ebQM3MzMzMPqFAzczMzMw+oUAAAAAAAKKkQAAAAAAAoqRAAAAAAACipEAAAAAAAJB9QA==\",\"dtype\":\"float64\",\"shape\":[14]},\"y\":{\"__ndarray__\":\"AAAAAAAAAAAAAAAAAAAQQAAAAAAAABBAAAAAAAAAEEAAAAAAAAAQQAAAAAAAABRAAAAAAAAAFEAAAAAAAAAQQAAAAAAAABBAAAAAAAAACEAAAAAAAAAIQAAAAAAAAAAAAAAAAAAAAAAAAAAAAAAAAA==\",\"dtype\":\"float64\",\"shape\":[14]}},\"selected\":{\"id\":\"1557\",\"type\":\"Selection\"},\"selection_policy\":{\"id\":\"1556\",\"type\":\"UnionRenderers\"}},\"id\":\"1529\",\"type\":\"ColumnDataSource\"},{\"attributes\":{},\"id\":\"1506\",\"type\":\"ResetTool\"},{\"attributes\":{},\"id\":\"1619\",\"type\":\"Selection\"},{\"attributes\":{\"data_source\":{\"id\":\"1560\",\"type\":\"ColumnDataSource\"},\"glyph\":{\"id\":\"1561\",\"type\":\"Patch\"},\"hover_glyph\":null,\"muted_glyph\":null,\"nonselection_glyph\":{\"id\":\"1562\",\"type\":\"Patch\"},\"selection_glyph\":null,\"view\":{\"id\":\"1564\",\"type\":\"CDSView\"}},\"id\":\"1563\",\"type\":\"GlyphRenderer\"},{\"attributes\":{\"fill_alpha\":0.3,\"fill_color\":\"#4e79a7\",\"line_alpha\":0,\"line_color\":\"#4e79a7\",\"x\":{\"field\":\"x\"},\"y\":{\"field\":\"y\"}},\"id\":\"1530\",\"type\":\"Patch\"},{\"attributes\":{},\"id\":\"1507\",\"type\":\"HelpTool\"},{\"attributes\":{\"source\":{\"id\":\"1560\",\"type\":\"ColumnDataSource\"}},\"id\":\"1564\",\"type\":\"CDSView\"},{\"attributes\":{\"fill_alpha\":0.1,\"fill_color\":\"#1f77b4\",\"line_alpha\":0.1,\"line_color\":\"#1f77b4\",\"x\":{\"field\":\"x\"},\"y\":{\"field\":\"y\"}},\"id\":\"1531\",\"type\":\"Patch\"},{\"attributes\":{},\"id\":\"1493\",\"type\":\"BasicTicker\"},{\"attributes\":{},\"id\":\"1575\",\"type\":\"UnionRenderers\"},{\"attributes\":{\"axis_label\":\"count\",\"formatter\":{\"id\":\"1524\",\"type\":\"BasicTickFormatter\"},\"ticker\":{\"id\":\"1498\",\"type\":\"BasicTicker\"}},\"id\":\"1497\",\"type\":\"LinearAxis\"},{\"attributes\":{\"data_source\":{\"id\":\"1529\",\"type\":\"ColumnDataSource\"},\"glyph\":{\"id\":\"1530\",\"type\":\"Patch\"},\"hover_glyph\":null,\"muted_glyph\":null,\"nonselection_glyph\":{\"id\":\"1531\",\"type\":\"Patch\"},\"selection_glyph\":null,\"view\":{\"id\":\"1533\",\"type\":\"CDSView\"}},\"id\":\"1532\",\"type\":\"GlyphRenderer\"},{\"attributes\":{\"line_color\":\"#76b7b2\",\"line_width\":2,\"x\":{\"field\":\"x\"},\"y\":{\"field\":\"y\"}},\"id\":\"1622\",\"type\":\"Line\"},{\"attributes\":{\"line_alpha\":0.1,\"line_color\":\"#1f77b4\",\"line_width\":2,\"x\":{\"field\":\"x\"},\"y\":{\"field\":\"y\"}},\"id\":\"1623\",\"type\":\"Line\"},{\"attributes\":{},\"id\":\"1576\",\"type\":\"Selection\"},{\"attributes\":{\"axis_label\":\"impact force (mN)\",\"formatter\":{\"id\":\"1522\",\"type\":\"BasicTickFormatter\"},\"ticker\":{\"id\":\"1493\",\"type\":\"BasicTicker\"}},\"id\":\"1492\",\"type\":\"LinearAxis\"},{\"attributes\":{\"source\":{\"id\":\"1529\",\"type\":\"ColumnDataSource\"}},\"id\":\"1533\",\"type\":\"CDSView\"},{\"attributes\":{\"data_source\":{\"id\":\"1621\",\"type\":\"ColumnDataSource\"},\"glyph\":{\"id\":\"1622\",\"type\":\"Line\"},\"hover_glyph\":null,\"muted_glyph\":null,\"nonselection_glyph\":{\"id\":\"1623\",\"type\":\"Line\"},\"selection_glyph\":null,\"view\":{\"id\":\"1625\",\"type\":\"CDSView\"}},\"id\":\"1624\",\"type\":\"GlyphRenderer\"},{\"attributes\":{\"callback\":null,\"data\":{\"x\":{\"__ndarray__\":\"AAAAAAAANkAAAAAAAAA2QFVVVVVV5XFAVVVVVVXlcUBVVVVVVTWBQFVVVVVVNYFAAAAAAAB4iUAAAAAAAHiJQA==\",\"dtype\":\"float64\",\"shape\":[8]},\"y\":{\"__ndarray__\":\"AAAAAAAAAAAAAAAAAAAcQAAAAAAAABxAAAAAAAAAGEAAAAAAAAAYQAAAAAAAABxAAAAAAAAAHEAAAAAAAAAAAA==\",\"dtype\":\"float64\",\"shape\":[8]}},\"selected\":{\"id\":\"1670\",\"type\":\"Selection\"},\"selection_policy\":{\"id\":\"1669\",\"type\":\"UnionRenderers\"}},\"id\":\"1621\",\"type\":\"ColumnDataSource\"},{\"attributes\":{},\"id\":\"1488\",\"type\":\"LinearScale\"},{\"attributes\":{},\"id\":\"1540\",\"type\":\"UnionRenderers\"},{\"attributes\":{\"source\":{\"id\":\"1621\",\"type\":\"ColumnDataSource\"}},\"id\":\"1625\",\"type\":\"CDSView\"},{\"attributes\":{},\"id\":\"1490\",\"type\":\"LinearScale\"},{\"attributes\":{},\"id\":\"1541\",\"type\":\"Selection\"},{\"attributes\":{\"callback\":null,\"data\":{\"x\":{\"__ndarray__\":\"AAAAAACgbkAAAAAAAKBuQDMzMzMzM4BAMzMzMzMzgEBmZmZmZr6IQGZmZmZmvohAzMzMzMykkEDMzMzMzKSQQGZmZmZm6pRAZmZmZmbqlEAAAAAAADCZQAAAAAAAMJlA\",\"dtype\":\"float64\",\"shape\":[12]},\"y\":{\"__ndarray__\":\"AAAAAAAAAAAAAAAAAAAgQAAAAAAAACBAAAAAAAAAHEAAAAAAAAAcQAAAAAAAAPA/AAAAAAAA8D8AAAAAAADwPwAAAAAAAPA/AAAAAAAACEAAAAAAAAAIQAAAAAAAAAAA\",\"dtype\":\"float64\",\"shape\":[12]}},\"selected\":{\"id\":\"1576\",\"type\":\"Selection\"},\"selection_policy\":{\"id\":\"1575\",\"type\":\"UnionRenderers\"}},\"id\":\"1543\",\"type\":\"ColumnDataSource\"},{\"attributes\":{\"line_color\":\"#e15759\",\"line_width\":2,\"x\":{\"field\":\"x\"},\"y\":{\"field\":\"y\"}},\"id\":\"1579\",\"type\":\"Line\"},{\"attributes\":{},\"id\":\"1642\",\"type\":\"UnionRenderers\"},{\"attributes\":{\"callback\":null,\"data\":{\"x\":{\"__ndarray__\":\"AAAAAACQfUAAAAAAAJB9QM3MzMzMVIxAzczMzMxUjEDNzMzMzPCUQM3MzMzM8JRANDMzMzO3m0A0MzMzM7ebQM3MzMzMPqFAzczMzMw+oUAAAAAAAKKkQAAAAAAAoqRA\",\"dtype\":\"float64\",\"shape\":[12]},\"y\":{\"__ndarray__\":\"AAAAAAAAAAAAAAAAAAAQQAAAAAAAABBAAAAAAAAAEEAAAAAAAAAQQAAAAAAAABRAAAAAAAAAFEAAAAAAAAAQQAAAAAAAABBAAAAAAAAACEAAAAAAAAAIQAAAAAAAAAAA\",\"dtype\":\"float64\",\"shape\":[12]}},\"selected\":{\"id\":\"1541\",\"type\":\"Selection\"},\"selection_policy\":{\"id\":\"1540\",\"type\":\"UnionRenderers\"}},\"id\":\"1515\",\"type\":\"ColumnDataSource\"},{\"attributes\":{\"callback\":null},\"id\":\"1485\",\"type\":\"DataRange1d\"},{\"attributes\":{\"ticker\":{\"id\":\"1493\",\"type\":\"BasicTicker\"}},\"id\":\"1496\",\"type\":\"Grid\"},{\"attributes\":{\"line_alpha\":0.1,\"line_color\":\"#1f77b4\",\"line_width\":2,\"x\":{\"field\":\"x\"},\"y\":{\"field\":\"y\"}},\"id\":\"1580\",\"type\":\"Line\"},{\"attributes\":{\"callback\":null,\"data\":{\"x\":{\"__ndarray__\":\"AAAAAABAdEAAAAAAAEB0QGZmZmZmRnpAZmZmZmZGekBmZmZmZiaAQGZmZmZmJoBAmpmZmZkpg0CamZmZmSmDQM3MzMzMLIZAzczMzMwshkAAAAAAADCJQAAAAAAAMIlA\",\"dtype\":\"float64\",\"shape\":[12]},\"y\":{\"__ndarray__\":\"AAAAAAAAAAAAAAAAAAAQQAAAAAAAABBAAAAAAAAACEAAAAAAAAAIQAAAAAAAABhAAAAAAAAAGEAAAAAAAAAUQAAAAAAAABRAAAAAAAAAAEAAAAAAAAAAQAAAAAAAAAAA\",\"dtype\":\"float64\",\"shape\":[12]}},\"selected\":{\"id\":\"1619\",\"type\":\"Selection\"},\"selection_policy\":{\"id\":\"1618\",\"type\":\"UnionRenderers\"}},\"id\":\"1578\",\"type\":\"ColumnDataSource\"},{\"attributes\":{},\"id\":\"1643\",\"type\":\"Selection\"},{\"attributes\":{\"data_source\":{\"id\":\"1578\",\"type\":\"ColumnDataSource\"},\"glyph\":{\"id\":\"1579\",\"type\":\"Line\"},\"hover_glyph\":null,\"muted_glyph\":null,\"nonselection_glyph\":{\"id\":\"1580\",\"type\":\"Line\"},\"selection_glyph\":null,\"view\":{\"id\":\"1582\",\"type\":\"CDSView\"}},\"id\":\"1581\",\"type\":\"GlyphRenderer\"},{\"attributes\":{\"line_color\":\"#4e79a7\",\"line_width\":2,\"x\":{\"field\":\"x\"},\"y\":{\"field\":\"y\"}},\"id\":\"1516\",\"type\":\"Line\"},{\"attributes\":{\"line_color\":\"#f28e2b\",\"line_width\":2,\"x\":{\"field\":\"x\"},\"y\":{\"field\":\"y\"}},\"id\":\"1544\",\"type\":\"Line\"},{\"attributes\":{\"label\":{\"value\":\"IV\"},\"renderers\":[{\"id\":\"1624\",\"type\":\"GlyphRenderer\"},{\"id\":\"1649\",\"type\":\"GlyphRenderer\"}]},\"id\":\"1645\",\"type\":\"LegendItem\"},{\"attributes\":{\"source\":{\"id\":\"1578\",\"type\":\"ColumnDataSource\"}},\"id\":\"1582\",\"type\":\"CDSView\"},{\"attributes\":{\"line_alpha\":0.1,\"line_color\":\"#1f77b4\",\"line_width\":2,\"x\":{\"field\":\"x\"},\"y\":{\"field\":\"y\"}},\"id\":\"1545\",\"type\":\"Line\"},{\"attributes\":{\"line_alpha\":0.1,\"line_color\":\"#1f77b4\",\"line_width\":2,\"x\":{\"field\":\"x\"},\"y\":{\"field\":\"y\"}},\"id\":\"1517\",\"type\":\"Line\"},{\"attributes\":{\"callback\":null,\"data\":{\"x\":{\"__ndarray__\":\"AAAAAAAANkAAAAAAAAA2QFVVVVVV5XFAVVVVVVXlcUBVVVVVVTWBQFVVVVVVNYFAAAAAAAB4iUAAAAAAAHiJQAAAAAAAeIlAAAAAAAAANkA=\",\"dtype\":\"float64\",\"shape\":[10]},\"y\":{\"__ndarray__\":\"AAAAAAAAAAAAAAAAAAAcQAAAAAAAABxAAAAAAAAAGEAAAAAAAAAYQAAAAAAAABxAAAAAAAAAHEAAAAAAAAAAAAAAAAAAAAAAAAAAAAAAAAA=\",\"dtype\":\"float64\",\"shape\":[10]}},\"selected\":{\"id\":\"1730\",\"type\":\"Selection\"},\"selection_policy\":{\"id\":\"1729\",\"type\":\"UnionRenderers\"}},\"id\":\"1646\",\"type\":\"ColumnDataSource\"},{\"attributes\":{},\"id\":\"1595\",\"type\":\"UnionRenderers\"},{\"attributes\":{\"data_source\":{\"id\":\"1543\",\"type\":\"ColumnDataSource\"},\"glyph\":{\"id\":\"1544\",\"type\":\"Line\"},\"hover_glyph\":null,\"muted_glyph\":null,\"nonselection_glyph\":{\"id\":\"1545\",\"type\":\"Line\"},\"selection_glyph\":null,\"view\":{\"id\":\"1547\",\"type\":\"CDSView\"}},\"id\":\"1546\",\"type\":\"GlyphRenderer\"},{\"attributes\":{},\"id\":\"1498\",\"type\":\"BasicTicker\"},{\"attributes\":{\"data_source\":{\"id\":\"1515\",\"type\":\"ColumnDataSource\"},\"glyph\":{\"id\":\"1516\",\"type\":\"Line\"},\"hover_glyph\":null,\"muted_glyph\":null,\"nonselection_glyph\":{\"id\":\"1517\",\"type\":\"Line\"},\"selection_glyph\":null,\"view\":{\"id\":\"1519\",\"type\":\"CDSView\"}},\"id\":\"1518\",\"type\":\"GlyphRenderer\"},{\"attributes\":{\"fill_alpha\":0.3,\"fill_color\":\"#76b7b2\",\"line_alpha\":0,\"line_color\":\"#76b7b2\",\"x\":{\"field\":\"x\"},\"y\":{\"field\":\"y\"}},\"id\":\"1647\",\"type\":\"Patch\"},{\"attributes\":{},\"id\":\"1596\",\"type\":\"Selection\"},{\"attributes\":{\"callback\":null,\"start\":0},\"id\":\"1483\",\"type\":\"DataRange1d\"},{\"attributes\":{\"source\":{\"id\":\"1543\",\"type\":\"ColumnDataSource\"}},\"id\":\"1547\",\"type\":\"CDSView\"},{\"attributes\":{\"source\":{\"id\":\"1515\",\"type\":\"ColumnDataSource\"}},\"id\":\"1519\",\"type\":\"CDSView\"},{\"attributes\":{\"fill_alpha\":0.1,\"fill_color\":\"#1f77b4\",\"line_alpha\":0.1,\"line_color\":\"#1f77b4\",\"x\":{\"field\":\"x\"},\"y\":{\"field\":\"y\"}},\"id\":\"1648\",\"type\":\"Patch\"},{\"attributes\":{},\"id\":\"1730\",\"type\":\"Selection\"},{\"attributes\":{\"label\":{\"value\":\"III\"},\"renderers\":[{\"id\":\"1581\",\"type\":\"GlyphRenderer\"},{\"id\":\"1602\",\"type\":\"GlyphRenderer\"}]},\"id\":\"1598\",\"type\":\"LegendItem\"},{\"attributes\":{},\"id\":\"1556\",\"type\":\"UnionRenderers\"},{\"attributes\":{\"text\":\"\"},\"id\":\"1520\",\"type\":\"Title\"},{\"attributes\":{\"data_source\":{\"id\":\"1646\",\"type\":\"ColumnDataSource\"},\"glyph\":{\"id\":\"1647\",\"type\":\"Patch\"},\"hover_glyph\":null,\"muted_glyph\":null,\"nonselection_glyph\":{\"id\":\"1648\",\"type\":\"Patch\"},\"selection_glyph\":null,\"view\":{\"id\":\"1650\",\"type\":\"CDSView\"}},\"id\":\"1649\",\"type\":\"GlyphRenderer\"}],\"root_ids\":[\"1484\"]},\"title\":\"Bokeh Application\",\"version\":\"1.2.0\"}};\n",
       "  var render_items = [{\"docid\":\"982fab35-cf5c-488d-930b-b1986d32a2e5\",\"roots\":{\"1484\":\"29d4de9d-35a0-4351-ac9d-9bf3b85a4c0f\"}}];\n",
       "  root.Bokeh.embed.embed_items_notebook(docs_json, render_items);\n",
       "\n",
       "  }\n",
       "  if (root.Bokeh !== undefined) {\n",
       "    embed_document(root);\n",
       "  } else {\n",
       "    var attempts = 0;\n",
       "    var timer = setInterval(function(root) {\n",
       "      if (root.Bokeh !== undefined) {\n",
       "        embed_document(root);\n",
       "        clearInterval(timer);\n",
       "      }\n",
       "      attempts++;\n",
       "      if (attempts > 100) {\n",
       "        console.log(\"Bokeh: ERROR: Unable to run BokehJS code because BokehJS library is missing\");\n",
       "        clearInterval(timer);\n",
       "      }\n",
       "    }, 10, root)\n",
       "  }\n",
       "})(window);"
      ],
      "application/vnd.bokehjs_exec.v0+json": ""
     },
     "metadata": {
      "application/vnd.bokehjs_exec.v0+json": {
       "id": "1484"
      }
     },
     "output_type": "display_data"
    }
   ],
   "source": [
    "p = bokeh_catplot.histogram(\n",
    "    data=df,\n",
    "    cats='ID',\n",
    "    val='impact force (mN)'\n",
    ")\n",
    "\n",
    "bokeh.io.show(p)"
   ]
  },
  {
   "cell_type": "markdown",
   "metadata": {},
   "source": [
    "## ECDFs\n",
    "\n",
    "Histograms are typically used to display how data are distributed. As an example I will generate Normally distributed data and plot the histogram. (We will learn how to generate data like this when we study random number generation with NumPy in a future lesson. For not, this is for purposes of discussing plotting options.)"
   ]
  },
  {
   "cell_type": "code",
   "execution_count": 10,
   "metadata": {},
   "outputs": [
    {
     "data": {
      "text/html": [
       "\n",
       "\n",
       "\n",
       "\n",
       "\n",
       "\n",
       "  <div class=\"bk-root\" id=\"1ebcc62e-fdc6-41d7-9b60-058e916f33e9\" data-root-id=\"1871\"></div>\n"
      ]
     },
     "metadata": {},
     "output_type": "display_data"
    },
    {
     "data": {
      "application/javascript": [
       "(function(root) {\n",
       "  function embed_document(root) {\n",
       "    \n",
       "  var docs_json = {\"8db90825-f2a6-41df-9288-985df13325ee\":{\"roots\":{\"references\":[{\"attributes\":{\"below\":[{\"id\":\"1879\",\"type\":\"LinearAxis\"}],\"center\":[{\"id\":\"1883\",\"type\":\"Grid\"},{\"id\":\"1888\",\"type\":\"Grid\"},{\"id\":\"1914\",\"type\":\"Legend\"}],\"left\":[{\"id\":\"1884\",\"type\":\"LinearAxis\"}],\"plot_height\":300,\"plot_width\":400,\"renderers\":[{\"id\":\"1905\",\"type\":\"GlyphRenderer\"},{\"id\":\"1919\",\"type\":\"GlyphRenderer\"}],\"title\":{\"id\":\"1907\",\"type\":\"Title\"},\"toolbar\":{\"id\":\"1895\",\"type\":\"Toolbar\"},\"x_range\":{\"id\":\"1872\",\"type\":\"DataRange1d\"},\"x_scale\":{\"id\":\"1875\",\"type\":\"LinearScale\"},\"y_range\":{\"id\":\"1870\",\"type\":\"DataRange1d\"},\"y_scale\":{\"id\":\"1877\",\"type\":\"LinearScale\"}},\"id\":\"1871\",\"subtype\":\"Figure\",\"type\":\"Plot\"},{\"attributes\":{},\"id\":\"1928\",\"type\":\"Selection\"},{\"attributes\":{},\"id\":\"1893\",\"type\":\"ResetTool\"},{\"attributes\":{\"line_color\":\"#4e79a7\",\"line_width\":2,\"x\":{\"field\":\"x\"},\"y\":{\"field\":\"y\"}},\"id\":\"1903\",\"type\":\"Line\"},{\"attributes\":{\"active_drag\":\"auto\",\"active_inspect\":\"auto\",\"active_multi\":null,\"active_scroll\":\"auto\",\"active_tap\":\"auto\",\"tools\":[{\"id\":\"1889\",\"type\":\"PanTool\"},{\"id\":\"1890\",\"type\":\"WheelZoomTool\"},{\"id\":\"1891\",\"type\":\"BoxZoomTool\"},{\"id\":\"1892\",\"type\":\"SaveTool\"},{\"id\":\"1893\",\"type\":\"ResetTool\"},{\"id\":\"1894\",\"type\":\"HelpTool\"}]},\"id\":\"1895\",\"type\":\"Toolbar\"},{\"attributes\":{\"line_alpha\":0.1,\"line_color\":\"#1f77b4\",\"line_width\":2,\"x\":{\"field\":\"x\"},\"y\":{\"field\":\"y\"}},\"id\":\"1904\",\"type\":\"Line\"},{\"attributes\":{},\"id\":\"1894\",\"type\":\"HelpTool\"},{\"attributes\":{\"data_source\":{\"id\":\"1902\",\"type\":\"ColumnDataSource\"},\"glyph\":{\"id\":\"1903\",\"type\":\"Line\"},\"hover_glyph\":null,\"muted_glyph\":null,\"nonselection_glyph\":{\"id\":\"1904\",\"type\":\"Line\"},\"selection_glyph\":null,\"view\":{\"id\":\"1906\",\"type\":\"CDSView\"}},\"id\":\"1905\",\"type\":\"GlyphRenderer\"},{\"attributes\":{\"source\":{\"id\":\"1902\",\"type\":\"ColumnDataSource\"}},\"id\":\"1906\",\"type\":\"CDSView\"},{\"attributes\":{\"text\":\"\"},\"id\":\"1907\",\"type\":\"Title\"},{\"attributes\":{},\"id\":\"1892\",\"type\":\"SaveTool\"},{\"attributes\":{},\"id\":\"1999\",\"type\":\"Selection\"},{\"attributes\":{},\"id\":\"1890\",\"type\":\"WheelZoomTool\"},{\"attributes\":{},\"id\":\"1909\",\"type\":\"BasicTickFormatter\"},{\"attributes\":{},\"id\":\"1911\",\"type\":\"BasicTickFormatter\"},{\"attributes\":{},\"id\":\"1998\",\"type\":\"UnionRenderers\"},{\"attributes\":{\"callback\":null,\"start\":0},\"id\":\"1870\",\"type\":\"DataRange1d\"},{\"attributes\":{\"dimension\":1,\"ticker\":{\"id\":\"1885\",\"type\":\"BasicTicker\"}},\"id\":\"1888\",\"type\":\"Grid\"},{\"attributes\":{\"bottom_units\":\"screen\",\"fill_alpha\":{\"value\":0.5},\"fill_color\":{\"value\":\"lightgrey\"},\"left_units\":\"screen\",\"level\":\"overlay\",\"line_alpha\":{\"value\":1.0},\"line_color\":{\"value\":\"black\"},\"line_dash\":[4,4],\"line_width\":{\"value\":2},\"render_mode\":\"css\",\"right_units\":\"screen\",\"top_units\":\"screen\"},\"id\":\"1913\",\"type\":\"BoxAnnotation\"},{\"attributes\":{\"ticker\":{\"id\":\"1880\",\"type\":\"BasicTicker\"}},\"id\":\"1883\",\"type\":\"Grid\"},{\"attributes\":{\"items\":[{\"id\":\"1915\",\"type\":\"LegendItem\"}],\"visible\":false},\"id\":\"1914\",\"type\":\"Legend\"},{\"attributes\":{\"callback\":null,\"data\":{\"x\":{\"__ndarray__\":\"pW4ehO02CMClbh6E7TYIwEdno3d+OwXAR2ejd347BcDpXyhrD0ACwOlfKGsPQALAFrFavUCJ/r8WsVq9QIn+v1qiZKRikvi/WqJkpGKS+L+ek26LhJvyv56TbouEm/K/xAnx5ExJ6b/ECfHkTEnpv5jYCWYht9q/mNgJZiG32r9A7YwRSN2mv0DtjBFI3aa/SJ2mYc//1D9InaZhz//UPxxsv+KjbeY/HGy/4qNt5j/KxFUKsC3xP8rEVQqwLfE/htNLI44k9z+G00sjjiT3P0LiQTxsG/0/QuJBPGwb/T9/+JsqJYkBQH/4myoliQFA3f8WN5SEBEDd/xY3lIQEQDwHkkMDgAdAPAeSQwOAB0A=\",\"dtype\":\"float64\",\"shape\":[34]},\"y\":{\"__ndarray__\":\"AAAAAAAAAAAAAAAAAAAQQAAAAAAAABBAAAAAAAAAFEAAAAAAAAAUQAAAAAAAACZAAAAAAAAAJkAAAAAAAAAzQAAAAAAAADNAAAAAAAAAP0AAAAAAAAA/QAAAAAAAAElAAAAAAAAASUAAAAAAAABKQAAAAAAAAEpAAAAAAACAT0AAAAAAAIBPQAAAAAAAgFFAAAAAAACAUUAAAAAAAABOQAAAAAAAAE5AAAAAAACASkAAAAAAAIBKQAAAAAAAgEJAAAAAAACAQkAAAAAAAAA3QAAAAAAAADdAAAAAAAAAJEAAAAAAAAAkQAAAAAAAACRAAAAAAAAAJEAAAAAAAAAAQAAAAAAAAABAAAAAAAAAAAA=\",\"dtype\":\"float64\",\"shape\":[34]}},\"selected\":{\"id\":\"1928\",\"type\":\"Selection\"},\"selection_policy\":{\"id\":\"1927\",\"type\":\"UnionRenderers\"}},\"id\":\"1902\",\"type\":\"ColumnDataSource\"},{\"attributes\":{\"label\":{\"value\":\" \"},\"renderers\":[{\"id\":\"1905\",\"type\":\"GlyphRenderer\"},{\"id\":\"1919\",\"type\":\"GlyphRenderer\"}]},\"id\":\"1915\",\"type\":\"LegendItem\"},{\"attributes\":{},\"id\":\"1875\",\"type\":\"LinearScale\"},{\"attributes\":{\"overlay\":{\"id\":\"1913\",\"type\":\"BoxAnnotation\"}},\"id\":\"1891\",\"type\":\"BoxZoomTool\"},{\"attributes\":{},\"id\":\"1889\",\"type\":\"PanTool\"},{\"attributes\":{\"callback\":null,\"data\":{\"x\":{\"__ndarray__\":\"pW4ehO02CMClbh6E7TYIwEdno3d+OwXAR2ejd347BcDpXyhrD0ACwOlfKGsPQALAFrFavUCJ/r8WsVq9QIn+v1qiZKRikvi/WqJkpGKS+L+ek26LhJvyv56TbouEm/K/xAnx5ExJ6b/ECfHkTEnpv5jYCWYht9q/mNgJZiG32r9A7YwRSN2mv0DtjBFI3aa/SJ2mYc//1D9InaZhz//UPxxsv+KjbeY/HGy/4qNt5j/KxFUKsC3xP8rEVQqwLfE/htNLI44k9z+G00sjjiT3P0LiQTxsG/0/QuJBPGwb/T9/+JsqJYkBQH/4myoliQFA3f8WN5SEBEDd/xY3lIQEQDwHkkMDgAdAPAeSQwOAB0A8B5JDA4AHQKVuHoTtNgjA\",\"dtype\":\"float64\",\"shape\":[36]},\"y\":{\"__ndarray__\":\"AAAAAAAAAAAAAAAAAAAQQAAAAAAAABBAAAAAAAAAFEAAAAAAAAAUQAAAAAAAACZAAAAAAAAAJkAAAAAAAAAzQAAAAAAAADNAAAAAAAAAP0AAAAAAAAA/QAAAAAAAAElAAAAAAAAASUAAAAAAAABKQAAAAAAAAEpAAAAAAACAT0AAAAAAAIBPQAAAAAAAgFFAAAAAAACAUUAAAAAAAABOQAAAAAAAAE5AAAAAAACASkAAAAAAAIBKQAAAAAAAgEJAAAAAAACAQkAAAAAAAAA3QAAAAAAAADdAAAAAAAAAJEAAAAAAAAAkQAAAAAAAACRAAAAAAAAAJEAAAAAAAAAAQAAAAAAAAABAAAAAAAAAAAAAAAAAAAAAAAAAAAAAAAAA\",\"dtype\":\"float64\",\"shape\":[36]}},\"selected\":{\"id\":\"1999\",\"type\":\"Selection\"},\"selection_policy\":{\"id\":\"1998\",\"type\":\"UnionRenderers\"}},\"id\":\"1916\",\"type\":\"ColumnDataSource\"},{\"attributes\":{\"callback\":null},\"id\":\"1872\",\"type\":\"DataRange1d\"},{\"attributes\":{\"fill_alpha\":0.3,\"fill_color\":\"#4e79a7\",\"line_alpha\":0,\"line_color\":\"#4e79a7\",\"x\":{\"field\":\"x\"},\"y\":{\"field\":\"y\"}},\"id\":\"1917\",\"type\":\"Patch\"},{\"attributes\":{\"fill_alpha\":0.1,\"fill_color\":\"#1f77b4\",\"line_alpha\":0.1,\"line_color\":\"#1f77b4\",\"x\":{\"field\":\"x\"},\"y\":{\"field\":\"y\"}},\"id\":\"1918\",\"type\":\"Patch\"},{\"attributes\":{},\"id\":\"1885\",\"type\":\"BasicTicker\"},{\"attributes\":{\"data_source\":{\"id\":\"1916\",\"type\":\"ColumnDataSource\"},\"glyph\":{\"id\":\"1917\",\"type\":\"Patch\"},\"hover_glyph\":null,\"muted_glyph\":null,\"nonselection_glyph\":{\"id\":\"1918\",\"type\":\"Patch\"},\"selection_glyph\":null,\"view\":{\"id\":\"1920\",\"type\":\"CDSView\"}},\"id\":\"1919\",\"type\":\"GlyphRenderer\"},{\"attributes\":{\"axis_label\":\"count\",\"formatter\":{\"id\":\"1911\",\"type\":\"BasicTickFormatter\"},\"ticker\":{\"id\":\"1885\",\"type\":\"BasicTicker\"}},\"id\":\"1884\",\"type\":\"LinearAxis\"},{\"attributes\":{},\"id\":\"1880\",\"type\":\"BasicTicker\"},{\"attributes\":{\"source\":{\"id\":\"1916\",\"type\":\"ColumnDataSource\"}},\"id\":\"1920\",\"type\":\"CDSView\"},{\"attributes\":{},\"id\":\"1877\",\"type\":\"LinearScale\"},{\"attributes\":{},\"id\":\"1927\",\"type\":\"UnionRenderers\"},{\"attributes\":{\"axis_label\":\"x\",\"formatter\":{\"id\":\"1909\",\"type\":\"BasicTickFormatter\"},\"ticker\":{\"id\":\"1880\",\"type\":\"BasicTicker\"}},\"id\":\"1879\",\"type\":\"LinearAxis\"}],\"root_ids\":[\"1871\"]},\"title\":\"Bokeh Application\",\"version\":\"1.2.0\"}};\n",
       "  var render_items = [{\"docid\":\"8db90825-f2a6-41df-9288-985df13325ee\",\"roots\":{\"1871\":\"1ebcc62e-fdc6-41d7-9b60-058e916f33e9\"}}];\n",
       "  root.Bokeh.embed.embed_items_notebook(docs_json, render_items);\n",
       "\n",
       "  }\n",
       "  if (root.Bokeh !== undefined) {\n",
       "    embed_document(root);\n",
       "  } else {\n",
       "    var attempts = 0;\n",
       "    var timer = setInterval(function(root) {\n",
       "      if (root.Bokeh !== undefined) {\n",
       "        embed_document(root);\n",
       "        clearInterval(timer);\n",
       "      }\n",
       "      attempts++;\n",
       "      if (attempts > 100) {\n",
       "        console.log(\"Bokeh: ERROR: Unable to run BokehJS code because BokehJS library is missing\");\n",
       "        clearInterval(timer);\n",
       "      }\n",
       "    }, 10, root)\n",
       "  }\n",
       "})(window);"
      ],
      "application/vnd.bokehjs_exec.v0+json": ""
     },
     "metadata": {
      "application/vnd.bokehjs_exec.v0+json": {
       "id": "1871"
      }
     },
     "output_type": "display_data"
    }
   ],
   "source": [
    "# Generate normally distributed data\n",
    "np.random.seed(353926)\n",
    "df_norm = pd.DataFrame(data={'x': np.random.normal(size=500)})\n",
    "\n",
    "# Plot the histogram\n",
    "p = bokeh_catplot.histogram(\n",
    "    data=df_norm,\n",
    "    cats=None,\n",
    "    val='x'\n",
    ")\n",
    "\n",
    "bokeh.io.show(p)"
   ]
  },
  {
   "cell_type": "markdown",
   "metadata": {},
   "source": [
    "This looks similar to the standard Normal curve we are used to seeing and is a useful comparison to a **probability density function** (PDF). However, Histograms suffer from **binning bias**. By binning the data, you are not plotting all of them. In general, if you can **plot all of your data**, you should. For that reason, I prefer not to use histograms for studying how data are distributed, but rather prefer to use ECDFs, which enable plotting of all data.\n",
    "\n",
    "The ECDF evaluated at x for a set of measurements is defined as\n",
    "\n",
    "\\begin{align}\n",
    "\\text{ECDF}(x) = \\text{fraction of measurements } \\le x.\n",
    "\\end{align}\n",
    "\n",
    "While the histogram is an attempt to visualize a probability density function (PDF) of a distribution, the ECDF visualizes the **cumulative density function** (CDF). The CDF, $F(x)$, and PDF, $f(x)$, both completely define a univariate distribution and are related by\n",
    "\n",
    "\\begin{align}\n",
    "f(x) = \\frac{\\mathrm{d}F}{\\mathrm{d}x}.\n",
    "\\end{align}\n",
    "\n",
    "The definition of the ECDF is all that you need for interpretation. Once you get used to looking at CDFs, they will become as familiar as PDFs. A peak in a PDF corresponds to an inflection point in a CDF.\n",
    "\n",
    "To make this more clear, let us look at plot of a PDF and ECDF for familiar distributions, the Gaussian and Binomial.\n",
    "\n",
    "<center><img src=\"pdf_cdf.png\" width=\"600px\"></center><br/>\n",
    "\n",
    "Now that we know how to interpret ECDFs, lets plot the ECDF for our dummy Normally-distributed data."
   ]
  },
  {
   "cell_type": "code",
   "execution_count": 11,
   "metadata": {},
   "outputs": [
    {
     "data": {
      "text/html": [
       "\n",
       "\n",
       "\n",
       "\n",
       "\n",
       "\n",
       "  <div class=\"bk-root\" id=\"2a9d66bf-c6de-4731-883f-befc418e54e5\" data-root-id=\"2067\"></div>\n"
      ]
     },
     "metadata": {},
     "output_type": "display_data"
    },
    {
     "data": {
      "application/javascript": [
       "(function(root) {\n",
       "  function embed_document(root) {\n",
       "    \n",
       "  var docs_json = {\"7d116d59-57b1-42ad-86d9-8249814e0007\":{\"roots\":{\"references\":[{\"attributes\":{\"below\":[{\"id\":\"2076\",\"type\":\"LinearAxis\"}],\"center\":[{\"id\":\"2080\",\"type\":\"Grid\"},{\"id\":\"2085\",\"type\":\"Grid\"},{\"id\":\"2112\",\"type\":\"Legend\"}],\"left\":[{\"id\":\"2081\",\"type\":\"LinearAxis\"}],\"plot_height\":300,\"plot_width\":400,\"renderers\":[{\"id\":\"2103\",\"type\":\"GlyphRenderer\"}],\"title\":{\"id\":\"2105\",\"type\":\"Title\"},\"toolbar\":{\"id\":\"2092\",\"type\":\"Toolbar\"},\"x_range\":{\"id\":\"2068\",\"type\":\"DataRange1d\"},\"x_scale\":{\"id\":\"2072\",\"type\":\"LinearScale\"},\"y_range\":{\"id\":\"2070\",\"type\":\"DataRange1d\"},\"y_scale\":{\"id\":\"2074\",\"type\":\"LinearScale\"}},\"id\":\"2067\",\"subtype\":\"Figure\",\"type\":\"Plot\"},{\"attributes\":{\"dimension\":1,\"ticker\":{\"id\":\"2082\",\"type\":\"BasicTicker\"}},\"id\":\"2085\",\"type\":\"Grid\"},{\"attributes\":{},\"id\":\"2077\",\"type\":\"BasicTicker\"},{\"attributes\":{},\"id\":\"2082\",\"type\":\"BasicTicker\"},{\"attributes\":{\"callback\":null,\"data\":{\"__ECDF\":{\"__ndarray__\":\"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\",\"dtype\":\"float64\",\"shape\":[500]},\"__dummy_cat\":[\" \",\" \",\" \",\" \",\" \",\" \",\" \",\" \",\" \",\" \",\" \",\" \",\" \",\" \",\" \",\" \",\" \",\" \",\" \",\" \",\" \",\" \",\" \",\" \",\" \",\" \",\" \",\" \",\" \",\" \",\" \",\" \",\" \",\" \",\" \",\" \",\" \",\" \",\" \",\" \",\" \",\" \",\" \",\" \",\" \",\" \",\" \",\" \",\" \",\" \",\" \",\" \",\" \",\" \",\" \",\" \",\" \",\" \",\" \",\" \",\" \",\" \",\" \",\" \",\" \",\" \",\" \",\" \",\" \",\" \",\" \",\" \",\" \",\" \",\" \",\" \",\" \",\" \",\" \",\" \",\" \",\" \",\" \",\" \",\" \",\" \",\" \",\" \",\" \",\" \",\" \",\" \",\" \",\" \",\" \",\" \",\" \",\" \",\" \",\" \",\" \",\" \",\" \",\" \",\" \",\" \",\" \",\" \",\" \",\" \",\" \",\" \",\" \",\" \",\" \",\" \",\" \",\" \",\" \",\" \",\" \",\" \",\" \",\" \",\" \",\" \",\" \",\" \",\" \",\" \",\" \",\" \",\" \",\" \",\" \",\" \",\" \",\" \",\" \",\" \",\" \",\" \",\" \",\" \",\" \",\" \",\" \",\" \",\" \",\" \",\" \",\" \",\" \",\" \",\" \",\" \",\" \",\" \",\" \",\" \",\" \",\" \",\" \",\" \",\" \",\" \",\" \",\" \",\" \",\" \",\" \",\" \",\" \",\" \",\" \",\" \",\" \",\" \",\" \",\" \",\" \",\" \",\" \",\" \",\" \",\" \",\" \",\" \",\" \",\" \",\" \",\" \",\" \",\" \",\" \",\" \",\" \",\" \",\" \",\" \",\" \",\" \",\" \",\" \",\" \",\" \",\" \",\" \",\" \",\" \",\" \",\" \",\" \",\" \",\" \",\" \",\" \",\" \",\" \",\" \",\" \",\" \",\" \",\" \",\" \",\" \",\" \",\" \",\" \",\" \",\" \",\" \",\" \",\" \",\" \",\" \",\" \",\" \",\" \",\" \",\" \",\" \",\" \",\" \",\" \",\" \",\" \",\" \",\" \",\" \",\" \",\" \",\" \",\" \",\" \",\" \",\" \",\" \",\" \",\" \",\" \",\" \",\" \",\" \",\" \",\" \",\" \",\" \",\" \",\" \",\" \",\" \",\" \",\" \",\" \",\" \",\" \",\" \",\" \",\" \",\" \",\" \",\" \",\" \",\" \",\" \",\" \",\" \",\" \",\" \",\" \",\" \",\" \",\" \",\" \",\" \",\" \",\" \",\" \",\" \",\" \",\" \",\" \",\" \",\" \",\" \",\" \",\" \",\" \",\" \",\" \",\" \",\" \",\" \",\" \",\" \",\" \",\" \",\" \",\" \",\" \",\" \",\" \",\" \",\" \",\" \",\" \",\" \",\" \",\" \",\" \",\" \",\" \",\" \",\" \",\" \",\" \",\" \",\" \",\" \",\" \",\" \",\" \",\" \",\" \",\" \",\" \",\" \",\" \",\" \",\" \",\" \",\" \",\" \",\" \",\" \",\" \",\" \",\" \",\" \",\" \",\" \",\" \",\" \",\" \",\" \",\" \",\" \",\" \",\" \",\" \",\" \",\" \",\" \",\" \",\" \",\" \",\" \",\" \",\" \",\" \",\" \",\" \",\" \",\" \",\" \",\" \",\" \",\" \",\" \",\" \",\" \",\" \",\" \",\" \",\" \",\" \",\" \",\" \",\" \",\" \",\" \",\" \",\" \",\" \",\" \",\" \",\" \",\" \",\" \",\" \",\" \",\" \",\" \",\" \",\" \",\" \",\" \",\" \",\" \",\" \",\" \",\" \",\" \",\" \",\" \",\" \",\" \",\" \",\" \",\" \",\" \",\" \",\" \",\" \",\" \",\" \",\" \",\" \",\" \",\" \",\" \",\" \",\" \",\" \",\" \",\" \",\" \",\" \",\" \",\" \",\" \",\" \",\" \",\" \",\" \",\" \",\" \",\" \",\" \",\" \",\" \",\" \",\" \",\" \",\" \",\" \",\" \",\" \",\" \",\" \",\" \",\" \",\" \",\" \",\" \",\" \",\" \",\" \",\" \",\" \",\" \",\" \",\" \",\" \",\" \",\" \",\" \",\" \",\" \",\" \",\" \",\" \",\" \",\" \",\" \",\" \",\" \",\" \",\" \"],\"__label\":[\" \",\" \",\" \",\" \",\" \",\" \",\" \",\" \",\" \",\" \",\" \",\" \",\" \",\" \",\" \",\" \",\" \",\" \",\" \",\" \",\" \",\" \",\" \",\" \",\" \",\" \",\" \",\" \",\" \",\" \",\" \",\" \",\" \",\" \",\" \",\" \",\" \",\" \",\" \",\" \",\" \",\" \",\" \",\" \",\" \",\" \",\" \",\" \",\" \",\" \",\" \",\" \",\" \",\" \",\" \",\" \",\" \",\" \",\" \",\" \",\" \",\" \",\" \",\" \",\" \",\" \",\" \",\" \",\" \",\" \",\" \",\" \",\" \",\" \",\" \",\" \",\" \",\" \",\" \",\" \",\" \",\" \",\" \",\" \",\" \",\" \",\" \",\" \",\" \",\" \",\" \",\" \",\" \",\" \",\" \",\" \",\" \",\" \",\" \",\" \",\" \",\" \",\" \",\" \",\" \",\" \",\" \",\" \",\" \",\" \",\" \",\" \",\" \",\" \",\" \",\" \",\" \",\" \",\" \",\" \",\" \",\" \",\" \",\" \",\" \",\" \",\" \",\" \",\" \",\" \",\" \",\" \",\" \",\" \",\" \",\" \",\" \",\" \",\" \",\" \",\" \",\" \",\" \",\" \",\" \",\" \",\" \",\" \",\" \",\" \",\" \",\" \",\" \",\" \",\" \",\" \",\" \",\" \",\" \",\" \",\" \",\" \",\" \",\" \",\" \",\" \",\" \",\" \",\" \",\" \",\" \",\" \",\" \",\" \",\" \",\" \",\" \",\" \",\" \",\" \",\" \",\" \",\" \",\" \",\" \",\" \",\" \",\" \",\" \",\" \",\" \",\" \",\" \",\" \",\" \",\" \",\" \",\" \",\" \",\" \",\" \",\" \",\" \",\" \",\" \",\" \",\" \",\" \",\" \",\" \",\" \",\" \",\" \",\" \",\" \",\" \",\" \",\" \",\" \",\" \",\" \",\" \",\" \",\" \",\" \",\" \",\" \",\" \",\" \",\" \",\" \",\" \",\" \",\" \",\" \",\" \",\" \",\" \",\" \",\" \",\" \",\" \",\" \",\" \",\" \",\" \",\" \",\" \",\" \",\" \",\" \",\" \",\" \",\" \",\" \",\" \",\" \",\" \",\" \",\" \",\" \",\" \",\" \",\" \",\" \",\" \",\" \",\" \",\" \",\" \",\" \",\" \",\" \",\" \",\" \",\" \",\" \",\" \",\" \",\" \",\" \",\" \",\" \",\" \",\" \",\" \",\" \",\" \",\" \",\" \",\" \",\" \",\" \",\" \",\" \",\" \",\" \",\" \",\" \",\" \",\" \",\" \",\" \",\" \",\" \",\" \",\" \",\" \",\" \",\" \",\" \",\" \",\" \",\" \",\" \",\" \",\" \",\" \",\" \",\" \",\" \",\" \",\" \",\" \",\" \",\" \",\" \",\" \",\" \",\" \",\" \",\" \",\" \",\" \",\" \",\" \",\" \",\" \",\" \",\" \",\" \",\" \",\" \",\" \",\" \",\" \",\" \",\" \",\" \",\" \",\" \",\" \",\" \",\" \",\" \",\" \",\" \",\" \",\" \",\" \",\" \",\" \",\" \",\" \",\" \",\" \",\" \",\" \",\" \",\" \",\" \",\" \",\" \",\" \",\" \",\" \",\" \",\" \",\" \",\" \",\" \",\" \",\" \",\" \",\" \",\" \",\" \",\" \",\" \",\" \",\" \",\" \",\" \",\" \",\" \",\" \",\" \",\" \",\" \",\" \",\" \",\" \",\" \",\" \",\" \",\" \",\" \",\" \",\" \",\" \",\" \",\" \",\" \",\" \",\" \",\" \",\" \",\" \",\" \",\" \",\" \",\" \",\" \",\" \",\" \",\" \",\" \",\" \",\" \",\" \",\" \",\" \",\" \",\" \",\" \",\" \",\" \",\" \",\" \",\" \",\" \",\" \",\" \",\" \",\" \",\" \",\" \",\" \",\" \",\" \",\" \",\" \",\" \",\" \",\" \",\" \",\" \",\" \",\" \",\" \",\" \",\" \",\" \",\" \",\" \",\" \",\" \",\" \",\" \",\" \",\" \",\" \",\" \",\" \",\" \",\" \",\" \",\" \",\" \",\" \",\" \",\" \",\" \",\" \",\" \",\" \",\" \",\" \",\" \",\" \",\" \",\" \",\" \",\" \",\" \",\" \",\" \",\" \",\" \",\" \"],\"index\":[0,1,2,3,4,5,6,7,8,9,10,11,12,13,14,15,16,17,18,19,20,21,22,23,24,25,26,27,28,29,30,31,32,33,34,35,36,37,38,39,40,41,42,43,44,45,46,47,48,49,50,51,52,53,54,55,56,57,58,59,60,61,62,63,64,65,66,67,68,69,70,71,72,73,74,75,76,77,78,79,80,81,82,83,84,85,86,87,88,89,90,91,92,93,94,95,96,97,98,99,100,101,102,103,104,105,106,107,108,109,110,111,112,113,114,115,116,117,118,119,120,121,122,123,124,125,126,127,128,129,130,131,132,133,134,135,136,137,138,139,140,141,142,143,144,145,146,147,148,149,150,151,152,153,154,155,156,157,158,159,160,161,162,163,164,165,166,167,168,169,170,171,172,173,174,175,176,177,178,179,180,181,182,183,184,185,186,187,188,189,190,191,192,193,194,195,196,197,198,199,200,201,202,203,204,205,206,207,208,209,210,211,212,213,214,215,216,217,218,219,220,221,222,223,224,225,226,227,228,229,230,231,232,233,234,235,236,237,238,239,240,241,242,243,244,245,246,247,248,249,250,251,252,253,254,255,256,257,258,259,260,261,262,263,264,265,266,267,268,269,270,271,272,273,274,275,276,277,278,279,280,281,282,283,284,285,286,287,288,289,290,291,292,293,294,295,296,297,298,299,300,301,302,303,304,305,306,307,308,309,310,311,312,313,314,315,316,317,318,319,320,321,322,323,324,325,326,327,328,329,330,331,332,333,334,335,336,337,338,339,340,341,342,343,344,345,346,347,348,349,350,351,352,353,354,355,356,357,358,359,360,361,362,363,364,365,366,367,368,369,370,371,372,373,374,375,376,377,378,379,380,381,382,383,384,385,386,387,388,389,390,391,392,393,394,395,396,397,398,399,400,401,402,403,404,405,406,407,408,409,410,411,412,413,414,415,416,417,418,419,420,421,422,423,424,425,426,427,428,429,430,431,432,433,434,435,436,437,438,439,440,441,442,443,444,445,446,447,448,449,450,451,452,453,454,455,456,457,458,459,460,461,462,463,464,465,466,467,468,469,470,471,472,473,474,475,476,477,478,479,480,481,482,483,484,485,486,487,488,489,490,491,492,493,494,495,496,497,498,499],\"x\":{\"__ndarray__\":\"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\",\"dtype\":\"float64\",\"shape\":[500]}},\"selected\":{\"id\":\"2192\",\"type\":\"Selection\"},\"selection_policy\":{\"id\":\"2191\",\"type\":\"UnionRenderers\"}},\"id\":\"2099\",\"type\":\"ColumnDataSource\"},{\"attributes\":{\"active_drag\":\"auto\",\"active_inspect\":\"auto\",\"active_multi\":null,\"active_scroll\":\"auto\",\"active_tap\":\"auto\",\"tools\":[{\"id\":\"2086\",\"type\":\"PanTool\"},{\"id\":\"2087\",\"type\":\"WheelZoomTool\"},{\"id\":\"2088\",\"type\":\"BoxZoomTool\"},{\"id\":\"2089\",\"type\":\"SaveTool\"},{\"id\":\"2090\",\"type\":\"ResetTool\"},{\"id\":\"2091\",\"type\":\"HelpTool\"}]},\"id\":\"2092\",\"type\":\"Toolbar\"},{\"attributes\":{\"data_source\":{\"id\":\"2099\",\"type\":\"ColumnDataSource\"},\"glyph\":{\"id\":\"2101\",\"type\":\"Circle\"},\"hover_glyph\":null,\"muted_glyph\":null,\"nonselection_glyph\":{\"id\":\"2102\",\"type\":\"Circle\"},\"selection_glyph\":null,\"view\":{\"id\":\"2104\",\"type\":\"CDSView\"}},\"id\":\"2103\",\"type\":\"GlyphRenderer\"},{\"attributes\":{\"callback\":null},\"id\":\"2068\",\"type\":\"DataRange1d\"},{\"attributes\":{\"axis_label\":\"ECDF\",\"formatter\":{\"id\":\"2109\",\"type\":\"BasicTickFormatter\"},\"ticker\":{\"id\":\"2082\",\"type\":\"BasicTicker\"}},\"id\":\"2081\",\"type\":\"LinearAxis\"},{\"attributes\":{\"fill_color\":{\"value\":\"#4e79a7\"},\"line_color\":{\"value\":\"#4e79a7\"},\"x\":{\"field\":\"x\"},\"y\":{\"field\":\"__ECDF\"}},\"id\":\"2101\",\"type\":\"Circle\"},{\"attributes\":{\"callback\":null},\"id\":\"2070\",\"type\":\"DataRange1d\"},{\"attributes\":{},\"id\":\"2086\",\"type\":\"PanTool\"},{\"attributes\":{},\"id\":\"2192\",\"type\":\"Selection\"},{\"attributes\":{\"fill_alpha\":{\"value\":0.1},\"fill_color\":{\"value\":\"#1f77b4\"},\"line_alpha\":{\"value\":0.1},\"line_color\":{\"value\":\"#1f77b4\"},\"x\":{\"field\":\"x\"},\"y\":{\"field\":\"__ECDF\"}},\"id\":\"2102\",\"type\":\"Circle\"},{\"attributes\":{},\"id\":\"2072\",\"type\":\"LinearScale\"},{\"attributes\":{\"source\":{\"id\":\"2099\",\"type\":\"ColumnDataSource\"}},\"id\":\"2104\",\"type\":\"CDSView\"},{\"attributes\":{\"bottom_units\":\"screen\",\"fill_alpha\":{\"value\":0.5},\"fill_color\":{\"value\":\"lightgrey\"},\"left_units\":\"screen\",\"level\":\"overlay\",\"line_alpha\":{\"value\":1.0},\"line_color\":{\"value\":\"black\"},\"line_dash\":[4,4],\"line_width\":{\"value\":2},\"render_mode\":\"css\",\"right_units\":\"screen\",\"top_units\":\"screen\"},\"id\":\"2111\",\"type\":\"BoxAnnotation\"},{\"attributes\":{\"text\":\"\"},\"id\":\"2105\",\"type\":\"Title\"},{\"attributes\":{},\"id\":\"2087\",\"type\":\"WheelZoomTool\"},{\"attributes\":{},\"id\":\"2107\",\"type\":\"BasicTickFormatter\"},{\"attributes\":{},\"id\":\"2109\",\"type\":\"BasicTickFormatter\"},{\"attributes\":{},\"id\":\"2191\",\"type\":\"UnionRenderers\"},{\"attributes\":{\"items\":[{\"id\":\"2113\",\"type\":\"LegendItem\"}],\"visible\":false},\"id\":\"2112\",\"type\":\"Legend\"},{\"attributes\":{\"overlay\":{\"id\":\"2111\",\"type\":\"BoxAnnotation\"}},\"id\":\"2088\",\"type\":\"BoxZoomTool\"},{\"attributes\":{\"label\":{\"value\":\" \"},\"renderers\":[{\"id\":\"2103\",\"type\":\"GlyphRenderer\"}]},\"id\":\"2113\",\"type\":\"LegendItem\"},{\"attributes\":{},\"id\":\"2089\",\"type\":\"SaveTool\"},{\"attributes\":{\"ticker\":{\"id\":\"2077\",\"type\":\"BasicTicker\"}},\"id\":\"2080\",\"type\":\"Grid\"},{\"attributes\":{},\"id\":\"2090\",\"type\":\"ResetTool\"},{\"attributes\":{},\"id\":\"2091\",\"type\":\"HelpTool\"},{\"attributes\":{\"axis_label\":\"x\",\"formatter\":{\"id\":\"2107\",\"type\":\"BasicTickFormatter\"},\"ticker\":{\"id\":\"2077\",\"type\":\"BasicTicker\"}},\"id\":\"2076\",\"type\":\"LinearAxis\"},{\"attributes\":{},\"id\":\"2074\",\"type\":\"LinearScale\"}],\"root_ids\":[\"2067\"]},\"title\":\"Bokeh Application\",\"version\":\"1.2.0\"}};\n",
       "  var render_items = [{\"docid\":\"7d116d59-57b1-42ad-86d9-8249814e0007\",\"roots\":{\"2067\":\"2a9d66bf-c6de-4731-883f-befc418e54e5\"}}];\n",
       "  root.Bokeh.embed.embed_items_notebook(docs_json, render_items);\n",
       "\n",
       "  }\n",
       "  if (root.Bokeh !== undefined) {\n",
       "    embed_document(root);\n",
       "  } else {\n",
       "    var attempts = 0;\n",
       "    var timer = setInterval(function(root) {\n",
       "      if (root.Bokeh !== undefined) {\n",
       "        embed_document(root);\n",
       "        clearInterval(timer);\n",
       "      }\n",
       "      attempts++;\n",
       "      if (attempts > 100) {\n",
       "        console.log(\"Bokeh: ERROR: Unable to run BokehJS code because BokehJS library is missing\");\n",
       "        clearInterval(timer);\n",
       "      }\n",
       "    }, 10, root)\n",
       "  }\n",
       "})(window);"
      ],
      "application/vnd.bokehjs_exec.v0+json": ""
     },
     "metadata": {
      "application/vnd.bokehjs_exec.v0+json": {
       "id": "2067"
      }
     },
     "output_type": "display_data"
    }
   ],
   "source": [
    "p = bokeh_catplot.ecdf(\n",
    "    data=df_norm,\n",
    "    cats=None,\n",
    "    val='x'\n",
    ")\n",
    "\n",
    "bokeh.io.show(p)"
   ]
  },
  {
   "cell_type": "markdown",
   "metadata": {},
   "source": [
    "Now that we understand what an ECDF is and how to plot it, let's make a set of ECDFs for our frog data."
   ]
  },
  {
   "cell_type": "code",
   "execution_count": 12,
   "metadata": {},
   "outputs": [
    {
     "data": {
      "text/html": [
       "\n",
       "\n",
       "\n",
       "\n",
       "\n",
       "\n",
       "  <div class=\"bk-root\" id=\"3f0565e0-8cc4-488e-b843-58cd0eb0c0ea\" data-root-id=\"2248\"></div>\n"
      ]
     },
     "metadata": {},
     "output_type": "display_data"
    },
    {
     "data": {
      "application/javascript": [
       "(function(root) {\n",
       "  function embed_document(root) {\n",
       "    \n",
       "  var docs_json = {\"d6149f38-4db8-46ec-9d42-3565c17c1ae4\":{\"roots\":{\"references\":[{\"attributes\":{\"below\":[{\"id\":\"2257\",\"type\":\"LinearAxis\"}],\"center\":[{\"id\":\"2261\",\"type\":\"Grid\"},{\"id\":\"2266\",\"type\":\"Grid\"},{\"id\":\"2293\",\"type\":\"Legend\"}],\"left\":[{\"id\":\"2262\",\"type\":\"LinearAxis\"}],\"plot_height\":300,\"plot_width\":400,\"renderers\":[{\"id\":\"2284\",\"type\":\"GlyphRenderer\"},{\"id\":\"2299\",\"type\":\"GlyphRenderer\"},{\"id\":\"2315\",\"type\":\"GlyphRenderer\"},{\"id\":\"2333\",\"type\":\"GlyphRenderer\"}],\"title\":{\"id\":\"2286\",\"type\":\"Title\"},\"toolbar\":{\"id\":\"2273\",\"type\":\"Toolbar\"},\"x_range\":{\"id\":\"2249\",\"type\":\"DataRange1d\"},\"x_scale\":{\"id\":\"2253\",\"type\":\"LinearScale\"},\"y_range\":{\"id\":\"2251\",\"type\":\"DataRange1d\"},\"y_scale\":{\"id\":\"2255\",\"type\":\"LinearScale\"}},\"id\":\"2248\",\"subtype\":\"Figure\",\"type\":\"Plot\"},{\"attributes\":{\"callback\":null,\"data\":{\"ID\":[\"II\",\"II\",\"II\",\"II\",\"II\",\"II\",\"II\",\"II\",\"II\",\"II\",\"II\",\"II\",\"II\",\"II\",\"II\",\"II\",\"II\",\"II\",\"II\",\"II\"],\"__ECDF\":{\"__ndarray__\":\"AAAAAAAA8D+amZmZmZnhP5qZmZmZmck/mpmZmZmZ6T8AAAAAAADgP2ZmZmZmZu4/zczMzMzM3D8zMzMzMzPjP83MzMzMzOw/MzMzMzMzwz/NzMzMzMzkP5qZmZmZmbk/AAAAAAAA6D+amZmZmZmpPzMzMzMzM+s/mpmZmZmZ2T8zMzMzMzPTPwAAAAAAANA/ZmZmZmZm1j9mZmZmZmbmPw==\",\"dtype\":\"float64\",\"shape\":[20]},\"__label\":[\"II\",\"II\",\"II\",\"II\",\"II\",\"II\",\"II\",\"II\",\"II\",\"II\",\"II\",\"II\",\"II\",\"II\",\"II\",\"II\",\"II\",\"II\",\"II\",\"II\"],\"adhesive force (mN)\":[-655,-292,-246,-245,-553,-664,-261,-691,-92,-566,-223,-512,-227,-573,-522,-599,-364,-469,-844,-648],\"adhesive force / body weight\":{\"__ndarray__\":\"pHA9Ctej+D8UrkfhehTmP4/C9Shcj+I/j8L1KFyP4j/NzMzMzMz0P/YoXI/C9fg/hetRuB6F4z8UrkfhehT6Pylcj8L1KMw/SOF6FK5H9T+kcD0K16PgPzMzMzMzM/M/9ihcj8L14D+amZmZmZn1P65H4XoUrvM/j8L1KFyP9j+F61G4HoXrP5qZmZmZmfE/16NwPQrX/z9SuB6F61H4Pw==\",\"dtype\":\"float64\",\"shape\":[20]},\"adhesive impulse (N-s)\":{\"__ndarray__\":\"pHA9Ctej2L83iUFg5dDSvz81XrpJDNK/w/UoXI/C1b/azvdT46Xbv1pkO99Pjae/5dAi2/l+2r+TGARWDi2yv/yp8dJNYoC/Gy/dJAaBtb+Nl24Sg8DKvylcj8L1KKy/OrTIdr6fmr+F61G4HoXLv2mR7Xw/Nb6/IbByaJHtzL82XrpJDALLv6RwPQrXo9C/yqFFtvP91L9g5dAi2/m+vw==\",\"dtype\":\"float64\",\"shape\":[20]},\"adhesive strength (Pa)\":[-1881,-1177,-1894,-2301,-2004,-7802,-803,-2860,-678,-4506,-942,-17652,-1101,-3014,-1860,-2757,-1927,-2129,-4925,-4573],\"contact area with mucus / contact area without mucus\":{\"__ndarray__\":\"uB6F61G47j/NzMzMzMzsP65H4XoUruc/UrgehetR6D8UrkfhehTuPwrXo3A9Cuc/zczMzMzM7D8K16NwPQrnPwAAAAAAAPA/CtejcD0K7z8K16NwPQrvP7gehetRuJ4/AAAAAAAA8D9SuB6F61HoPwAAAAAAAPA/AAAAAAAA8D/2KFyPwvXgP3E9CtejcOU/UrgehetR2D9mZmZmZmbmPw==\",\"dtype\":\"float64\",\"shape\":[20]},\"contact area without mucus (mm2)\":[15,24,34,26,16,24,33,67,0,4,8,28,0,46,0,0,89,72,106,43],\"contact pressure (Pa)\":[4633,2441,2517,8893,1959,18073,1627,2600,10645,2367,2972,9279,3647,1288,4213,2369,2302,1737,2665,5149],\"date\":[\"2013_03_19\",\"2013_03_19\",\"2013_03_19\",\"2013_03_19\",\"2013_03_21\",\"2013_03_21\",\"2013_03_21\",\"2013_03_21\",\"2013_03_25\",\"2013_03_25\",\"2013_03_25\",\"2013_03_25\",\"2013_03_28\",\"2013_03_28\",\"2013_04_03\",\"2013_04_03\",\"2013_04_08\",\"2013_04_08\",\"2013_04_08\",\"2013_04_12\"],\"impact force (mN)\":[1612,605,327,946,541,1539,529,628,1453,297,703,269,751,245,1182,515,435,383,457,730],\"impact force / body weight\":{\"__ndarray__\":\"UrgehetRDkC4HoXrUbj2P6RwPQrXo+g/16NwPQrXAUBSuB6F61H0P/YoXI/C9QxA16NwPQrX8z+uR+F6FK73P1yPwvUoXAtAZmZmZmZm5j9mZmZmZmb6Pylcj8L1KOQ/UrgehetR/D+PwvUoXI/iPz0K16NwPQZAXI/C9Shc8z9SuB6F61HwP83MzMzMzOw/SOF6FK5H8T+F61G4HoX7Pw==\",\"dtype\":\"float64\",\"shape\":[20]},\"impact time (ms)\":[18,55,51,59,33,43,28,31,72,42,33,57,39,21,28,29,26,31,15,42],\"index\":[20,21,22,23,24,25,26,27,28,29,30,31,32,33,34,35,36,37,38,39],\"time frog pulls on target (ms)\":[3087,1261,1508,1841,3126,741,2482,998,1652,936,2152,189,1195,1466,1197,1486,1017,974,780,786],\"total contact area (mm2)\":[348,248,130,106,276,85,325,242,136,126,237,29,206,190,281,217,189,221,171,142],\"trial number\":[1,2,3,4,1,2,3,4,1,2,3,4,1,2,1,2,1,2,3,1]},\"selected\":{\"id\":\"2326\",\"type\":\"Selection\"},\"selection_policy\":{\"id\":\"2325\",\"type\":\"UnionRenderers\"}},\"id\":\"2295\",\"type\":\"ColumnDataSource\"},{\"attributes\":{},\"id\":\"2346\",\"type\":\"Selection\"},{\"attributes\":{},\"id\":\"2263\",\"type\":\"BasicTicker\"},{\"attributes\":{},\"id\":\"2253\",\"type\":\"LinearScale\"},{\"attributes\":{\"callback\":null,\"data\":{\"ID\":[\"IV\",\"IV\",\"IV\",\"IV\",\"IV\",\"IV\",\"IV\",\"IV\",\"IV\",\"IV\",\"IV\",\"IV\",\"IV\",\"IV\",\"IV\",\"IV\",\"IV\",\"IV\",\"IV\",\"IV\"],\"__ECDF\":{\"__ndarray__\":\"mpmZmZmZyT8zMzMzMzPDP5qZmZmZmbk/AAAAAAAA4D+amZmZmZnZP5qZmZmZmak/MzMzMzMz4z9mZmZmZmbWP2ZmZmZmZu4/ZmZmZmZm5j8AAAAAAADQPzMzMzMzM9M/AAAAAAAA6D/NzMzMzMzkPwAAAAAAAPA/zczMzMzM3D+amZmZmZnpP83MzMzMzOw/MzMzMzMz6z+amZmZmZnhPw==\",\"dtype\":\"float64\",\"shape\":[20]},\"__label\":[\"IV\",\"IV\",\"IV\",\"IV\",\"IV\",\"IV\",\"IV\",\"IV\",\"IV\",\"IV\",\"IV\",\"IV\",\"IV\",\"IV\",\"IV\",\"IV\",\"IV\",\"IV\",\"IV\",\"IV\"],\"adhesive force (mN)\":[-456,-193,-236,-225,-217,-161,-139,-264,-342,-231,-209,-292,-339,-371,-331,-302,-216,-163,-367,-218],\"adhesive force / body weight\":{\"__ndarray__\":\"MzMzMzMzC0AK16NwPQr3Pylcj8L1KPw/4XoUrkfh+j/D9Shcj8L5PzMzMzMzM/M/pHA9Ctej8D+F61G4HoX/P2ZmZmZmZgRAhetRuB6F+z/NzMzMzMz4P1yPwvUoXAFAPQrXo3A9BEAUrkfhehQGQMP1KFyPwgNAAAAAAAAAAkDD9Shcj8L5P1yPwvUoXPM/16NwPQrXBUAUrkfhehT6Pw==\",\"dtype\":\"float64\",\"shape\":[20]},\"adhesive impulse (N-s)\":{\"__ndarray__\":\"mpmZmZmZqb+q8dJNYhCovxFYObTIdr6/KVyPwvUovL9aZDvfT42Xvzq0yHa+n6q/YxBYObTItr97FK5H4XrEvyGwcmiR7cy/TDeJQWDloL+HFtnO91PDvxgEVg4tss2/lkOLbOf70b+q8dJNYhC4v4PAyqFFtrO/CKwcWmQ7v7+YbhKDwMrBvy2yne+nxsu/8tJNYhBYyb8IrBxaZDu/vw==\",\"dtype\":\"float64\",\"shape\":[20]},\"adhesive strength (Pa)\":[-3440,-3400,-4647,-1581,-1245,-2866,-2141,-2136,-2497,-3847,-1889,-2018,-1772,-4447,-2190,-2591,-1759,-1257,-2857,-1688],\"contact area with mucus / contact area without mucus\":{\"__ndarray__\":\"KVyPwvUo7D+PwvUoXI/qP0jhehSuR+E/uB6F61G43j9cj8L1KFzvP3sUrkfhepQ/H4XrUbge7T+PwvUoXI/SP4/C9Shcj+o/uB6F61G4nj/hehSuR+HqP65H4XoUru8/AAAAAAAA8D+4HoXrUbi+P7gehetRuOY/7FG4HoXrsT8AAAAAAADwPwrXo3A9Cu8/cT0K16Nw3T+F61G4HoXjPw==\",\"dtype\":\"float64\",\"shape\":[20]},\"contact area without mucus (mm2)\":[0,74,44,108,39,4,77,81,0,4,69,50,12,18,20,30,20,42,108,68],\"contact pressure (Pa)\":[1297,2498,735,3177,2037,397,7713,2205,5259,9705,1793,1369,3116,6184,5386,3446,4928,5498,4776,3617],\"date\":[\"2013_05_27\",\"2013_05_27\",\"2013_05_27\",\"2013_05_30\",\"2013_05_30\",\"2013_05_30\",\"2013_06_03\",\"2013_06_11\",\"2013_06_11\",\"2013_06_11\",\"2013_06_11\",\"2013_06_14\",\"2013_06_18\",\"2013_06_18\",\"2013_06_18\",\"2013_06_18\",\"2013_06_21\",\"2013_06_21\",\"2013_06_21\",\"2013_06_21\"],\"impact force (mN)\":[172,142,37,453,355,22,502,273,720,582,198,198,597,516,815,402,605,711,614,468],\"impact force / body weight\":{\"__ndarray__\":\"exSuR+F69D/NzMzMzMzwP+xRuB6F69E/9ihcj8L1CkAfhetRuB4FQMP1KFyPwsU/7FG4HoXrDUA9CtejcD0AQHE9CtejcBVAXI/C9ShcEUCF61G4HoX3P4XrUbgehfc/w/UoXI/CEUC4HoXrUbgOQEjhehSuRxhAAAAAAAAACEAAAAAAAAASQDMzMzMzMxVASOF6FK5HEkDXo3A9CtcLQA==\",\"dtype\":\"float64\",\"shape\":[20]},\"impact time (ms)\":[26,20,55,38,31,33,74,26,27,33,23,6,29,31,34,38,39,76,33,36],\"index\":[60,61,62,63,64,65,66,67,68,69,70,71,72,73,74,75,76,77,78,79],\"time frog pulls on target (ms)\":[462,250,743,844,728,472,959,844,1515,279,1427,2874,4251,626,1254,986,1627,2021,1366,1269],\"total contact area (mm2)\":[133,57,51,142,174,56,65,124,137,60,110,145,191,83,151,117,123,129,128,129],\"trial number\":[2,3,4,1,2,3,1,1,2,3,4,1,1,2,3,4,1,2,3,4]},\"selected\":{\"id\":\"2442\",\"type\":\"Selection\"},\"selection_policy\":{\"id\":\"2441\",\"type\":\"UnionRenderers\"}},\"id\":\"2329\",\"type\":\"ColumnDataSource\"},{\"attributes\":{},\"id\":\"2345\",\"type\":\"UnionRenderers\"},{\"attributes\":{\"dimension\":1,\"ticker\":{\"id\":\"2263\",\"type\":\"BasicTicker\"}},\"id\":\"2266\",\"type\":\"Grid\"},{\"attributes\":{\"axis_label\":\"impact force (mN)\",\"formatter\":{\"id\":\"2288\",\"type\":\"BasicTickFormatter\"},\"ticker\":{\"id\":\"2258\",\"type\":\"BasicTicker\"}},\"id\":\"2257\",\"type\":\"LinearAxis\"},{\"attributes\":{\"source\":{\"id\":\"2329\",\"type\":\"ColumnDataSource\"}},\"id\":\"2334\",\"type\":\"CDSView\"},{\"attributes\":{\"label\":{\"value\":\"II\"},\"renderers\":[{\"id\":\"2299\",\"type\":\"GlyphRenderer\"}]},\"id\":\"2310\",\"type\":\"LegendItem\"},{\"attributes\":{},\"id\":\"2441\",\"type\":\"UnionRenderers\"},{\"attributes\":{},\"id\":\"2255\",\"type\":\"LinearScale\"},{\"attributes\":{\"fill_color\":{\"value\":\"#4e79a7\"},\"line_color\":{\"value\":\"#4e79a7\"},\"x\":{\"field\":\"impact force (mN)\"},\"y\":{\"field\":\"__ECDF\"}},\"id\":\"2282\",\"type\":\"Circle\"},{\"attributes\":{\"data_source\":{\"id\":\"2329\",\"type\":\"ColumnDataSource\"},\"glyph\":{\"id\":\"2331\",\"type\":\"Circle\"},\"hover_glyph\":null,\"muted_glyph\":null,\"nonselection_glyph\":{\"id\":\"2332\",\"type\":\"Circle\"},\"selection_glyph\":null,\"view\":{\"id\":\"2334\",\"type\":\"CDSView\"}},\"id\":\"2333\",\"type\":\"GlyphRenderer\"},{\"attributes\":{},\"id\":\"2308\",\"type\":\"Selection\"},{\"attributes\":{\"ticker\":{\"id\":\"2258\",\"type\":\"BasicTicker\"}},\"id\":\"2261\",\"type\":\"Grid\"},{\"attributes\":{\"fill_color\":{\"value\":\"#e15759\"},\"line_color\":{\"value\":\"#e15759\"},\"x\":{\"field\":\"impact force (mN)\"},\"y\":{\"field\":\"__ECDF\"}},\"id\":\"2313\",\"type\":\"Circle\"},{\"attributes\":{\"fill_alpha\":{\"value\":0.1},\"fill_color\":{\"value\":\"#1f77b4\"},\"line_alpha\":{\"value\":0.1},\"line_color\":{\"value\":\"#1f77b4\"},\"x\":{\"field\":\"impact force (mN)\"},\"y\":{\"field\":\"__ECDF\"}},\"id\":\"2332\",\"type\":\"Circle\"},{\"attributes\":{\"axis_label\":\"ECDF\",\"formatter\":{\"id\":\"2290\",\"type\":\"BasicTickFormatter\"},\"ticker\":{\"id\":\"2263\",\"type\":\"BasicTicker\"}},\"id\":\"2262\",\"type\":\"LinearAxis\"},{\"attributes\":{\"click_policy\":\"hide\",\"items\":[{\"id\":\"2294\",\"type\":\"LegendItem\"},{\"id\":\"2310\",\"type\":\"LegendItem\"},{\"id\":\"2328\",\"type\":\"LegendItem\"},{\"id\":\"2348\",\"type\":\"LegendItem\"}],\"location\":\"bottom_right\"},\"id\":\"2293\",\"type\":\"Legend\"},{\"attributes\":{\"bottom_units\":\"screen\",\"fill_alpha\":{\"value\":0.5},\"fill_color\":{\"value\":\"lightgrey\"},\"left_units\":\"screen\",\"level\":\"overlay\",\"line_alpha\":{\"value\":1.0},\"line_color\":{\"value\":\"black\"},\"line_dash\":[4,4],\"line_width\":{\"value\":2},\"render_mode\":\"css\",\"right_units\":\"screen\",\"top_units\":\"screen\"},\"id\":\"2292\",\"type\":\"BoxAnnotation\"},{\"attributes\":{},\"id\":\"2290\",\"type\":\"BasicTickFormatter\"},{\"attributes\":{},\"id\":\"2258\",\"type\":\"BasicTicker\"},{\"attributes\":{\"label\":{\"value\":\"III\"},\"renderers\":[{\"id\":\"2315\",\"type\":\"GlyphRenderer\"}]},\"id\":\"2328\",\"type\":\"LegendItem\"},{\"attributes\":{},\"id\":\"2288\",\"type\":\"BasicTickFormatter\"},{\"attributes\":{\"active_drag\":\"auto\",\"active_inspect\":\"auto\",\"active_multi\":null,\"active_scroll\":\"auto\",\"active_tap\":\"auto\",\"tools\":[{\"id\":\"2267\",\"type\":\"PanTool\"},{\"id\":\"2268\",\"type\":\"WheelZoomTool\"},{\"id\":\"2269\",\"type\":\"BoxZoomTool\"},{\"id\":\"2270\",\"type\":\"SaveTool\"},{\"id\":\"2271\",\"type\":\"ResetTool\"},{\"id\":\"2272\",\"type\":\"HelpTool\"}]},\"id\":\"2273\",\"type\":\"Toolbar\"},{\"attributes\":{},\"id\":\"2267\",\"type\":\"PanTool\"},{\"attributes\":{\"text\":\"\"},\"id\":\"2286\",\"type\":\"Title\"},{\"attributes\":{},\"id\":\"2326\",\"type\":\"Selection\"},{\"attributes\":{},\"id\":\"2268\",\"type\":\"WheelZoomTool\"},{\"attributes\":{\"source\":{\"id\":\"2280\",\"type\":\"ColumnDataSource\"}},\"id\":\"2285\",\"type\":\"CDSView\"},{\"attributes\":{},\"id\":\"2325\",\"type\":\"UnionRenderers\"},{\"attributes\":{\"source\":{\"id\":\"2311\",\"type\":\"ColumnDataSource\"}},\"id\":\"2316\",\"type\":\"CDSView\"},{\"attributes\":{\"data_source\":{\"id\":\"2280\",\"type\":\"ColumnDataSource\"},\"glyph\":{\"id\":\"2282\",\"type\":\"Circle\"},\"hover_glyph\":null,\"muted_glyph\":null,\"nonselection_glyph\":{\"id\":\"2283\",\"type\":\"Circle\"},\"selection_glyph\":null,\"view\":{\"id\":\"2285\",\"type\":\"CDSView\"}},\"id\":\"2284\",\"type\":\"GlyphRenderer\"},{\"attributes\":{\"overlay\":{\"id\":\"2292\",\"type\":\"BoxAnnotation\"}},\"id\":\"2269\",\"type\":\"BoxZoomTool\"},{\"attributes\":{\"data_source\":{\"id\":\"2311\",\"type\":\"ColumnDataSource\"},\"glyph\":{\"id\":\"2313\",\"type\":\"Circle\"},\"hover_glyph\":null,\"muted_glyph\":null,\"nonselection_glyph\":{\"id\":\"2314\",\"type\":\"Circle\"},\"selection_glyph\":null,\"view\":{\"id\":\"2316\",\"type\":\"CDSView\"}},\"id\":\"2315\",\"type\":\"GlyphRenderer\"},{\"attributes\":{\"fill_alpha\":{\"value\":0.1},\"fill_color\":{\"value\":\"#1f77b4\"},\"line_alpha\":{\"value\":0.1},\"line_color\":{\"value\":\"#1f77b4\"},\"x\":{\"field\":\"impact force (mN)\"},\"y\":{\"field\":\"__ECDF\"}},\"id\":\"2283\",\"type\":\"Circle\"},{\"attributes\":{},\"id\":\"2270\",\"type\":\"SaveTool\"},{\"attributes\":{\"fill_alpha\":{\"value\":0.1},\"fill_color\":{\"value\":\"#1f77b4\"},\"line_alpha\":{\"value\":0.1},\"line_color\":{\"value\":\"#1f77b4\"},\"x\":{\"field\":\"impact force (mN)\"},\"y\":{\"field\":\"__ECDF\"}},\"id\":\"2314\",\"type\":\"Circle\"},{\"attributes\":{},\"id\":\"2271\",\"type\":\"ResetTool\"},{\"attributes\":{},\"id\":\"2442\",\"type\":\"Selection\"},{\"attributes\":{\"label\":{\"value\":\"I\"},\"renderers\":[{\"id\":\"2284\",\"type\":\"GlyphRenderer\"}]},\"id\":\"2294\",\"type\":\"LegendItem\"},{\"attributes\":{},\"id\":\"2272\",\"type\":\"HelpTool\"},{\"attributes\":{\"fill_color\":{\"value\":\"#76b7b2\"},\"line_color\":{\"value\":\"#76b7b2\"},\"x\":{\"field\":\"impact force (mN)\"},\"y\":{\"field\":\"__ECDF\"}},\"id\":\"2331\",\"type\":\"Circle\"},{\"attributes\":{},\"id\":\"2307\",\"type\":\"UnionRenderers\"},{\"attributes\":{\"source\":{\"id\":\"2295\",\"type\":\"ColumnDataSource\"}},\"id\":\"2300\",\"type\":\"CDSView\"},{\"attributes\":{\"callback\":null},\"id\":\"2251\",\"type\":\"DataRange1d\"},{\"attributes\":{\"data_source\":{\"id\":\"2295\",\"type\":\"ColumnDataSource\"},\"glyph\":{\"id\":\"2297\",\"type\":\"Circle\"},\"hover_glyph\":null,\"muted_glyph\":null,\"nonselection_glyph\":{\"id\":\"2298\",\"type\":\"Circle\"},\"selection_glyph\":null,\"view\":{\"id\":\"2300\",\"type\":\"CDSView\"}},\"id\":\"2299\",\"type\":\"GlyphRenderer\"},{\"attributes\":{\"callback\":null},\"id\":\"2249\",\"type\":\"DataRange1d\"},{\"attributes\":{\"callback\":null,\"data\":{\"ID\":[\"III\",\"III\",\"III\",\"III\",\"III\",\"III\",\"III\",\"III\",\"III\",\"III\",\"III\",\"III\",\"III\",\"III\",\"III\",\"III\",\"III\",\"III\",\"III\",\"III\"],\"__ECDF\":{\"__ndarray__\":\"ZmZmZmZm5j+amZmZmZnJP5qZmZmZmak/ZmZmZmZm7j/NzMzMzMzkPwAAAAAAAOA/zczMzMzM3D8zMzMzMzPjPwAAAAAAAPA/MzMzMzMz0z8AAAAAAADQPzMzMzMzM+s/mpmZmZmZ6T+amZmZmZnhP5qZmZmZmdk/mpmZmZmZuT8zMzMzMzPDPwAAAAAAAOg/zczMzMzM7D9mZmZmZmbWPw==\",\"dtype\":\"float64\",\"shape\":[20]},\"__label\":[\"III\",\"III\",\"III\",\"III\",\"III\",\"III\",\"III\",\"III\",\"III\",\"III\",\"III\",\"III\",\"III\",\"III\",\"III\",\"III\",\"III\",\"III\",\"III\",\"III\"],\"adhesive force (mN)\":[-94,-163,-172,-225,-301,-93,-131,-289,-104,-229,-259,-231,-267,-178,-123,-151,-127,-372,-236,-390],\"adhesive force / body weight\":{\"__ndarray__\":\"UrgehetR6D/2KFyPwvX0PxSuR+F6FPY/9ihcj8L1/D9cj8L1KFwDQAAAAAAAAOg/zczMzMzM8D+kcD0K16MCQOF6FK5H4eo/mpmZmZmZ/T+kcD0K16MAQMP1KFyPwv0/H4XrUbgeAUDhehSuR+H2P65H4XoUru8/hetRuB6F8z9SuB6F61HwP+xRuB6F6wdAZmZmZmZm/j8fhetRuB4JQA==\",\"dtype\":\"float64\",\"shape\":[20]},\"adhesive impulse (N-s)\":{\"__ndarray__\":\"/Knx0k1iUL/8qfHSTWKgv9NNYhBYObS/TDeJQWDlwL/Xo3A9CtfDvylcj8L1KLy/PN9PjZduor/jpZvEILCyvylcj8L1KKy/76fGSzeJwb+hRbbz/dTIvxsv3SQGgaW/BoGVQ4tsx7+cxCCwcmihvxgEVg4tsp2/yqFFtvP9tL+F61G4HoXLv+xRuB6F68G/aZHtfD81vr86tMh2vp/Kvw==\",\"dtype\":\"float64\",\"shape\":[20]},\"adhesive strength (Pa)\":[-967,-1507,-3149,-1818,-2354,-2181,-1005,-2555,-902,-2580,-2855,-2819,-2213,-9364,-5843,-4882,-896,-5136,-1834,-3492],\"contact area with mucus / contact area without mucus\":{\"__ndarray__\":\"j8L1KFyP6j8zMzMzMzPjP65H4XoUrtc/pHA9Ctej6D97FK5H4XqUP7gehetRuOY/AAAAAAAA8D+4HoXrUbjePx+F61G4HuU/ZmZmZmZm7j8zMzMzMzPDP3sUrkfheoQ/zczMzMzM7D+amZmZmZmpP5qZmZmZmak/uB6F61G4nj+F61G4HoXrP+F6FK5H4do/exSuR+F6xD/2KFyPwvXYPw==\",\"dtype\":\"float64\",\"shape\":[20]},\"contact area without mucus (mm2)\":[15,10,23,17,43,34,74,4,55,6,88,23,58,17,29,126,12,1,0,58],\"contact pressure (Pa)\":[6326,3824,5946,6272,4770,12699,4130,5110,6993,5165,5048,7633,5152,28641,25471,12409,2835,8475,5171,4376],\"date\":[\"2013_05_27\",\"2013_05_27\",\"2013_05_27\",\"2013_06_11\",\"2013_06_11\",\"2013_06_11\",\"2013_06_14\",\"2013_06_14\",\"2013_06_18\",\"2013_06_18\",\"2013_06_18\",\"2013_06_18\",\"2013_06_21\",\"2013_06_21\",\"2013_06_21\",\"2013_06_21\",\"2013_06_26\",\"2013_06_26\",\"2013_06_26\",\"2013_06_26\"],\"impact force (mN)\":[614,414,324,776,611,544,538,579,806,459,458,626,621,544,535,385,401,614,665,488],\"impact force / body weight\":{\"__ndarray__\":\"w/UoXI/CE0CkcD0K16MKQOF6FK5H4QRA9ihcj8L1GECkcD0K16MTQIXrUbgehRFASOF6FK5HEUCkcD0K16MSQPYoXI/C9RlAmpmZmZmZDUCF61G4HoUNQClcj8L1KBRA9ihcj8L1E0CF61G4HoURQDMzMzMzMxFAuB6F61G4CEDXo3A9CtcJQMP1KFyPwhNAZmZmZmZmFUBxPQrXo3APQA==\",\"dtype\":\"float64\",\"shape\":[20]},\"impact time (ms)\":[88,143,105,35,29,16,38,31,29,32,30,16,27,30,35,39,36,34,40,34],\"index\":[40,41,42,43,44,45,46,47,48,49,50,51,52,53,54,55,56,57,58,59],\"time frog pulls on target (ms)\":[683,245,619,1823,918,1351,1790,1006,883,1218,910,550,2081,376,289,607,2932,680,685,1308],\"total contact area (mm2)\":[97,108,55,124,128,43,130,113,115,89,91,82,120,19,21,31,142,72,129,112],\"trial number\":[1,2,3,1,2,3,1,2,1,2,3,4,1,2,3,4,1,2,3,4]},\"selected\":{\"id\":\"2346\",\"type\":\"Selection\"},\"selection_policy\":{\"id\":\"2345\",\"type\":\"UnionRenderers\"}},\"id\":\"2311\",\"type\":\"ColumnDataSource\"},{\"attributes\":{\"fill_alpha\":{\"value\":0.1},\"fill_color\":{\"value\":\"#1f77b4\"},\"line_alpha\":{\"value\":0.1},\"line_color\":{\"value\":\"#1f77b4\"},\"x\":{\"field\":\"impact force (mN)\"},\"y\":{\"field\":\"__ECDF\"}},\"id\":\"2298\",\"type\":\"Circle\"},{\"attributes\":{\"label\":{\"value\":\"IV\"},\"renderers\":[{\"id\":\"2333\",\"type\":\"GlyphRenderer\"}]},\"id\":\"2348\",\"type\":\"LegendItem\"},{\"attributes\":{\"fill_color\":{\"value\":\"#f28e2b\"},\"line_color\":{\"value\":\"#f28e2b\"},\"x\":{\"field\":\"impact force (mN)\"},\"y\":{\"field\":\"__ECDF\"}},\"id\":\"2297\",\"type\":\"Circle\"},{\"attributes\":{\"callback\":null,\"data\":{\"ID\":[\"I\",\"I\",\"I\",\"I\",\"I\",\"I\",\"I\",\"I\",\"I\",\"I\",\"I\",\"I\",\"I\",\"I\",\"I\",\"I\",\"I\",\"I\",\"I\",\"I\"],\"__ECDF\":{\"__ndarray__\":\"AAAAAAAA0D9mZmZmZmbuP83MzMzMzOQ/mpmZmZmZ4T+amZmZmZm5P83MzMzMzOw/MzMzMzMzwz+amZmZmZnpPwAAAAAAAPA/AAAAAAAA6D9mZmZmZmbmPwAAAAAAAOA/mpmZmZmZ2T8zMzMzMzPjP83MzMzMzNw/ZmZmZmZm1j+amZmZmZnJPzMzMzMzM+s/MzMzMzMz0z+amZmZmZmpPw==\",\"dtype\":\"float64\",\"shape\":[20]},\"__label\":[\"I\",\"I\",\"I\",\"I\",\"I\",\"I\",\"I\",\"I\",\"I\",\"I\",\"I\",\"I\",\"I\",\"I\",\"I\",\"I\",\"I\",\"I\",\"I\",\"I\"],\"adhesive force (mN)\":[-785,-983,-850,-455,-974,-592,-512,-804,-690,-462,-766,-715,-613,-677,-528,-452,-430,-652,-692,-536],\"adhesive force / body weight\":{\"__ndarray__\":\"UrgehetR9D9xPQrXo3D5P+xRuB6F6/U/rkfhehSu5z8fhetRuB75P7gehetRuO4/j8L1KFyP6j/NzMzMzMz0P+xRuB6F6/E/AAAAAAAA6D/Xo3A9CtfzP2ZmZmZmZvI/rkfhehSu7z9xPQrXo3DxPzMzMzMzM+s/XI/C9Shc5z9mZmZmZmbmP83MzMzMzPA/7FG4HoXr8T/Xo3A9CtfrPw==\",\"dtype\":\"float64\",\"shape\":[20]},\"adhesive impulse (N-s)\":{\"__ndarray__\":\"j8L1KFyP0r9fukkMAivHv39qvHSTGMS/w/UoXI/Cxb/fT42XbhLbv7tJDAIrh8a/PQrXo3A90r89CtejcD3Sv2Q730+Nl86/yqFFtvP91L9SuB6F61HYv99PjZduEtO/+n5qvHST6L9zaJHtfD/dv2Q730+Nl9a//tR46SYx0L9Ei2zn+6nRv6abxCCwctC/fT81XrpJ1L+mm8QgsHLYvw==\",\"dtype\":\"float64\",\"shape\":[20]},\"adhesive strength (Pa)\":[-2030,-9695,-10239,-1381,-3975,-1737,-1427,-3266,-2568,-1733,-1879,-5064,-1348,-3636,-3453,-1557,-1677,-4425,-1901,-2073],\"contact area with mucus / contact area without mucus\":{\"__ndarray__\":\"PQrXo3A96j/sUbgeheuxP5qZmZmZmak/pHA9Ctej4D+4HoXrUbi+PxSuR+F6FOY/FK5H4XoU5j/sUbgehevRP8P1KFyPwsU/w/UoXI/C1T9xPQrXo3DtP+F6FK5H4co/mpmZmZmZ6T/Xo3A9CtfTP7gehetRuJ4/exSuR+F65D+kcD0K16PgPwrXo3A9Crc/7FG4HoXr0T9mZmZmZmbWPw==\",\"dtype\":\"float64\",\"shape\":[20]},\"contact area without mucus (mm2)\":[70,94,79,158,216,106,110,178,224,176,33,112,92,129,148,105,124,134,260,168],\"contact pressure (Pa)\":[3117,24923,21020,4718,2012,6676,1550,7832,9824,7122,4638,10947,2874,9089,10095,4419,3019,13784,3406,1830],\"date\":[\"2013_02_26\",\"2013_02_26\",\"2013_03_01\",\"2013_03_01\",\"2013_03_01\",\"2013_03_01\",\"2013_03_05\",\"2013_03_05\",\"2013_03_05\",\"2013_03_05\",\"2013_03_12\",\"2013_03_12\",\"2013_03_12\",\"2013_03_12\",\"2013_03_12\",\"2013_03_15\",\"2013_03_15\",\"2013_03_15\",\"2013_03_15\",\"2013_03_15\"],\"impact force (mN)\":[1205,2527,1745,1556,493,2276,556,1928,2641,1897,1891,1545,1307,1692,1543,1282,775,2032,1240,473],\"impact force / body weight\":{\"__ndarray__\":\"MzMzMzMz/z9SuB6F61EQQI/C9ShcjwZAFK5H4XoUBECamZmZmZnpP3E9CtejcA1AzczMzMzM7D/hehSuR+EIQBSuR+F6FBFAexSuR+F6CEB7FK5H4XoIQAAAAAAAAARA4XoUrkfhAEDXo3A9CtcFQOxRuB6F6wNAj8L1KFyPAEAAAAAAAAD0Pz0K16NwPQpAAAAAAAAAAEBSuB6F61HoPw==\",\"dtype\":\"float64\",\"shape\":[20]},\"impact time (ms)\":[46,44,34,41,36,31,43,46,50,41,40,48,29,31,38,31,34,60,34,40],\"index\":[0,1,2,3,4,5,6,7,8,9,10,11,12,13,14,15,16,17,18,19],\"time frog pulls on target (ms)\":[884,248,211,1025,499,969,835,508,491,839,1069,649,1845,917,750,785,837,486,906,1218],\"total contact area (mm2)\":[387,101,83,330,245,341,359,246,269,266,408,141,455,186,153,290,257,147,364,259],\"trial number\":[3,4,1,2,3,4,1,2,3,4,1,2,3,4,5,1,2,3,4,5]},\"selected\":{\"id\":\"2308\",\"type\":\"Selection\"},\"selection_policy\":{\"id\":\"2307\",\"type\":\"UnionRenderers\"}},\"id\":\"2280\",\"type\":\"ColumnDataSource\"}],\"root_ids\":[\"2248\"]},\"title\":\"Bokeh Application\",\"version\":\"1.2.0\"}};\n",
       "  var render_items = [{\"docid\":\"d6149f38-4db8-46ec-9d42-3565c17c1ae4\",\"roots\":{\"2248\":\"3f0565e0-8cc4-488e-b843-58cd0eb0c0ea\"}}];\n",
       "  root.Bokeh.embed.embed_items_notebook(docs_json, render_items);\n",
       "\n",
       "  }\n",
       "  if (root.Bokeh !== undefined) {\n",
       "    embed_document(root);\n",
       "  } else {\n",
       "    var attempts = 0;\n",
       "    var timer = setInterval(function(root) {\n",
       "      if (root.Bokeh !== undefined) {\n",
       "        embed_document(root);\n",
       "        clearInterval(timer);\n",
       "      }\n",
       "      attempts++;\n",
       "      if (attempts > 100) {\n",
       "        console.log(\"Bokeh: ERROR: Unable to run BokehJS code because BokehJS library is missing\");\n",
       "        clearInterval(timer);\n",
       "      }\n",
       "    }, 10, root)\n",
       "  }\n",
       "})(window);"
      ],
      "application/vnd.bokehjs_exec.v0+json": ""
     },
     "metadata": {
      "application/vnd.bokehjs_exec.v0+json": {
       "id": "2248"
      }
     },
     "output_type": "display_data"
    }
   ],
   "source": [
    "p = bokeh_catplot.ecdf(\n",
    "    data=df,\n",
    "    cats='ID',\n",
    "    val='impact force (mN)'\n",
    ")\n",
    "\n",
    "bokeh.io.show(p)"
   ]
  },
  {
   "cell_type": "markdown",
   "metadata": {},
   "source": [
    "Each dot in the ECDF is a single data point that we measured. Given the above definition of the ECDF, it is defined for all real $x$. So, formally, the ECDF is a continuous function (with discontinuous derivatives at each data point). So, it should be plotted like a staircase according to the formal definition. We can plot it that way using the `formal` keyword argument."
   ]
  },
  {
   "cell_type": "code",
   "execution_count": 13,
   "metadata": {},
   "outputs": [
    {
     "data": {
      "text/html": [
       "\n",
       "\n",
       "\n",
       "\n",
       "\n",
       "\n",
       "  <div class=\"bk-root\" id=\"bb4507a6-ea6c-40d8-8deb-3f73aa73f646\" data-root-id=\"2534\"></div>\n"
      ]
     },
     "metadata": {},
     "output_type": "display_data"
    },
    {
     "data": {
      "application/javascript": [
       "(function(root) {\n",
       "  function embed_document(root) {\n",
       "    \n",
       "  var docs_json = {\"b688308d-19c0-4834-84d6-503178f972f4\":{\"roots\":{\"references\":[{\"attributes\":{\"below\":[{\"id\":\"2543\",\"type\":\"LinearAxis\"}],\"center\":[{\"id\":\"2547\",\"type\":\"Grid\"},{\"id\":\"2552\",\"type\":\"Grid\"},{\"id\":\"2578\",\"type\":\"Legend\"}],\"left\":[{\"id\":\"2548\",\"type\":\"LinearAxis\"}],\"plot_height\":300,\"plot_width\":400,\"renderers\":[{\"id\":\"2569\",\"type\":\"GlyphRenderer\"},{\"id\":\"2583\",\"type\":\"GlyphRenderer\"},{\"id\":\"2597\",\"type\":\"GlyphRenderer\"},{\"id\":\"2613\",\"type\":\"GlyphRenderer\"},{\"id\":\"2632\",\"type\":\"GlyphRenderer\"},{\"id\":\"2652\",\"type\":\"GlyphRenderer\"},{\"id\":\"2674\",\"type\":\"GlyphRenderer\"},{\"id\":\"2699\",\"type\":\"GlyphRenderer\"},{\"id\":\"2725\",\"type\":\"GlyphRenderer\"},{\"id\":\"2753\",\"type\":\"GlyphRenderer\"},{\"id\":\"2784\",\"type\":\"GlyphRenderer\"},{\"id\":\"2816\",\"type\":\"GlyphRenderer\"}],\"title\":{\"id\":\"2571\",\"type\":\"Title\"},\"toolbar\":{\"id\":\"2559\",\"type\":\"Toolbar\"},\"x_range\":{\"id\":\"2535\",\"type\":\"DataRange1d\"},\"x_scale\":{\"id\":\"2539\",\"type\":\"LinearScale\"},\"y_range\":{\"id\":\"2537\",\"type\":\"DataRange1d\"},\"y_scale\":{\"id\":\"2541\",\"type\":\"LinearScale\"}},\"id\":\"2534\",\"subtype\":\"Figure\",\"type\":\"Plot\"},{\"attributes\":{},\"id\":\"2625\",\"type\":\"UnionRenderers\"},{\"attributes\":{},\"id\":\"2747\",\"type\":\"UnionRenderers\"},{\"attributes\":{},\"id\":\"2626\",\"type\":\"Selection\"},{\"attributes\":{},\"id\":\"2748\",\"type\":\"Selection\"},{\"attributes\":{\"label\":{\"value\":\"II\"},\"renderers\":[{\"id\":\"2613\",\"type\":\"GlyphRenderer\"},{\"id\":\"2632\",\"type\":\"GlyphRenderer\"},{\"id\":\"2652\",\"type\":\"GlyphRenderer\"}]},\"id\":\"2628\",\"type\":\"LegendItem\"},{\"attributes\":{\"callback\":null,\"data\":{},\"selected\":{\"id\":\"2669\",\"type\":\"Selection\"},\"selection_policy\":{\"id\":\"2668\",\"type\":\"UnionRenderers\"}},\"id\":\"2629\",\"type\":\"ColumnDataSource\"},{\"attributes\":{},\"id\":\"2558\",\"type\":\"HelpTool\"},{\"attributes\":{\"line_color\":\"#76b7b2\",\"line_width\":2,\"x\":{\"field\":\"x\"},\"y\":{\"field\":\"y\"}},\"id\":\"2751\",\"type\":\"Line\"},{\"attributes\":{\"angle\":{\"units\":\"rad\",\"value\":3.141592653589793},\"line_color\":{\"value\":\"#f28e2b\"},\"line_width\":{\"value\":2},\"x\":{\"value\":245.0},\"y\":{\"value\":0}},\"id\":\"2630\",\"type\":\"Ray\"},{\"attributes\":{\"line_alpha\":0.1,\"line_color\":\"#1f77b4\",\"line_width\":2,\"x\":{\"field\":\"x\"},\"y\":{\"field\":\"y\"}},\"id\":\"2752\",\"type\":\"Line\"},{\"attributes\":{\"data_source\":{\"id\":\"2750\",\"type\":\"ColumnDataSource\"},\"glyph\":{\"id\":\"2751\",\"type\":\"Line\"},\"hover_glyph\":null,\"muted_glyph\":null,\"nonselection_glyph\":{\"id\":\"2752\",\"type\":\"Line\"},\"selection_glyph\":null,\"view\":{\"id\":\"2754\",\"type\":\"CDSView\"}},\"id\":\"2753\",\"type\":\"GlyphRenderer\"},{\"attributes\":{\"angle\":{\"units\":\"rad\",\"value\":3.141592653589793},\"line_alpha\":{\"value\":0.1},\"line_color\":{\"value\":\"#1f77b4\"},\"line_width\":{\"value\":2},\"x\":{\"value\":245.0},\"y\":{\"value\":0}},\"id\":\"2631\",\"type\":\"Ray\"},{\"attributes\":{\"data_source\":{\"id\":\"2629\",\"type\":\"ColumnDataSource\"},\"glyph\":{\"id\":\"2630\",\"type\":\"Ray\"},\"hover_glyph\":null,\"muted_glyph\":null,\"nonselection_glyph\":{\"id\":\"2631\",\"type\":\"Ray\"},\"selection_glyph\":null,\"view\":{\"id\":\"2633\",\"type\":\"CDSView\"}},\"id\":\"2632\",\"type\":\"GlyphRenderer\"},{\"attributes\":{\"source\":{\"id\":\"2750\",\"type\":\"ColumnDataSource\"}},\"id\":\"2754\",\"type\":\"CDSView\"},{\"attributes\":{},\"id\":\"2970\",\"type\":\"UnionRenderers\"},{\"attributes\":{\"source\":{\"id\":\"2629\",\"type\":\"ColumnDataSource\"}},\"id\":\"2633\",\"type\":\"CDSView\"},{\"attributes\":{},\"id\":\"2777\",\"type\":\"UnionRenderers\"},{\"attributes\":{},\"id\":\"2647\",\"type\":\"Selection\"},{\"attributes\":{},\"id\":\"2778\",\"type\":\"Selection\"},{\"attributes\":{\"label\":{\"value\":\"IV\"},\"renderers\":[{\"id\":\"2753\",\"type\":\"GlyphRenderer\"},{\"id\":\"2784\",\"type\":\"GlyphRenderer\"},{\"id\":\"2816\",\"type\":\"GlyphRenderer\"}]},\"id\":\"2780\",\"type\":\"LegendItem\"},{\"attributes\":{\"callback\":null,\"data\":{},\"selected\":{\"id\":\"2693\",\"type\":\"Selection\"},\"selection_policy\":{\"id\":\"2692\",\"type\":\"UnionRenderers\"}},\"id\":\"2649\",\"type\":\"ColumnDataSource\"},{\"attributes\":{\"angle\":{\"units\":\"rad\",\"value\":0},\"line_color\":{\"value\":\"#f28e2b\"},\"line_width\":{\"value\":2},\"x\":{\"value\":1612.0},\"y\":{\"value\":1}},\"id\":\"2650\",\"type\":\"Ray\"},{\"attributes\":{\"callback\":null,\"data\":{},\"selected\":{\"id\":\"2845\",\"type\":\"Selection\"},\"selection_policy\":{\"id\":\"2844\",\"type\":\"UnionRenderers\"}},\"id\":\"2781\",\"type\":\"ColumnDataSource\"},{\"attributes\":{\"angle\":{\"units\":\"rad\",\"value\":0},\"line_alpha\":{\"value\":0.1},\"line_color\":{\"value\":\"#1f77b4\"},\"line_width\":{\"value\":2},\"x\":{\"value\":1612.0},\"y\":{\"value\":1}},\"id\":\"2651\",\"type\":\"Ray\"},{\"attributes\":{\"angle\":{\"units\":\"rad\",\"value\":3.141592653589793},\"line_color\":{\"value\":\"#76b7b2\"},\"line_width\":{\"value\":2},\"x\":{\"value\":22.0},\"y\":{\"value\":0}},\"id\":\"2782\",\"type\":\"Ray\"},{\"attributes\":{\"data_source\":{\"id\":\"2649\",\"type\":\"ColumnDataSource\"},\"glyph\":{\"id\":\"2650\",\"type\":\"Ray\"},\"hover_glyph\":null,\"muted_glyph\":null,\"nonselection_glyph\":{\"id\":\"2651\",\"type\":\"Ray\"},\"selection_glyph\":null,\"view\":{\"id\":\"2653\",\"type\":\"CDSView\"}},\"id\":\"2652\",\"type\":\"GlyphRenderer\"},{\"attributes\":{\"active_drag\":\"auto\",\"active_inspect\":\"auto\",\"active_multi\":null,\"active_scroll\":\"auto\",\"active_tap\":\"auto\",\"tools\":[{\"id\":\"2553\",\"type\":\"PanTool\"},{\"id\":\"2554\",\"type\":\"WheelZoomTool\"},{\"id\":\"2555\",\"type\":\"BoxZoomTool\"},{\"id\":\"2556\",\"type\":\"SaveTool\"},{\"id\":\"2557\",\"type\":\"ResetTool\"},{\"id\":\"2558\",\"type\":\"HelpTool\"}]},\"id\":\"2559\",\"type\":\"Toolbar\"},{\"attributes\":{\"angle\":{\"units\":\"rad\",\"value\":3.141592653589793},\"line_alpha\":{\"value\":0.1},\"line_color\":{\"value\":\"#1f77b4\"},\"line_width\":{\"value\":2},\"x\":{\"value\":22.0},\"y\":{\"value\":0}},\"id\":\"2783\",\"type\":\"Ray\"},{\"attributes\":{\"data_source\":{\"id\":\"2781\",\"type\":\"ColumnDataSource\"},\"glyph\":{\"id\":\"2782\",\"type\":\"Ray\"},\"hover_glyph\":null,\"muted_glyph\":null,\"nonselection_glyph\":{\"id\":\"2783\",\"type\":\"Ray\"},\"selection_glyph\":null,\"view\":{\"id\":\"2785\",\"type\":\"CDSView\"}},\"id\":\"2784\",\"type\":\"GlyphRenderer\"},{\"attributes\":{\"source\":{\"id\":\"2649\",\"type\":\"ColumnDataSource\"}},\"id\":\"2653\",\"type\":\"CDSView\"},{\"attributes\":{\"source\":{\"id\":\"2781\",\"type\":\"ColumnDataSource\"}},\"id\":\"2785\",\"type\":\"CDSView\"},{\"attributes\":{},\"id\":\"2553\",\"type\":\"PanTool\"},{\"attributes\":{},\"id\":\"2668\",\"type\":\"UnionRenderers\"},{\"attributes\":{},\"id\":\"2556\",\"type\":\"SaveTool\"},{\"attributes\":{},\"id\":\"2669\",\"type\":\"Selection\"},{\"attributes\":{},\"id\":\"2810\",\"type\":\"UnionRenderers\"},{\"attributes\":{},\"id\":\"2557\",\"type\":\"ResetTool\"},{\"attributes\":{},\"id\":\"2811\",\"type\":\"Selection\"},{\"attributes\":{\"callback\":null,\"data\":{},\"selected\":{\"id\":\"2971\",\"type\":\"Selection\"},\"selection_policy\":{\"id\":\"2970\",\"type\":\"UnionRenderers\"}},\"id\":\"2813\",\"type\":\"ColumnDataSource\"},{\"attributes\":{\"line_color\":\"#e15759\",\"line_width\":2,\"x\":{\"field\":\"x\"},\"y\":{\"field\":\"y\"}},\"id\":\"2672\",\"type\":\"Line\"},{\"attributes\":{\"line_alpha\":0.1,\"line_color\":\"#1f77b4\",\"line_width\":2,\"x\":{\"field\":\"x\"},\"y\":{\"field\":\"y\"}},\"id\":\"2673\",\"type\":\"Line\"},{\"attributes\":{\"angle\":{\"units\":\"rad\",\"value\":0},\"line_color\":{\"value\":\"#76b7b2\"},\"line_width\":{\"value\":2},\"x\":{\"value\":815.0},\"y\":{\"value\":1}},\"id\":\"2814\",\"type\":\"Ray\"},{\"attributes\":{\"dimension\":1,\"ticker\":{\"id\":\"2549\",\"type\":\"BasicTicker\"}},\"id\":\"2552\",\"type\":\"Grid\"},{\"attributes\":{\"data_source\":{\"id\":\"2671\",\"type\":\"ColumnDataSource\"},\"glyph\":{\"id\":\"2672\",\"type\":\"Line\"},\"hover_glyph\":null,\"muted_glyph\":null,\"nonselection_glyph\":{\"id\":\"2673\",\"type\":\"Line\"},\"selection_glyph\":null,\"view\":{\"id\":\"2675\",\"type\":\"CDSView\"}},\"id\":\"2674\",\"type\":\"GlyphRenderer\"},{\"attributes\":{\"angle\":{\"units\":\"rad\",\"value\":0},\"line_alpha\":{\"value\":0.1},\"line_color\":{\"value\":\"#1f77b4\"},\"line_width\":{\"value\":2},\"x\":{\"value\":815.0},\"y\":{\"value\":1}},\"id\":\"2815\",\"type\":\"Ray\"},{\"attributes\":{},\"id\":\"2549\",\"type\":\"BasicTicker\"},{\"attributes\":{\"data_source\":{\"id\":\"2813\",\"type\":\"ColumnDataSource\"},\"glyph\":{\"id\":\"2814\",\"type\":\"Ray\"},\"hover_glyph\":null,\"muted_glyph\":null,\"nonselection_glyph\":{\"id\":\"2815\",\"type\":\"Ray\"},\"selection_glyph\":null,\"view\":{\"id\":\"2817\",\"type\":\"CDSView\"}},\"id\":\"2816\",\"type\":\"GlyphRenderer\"},{\"attributes\":{\"source\":{\"id\":\"2671\",\"type\":\"ColumnDataSource\"}},\"id\":\"2675\",\"type\":\"CDSView\"},{\"attributes\":{\"source\":{\"id\":\"2813\",\"type\":\"ColumnDataSource\"}},\"id\":\"2817\",\"type\":\"CDSView\"},{\"attributes\":{\"overlay\":{\"id\":\"2577\",\"type\":\"BoxAnnotation\"}},\"id\":\"2555\",\"type\":\"BoxZoomTool\"},{\"attributes\":{},\"id\":\"2692\",\"type\":\"UnionRenderers\"},{\"attributes\":{},\"id\":\"2693\",\"type\":\"Selection\"},{\"attributes\":{},\"id\":\"2844\",\"type\":\"UnionRenderers\"},{\"attributes\":{\"label\":{\"value\":\"III\"},\"renderers\":[{\"id\":\"2674\",\"type\":\"GlyphRenderer\"},{\"id\":\"2699\",\"type\":\"GlyphRenderer\"},{\"id\":\"2725\",\"type\":\"GlyphRenderer\"}]},\"id\":\"2695\",\"type\":\"LegendItem\"},{\"attributes\":{},\"id\":\"2845\",\"type\":\"Selection\"},{\"attributes\":{\"callback\":null,\"data\":{},\"selected\":{\"id\":\"2748\",\"type\":\"Selection\"},\"selection_policy\":{\"id\":\"2747\",\"type\":\"UnionRenderers\"}},\"id\":\"2696\",\"type\":\"ColumnDataSource\"},{\"attributes\":{\"angle\":{\"units\":\"rad\",\"value\":3.141592653589793},\"line_color\":{\"value\":\"#e15759\"},\"line_width\":{\"value\":2},\"x\":{\"value\":324.0},\"y\":{\"value\":0}},\"id\":\"2697\",\"type\":\"Ray\"},{\"attributes\":{\"angle\":{\"units\":\"rad\",\"value\":3.141592653589793},\"line_alpha\":{\"value\":0.1},\"line_color\":{\"value\":\"#1f77b4\"},\"line_width\":{\"value\":2},\"x\":{\"value\":324.0},\"y\":{\"value\":0}},\"id\":\"2698\",\"type\":\"Ray\"},{\"attributes\":{\"data_source\":{\"id\":\"2696\",\"type\":\"ColumnDataSource\"},\"glyph\":{\"id\":\"2697\",\"type\":\"Ray\"},\"hover_glyph\":null,\"muted_glyph\":null,\"nonselection_glyph\":{\"id\":\"2698\",\"type\":\"Ray\"},\"selection_glyph\":null,\"view\":{\"id\":\"2700\",\"type\":\"CDSView\"}},\"id\":\"2699\",\"type\":\"GlyphRenderer\"},{\"attributes\":{\"source\":{\"id\":\"2696\",\"type\":\"ColumnDataSource\"}},\"id\":\"2700\",\"type\":\"CDSView\"},{\"attributes\":{},\"id\":\"2719\",\"type\":\"UnionRenderers\"},{\"attributes\":{},\"id\":\"2554\",\"type\":\"WheelZoomTool\"},{\"attributes\":{},\"id\":\"2720\",\"type\":\"Selection\"},{\"attributes\":{\"callback\":null,\"data\":{},\"selected\":{\"id\":\"2778\",\"type\":\"Selection\"},\"selection_policy\":{\"id\":\"2777\",\"type\":\"UnionRenderers\"}},\"id\":\"2722\",\"type\":\"ColumnDataSource\"},{\"attributes\":{\"angle\":{\"units\":\"rad\",\"value\":0},\"line_color\":{\"value\":\"#e15759\"},\"line_width\":{\"value\":2},\"x\":{\"value\":806.0},\"y\":{\"value\":1}},\"id\":\"2723\",\"type\":\"Ray\"},{\"attributes\":{\"angle\":{\"units\":\"rad\",\"value\":0},\"line_alpha\":{\"value\":0.1},\"line_color\":{\"value\":\"#1f77b4\"},\"line_width\":{\"value\":2},\"x\":{\"value\":806.0},\"y\":{\"value\":1}},\"id\":\"2724\",\"type\":\"Ray\"},{\"attributes\":{\"data_source\":{\"id\":\"2722\",\"type\":\"ColumnDataSource\"},\"glyph\":{\"id\":\"2723\",\"type\":\"Ray\"},\"hover_glyph\":null,\"muted_glyph\":null,\"nonselection_glyph\":{\"id\":\"2724\",\"type\":\"Ray\"},\"selection_glyph\":null,\"view\":{\"id\":\"2726\",\"type\":\"CDSView\"}},\"id\":\"2725\",\"type\":\"GlyphRenderer\"},{\"attributes\":{\"source\":{\"id\":\"2722\",\"type\":\"ColumnDataSource\"}},\"id\":\"2726\",\"type\":\"CDSView\"},{\"attributes\":{\"callback\":null},\"id\":\"2535\",\"type\":\"DataRange1d\"},{\"attributes\":{\"callback\":null,\"data\":{\"x\":{\"__ndarray__\":\"AAAAAACgbkAAAAAAAKBuQAAAAAAA0HBAAAAAAADQcEAAAAAAAJByQAAAAAAAkHJAAAAAAABwdEAAAAAAAHB0QAAAAAAA8HdAAAAAAADwd0AAAAAAADB7QAAAAAAAMHtAAAAAAACQfEAAAAAAAJB8QAAAAAAAGIBAAAAAAAAYgEAAAAAAAIiAQAAAAAAAiIBAAAAAAADogEAAAAAAAOiAQAAAAAAA6IJAAAAAAADogkAAAAAAAKCDQAAAAAAAoINAAAAAAAD4hUAAAAAAAPiFQAAAAAAA0IZAAAAAAADQhkAAAAAAAHiHQAAAAAAAeIdAAAAAAACQjUAAAAAAAJCNQAAAAAAAeJJAAAAAAAB4kkAAAAAAALSWQAAAAAAAtJZAAAAAAAAMmEAAAAAAAAyYQAAAAAAAMJlAAAAAAAAwmUA=\",\"dtype\":\"float64\",\"shape\":[40]},\"y\":{\"__ndarray__\":\"AAAAAAAAAACamZmZmZmpP5qZmZmZmak/mpmZmZmZuT+amZmZmZm5PzMzMzMzM8M/MzMzMzMzwz+amZmZmZnJP5qZmZmZmck/AAAAAAAA0D8AAAAAAADQPzMzMzMzM9M/MzMzMzMz0z9mZmZmZmbWP2ZmZmZmZtY/mpmZmZmZ2T+amZmZmZnZP83MzMzMzNw/zczMzMzM3D8AAAAAAADgPwAAAAAAAOA/mpmZmZmZ4T+amZmZmZnhPzMzMzMzM+M/MzMzMzMz4z/NzMzMzMzkP83MzMzMzOQ/ZmZmZmZm5j9mZmZmZmbmPwAAAAAAAOg/AAAAAAAA6D+amZmZmZnpP5qZmZmZmek/MzMzMzMz6z8zMzMzMzPrP83MzMzMzOw/zczMzMzM7D9mZmZmZmbuP2ZmZmZmZu4/AAAAAAAA8D8=\",\"dtype\":\"float64\",\"shape\":[40]}},\"selected\":{\"id\":\"2647\",\"type\":\"Selection\"},\"selection_policy\":{\"id\":\"2646\",\"type\":\"UnionRenderers\"}},\"id\":\"2610\",\"type\":\"ColumnDataSource\"},{\"attributes\":{\"callback\":null,\"data\":{\"x\":{\"__ndarray__\":\"AAAAAAAANkAAAAAAAAA2QAAAAAAAgEJAAAAAAACAQkAAAAAAAMBhQAAAAAAAwGFAAAAAAACAZUAAAAAAAIBlQAAAAAAAwGhAAAAAAADAaEAAAAAAAMBoQAAAAAAAwGhAAAAAAAAQcUAAAAAAABBxQAAAAAAAMHZAAAAAAAAwdkAAAAAAACB5QAAAAAAAIHlAAAAAAABQfEAAAAAAAFB8QAAAAAAAQH1AAAAAAABAfUAAAAAAAGB/QAAAAAAAYH9AAAAAAAAggEAAAAAAACCAQAAAAAAAMIJAAAAAAAAwgkAAAAAAAKiCQAAAAAAAqIJAAAAAAADogkAAAAAAAOiCQAAAAAAAMINAAAAAAAAwg0AAAAAAADiGQAAAAAAAOIZAAAAAAACAhkAAAAAAAICGQAAAAAAAeIlAAAAAAAB4iUA=\",\"dtype\":\"float64\",\"shape\":[40]},\"y\":{\"__ndarray__\":\"AAAAAAAAAACamZmZmZmpP5qZmZmZmak/mpmZmZmZuT+amZmZmZm5PzMzMzMzM8M/MzMzMzMzwz+amZmZmZnJP5qZmZmZmck/AAAAAAAA0D8AAAAAAADQPzMzMzMzM9M/MzMzMzMz0z9mZmZmZmbWP2ZmZmZmZtY/mpmZmZmZ2T+amZmZmZnZP83MzMzMzNw/zczMzMzM3D8AAAAAAADgPwAAAAAAAOA/mpmZmZmZ4T+amZmZmZnhPzMzMzMzM+M/MzMzMzMz4z/NzMzMzMzkP83MzMzMzOQ/ZmZmZmZm5j9mZmZmZmbmPwAAAAAAAOg/AAAAAAAA6D+amZmZmZnpP5qZmZmZmek/MzMzMzMz6z8zMzMzMzPrP83MzMzMzOw/zczMzMzM7D9mZmZmZmbuP2ZmZmZmZu4/AAAAAAAA8D8=\",\"dtype\":\"float64\",\"shape\":[40]}},\"selected\":{\"id\":\"2811\",\"type\":\"Selection\"},\"selection_policy\":{\"id\":\"2810\",\"type\":\"UnionRenderers\"}},\"id\":\"2750\",\"type\":\"ColumnDataSource\"},{\"attributes\":{},\"id\":\"2646\",\"type\":\"UnionRenderers\"},{\"attributes\":{\"callback\":null,\"data\":{\"x\":{\"__ndarray__\":\"AAAAAACQfUAAAAAAAJB9QAAAAAAA0H5AAAAAAADQfkAAAAAAAGCBQAAAAAAAYIFAAAAAAAA4iEAAAAAAADiIQAAAAAAA1JJAAAAAAADUkkAAAAAAAGCTQAAAAAAAYJNAAAAAAAAIlEAAAAAAAAiUQAAAAAAAbJRAAAAAAABslEAAAAAAAByYQAAAAAAAHJhAAAAAAAAkmEAAAAAAACSYQAAAAAAAUJhAAAAAAABQmEAAAAAAAHCaQAAAAAAAcJpAAAAAAABEm0AAAAAAAESbQAAAAAAAjJ1AAAAAAACMnUAAAAAAAKSdQAAAAAAApJ1AAAAAAAAgnkAAAAAAACCeQAAAAAAAwJ9AAAAAAADAn0AAAAAAAMihQAAAAAAAyKFAAAAAAAC+o0AAAAAAAL6jQAAAAAAAoqRAAAAAAACipEA=\",\"dtype\":\"float64\",\"shape\":[40]},\"y\":{\"__ndarray__\":\"AAAAAAAAAACamZmZmZmpP5qZmZmZmak/mpmZmZmZuT+amZmZmZm5PzMzMzMzM8M/MzMzMzMzwz+amZmZmZnJP5qZmZmZmck/AAAAAAAA0D8AAAAAAADQPzMzMzMzM9M/MzMzMzMz0z9mZmZmZmbWP2ZmZmZmZtY/mpmZmZmZ2T+amZmZmZnZP83MzMzMzNw/zczMzMzM3D8AAAAAAADgPwAAAAAAAOA/mpmZmZmZ4T+amZmZmZnhPzMzMzMzM+M/MzMzMzMz4z/NzMzMzMzkP83MzMzMzOQ/ZmZmZmZm5j9mZmZmZmbmPwAAAAAAAOg/AAAAAAAA6D+amZmZmZnpP5qZmZmZmek/MzMzMzMz6z8zMzMzMzPrP83MzMzMzOw/zczMzMzM7D9mZmZmZmbuP2ZmZmZmZu4/AAAAAAAA8D8=\",\"dtype\":\"float64\",\"shape\":[40]}},\"selected\":{\"id\":\"2592\",\"type\":\"Selection\"},\"selection_policy\":{\"id\":\"2591\",\"type\":\"UnionRenderers\"}},\"id\":\"2566\",\"type\":\"ColumnDataSource\"},{\"attributes\":{\"line_color\":\"#4e79a7\",\"line_width\":2,\"x\":{\"field\":\"x\"},\"y\":{\"field\":\"y\"}},\"id\":\"2567\",\"type\":\"Line\"},{\"attributes\":{\"line_alpha\":0.1,\"line_color\":\"#1f77b4\",\"line_width\":2,\"x\":{\"field\":\"x\"},\"y\":{\"field\":\"y\"}},\"id\":\"2568\",\"type\":\"Line\"},{\"attributes\":{\"data_source\":{\"id\":\"2566\",\"type\":\"ColumnDataSource\"},\"glyph\":{\"id\":\"2567\",\"type\":\"Line\"},\"hover_glyph\":null,\"muted_glyph\":null,\"nonselection_glyph\":{\"id\":\"2568\",\"type\":\"Line\"},\"selection_glyph\":null,\"view\":{\"id\":\"2570\",\"type\":\"CDSView\"}},\"id\":\"2569\",\"type\":\"GlyphRenderer\"},{\"attributes\":{\"source\":{\"id\":\"2566\",\"type\":\"ColumnDataSource\"}},\"id\":\"2570\",\"type\":\"CDSView\"},{\"attributes\":{\"text\":\"\"},\"id\":\"2571\",\"type\":\"Title\"},{\"attributes\":{},\"id\":\"2573\",\"type\":\"BasicTickFormatter\"},{\"attributes\":{},\"id\":\"2971\",\"type\":\"Selection\"},{\"attributes\":{},\"id\":\"2575\",\"type\":\"BasicTickFormatter\"},{\"attributes\":{\"bottom_units\":\"screen\",\"fill_alpha\":{\"value\":0.5},\"fill_color\":{\"value\":\"lightgrey\"},\"left_units\":\"screen\",\"level\":\"overlay\",\"line_alpha\":{\"value\":1.0},\"line_color\":{\"value\":\"black\"},\"line_dash\":[4,4],\"line_width\":{\"value\":2},\"render_mode\":\"css\",\"right_units\":\"screen\",\"top_units\":\"screen\"},\"id\":\"2577\",\"type\":\"BoxAnnotation\"},{\"attributes\":{\"click_policy\":\"hide\",\"items\":[{\"id\":\"2579\",\"type\":\"LegendItem\"},{\"id\":\"2628\",\"type\":\"LegendItem\"},{\"id\":\"2695\",\"type\":\"LegendItem\"},{\"id\":\"2780\",\"type\":\"LegendItem\"}],\"location\":\"bottom_right\"},\"id\":\"2578\",\"type\":\"Legend\"},{\"attributes\":{\"ticker\":{\"id\":\"2544\",\"type\":\"BasicTicker\"}},\"id\":\"2547\",\"type\":\"Grid\"},{\"attributes\":{\"label\":{\"value\":\"I\"},\"renderers\":[{\"id\":\"2569\",\"type\":\"GlyphRenderer\"},{\"id\":\"2583\",\"type\":\"GlyphRenderer\"},{\"id\":\"2597\",\"type\":\"GlyphRenderer\"}]},\"id\":\"2579\",\"type\":\"LegendItem\"},{\"attributes\":{\"callback\":null,\"data\":{},\"selected\":{\"id\":\"2608\",\"type\":\"Selection\"},\"selection_policy\":{\"id\":\"2607\",\"type\":\"UnionRenderers\"}},\"id\":\"2580\",\"type\":\"ColumnDataSource\"},{\"attributes\":{\"angle\":{\"units\":\"rad\",\"value\":3.141592653589793},\"line_color\":{\"value\":\"#4e79a7\"},\"line_width\":{\"value\":2},\"x\":{\"value\":473.0},\"y\":{\"value\":0}},\"id\":\"2581\",\"type\":\"Ray\"},{\"attributes\":{\"angle\":{\"units\":\"rad\",\"value\":3.141592653589793},\"line_alpha\":{\"value\":0.1},\"line_color\":{\"value\":\"#1f77b4\"},\"line_width\":{\"value\":2},\"x\":{\"value\":473.0},\"y\":{\"value\":0}},\"id\":\"2582\",\"type\":\"Ray\"},{\"attributes\":{\"data_source\":{\"id\":\"2580\",\"type\":\"ColumnDataSource\"},\"glyph\":{\"id\":\"2581\",\"type\":\"Ray\"},\"hover_glyph\":null,\"muted_glyph\":null,\"nonselection_glyph\":{\"id\":\"2582\",\"type\":\"Ray\"},\"selection_glyph\":null,\"view\":{\"id\":\"2584\",\"type\":\"CDSView\"}},\"id\":\"2583\",\"type\":\"GlyphRenderer\"},{\"attributes\":{\"source\":{\"id\":\"2580\",\"type\":\"ColumnDataSource\"}},\"id\":\"2584\",\"type\":\"CDSView\"},{\"attributes\":{},\"id\":\"2591\",\"type\":\"UnionRenderers\"},{\"attributes\":{},\"id\":\"2592\",\"type\":\"Selection\"},{\"attributes\":{\"callback\":null,\"data\":{},\"selected\":{\"id\":\"2626\",\"type\":\"Selection\"},\"selection_policy\":{\"id\":\"2625\",\"type\":\"UnionRenderers\"}},\"id\":\"2594\",\"type\":\"ColumnDataSource\"},{\"attributes\":{},\"id\":\"2544\",\"type\":\"BasicTicker\"},{\"attributes\":{\"angle\":{\"units\":\"rad\",\"value\":0},\"line_color\":{\"value\":\"#4e79a7\"},\"line_width\":{\"value\":2},\"x\":{\"value\":2641.0},\"y\":{\"value\":1}},\"id\":\"2595\",\"type\":\"Ray\"},{\"attributes\":{\"axis_label\":\"ECDF\",\"formatter\":{\"id\":\"2575\",\"type\":\"BasicTickFormatter\"},\"ticker\":{\"id\":\"2549\",\"type\":\"BasicTicker\"}},\"id\":\"2548\",\"type\":\"LinearAxis\"},{\"attributes\":{\"angle\":{\"units\":\"rad\",\"value\":0},\"line_alpha\":{\"value\":0.1},\"line_color\":{\"value\":\"#1f77b4\"},\"line_width\":{\"value\":2},\"x\":{\"value\":2641.0},\"y\":{\"value\":1}},\"id\":\"2596\",\"type\":\"Ray\"},{\"attributes\":{},\"id\":\"2539\",\"type\":\"LinearScale\"},{\"attributes\":{\"data_source\":{\"id\":\"2594\",\"type\":\"ColumnDataSource\"},\"glyph\":{\"id\":\"2595\",\"type\":\"Ray\"},\"hover_glyph\":null,\"muted_glyph\":null,\"nonselection_glyph\":{\"id\":\"2596\",\"type\":\"Ray\"},\"selection_glyph\":null,\"view\":{\"id\":\"2598\",\"type\":\"CDSView\"}},\"id\":\"2597\",\"type\":\"GlyphRenderer\"},{\"attributes\":{\"source\":{\"id\":\"2594\",\"type\":\"ColumnDataSource\"}},\"id\":\"2598\",\"type\":\"CDSView\"},{\"attributes\":{\"axis_label\":\"impact force (mN)\",\"formatter\":{\"id\":\"2573\",\"type\":\"BasicTickFormatter\"},\"ticker\":{\"id\":\"2544\",\"type\":\"BasicTicker\"}},\"id\":\"2543\",\"type\":\"LinearAxis\"},{\"attributes\":{},\"id\":\"2607\",\"type\":\"UnionRenderers\"},{\"attributes\":{},\"id\":\"2608\",\"type\":\"Selection\"},{\"attributes\":{},\"id\":\"2541\",\"type\":\"LinearScale\"},{\"attributes\":{\"callback\":null,\"data\":{\"x\":{\"__ndarray__\":\"AAAAAABAdEAAAAAAAEB0QAAAAAAAEHhAAAAAAAAQeEAAAAAAABB5QAAAAAAAEHlAAAAAAADgeUAAAAAAAOB5QAAAAAAAoHxAAAAAAACgfEAAAAAAALB8QAAAAAAAsHxAAAAAAACAfkAAAAAAAIB+QAAAAAAAuIBAAAAAAAC4gEAAAAAAANCAQAAAAAAA0IBAAAAAAAAAgUAAAAAAAACBQAAAAAAAAIFAAAAAAAAAgUAAAAAAABiCQAAAAAAAGIJAAAAAAAAYg0AAAAAAABiDQAAAAAAAMINAAAAAAAAwg0AAAAAAADCDQAAAAAAAMINAAAAAAABog0AAAAAAAGiDQAAAAAAAkINAAAAAAACQg0AAAAAAAMiEQAAAAAAAyIRAAAAAAABAiEAAAAAAAECIQAAAAAAAMIlAAAAAAAAwiUA=\",\"dtype\":\"float64\",\"shape\":[40]},\"y\":{\"__ndarray__\":\"AAAAAAAAAACamZmZmZmpP5qZmZmZmak/mpmZmZmZuT+amZmZmZm5PzMzMzMzM8M/MzMzMzMzwz+amZmZmZnJP5qZmZmZmck/AAAAAAAA0D8AAAAAAADQPzMzMzMzM9M/MzMzMzMz0z9mZmZmZmbWP2ZmZmZmZtY/mpmZmZmZ2T+amZmZmZnZP83MzMzMzNw/zczMzMzM3D8AAAAAAADgPwAAAAAAAOA/mpmZmZmZ4T+amZmZmZnhPzMzMzMzM+M/MzMzMzMz4z/NzMzMzMzkP83MzMzMzOQ/ZmZmZmZm5j9mZmZmZmbmPwAAAAAAAOg/AAAAAAAA6D+amZmZmZnpP5qZmZmZmek/MzMzMzMz6z8zMzMzMzPrP83MzMzMzOw/zczMzMzM7D9mZmZmZmbuP2ZmZmZmZu4/AAAAAAAA8D8=\",\"dtype\":\"float64\",\"shape\":[40]}},\"selected\":{\"id\":\"2720\",\"type\":\"Selection\"},\"selection_policy\":{\"id\":\"2719\",\"type\":\"UnionRenderers\"}},\"id\":\"2671\",\"type\":\"ColumnDataSource\"},{\"attributes\":{\"line_color\":\"#f28e2b\",\"line_width\":2,\"x\":{\"field\":\"x\"},\"y\":{\"field\":\"y\"}},\"id\":\"2611\",\"type\":\"Line\"},{\"attributes\":{\"line_alpha\":0.1,\"line_color\":\"#1f77b4\",\"line_width\":2,\"x\":{\"field\":\"x\"},\"y\":{\"field\":\"y\"}},\"id\":\"2612\",\"type\":\"Line\"},{\"attributes\":{\"callback\":null},\"id\":\"2537\",\"type\":\"DataRange1d\"},{\"attributes\":{\"data_source\":{\"id\":\"2610\",\"type\":\"ColumnDataSource\"},\"glyph\":{\"id\":\"2611\",\"type\":\"Line\"},\"hover_glyph\":null,\"muted_glyph\":null,\"nonselection_glyph\":{\"id\":\"2612\",\"type\":\"Line\"},\"selection_glyph\":null,\"view\":{\"id\":\"2614\",\"type\":\"CDSView\"}},\"id\":\"2613\",\"type\":\"GlyphRenderer\"},{\"attributes\":{\"source\":{\"id\":\"2610\",\"type\":\"ColumnDataSource\"}},\"id\":\"2614\",\"type\":\"CDSView\"}],\"root_ids\":[\"2534\"]},\"title\":\"Bokeh Application\",\"version\":\"1.2.0\"}};\n",
       "  var render_items = [{\"docid\":\"b688308d-19c0-4834-84d6-503178f972f4\",\"roots\":{\"2534\":\"bb4507a6-ea6c-40d8-8deb-3f73aa73f646\"}}];\n",
       "  root.Bokeh.embed.embed_items_notebook(docs_json, render_items);\n",
       "\n",
       "  }\n",
       "  if (root.Bokeh !== undefined) {\n",
       "    embed_document(root);\n",
       "  } else {\n",
       "    var attempts = 0;\n",
       "    var timer = setInterval(function(root) {\n",
       "      if (root.Bokeh !== undefined) {\n",
       "        embed_document(root);\n",
       "        clearInterval(timer);\n",
       "      }\n",
       "      attempts++;\n",
       "      if (attempts > 100) {\n",
       "        console.log(\"Bokeh: ERROR: Unable to run BokehJS code because BokehJS library is missing\");\n",
       "        clearInterval(timer);\n",
       "      }\n",
       "    }, 10, root)\n",
       "  }\n",
       "})(window);"
      ],
      "application/vnd.bokehjs_exec.v0+json": ""
     },
     "metadata": {
      "application/vnd.bokehjs_exec.v0+json": {
       "id": "2534"
      }
     },
     "output_type": "display_data"
    }
   ],
   "source": [
    "p = bokeh_catplot.ecdf(\n",
    "    data=df,\n",
    "    cats='ID',\n",
    "    val='impact force (mN)',\n",
    "    formal=True\n",
    ")\n",
    "\n",
    "bokeh.io.show(p)"
   ]
  },
  {
   "cell_type": "markdown",
   "metadata": {},
   "source": [
    "This is still plotting all of your data. The concave corners of the staircase correspond to the measured data. This can be seen by overlaying the \"dot\" version of the ECDFs."
   ]
  },
  {
   "cell_type": "code",
   "execution_count": 14,
   "metadata": {},
   "outputs": [
    {
     "data": {
      "text/html": [
       "\n",
       "\n",
       "\n",
       "\n",
       "\n",
       "\n",
       "  <div class=\"bk-root\" id=\"7c92991b-238d-45c7-b060-a9dfcba920f7\" data-root-id=\"2534\"></div>\n"
      ]
     },
     "metadata": {},
     "output_type": "display_data"
    },
    {
     "data": {
      "application/javascript": [
       "(function(root) {\n",
       "  function embed_document(root) {\n",
       "    \n",
       "  var docs_json = {\"42847075-de0e-42c7-b8de-2febc6bd948e\":{\"roots\":{\"references\":[{\"attributes\":{\"below\":[{\"id\":\"2543\",\"type\":\"LinearAxis\"}],\"center\":[{\"id\":\"2547\",\"type\":\"Grid\"},{\"id\":\"2552\",\"type\":\"Grid\"},{\"id\":\"2578\",\"type\":\"Legend\"}],\"left\":[{\"id\":\"2548\",\"type\":\"LinearAxis\"}],\"plot_height\":300,\"plot_width\":400,\"renderers\":[{\"id\":\"2569\",\"type\":\"GlyphRenderer\"},{\"id\":\"2583\",\"type\":\"GlyphRenderer\"},{\"id\":\"2597\",\"type\":\"GlyphRenderer\"},{\"id\":\"2613\",\"type\":\"GlyphRenderer\"},{\"id\":\"2632\",\"type\":\"GlyphRenderer\"},{\"id\":\"2652\",\"type\":\"GlyphRenderer\"},{\"id\":\"2674\",\"type\":\"GlyphRenderer\"},{\"id\":\"2699\",\"type\":\"GlyphRenderer\"},{\"id\":\"2725\",\"type\":\"GlyphRenderer\"},{\"id\":\"2753\",\"type\":\"GlyphRenderer\"},{\"id\":\"2784\",\"type\":\"GlyphRenderer\"},{\"id\":\"2816\",\"type\":\"GlyphRenderer\"},{\"id\":\"3163\",\"type\":\"GlyphRenderer\"},{\"id\":\"3456\",\"type\":\"GlyphRenderer\"},{\"id\":\"3755\",\"type\":\"GlyphRenderer\"},{\"id\":\"4060\",\"type\":\"GlyphRenderer\"}],\"title\":{\"id\":\"2571\",\"type\":\"Title\"},\"toolbar\":{\"id\":\"2559\",\"type\":\"Toolbar\"},\"x_range\":{\"id\":\"2535\",\"type\":\"DataRange1d\"},\"x_scale\":{\"id\":\"2539\",\"type\":\"LinearScale\"},\"y_range\":{\"id\":\"2537\",\"type\":\"DataRange1d\"},\"y_scale\":{\"id\":\"2541\",\"type\":\"LinearScale\"}},\"id\":\"2534\",\"subtype\":\"Figure\",\"type\":\"Plot\"},{\"attributes\":{\"data_source\":{\"id\":\"4056\",\"type\":\"ColumnDataSource\"},\"glyph\":{\"id\":\"4058\",\"type\":\"Circle\"},\"hover_glyph\":null,\"muted_glyph\":null,\"nonselection_glyph\":{\"id\":\"4059\",\"type\":\"Circle\"},\"selection_glyph\":null,\"view\":{\"id\":\"4061\",\"type\":\"CDSView\"}},\"id\":\"4060\",\"type\":\"GlyphRenderer\"},{\"attributes\":{},\"id\":\"2625\",\"type\":\"UnionRenderers\"},{\"attributes\":{},\"id\":\"2747\",\"type\":\"UnionRenderers\"},{\"attributes\":{\"fill_color\":{\"value\":\"#f28e2b\"},\"line_color\":{\"value\":\"#f28e2b\"},\"x\":{\"field\":\"impact force (mN)\"},\"y\":{\"field\":\"__ECDF\"}},\"id\":\"3454\",\"type\":\"Circle\"},{\"attributes\":{\"fill_color\":{\"value\":\"#e15759\"},\"line_color\":{\"value\":\"#e15759\"},\"x\":{\"field\":\"impact force (mN)\"},\"y\":{\"field\":\"__ECDF\"}},\"id\":\"3753\",\"type\":\"Circle\"},{\"attributes\":{},\"id\":\"2626\",\"type\":\"Selection\"},{\"attributes\":{},\"id\":\"2748\",\"type\":\"Selection\"},{\"attributes\":{},\"id\":\"4231\",\"type\":\"UnionRenderers\"},{\"attributes\":{\"label\":{\"value\":\"II\"},\"renderers\":[{\"id\":\"2613\",\"type\":\"GlyphRenderer\"},{\"id\":\"2632\",\"type\":\"GlyphRenderer\"},{\"id\":\"2652\",\"type\":\"GlyphRenderer\"},{\"id\":\"3456\",\"type\":\"GlyphRenderer\"}]},\"id\":\"2628\",\"type\":\"LegendItem\"},{\"attributes\":{\"callback\":null,\"data\":{},\"selected\":{\"id\":\"2669\",\"type\":\"Selection\"},\"selection_policy\":{\"id\":\"2668\",\"type\":\"UnionRenderers\"}},\"id\":\"2629\",\"type\":\"ColumnDataSource\"},{\"attributes\":{},\"id\":\"2558\",\"type\":\"HelpTool\"},{\"attributes\":{\"line_color\":\"#76b7b2\",\"line_width\":2,\"x\":{\"field\":\"x\"},\"y\":{\"field\":\"y\"}},\"id\":\"2751\",\"type\":\"Line\"},{\"attributes\":{},\"id\":\"3323\",\"type\":\"Selection\"},{\"attributes\":{\"angle\":{\"units\":\"rad\",\"value\":3.141592653589793},\"line_color\":{\"value\":\"#f28e2b\"},\"line_width\":{\"value\":2},\"x\":{\"value\":245.0},\"y\":{\"value\":0}},\"id\":\"2630\",\"type\":\"Ray\"},{\"attributes\":{\"line_alpha\":0.1,\"line_color\":\"#1f77b4\",\"line_width\":2,\"x\":{\"field\":\"x\"},\"y\":{\"field\":\"y\"}},\"id\":\"2752\",\"type\":\"Line\"},{\"attributes\":{\"callback\":null,\"data\":{\"ID\":[\"III\",\"III\",\"III\",\"III\",\"III\",\"III\",\"III\",\"III\",\"III\",\"III\",\"III\",\"III\",\"III\",\"III\",\"III\",\"III\",\"III\",\"III\",\"III\",\"III\"],\"__ECDF\":{\"__ndarray__\":\"ZmZmZmZm5j+amZmZmZnJP5qZmZmZmak/ZmZmZmZm7j/NzMzMzMzkPwAAAAAAAOA/zczMzMzM3D8zMzMzMzPjPwAAAAAAAPA/MzMzMzMz0z8AAAAAAADQPzMzMzMzM+s/mpmZmZmZ6T+amZmZmZnhP5qZmZmZmdk/mpmZmZmZuT8zMzMzMzPDPwAAAAAAAOg/zczMzMzM7D9mZmZmZmbWPw==\",\"dtype\":\"float64\",\"shape\":[20]},\"__label\":[\"III\",\"III\",\"III\",\"III\",\"III\",\"III\",\"III\",\"III\",\"III\",\"III\",\"III\",\"III\",\"III\",\"III\",\"III\",\"III\",\"III\",\"III\",\"III\",\"III\"],\"adhesive force (mN)\":[-94,-163,-172,-225,-301,-93,-131,-289,-104,-229,-259,-231,-267,-178,-123,-151,-127,-372,-236,-390],\"adhesive force / body weight\":{\"__ndarray__\":\"UrgehetR6D/2KFyPwvX0PxSuR+F6FPY/9ihcj8L1/D9cj8L1KFwDQAAAAAAAAOg/zczMzMzM8D+kcD0K16MCQOF6FK5H4eo/mpmZmZmZ/T+kcD0K16MAQMP1KFyPwv0/H4XrUbgeAUDhehSuR+H2P65H4XoUru8/hetRuB6F8z9SuB6F61HwP+xRuB6F6wdAZmZmZmZm/j8fhetRuB4JQA==\",\"dtype\":\"float64\",\"shape\":[20]},\"adhesive impulse (N-s)\":{\"__ndarray__\":\"/Knx0k1iUL/8qfHSTWKgv9NNYhBYObS/TDeJQWDlwL/Xo3A9CtfDvylcj8L1KLy/PN9PjZduor/jpZvEILCyvylcj8L1KKy/76fGSzeJwb+hRbbz/dTIvxsv3SQGgaW/BoGVQ4tsx7+cxCCwcmihvxgEVg4tsp2/yqFFtvP9tL+F61G4HoXLv+xRuB6F68G/aZHtfD81vr86tMh2vp/Kvw==\",\"dtype\":\"float64\",\"shape\":[20]},\"adhesive strength (Pa)\":[-967,-1507,-3149,-1818,-2354,-2181,-1005,-2555,-902,-2580,-2855,-2819,-2213,-9364,-5843,-4882,-896,-5136,-1834,-3492],\"contact area with mucus / contact area without mucus\":{\"__ndarray__\":\"j8L1KFyP6j8zMzMzMzPjP65H4XoUrtc/pHA9Ctej6D97FK5H4XqUP7gehetRuOY/AAAAAAAA8D+4HoXrUbjePx+F61G4HuU/ZmZmZmZm7j8zMzMzMzPDP3sUrkfheoQ/zczMzMzM7D+amZmZmZmpP5qZmZmZmak/uB6F61G4nj+F61G4HoXrP+F6FK5H4do/exSuR+F6xD/2KFyPwvXYPw==\",\"dtype\":\"float64\",\"shape\":[20]},\"contact area without mucus (mm2)\":[15,10,23,17,43,34,74,4,55,6,88,23,58,17,29,126,12,1,0,58],\"contact pressure (Pa)\":[6326,3824,5946,6272,4770,12699,4130,5110,6993,5165,5048,7633,5152,28641,25471,12409,2835,8475,5171,4376],\"date\":[\"2013_05_27\",\"2013_05_27\",\"2013_05_27\",\"2013_06_11\",\"2013_06_11\",\"2013_06_11\",\"2013_06_14\",\"2013_06_14\",\"2013_06_18\",\"2013_06_18\",\"2013_06_18\",\"2013_06_18\",\"2013_06_21\",\"2013_06_21\",\"2013_06_21\",\"2013_06_21\",\"2013_06_26\",\"2013_06_26\",\"2013_06_26\",\"2013_06_26\"],\"impact force (mN)\":[614,414,324,776,611,544,538,579,806,459,458,626,621,544,535,385,401,614,665,488],\"impact force / body weight\":{\"__ndarray__\":\"w/UoXI/CE0CkcD0K16MKQOF6FK5H4QRA9ihcj8L1GECkcD0K16MTQIXrUbgehRFASOF6FK5HEUCkcD0K16MSQPYoXI/C9RlAmpmZmZmZDUCF61G4HoUNQClcj8L1KBRA9ihcj8L1E0CF61G4HoURQDMzMzMzMxFAuB6F61G4CEDXo3A9CtcJQMP1KFyPwhNAZmZmZmZmFUBxPQrXo3APQA==\",\"dtype\":\"float64\",\"shape\":[20]},\"impact time (ms)\":[88,143,105,35,29,16,38,31,29,32,30,16,27,30,35,39,36,34,40,34],\"index\":[40,41,42,43,44,45,46,47,48,49,50,51,52,53,54,55,56,57,58,59],\"time frog pulls on target (ms)\":[683,245,619,1823,918,1351,1790,1006,883,1218,910,550,2081,376,289,607,2932,680,685,1308],\"total contact area (mm2)\":[97,108,55,124,128,43,130,113,115,89,91,82,120,19,21,31,142,72,129,112],\"trial number\":[1,2,3,1,2,3,1,2,1,2,3,4,1,2,3,4,1,2,3,4]},\"selected\":{\"id\":\"3923\",\"type\":\"Selection\"},\"selection_policy\":{\"id\":\"3922\",\"type\":\"UnionRenderers\"}},\"id\":\"3751\",\"type\":\"ColumnDataSource\"},{\"attributes\":{\"data_source\":{\"id\":\"2750\",\"type\":\"ColumnDataSource\"},\"glyph\":{\"id\":\"2751\",\"type\":\"Line\"},\"hover_glyph\":null,\"muted_glyph\":null,\"nonselection_glyph\":{\"id\":\"2752\",\"type\":\"Line\"},\"selection_glyph\":null,\"view\":{\"id\":\"2754\",\"type\":\"CDSView\"}},\"id\":\"2753\",\"type\":\"GlyphRenderer\"},{\"attributes\":{\"angle\":{\"units\":\"rad\",\"value\":3.141592653589793},\"line_alpha\":{\"value\":0.1},\"line_color\":{\"value\":\"#1f77b4\"},\"line_width\":{\"value\":2},\"x\":{\"value\":245.0},\"y\":{\"value\":0}},\"id\":\"2631\",\"type\":\"Ray\"},{\"attributes\":{\"source\":{\"id\":\"3159\",\"type\":\"ColumnDataSource\"}},\"id\":\"3164\",\"type\":\"CDSView\"},{\"attributes\":{\"data_source\":{\"id\":\"2629\",\"type\":\"ColumnDataSource\"},\"glyph\":{\"id\":\"2630\",\"type\":\"Ray\"},\"hover_glyph\":null,\"muted_glyph\":null,\"nonselection_glyph\":{\"id\":\"2631\",\"type\":\"Ray\"},\"selection_glyph\":null,\"view\":{\"id\":\"2633\",\"type\":\"CDSView\"}},\"id\":\"2632\",\"type\":\"GlyphRenderer\"},{\"attributes\":{\"source\":{\"id\":\"2750\",\"type\":\"ColumnDataSource\"}},\"id\":\"2754\",\"type\":\"CDSView\"},{\"attributes\":{},\"id\":\"2970\",\"type\":\"UnionRenderers\"},{\"attributes\":{\"source\":{\"id\":\"2629\",\"type\":\"ColumnDataSource\"}},\"id\":\"2633\",\"type\":\"CDSView\"},{\"attributes\":{},\"id\":\"2777\",\"type\":\"UnionRenderers\"},{\"attributes\":{},\"id\":\"2647\",\"type\":\"Selection\"},{\"attributes\":{},\"id\":\"2778\",\"type\":\"Selection\"},{\"attributes\":{},\"id\":\"3620\",\"type\":\"Selection\"},{\"attributes\":{\"label\":{\"value\":\"IV\"},\"renderers\":[{\"id\":\"2753\",\"type\":\"GlyphRenderer\"},{\"id\":\"2784\",\"type\":\"GlyphRenderer\"},{\"id\":\"2816\",\"type\":\"GlyphRenderer\"},{\"id\":\"4060\",\"type\":\"GlyphRenderer\"}]},\"id\":\"2780\",\"type\":\"LegendItem\"},{\"attributes\":{},\"id\":\"3619\",\"type\":\"UnionRenderers\"},{\"attributes\":{\"callback\":null,\"data\":{},\"selected\":{\"id\":\"2693\",\"type\":\"Selection\"},\"selection_policy\":{\"id\":\"2692\",\"type\":\"UnionRenderers\"}},\"id\":\"2649\",\"type\":\"ColumnDataSource\"},{\"attributes\":{\"angle\":{\"units\":\"rad\",\"value\":0},\"line_color\":{\"value\":\"#f28e2b\"},\"line_width\":{\"value\":2},\"x\":{\"value\":1612.0},\"y\":{\"value\":1}},\"id\":\"2650\",\"type\":\"Ray\"},{\"attributes\":{\"callback\":null,\"data\":{},\"selected\":{\"id\":\"2845\",\"type\":\"Selection\"},\"selection_policy\":{\"id\":\"2844\",\"type\":\"UnionRenderers\"}},\"id\":\"2781\",\"type\":\"ColumnDataSource\"},{\"attributes\":{\"angle\":{\"units\":\"rad\",\"value\":0},\"line_alpha\":{\"value\":0.1},\"line_color\":{\"value\":\"#1f77b4\"},\"line_width\":{\"value\":2},\"x\":{\"value\":1612.0},\"y\":{\"value\":1}},\"id\":\"2651\",\"type\":\"Ray\"},{\"attributes\":{\"angle\":{\"units\":\"rad\",\"value\":3.141592653589793},\"line_color\":{\"value\":\"#76b7b2\"},\"line_width\":{\"value\":2},\"x\":{\"value\":22.0},\"y\":{\"value\":0}},\"id\":\"2782\",\"type\":\"Ray\"},{\"attributes\":{\"source\":{\"id\":\"3452\",\"type\":\"ColumnDataSource\"}},\"id\":\"3457\",\"type\":\"CDSView\"},{\"attributes\":{\"data_source\":{\"id\":\"3452\",\"type\":\"ColumnDataSource\"},\"glyph\":{\"id\":\"3454\",\"type\":\"Circle\"},\"hover_glyph\":null,\"muted_glyph\":null,\"nonselection_glyph\":{\"id\":\"3455\",\"type\":\"Circle\"},\"selection_glyph\":null,\"view\":{\"id\":\"3457\",\"type\":\"CDSView\"}},\"id\":\"3456\",\"type\":\"GlyphRenderer\"},{\"attributes\":{\"data_source\":{\"id\":\"2649\",\"type\":\"ColumnDataSource\"},\"glyph\":{\"id\":\"2650\",\"type\":\"Ray\"},\"hover_glyph\":null,\"muted_glyph\":null,\"nonselection_glyph\":{\"id\":\"2651\",\"type\":\"Ray\"},\"selection_glyph\":null,\"view\":{\"id\":\"2653\",\"type\":\"CDSView\"}},\"id\":\"2652\",\"type\":\"GlyphRenderer\"},{\"attributes\":{\"active_drag\":\"auto\",\"active_inspect\":\"auto\",\"active_multi\":null,\"active_scroll\":\"auto\",\"active_tap\":\"auto\",\"tools\":[{\"id\":\"2553\",\"type\":\"PanTool\"},{\"id\":\"2554\",\"type\":\"WheelZoomTool\"},{\"id\":\"2555\",\"type\":\"BoxZoomTool\"},{\"id\":\"2556\",\"type\":\"SaveTool\"},{\"id\":\"2557\",\"type\":\"ResetTool\"},{\"id\":\"2558\",\"type\":\"HelpTool\"}]},\"id\":\"2559\",\"type\":\"Toolbar\"},{\"attributes\":{\"angle\":{\"units\":\"rad\",\"value\":3.141592653589793},\"line_alpha\":{\"value\":0.1},\"line_color\":{\"value\":\"#1f77b4\"},\"line_width\":{\"value\":2},\"x\":{\"value\":22.0},\"y\":{\"value\":0}},\"id\":\"2783\",\"type\":\"Ray\"},{\"attributes\":{\"data_source\":{\"id\":\"2781\",\"type\":\"ColumnDataSource\"},\"glyph\":{\"id\":\"2782\",\"type\":\"Ray\"},\"hover_glyph\":null,\"muted_glyph\":null,\"nonselection_glyph\":{\"id\":\"2783\",\"type\":\"Ray\"},\"selection_glyph\":null,\"view\":{\"id\":\"2785\",\"type\":\"CDSView\"}},\"id\":\"2784\",\"type\":\"GlyphRenderer\"},{\"attributes\":{\"source\":{\"id\":\"2649\",\"type\":\"ColumnDataSource\"}},\"id\":\"2653\",\"type\":\"CDSView\"},{\"attributes\":{\"fill_alpha\":{\"value\":0.1},\"fill_color\":{\"value\":\"#1f77b4\"},\"line_alpha\":{\"value\":0.1},\"line_color\":{\"value\":\"#1f77b4\"},\"x\":{\"field\":\"impact force (mN)\"},\"y\":{\"field\":\"__ECDF\"}},\"id\":\"3455\",\"type\":\"Circle\"},{\"attributes\":{\"source\":{\"id\":\"2781\",\"type\":\"ColumnDataSource\"}},\"id\":\"2785\",\"type\":\"CDSView\"},{\"attributes\":{},\"id\":\"2553\",\"type\":\"PanTool\"},{\"attributes\":{},\"id\":\"2668\",\"type\":\"UnionRenderers\"},{\"attributes\":{},\"id\":\"2556\",\"type\":\"SaveTool\"},{\"attributes\":{},\"id\":\"2669\",\"type\":\"Selection\"},{\"attributes\":{},\"id\":\"2810\",\"type\":\"UnionRenderers\"},{\"attributes\":{},\"id\":\"4232\",\"type\":\"Selection\"},{\"attributes\":{\"source\":{\"id\":\"4056\",\"type\":\"ColumnDataSource\"}},\"id\":\"4061\",\"type\":\"CDSView\"},{\"attributes\":{},\"id\":\"2557\",\"type\":\"ResetTool\"},{\"attributes\":{\"data_source\":{\"id\":\"3159\",\"type\":\"ColumnDataSource\"},\"glyph\":{\"id\":\"3161\",\"type\":\"Circle\"},\"hover_glyph\":null,\"muted_glyph\":null,\"nonselection_glyph\":{\"id\":\"3162\",\"type\":\"Circle\"},\"selection_glyph\":null,\"view\":{\"id\":\"3164\",\"type\":\"CDSView\"}},\"id\":\"3163\",\"type\":\"GlyphRenderer\"},{\"attributes\":{},\"id\":\"2811\",\"type\":\"Selection\"},{\"attributes\":{\"callback\":null,\"data\":{},\"selected\":{\"id\":\"2971\",\"type\":\"Selection\"},\"selection_policy\":{\"id\":\"2970\",\"type\":\"UnionRenderers\"}},\"id\":\"2813\",\"type\":\"ColumnDataSource\"},{\"attributes\":{},\"id\":\"3923\",\"type\":\"Selection\"},{\"attributes\":{\"line_color\":\"#e15759\",\"line_width\":2,\"x\":{\"field\":\"x\"},\"y\":{\"field\":\"y\"}},\"id\":\"2672\",\"type\":\"Line\"},{\"attributes\":{\"line_alpha\":0.1,\"line_color\":\"#1f77b4\",\"line_width\":2,\"x\":{\"field\":\"x\"},\"y\":{\"field\":\"y\"}},\"id\":\"2673\",\"type\":\"Line\"},{\"attributes\":{\"angle\":{\"units\":\"rad\",\"value\":0},\"line_color\":{\"value\":\"#76b7b2\"},\"line_width\":{\"value\":2},\"x\":{\"value\":815.0},\"y\":{\"value\":1}},\"id\":\"2814\",\"type\":\"Ray\"},{\"attributes\":{},\"id\":\"3922\",\"type\":\"UnionRenderers\"},{\"attributes\":{\"dimension\":1,\"ticker\":{\"id\":\"2549\",\"type\":\"BasicTicker\"}},\"id\":\"2552\",\"type\":\"Grid\"},{\"attributes\":{\"data_source\":{\"id\":\"2671\",\"type\":\"ColumnDataSource\"},\"glyph\":{\"id\":\"2672\",\"type\":\"Line\"},\"hover_glyph\":null,\"muted_glyph\":null,\"nonselection_glyph\":{\"id\":\"2673\",\"type\":\"Line\"},\"selection_glyph\":null,\"view\":{\"id\":\"2675\",\"type\":\"CDSView\"}},\"id\":\"2674\",\"type\":\"GlyphRenderer\"},{\"attributes\":{\"angle\":{\"units\":\"rad\",\"value\":0},\"line_alpha\":{\"value\":0.1},\"line_color\":{\"value\":\"#1f77b4\"},\"line_width\":{\"value\":2},\"x\":{\"value\":815.0},\"y\":{\"value\":1}},\"id\":\"2815\",\"type\":\"Ray\"},{\"attributes\":{},\"id\":\"2549\",\"type\":\"BasicTicker\"},{\"attributes\":{\"data_source\":{\"id\":\"2813\",\"type\":\"ColumnDataSource\"},\"glyph\":{\"id\":\"2814\",\"type\":\"Ray\"},\"hover_glyph\":null,\"muted_glyph\":null,\"nonselection_glyph\":{\"id\":\"2815\",\"type\":\"Ray\"},\"selection_glyph\":null,\"view\":{\"id\":\"2817\",\"type\":\"CDSView\"}},\"id\":\"2816\",\"type\":\"GlyphRenderer\"},{\"attributes\":{\"source\":{\"id\":\"2671\",\"type\":\"ColumnDataSource\"}},\"id\":\"2675\",\"type\":\"CDSView\"},{\"attributes\":{\"source\":{\"id\":\"3751\",\"type\":\"ColumnDataSource\"}},\"id\":\"3756\",\"type\":\"CDSView\"},{\"attributes\":{\"data_source\":{\"id\":\"3751\",\"type\":\"ColumnDataSource\"},\"glyph\":{\"id\":\"3753\",\"type\":\"Circle\"},\"hover_glyph\":null,\"muted_glyph\":null,\"nonselection_glyph\":{\"id\":\"3754\",\"type\":\"Circle\"},\"selection_glyph\":null,\"view\":{\"id\":\"3756\",\"type\":\"CDSView\"}},\"id\":\"3755\",\"type\":\"GlyphRenderer\"},{\"attributes\":{\"source\":{\"id\":\"2813\",\"type\":\"ColumnDataSource\"}},\"id\":\"2817\",\"type\":\"CDSView\"},{\"attributes\":{\"overlay\":{\"id\":\"2577\",\"type\":\"BoxAnnotation\"}},\"id\":\"2555\",\"type\":\"BoxZoomTool\"},{\"attributes\":{},\"id\":\"2692\",\"type\":\"UnionRenderers\"},{\"attributes\":{\"fill_alpha\":{\"value\":0.1},\"fill_color\":{\"value\":\"#1f77b4\"},\"line_alpha\":{\"value\":0.1},\"line_color\":{\"value\":\"#1f77b4\"},\"x\":{\"field\":\"impact force (mN)\"},\"y\":{\"field\":\"__ECDF\"}},\"id\":\"3754\",\"type\":\"Circle\"},{\"attributes\":{},\"id\":\"2693\",\"type\":\"Selection\"},{\"attributes\":{},\"id\":\"2844\",\"type\":\"UnionRenderers\"},{\"attributes\":{\"label\":{\"value\":\"III\"},\"renderers\":[{\"id\":\"2674\",\"type\":\"GlyphRenderer\"},{\"id\":\"2699\",\"type\":\"GlyphRenderer\"},{\"id\":\"2725\",\"type\":\"GlyphRenderer\"},{\"id\":\"3755\",\"type\":\"GlyphRenderer\"}]},\"id\":\"2695\",\"type\":\"LegendItem\"},{\"attributes\":{},\"id\":\"2845\",\"type\":\"Selection\"},{\"attributes\":{\"fill_alpha\":{\"value\":0.1},\"fill_color\":{\"value\":\"#1f77b4\"},\"line_alpha\":{\"value\":0.1},\"line_color\":{\"value\":\"#1f77b4\"},\"x\":{\"field\":\"impact force (mN)\"},\"y\":{\"field\":\"__ECDF\"}},\"id\":\"4059\",\"type\":\"Circle\"},{\"attributes\":{\"callback\":null,\"data\":{},\"selected\":{\"id\":\"2748\",\"type\":\"Selection\"},\"selection_policy\":{\"id\":\"2747\",\"type\":\"UnionRenderers\"}},\"id\":\"2696\",\"type\":\"ColumnDataSource\"},{\"attributes\":{\"fill_color\":{\"value\":\"#76b7b2\"},\"line_color\":{\"value\":\"#76b7b2\"},\"x\":{\"field\":\"impact force (mN)\"},\"y\":{\"field\":\"__ECDF\"}},\"id\":\"4058\",\"type\":\"Circle\"},{\"attributes\":{\"angle\":{\"units\":\"rad\",\"value\":3.141592653589793},\"line_color\":{\"value\":\"#e15759\"},\"line_width\":{\"value\":2},\"x\":{\"value\":324.0},\"y\":{\"value\":0}},\"id\":\"2697\",\"type\":\"Ray\"},{\"attributes\":{\"angle\":{\"units\":\"rad\",\"value\":3.141592653589793},\"line_alpha\":{\"value\":0.1},\"line_color\":{\"value\":\"#1f77b4\"},\"line_width\":{\"value\":2},\"x\":{\"value\":324.0},\"y\":{\"value\":0}},\"id\":\"2698\",\"type\":\"Ray\"},{\"attributes\":{\"data_source\":{\"id\":\"2696\",\"type\":\"ColumnDataSource\"},\"glyph\":{\"id\":\"2697\",\"type\":\"Ray\"},\"hover_glyph\":null,\"muted_glyph\":null,\"nonselection_glyph\":{\"id\":\"2698\",\"type\":\"Ray\"},\"selection_glyph\":null,\"view\":{\"id\":\"2700\",\"type\":\"CDSView\"}},\"id\":\"2699\",\"type\":\"GlyphRenderer\"},{\"attributes\":{\"callback\":null,\"data\":{\"ID\":[\"II\",\"II\",\"II\",\"II\",\"II\",\"II\",\"II\",\"II\",\"II\",\"II\",\"II\",\"II\",\"II\",\"II\",\"II\",\"II\",\"II\",\"II\",\"II\",\"II\"],\"__ECDF\":{\"__ndarray__\":\"AAAAAAAA8D+amZmZmZnhP5qZmZmZmck/mpmZmZmZ6T8AAAAAAADgP2ZmZmZmZu4/zczMzMzM3D8zMzMzMzPjP83MzMzMzOw/MzMzMzMzwz/NzMzMzMzkP5qZmZmZmbk/AAAAAAAA6D+amZmZmZmpPzMzMzMzM+s/mpmZmZmZ2T8zMzMzMzPTPwAAAAAAANA/ZmZmZmZm1j9mZmZmZmbmPw==\",\"dtype\":\"float64\",\"shape\":[20]},\"__label\":[\"II\",\"II\",\"II\",\"II\",\"II\",\"II\",\"II\",\"II\",\"II\",\"II\",\"II\",\"II\",\"II\",\"II\",\"II\",\"II\",\"II\",\"II\",\"II\",\"II\"],\"adhesive force (mN)\":[-655,-292,-246,-245,-553,-664,-261,-691,-92,-566,-223,-512,-227,-573,-522,-599,-364,-469,-844,-648],\"adhesive force / body weight\":{\"__ndarray__\":\"pHA9Ctej+D8UrkfhehTmP4/C9Shcj+I/j8L1KFyP4j/NzMzMzMz0P/YoXI/C9fg/hetRuB6F4z8UrkfhehT6Pylcj8L1KMw/SOF6FK5H9T+kcD0K16PgPzMzMzMzM/M/9ihcj8L14D+amZmZmZn1P65H4XoUrvM/j8L1KFyP9j+F61G4HoXrP5qZmZmZmfE/16NwPQrX/z9SuB6F61H4Pw==\",\"dtype\":\"float64\",\"shape\":[20]},\"adhesive impulse (N-s)\":{\"__ndarray__\":\"pHA9Ctej2L83iUFg5dDSvz81XrpJDNK/w/UoXI/C1b/azvdT46Xbv1pkO99Pjae/5dAi2/l+2r+TGARWDi2yv/yp8dJNYoC/Gy/dJAaBtb+Nl24Sg8DKvylcj8L1KKy/OrTIdr6fmr+F61G4HoXLv2mR7Xw/Nb6/IbByaJHtzL82XrpJDALLv6RwPQrXo9C/yqFFtvP91L9g5dAi2/m+vw==\",\"dtype\":\"float64\",\"shape\":[20]},\"adhesive strength (Pa)\":[-1881,-1177,-1894,-2301,-2004,-7802,-803,-2860,-678,-4506,-942,-17652,-1101,-3014,-1860,-2757,-1927,-2129,-4925,-4573],\"contact area with mucus / contact area without mucus\":{\"__ndarray__\":\"uB6F61G47j/NzMzMzMzsP65H4XoUruc/UrgehetR6D8UrkfhehTuPwrXo3A9Cuc/zczMzMzM7D8K16NwPQrnPwAAAAAAAPA/CtejcD0K7z8K16NwPQrvP7gehetRuJ4/AAAAAAAA8D9SuB6F61HoPwAAAAAAAPA/AAAAAAAA8D/2KFyPwvXgP3E9CtejcOU/UrgehetR2D9mZmZmZmbmPw==\",\"dtype\":\"float64\",\"shape\":[20]},\"contact area without mucus (mm2)\":[15,24,34,26,16,24,33,67,0,4,8,28,0,46,0,0,89,72,106,43],\"contact pressure (Pa)\":[4633,2441,2517,8893,1959,18073,1627,2600,10645,2367,2972,9279,3647,1288,4213,2369,2302,1737,2665,5149],\"date\":[\"2013_03_19\",\"2013_03_19\",\"2013_03_19\",\"2013_03_19\",\"2013_03_21\",\"2013_03_21\",\"2013_03_21\",\"2013_03_21\",\"2013_03_25\",\"2013_03_25\",\"2013_03_25\",\"2013_03_25\",\"2013_03_28\",\"2013_03_28\",\"2013_04_03\",\"2013_04_03\",\"2013_04_08\",\"2013_04_08\",\"2013_04_08\",\"2013_04_12\"],\"impact force (mN)\":[1612,605,327,946,541,1539,529,628,1453,297,703,269,751,245,1182,515,435,383,457,730],\"impact force / body weight\":{\"__ndarray__\":\"UrgehetRDkC4HoXrUbj2P6RwPQrXo+g/16NwPQrXAUBSuB6F61H0P/YoXI/C9QxA16NwPQrX8z+uR+F6FK73P1yPwvUoXAtAZmZmZmZm5j9mZmZmZmb6Pylcj8L1KOQ/UrgehetR/D+PwvUoXI/iPz0K16NwPQZAXI/C9Shc8z9SuB6F61HwP83MzMzMzOw/SOF6FK5H8T+F61G4HoX7Pw==\",\"dtype\":\"float64\",\"shape\":[20]},\"impact time (ms)\":[18,55,51,59,33,43,28,31,72,42,33,57,39,21,28,29,26,31,15,42],\"index\":[20,21,22,23,24,25,26,27,28,29,30,31,32,33,34,35,36,37,38,39],\"time frog pulls on target (ms)\":[3087,1261,1508,1841,3126,741,2482,998,1652,936,2152,189,1195,1466,1197,1486,1017,974,780,786],\"total contact area (mm2)\":[348,248,130,106,276,85,325,242,136,126,237,29,206,190,281,217,189,221,171,142],\"trial number\":[1,2,3,4,1,2,3,4,1,2,3,4,1,2,1,2,1,2,3,1]},\"selected\":{\"id\":\"3620\",\"type\":\"Selection\"},\"selection_policy\":{\"id\":\"3619\",\"type\":\"UnionRenderers\"}},\"id\":\"3452\",\"type\":\"ColumnDataSource\"},{\"attributes\":{\"callback\":null,\"data\":{\"ID\":[\"I\",\"I\",\"I\",\"I\",\"I\",\"I\",\"I\",\"I\",\"I\",\"I\",\"I\",\"I\",\"I\",\"I\",\"I\",\"I\",\"I\",\"I\",\"I\",\"I\"],\"__ECDF\":{\"__ndarray__\":\"AAAAAAAA0D9mZmZmZmbuP83MzMzMzOQ/mpmZmZmZ4T+amZmZmZm5P83MzMzMzOw/MzMzMzMzwz+amZmZmZnpPwAAAAAAAPA/AAAAAAAA6D9mZmZmZmbmPwAAAAAAAOA/mpmZmZmZ2T8zMzMzMzPjP83MzMzMzNw/ZmZmZmZm1j+amZmZmZnJPzMzMzMzM+s/MzMzMzMz0z+amZmZmZmpPw==\",\"dtype\":\"float64\",\"shape\":[20]},\"__label\":[\"I\",\"I\",\"I\",\"I\",\"I\",\"I\",\"I\",\"I\",\"I\",\"I\",\"I\",\"I\",\"I\",\"I\",\"I\",\"I\",\"I\",\"I\",\"I\",\"I\"],\"adhesive force (mN)\":[-785,-983,-850,-455,-974,-592,-512,-804,-690,-462,-766,-715,-613,-677,-528,-452,-430,-652,-692,-536],\"adhesive force / body weight\":{\"__ndarray__\":\"UrgehetR9D9xPQrXo3D5P+xRuB6F6/U/rkfhehSu5z8fhetRuB75P7gehetRuO4/j8L1KFyP6j/NzMzMzMz0P+xRuB6F6/E/AAAAAAAA6D/Xo3A9CtfzP2ZmZmZmZvI/rkfhehSu7z9xPQrXo3DxPzMzMzMzM+s/XI/C9Shc5z9mZmZmZmbmP83MzMzMzPA/7FG4HoXr8T/Xo3A9CtfrPw==\",\"dtype\":\"float64\",\"shape\":[20]},\"adhesive impulse (N-s)\":{\"__ndarray__\":\"j8L1KFyP0r9fukkMAivHv39qvHSTGMS/w/UoXI/Cxb/fT42XbhLbv7tJDAIrh8a/PQrXo3A90r89CtejcD3Sv2Q730+Nl86/yqFFtvP91L9SuB6F61HYv99PjZduEtO/+n5qvHST6L9zaJHtfD/dv2Q730+Nl9a//tR46SYx0L9Ei2zn+6nRv6abxCCwctC/fT81XrpJ1L+mm8QgsHLYvw==\",\"dtype\":\"float64\",\"shape\":[20]},\"adhesive strength (Pa)\":[-2030,-9695,-10239,-1381,-3975,-1737,-1427,-3266,-2568,-1733,-1879,-5064,-1348,-3636,-3453,-1557,-1677,-4425,-1901,-2073],\"contact area with mucus / contact area without mucus\":{\"__ndarray__\":\"PQrXo3A96j/sUbgeheuxP5qZmZmZmak/pHA9Ctej4D+4HoXrUbi+PxSuR+F6FOY/FK5H4XoU5j/sUbgehevRP8P1KFyPwsU/w/UoXI/C1T9xPQrXo3DtP+F6FK5H4co/mpmZmZmZ6T/Xo3A9CtfTP7gehetRuJ4/exSuR+F65D+kcD0K16PgPwrXo3A9Crc/7FG4HoXr0T9mZmZmZmbWPw==\",\"dtype\":\"float64\",\"shape\":[20]},\"contact area without mucus (mm2)\":[70,94,79,158,216,106,110,178,224,176,33,112,92,129,148,105,124,134,260,168],\"contact pressure (Pa)\":[3117,24923,21020,4718,2012,6676,1550,7832,9824,7122,4638,10947,2874,9089,10095,4419,3019,13784,3406,1830],\"date\":[\"2013_02_26\",\"2013_02_26\",\"2013_03_01\",\"2013_03_01\",\"2013_03_01\",\"2013_03_01\",\"2013_03_05\",\"2013_03_05\",\"2013_03_05\",\"2013_03_05\",\"2013_03_12\",\"2013_03_12\",\"2013_03_12\",\"2013_03_12\",\"2013_03_12\",\"2013_03_15\",\"2013_03_15\",\"2013_03_15\",\"2013_03_15\",\"2013_03_15\"],\"impact force (mN)\":[1205,2527,1745,1556,493,2276,556,1928,2641,1897,1891,1545,1307,1692,1543,1282,775,2032,1240,473],\"impact force / body weight\":{\"__ndarray__\":\"MzMzMzMz/z9SuB6F61EQQI/C9ShcjwZAFK5H4XoUBECamZmZmZnpP3E9CtejcA1AzczMzMzM7D/hehSuR+EIQBSuR+F6FBFAexSuR+F6CEB7FK5H4XoIQAAAAAAAAARA4XoUrkfhAEDXo3A9CtcFQOxRuB6F6wNAj8L1KFyPAEAAAAAAAAD0Pz0K16NwPQpAAAAAAAAAAEBSuB6F61HoPw==\",\"dtype\":\"float64\",\"shape\":[20]},\"impact time (ms)\":[46,44,34,41,36,31,43,46,50,41,40,48,29,31,38,31,34,60,34,40],\"index\":[0,1,2,3,4,5,6,7,8,9,10,11,12,13,14,15,16,17,18,19],\"time frog pulls on target (ms)\":[884,248,211,1025,499,969,835,508,491,839,1069,649,1845,917,750,785,837,486,906,1218],\"total contact area (mm2)\":[387,101,83,330,245,341,359,246,269,266,408,141,455,186,153,290,257,147,364,259],\"trial number\":[3,4,1,2,3,4,1,2,3,4,1,2,3,4,5,1,2,3,4,5]},\"selected\":{\"id\":\"3323\",\"type\":\"Selection\"},\"selection_policy\":{\"id\":\"3322\",\"type\":\"UnionRenderers\"}},\"id\":\"3159\",\"type\":\"ColumnDataSource\"},{\"attributes\":{\"source\":{\"id\":\"2696\",\"type\":\"ColumnDataSource\"}},\"id\":\"2700\",\"type\":\"CDSView\"},{\"attributes\":{},\"id\":\"2719\",\"type\":\"UnionRenderers\"},{\"attributes\":{},\"id\":\"2554\",\"type\":\"WheelZoomTool\"},{\"attributes\":{},\"id\":\"2720\",\"type\":\"Selection\"},{\"attributes\":{\"callback\":null,\"data\":{},\"selected\":{\"id\":\"2778\",\"type\":\"Selection\"},\"selection_policy\":{\"id\":\"2777\",\"type\":\"UnionRenderers\"}},\"id\":\"2722\",\"type\":\"ColumnDataSource\"},{\"attributes\":{\"angle\":{\"units\":\"rad\",\"value\":0},\"line_color\":{\"value\":\"#e15759\"},\"line_width\":{\"value\":2},\"x\":{\"value\":806.0},\"y\":{\"value\":1}},\"id\":\"2723\",\"type\":\"Ray\"},{\"attributes\":{\"angle\":{\"units\":\"rad\",\"value\":0},\"line_alpha\":{\"value\":0.1},\"line_color\":{\"value\":\"#1f77b4\"},\"line_width\":{\"value\":2},\"x\":{\"value\":806.0},\"y\":{\"value\":1}},\"id\":\"2724\",\"type\":\"Ray\"},{\"attributes\":{\"data_source\":{\"id\":\"2722\",\"type\":\"ColumnDataSource\"},\"glyph\":{\"id\":\"2723\",\"type\":\"Ray\"},\"hover_glyph\":null,\"muted_glyph\":null,\"nonselection_glyph\":{\"id\":\"2724\",\"type\":\"Ray\"},\"selection_glyph\":null,\"view\":{\"id\":\"2726\",\"type\":\"CDSView\"}},\"id\":\"2725\",\"type\":\"GlyphRenderer\"},{\"attributes\":{\"source\":{\"id\":\"2722\",\"type\":\"ColumnDataSource\"}},\"id\":\"2726\",\"type\":\"CDSView\"},{\"attributes\":{\"callback\":null,\"data\":{\"ID\":[\"IV\",\"IV\",\"IV\",\"IV\",\"IV\",\"IV\",\"IV\",\"IV\",\"IV\",\"IV\",\"IV\",\"IV\",\"IV\",\"IV\",\"IV\",\"IV\",\"IV\",\"IV\",\"IV\",\"IV\"],\"__ECDF\":{\"__ndarray__\":\"mpmZmZmZyT8zMzMzMzPDP5qZmZmZmbk/AAAAAAAA4D+amZmZmZnZP5qZmZmZmak/MzMzMzMz4z9mZmZmZmbWP2ZmZmZmZu4/ZmZmZmZm5j8AAAAAAADQPzMzMzMzM9M/AAAAAAAA6D/NzMzMzMzkPwAAAAAAAPA/zczMzMzM3D+amZmZmZnpP83MzMzMzOw/MzMzMzMz6z+amZmZmZnhPw==\",\"dtype\":\"float64\",\"shape\":[20]},\"__label\":[\"IV\",\"IV\",\"IV\",\"IV\",\"IV\",\"IV\",\"IV\",\"IV\",\"IV\",\"IV\",\"IV\",\"IV\",\"IV\",\"IV\",\"IV\",\"IV\",\"IV\",\"IV\",\"IV\",\"IV\"],\"adhesive force (mN)\":[-456,-193,-236,-225,-217,-161,-139,-264,-342,-231,-209,-292,-339,-371,-331,-302,-216,-163,-367,-218],\"adhesive force / body weight\":{\"__ndarray__\":\"MzMzMzMzC0AK16NwPQr3Pylcj8L1KPw/4XoUrkfh+j/D9Shcj8L5PzMzMzMzM/M/pHA9Ctej8D+F61G4HoX/P2ZmZmZmZgRAhetRuB6F+z/NzMzMzMz4P1yPwvUoXAFAPQrXo3A9BEAUrkfhehQGQMP1KFyPwgNAAAAAAAAAAkDD9Shcj8L5P1yPwvUoXPM/16NwPQrXBUAUrkfhehT6Pw==\",\"dtype\":\"float64\",\"shape\":[20]},\"adhesive impulse (N-s)\":{\"__ndarray__\":\"mpmZmZmZqb+q8dJNYhCovxFYObTIdr6/KVyPwvUovL9aZDvfT42Xvzq0yHa+n6q/YxBYObTItr97FK5H4XrEvyGwcmiR7cy/TDeJQWDloL+HFtnO91PDvxgEVg4tss2/lkOLbOf70b+q8dJNYhC4v4PAyqFFtrO/CKwcWmQ7v7+YbhKDwMrBvy2yne+nxsu/8tJNYhBYyb8IrBxaZDu/vw==\",\"dtype\":\"float64\",\"shape\":[20]},\"adhesive strength (Pa)\":[-3440,-3400,-4647,-1581,-1245,-2866,-2141,-2136,-2497,-3847,-1889,-2018,-1772,-4447,-2190,-2591,-1759,-1257,-2857,-1688],\"contact area with mucus / contact area without mucus\":{\"__ndarray__\":\"KVyPwvUo7D+PwvUoXI/qP0jhehSuR+E/uB6F61G43j9cj8L1KFzvP3sUrkfhepQ/H4XrUbge7T+PwvUoXI/SP4/C9Shcj+o/uB6F61G4nj/hehSuR+HqP65H4XoUru8/AAAAAAAA8D+4HoXrUbi+P7gehetRuOY/7FG4HoXrsT8AAAAAAADwPwrXo3A9Cu8/cT0K16Nw3T+F61G4HoXjPw==\",\"dtype\":\"float64\",\"shape\":[20]},\"contact area without mucus (mm2)\":[0,74,44,108,39,4,77,81,0,4,69,50,12,18,20,30,20,42,108,68],\"contact pressure (Pa)\":[1297,2498,735,3177,2037,397,7713,2205,5259,9705,1793,1369,3116,6184,5386,3446,4928,5498,4776,3617],\"date\":[\"2013_05_27\",\"2013_05_27\",\"2013_05_27\",\"2013_05_30\",\"2013_05_30\",\"2013_05_30\",\"2013_06_03\",\"2013_06_11\",\"2013_06_11\",\"2013_06_11\",\"2013_06_11\",\"2013_06_14\",\"2013_06_18\",\"2013_06_18\",\"2013_06_18\",\"2013_06_18\",\"2013_06_21\",\"2013_06_21\",\"2013_06_21\",\"2013_06_21\"],\"impact force (mN)\":[172,142,37,453,355,22,502,273,720,582,198,198,597,516,815,402,605,711,614,468],\"impact force / body weight\":{\"__ndarray__\":\"exSuR+F69D/NzMzMzMzwP+xRuB6F69E/9ihcj8L1CkAfhetRuB4FQMP1KFyPwsU/7FG4HoXrDUA9CtejcD0AQHE9CtejcBVAXI/C9ShcEUCF61G4HoX3P4XrUbgehfc/w/UoXI/CEUC4HoXrUbgOQEjhehSuRxhAAAAAAAAACEAAAAAAAAASQDMzMzMzMxVASOF6FK5HEkDXo3A9CtcLQA==\",\"dtype\":\"float64\",\"shape\":[20]},\"impact time (ms)\":[26,20,55,38,31,33,74,26,27,33,23,6,29,31,34,38,39,76,33,36],\"index\":[60,61,62,63,64,65,66,67,68,69,70,71,72,73,74,75,76,77,78,79],\"time frog pulls on target (ms)\":[462,250,743,844,728,472,959,844,1515,279,1427,2874,4251,626,1254,986,1627,2021,1366,1269],\"total contact area (mm2)\":[133,57,51,142,174,56,65,124,137,60,110,145,191,83,151,117,123,129,128,129],\"trial number\":[2,3,4,1,2,3,1,1,2,3,4,1,1,2,3,4,1,2,3,4]},\"selected\":{\"id\":\"4232\",\"type\":\"Selection\"},\"selection_policy\":{\"id\":\"4231\",\"type\":\"UnionRenderers\"}},\"id\":\"4056\",\"type\":\"ColumnDataSource\"},{\"attributes\":{\"callback\":null},\"id\":\"2535\",\"type\":\"DataRange1d\"},{\"attributes\":{\"callback\":null,\"data\":{\"x\":{\"__ndarray__\":\"AAAAAACgbkAAAAAAAKBuQAAAAAAA0HBAAAAAAADQcEAAAAAAAJByQAAAAAAAkHJAAAAAAABwdEAAAAAAAHB0QAAAAAAA8HdAAAAAAADwd0AAAAAAADB7QAAAAAAAMHtAAAAAAACQfEAAAAAAAJB8QAAAAAAAGIBAAAAAAAAYgEAAAAAAAIiAQAAAAAAAiIBAAAAAAADogEAAAAAAAOiAQAAAAAAA6IJAAAAAAADogkAAAAAAAKCDQAAAAAAAoINAAAAAAAD4hUAAAAAAAPiFQAAAAAAA0IZAAAAAAADQhkAAAAAAAHiHQAAAAAAAeIdAAAAAAACQjUAAAAAAAJCNQAAAAAAAeJJAAAAAAAB4kkAAAAAAALSWQAAAAAAAtJZAAAAAAAAMmEAAAAAAAAyYQAAAAAAAMJlAAAAAAAAwmUA=\",\"dtype\":\"float64\",\"shape\":[40]},\"y\":{\"__ndarray__\":\"AAAAAAAAAACamZmZmZmpP5qZmZmZmak/mpmZmZmZuT+amZmZmZm5PzMzMzMzM8M/MzMzMzMzwz+amZmZmZnJP5qZmZmZmck/AAAAAAAA0D8AAAAAAADQPzMzMzMzM9M/MzMzMzMz0z9mZmZmZmbWP2ZmZmZmZtY/mpmZmZmZ2T+amZmZmZnZP83MzMzMzNw/zczMzMzM3D8AAAAAAADgPwAAAAAAAOA/mpmZmZmZ4T+amZmZmZnhPzMzMzMzM+M/MzMzMzMz4z/NzMzMzMzkP83MzMzMzOQ/ZmZmZmZm5j9mZmZmZmbmPwAAAAAAAOg/AAAAAAAA6D+amZmZmZnpP5qZmZmZmek/MzMzMzMz6z8zMzMzMzPrP83MzMzMzOw/zczMzMzM7D9mZmZmZmbuP2ZmZmZmZu4/AAAAAAAA8D8=\",\"dtype\":\"float64\",\"shape\":[40]}},\"selected\":{\"id\":\"2647\",\"type\":\"Selection\"},\"selection_policy\":{\"id\":\"2646\",\"type\":\"UnionRenderers\"}},\"id\":\"2610\",\"type\":\"ColumnDataSource\"},{\"attributes\":{\"callback\":null,\"data\":{\"x\":{\"__ndarray__\":\"AAAAAAAANkAAAAAAAAA2QAAAAAAAgEJAAAAAAACAQkAAAAAAAMBhQAAAAAAAwGFAAAAAAACAZUAAAAAAAIBlQAAAAAAAwGhAAAAAAADAaEAAAAAAAMBoQAAAAAAAwGhAAAAAAAAQcUAAAAAAABBxQAAAAAAAMHZAAAAAAAAwdkAAAAAAACB5QAAAAAAAIHlAAAAAAABQfEAAAAAAAFB8QAAAAAAAQH1AAAAAAABAfUAAAAAAAGB/QAAAAAAAYH9AAAAAAAAggEAAAAAAACCAQAAAAAAAMIJAAAAAAAAwgkAAAAAAAKiCQAAAAAAAqIJAAAAAAADogkAAAAAAAOiCQAAAAAAAMINAAAAAAAAwg0AAAAAAADiGQAAAAAAAOIZAAAAAAACAhkAAAAAAAICGQAAAAAAAeIlAAAAAAAB4iUA=\",\"dtype\":\"float64\",\"shape\":[40]},\"y\":{\"__ndarray__\":\"AAAAAAAAAACamZmZmZmpP5qZmZmZmak/mpmZmZmZuT+amZmZmZm5PzMzMzMzM8M/MzMzMzMzwz+amZmZmZnJP5qZmZmZmck/AAAAAAAA0D8AAAAAAADQPzMzMzMzM9M/MzMzMzMz0z9mZmZmZmbWP2ZmZmZmZtY/mpmZmZmZ2T+amZmZmZnZP83MzMzMzNw/zczMzMzM3D8AAAAAAADgPwAAAAAAAOA/mpmZmZmZ4T+amZmZmZnhPzMzMzMzM+M/MzMzMzMz4z/NzMzMzMzkP83MzMzMzOQ/ZmZmZmZm5j9mZmZmZmbmPwAAAAAAAOg/AAAAAAAA6D+amZmZmZnpP5qZmZmZmek/MzMzMzMz6z8zMzMzMzPrP83MzMzMzOw/zczMzMzM7D9mZmZmZmbuP2ZmZmZmZu4/AAAAAAAA8D8=\",\"dtype\":\"float64\",\"shape\":[40]}},\"selected\":{\"id\":\"2811\",\"type\":\"Selection\"},\"selection_policy\":{\"id\":\"2810\",\"type\":\"UnionRenderers\"}},\"id\":\"2750\",\"type\":\"ColumnDataSource\"},{\"attributes\":{\"fill_alpha\":{\"value\":0.1},\"fill_color\":{\"value\":\"#1f77b4\"},\"line_alpha\":{\"value\":0.1},\"line_color\":{\"value\":\"#1f77b4\"},\"x\":{\"field\":\"impact force (mN)\"},\"y\":{\"field\":\"__ECDF\"}},\"id\":\"3162\",\"type\":\"Circle\"},{\"attributes\":{},\"id\":\"2646\",\"type\":\"UnionRenderers\"},{\"attributes\":{\"fill_color\":{\"value\":\"#4e79a7\"},\"line_color\":{\"value\":\"#4e79a7\"},\"x\":{\"field\":\"impact force (mN)\"},\"y\":{\"field\":\"__ECDF\"}},\"id\":\"3161\",\"type\":\"Circle\"},{\"attributes\":{\"callback\":null,\"data\":{\"x\":{\"__ndarray__\":\"AAAAAACQfUAAAAAAAJB9QAAAAAAA0H5AAAAAAADQfkAAAAAAAGCBQAAAAAAAYIFAAAAAAAA4iEAAAAAAADiIQAAAAAAA1JJAAAAAAADUkkAAAAAAAGCTQAAAAAAAYJNAAAAAAAAIlEAAAAAAAAiUQAAAAAAAbJRAAAAAAABslEAAAAAAAByYQAAAAAAAHJhAAAAAAAAkmEAAAAAAACSYQAAAAAAAUJhAAAAAAABQmEAAAAAAAHCaQAAAAAAAcJpAAAAAAABEm0AAAAAAAESbQAAAAAAAjJ1AAAAAAACMnUAAAAAAAKSdQAAAAAAApJ1AAAAAAAAgnkAAAAAAACCeQAAAAAAAwJ9AAAAAAADAn0AAAAAAAMihQAAAAAAAyKFAAAAAAAC+o0AAAAAAAL6jQAAAAAAAoqRAAAAAAACipEA=\",\"dtype\":\"float64\",\"shape\":[40]},\"y\":{\"__ndarray__\":\"AAAAAAAAAACamZmZmZmpP5qZmZmZmak/mpmZmZmZuT+amZmZmZm5PzMzMzMzM8M/MzMzMzMzwz+amZmZmZnJP5qZmZmZmck/AAAAAAAA0D8AAAAAAADQPzMzMzMzM9M/MzMzMzMz0z9mZmZmZmbWP2ZmZmZmZtY/mpmZmZmZ2T+amZmZmZnZP83MzMzMzNw/zczMzMzM3D8AAAAAAADgPwAAAAAAAOA/mpmZmZmZ4T+amZmZmZnhPzMzMzMzM+M/MzMzMzMz4z/NzMzMzMzkP83MzMzMzOQ/ZmZmZmZm5j9mZmZmZmbmPwAAAAAAAOg/AAAAAAAA6D+amZmZmZnpP5qZmZmZmek/MzMzMzMz6z8zMzMzMzPrP83MzMzMzOw/zczMzMzM7D9mZmZmZmbuP2ZmZmZmZu4/AAAAAAAA8D8=\",\"dtype\":\"float64\",\"shape\":[40]}},\"selected\":{\"id\":\"2592\",\"type\":\"Selection\"},\"selection_policy\":{\"id\":\"2591\",\"type\":\"UnionRenderers\"}},\"id\":\"2566\",\"type\":\"ColumnDataSource\"},{\"attributes\":{\"line_color\":\"#4e79a7\",\"line_width\":2,\"x\":{\"field\":\"x\"},\"y\":{\"field\":\"y\"}},\"id\":\"2567\",\"type\":\"Line\"},{\"attributes\":{\"line_alpha\":0.1,\"line_color\":\"#1f77b4\",\"line_width\":2,\"x\":{\"field\":\"x\"},\"y\":{\"field\":\"y\"}},\"id\":\"2568\",\"type\":\"Line\"},{\"attributes\":{\"data_source\":{\"id\":\"2566\",\"type\":\"ColumnDataSource\"},\"glyph\":{\"id\":\"2567\",\"type\":\"Line\"},\"hover_glyph\":null,\"muted_glyph\":null,\"nonselection_glyph\":{\"id\":\"2568\",\"type\":\"Line\"},\"selection_glyph\":null,\"view\":{\"id\":\"2570\",\"type\":\"CDSView\"}},\"id\":\"2569\",\"type\":\"GlyphRenderer\"},{\"attributes\":{\"source\":{\"id\":\"2566\",\"type\":\"ColumnDataSource\"}},\"id\":\"2570\",\"type\":\"CDSView\"},{\"attributes\":{\"text\":\"\"},\"id\":\"2571\",\"type\":\"Title\"},{\"attributes\":{},\"id\":\"2573\",\"type\":\"BasicTickFormatter\"},{\"attributes\":{},\"id\":\"2971\",\"type\":\"Selection\"},{\"attributes\":{},\"id\":\"2575\",\"type\":\"BasicTickFormatter\"},{\"attributes\":{\"bottom_units\":\"screen\",\"fill_alpha\":{\"value\":0.5},\"fill_color\":{\"value\":\"lightgrey\"},\"left_units\":\"screen\",\"level\":\"overlay\",\"line_alpha\":{\"value\":1.0},\"line_color\":{\"value\":\"black\"},\"line_dash\":[4,4],\"line_width\":{\"value\":2},\"render_mode\":\"css\",\"right_units\":\"screen\",\"top_units\":\"screen\"},\"id\":\"2577\",\"type\":\"BoxAnnotation\"},{\"attributes\":{\"click_policy\":\"hide\",\"items\":[{\"id\":\"2579\",\"type\":\"LegendItem\"},{\"id\":\"2628\",\"type\":\"LegendItem\"},{\"id\":\"2695\",\"type\":\"LegendItem\"},{\"id\":\"2780\",\"type\":\"LegendItem\"}],\"location\":\"bottom_right\"},\"id\":\"2578\",\"type\":\"Legend\"},{\"attributes\":{\"ticker\":{\"id\":\"2544\",\"type\":\"BasicTicker\"}},\"id\":\"2547\",\"type\":\"Grid\"},{\"attributes\":{\"label\":{\"value\":\"I\"},\"renderers\":[{\"id\":\"2569\",\"type\":\"GlyphRenderer\"},{\"id\":\"2583\",\"type\":\"GlyphRenderer\"},{\"id\":\"2597\",\"type\":\"GlyphRenderer\"},{\"id\":\"3163\",\"type\":\"GlyphRenderer\"}]},\"id\":\"2579\",\"type\":\"LegendItem\"},{\"attributes\":{\"callback\":null,\"data\":{},\"selected\":{\"id\":\"2608\",\"type\":\"Selection\"},\"selection_policy\":{\"id\":\"2607\",\"type\":\"UnionRenderers\"}},\"id\":\"2580\",\"type\":\"ColumnDataSource\"},{\"attributes\":{\"angle\":{\"units\":\"rad\",\"value\":3.141592653589793},\"line_color\":{\"value\":\"#4e79a7\"},\"line_width\":{\"value\":2},\"x\":{\"value\":473.0},\"y\":{\"value\":0}},\"id\":\"2581\",\"type\":\"Ray\"},{\"attributes\":{\"angle\":{\"units\":\"rad\",\"value\":3.141592653589793},\"line_alpha\":{\"value\":0.1},\"line_color\":{\"value\":\"#1f77b4\"},\"line_width\":{\"value\":2},\"x\":{\"value\":473.0},\"y\":{\"value\":0}},\"id\":\"2582\",\"type\":\"Ray\"},{\"attributes\":{\"data_source\":{\"id\":\"2580\",\"type\":\"ColumnDataSource\"},\"glyph\":{\"id\":\"2581\",\"type\":\"Ray\"},\"hover_glyph\":null,\"muted_glyph\":null,\"nonselection_glyph\":{\"id\":\"2582\",\"type\":\"Ray\"},\"selection_glyph\":null,\"view\":{\"id\":\"2584\",\"type\":\"CDSView\"}},\"id\":\"2583\",\"type\":\"GlyphRenderer\"},{\"attributes\":{\"source\":{\"id\":\"2580\",\"type\":\"ColumnDataSource\"}},\"id\":\"2584\",\"type\":\"CDSView\"},{\"attributes\":{},\"id\":\"2591\",\"type\":\"UnionRenderers\"},{\"attributes\":{},\"id\":\"2592\",\"type\":\"Selection\"},{\"attributes\":{\"callback\":null,\"data\":{},\"selected\":{\"id\":\"2626\",\"type\":\"Selection\"},\"selection_policy\":{\"id\":\"2625\",\"type\":\"UnionRenderers\"}},\"id\":\"2594\",\"type\":\"ColumnDataSource\"},{\"attributes\":{},\"id\":\"2544\",\"type\":\"BasicTicker\"},{\"attributes\":{\"angle\":{\"units\":\"rad\",\"value\":0},\"line_color\":{\"value\":\"#4e79a7\"},\"line_width\":{\"value\":2},\"x\":{\"value\":2641.0},\"y\":{\"value\":1}},\"id\":\"2595\",\"type\":\"Ray\"},{\"attributes\":{\"axis_label\":\"ECDF\",\"formatter\":{\"id\":\"2575\",\"type\":\"BasicTickFormatter\"},\"ticker\":{\"id\":\"2549\",\"type\":\"BasicTicker\"}},\"id\":\"2548\",\"type\":\"LinearAxis\"},{\"attributes\":{\"angle\":{\"units\":\"rad\",\"value\":0},\"line_alpha\":{\"value\":0.1},\"line_color\":{\"value\":\"#1f77b4\"},\"line_width\":{\"value\":2},\"x\":{\"value\":2641.0},\"y\":{\"value\":1}},\"id\":\"2596\",\"type\":\"Ray\"},{\"attributes\":{},\"id\":\"2539\",\"type\":\"LinearScale\"},{\"attributes\":{\"data_source\":{\"id\":\"2594\",\"type\":\"ColumnDataSource\"},\"glyph\":{\"id\":\"2595\",\"type\":\"Ray\"},\"hover_glyph\":null,\"muted_glyph\":null,\"nonselection_glyph\":{\"id\":\"2596\",\"type\":\"Ray\"},\"selection_glyph\":null,\"view\":{\"id\":\"2598\",\"type\":\"CDSView\"}},\"id\":\"2597\",\"type\":\"GlyphRenderer\"},{\"attributes\":{\"source\":{\"id\":\"2594\",\"type\":\"ColumnDataSource\"}},\"id\":\"2598\",\"type\":\"CDSView\"},{\"attributes\":{\"axis_label\":\"impact force (mN)\",\"formatter\":{\"id\":\"2573\",\"type\":\"BasicTickFormatter\"},\"ticker\":{\"id\":\"2544\",\"type\":\"BasicTicker\"}},\"id\":\"2543\",\"type\":\"LinearAxis\"},{\"attributes\":{},\"id\":\"2607\",\"type\":\"UnionRenderers\"},{\"attributes\":{},\"id\":\"2608\",\"type\":\"Selection\"},{\"attributes\":{},\"id\":\"2541\",\"type\":\"LinearScale\"},{\"attributes\":{\"callback\":null,\"data\":{\"x\":{\"__ndarray__\":\"AAAAAABAdEAAAAAAAEB0QAAAAAAAEHhAAAAAAAAQeEAAAAAAABB5QAAAAAAAEHlAAAAAAADgeUAAAAAAAOB5QAAAAAAAoHxAAAAAAACgfEAAAAAAALB8QAAAAAAAsHxAAAAAAACAfkAAAAAAAIB+QAAAAAAAuIBAAAAAAAC4gEAAAAAAANCAQAAAAAAA0IBAAAAAAAAAgUAAAAAAAACBQAAAAAAAAIFAAAAAAAAAgUAAAAAAABiCQAAAAAAAGIJAAAAAAAAYg0AAAAAAABiDQAAAAAAAMINAAAAAAAAwg0AAAAAAADCDQAAAAAAAMINAAAAAAABog0AAAAAAAGiDQAAAAAAAkINAAAAAAACQg0AAAAAAAMiEQAAAAAAAyIRAAAAAAABAiEAAAAAAAECIQAAAAAAAMIlAAAAAAAAwiUA=\",\"dtype\":\"float64\",\"shape\":[40]},\"y\":{\"__ndarray__\":\"AAAAAAAAAACamZmZmZmpP5qZmZmZmak/mpmZmZmZuT+amZmZmZm5PzMzMzMzM8M/MzMzMzMzwz+amZmZmZnJP5qZmZmZmck/AAAAAAAA0D8AAAAAAADQPzMzMzMzM9M/MzMzMzMz0z9mZmZmZmbWP2ZmZmZmZtY/mpmZmZmZ2T+amZmZmZnZP83MzMzMzNw/zczMzMzM3D8AAAAAAADgPwAAAAAAAOA/mpmZmZmZ4T+amZmZmZnhPzMzMzMzM+M/MzMzMzMz4z/NzMzMzMzkP83MzMzMzOQ/ZmZmZmZm5j9mZmZmZmbmPwAAAAAAAOg/AAAAAAAA6D+amZmZmZnpP5qZmZmZmek/MzMzMzMz6z8zMzMzMzPrP83MzMzMzOw/zczMzMzM7D9mZmZmZmbuP2ZmZmZmZu4/AAAAAAAA8D8=\",\"dtype\":\"float64\",\"shape\":[40]}},\"selected\":{\"id\":\"2720\",\"type\":\"Selection\"},\"selection_policy\":{\"id\":\"2719\",\"type\":\"UnionRenderers\"}},\"id\":\"2671\",\"type\":\"ColumnDataSource\"},{\"attributes\":{\"line_color\":\"#f28e2b\",\"line_width\":2,\"x\":{\"field\":\"x\"},\"y\":{\"field\":\"y\"}},\"id\":\"2611\",\"type\":\"Line\"},{\"attributes\":{\"line_alpha\":0.1,\"line_color\":\"#1f77b4\",\"line_width\":2,\"x\":{\"field\":\"x\"},\"y\":{\"field\":\"y\"}},\"id\":\"2612\",\"type\":\"Line\"},{\"attributes\":{\"callback\":null},\"id\":\"2537\",\"type\":\"DataRange1d\"},{\"attributes\":{},\"id\":\"3322\",\"type\":\"UnionRenderers\"},{\"attributes\":{\"data_source\":{\"id\":\"2610\",\"type\":\"ColumnDataSource\"},\"glyph\":{\"id\":\"2611\",\"type\":\"Line\"},\"hover_glyph\":null,\"muted_glyph\":null,\"nonselection_glyph\":{\"id\":\"2612\",\"type\":\"Line\"},\"selection_glyph\":null,\"view\":{\"id\":\"2614\",\"type\":\"CDSView\"}},\"id\":\"2613\",\"type\":\"GlyphRenderer\"},{\"attributes\":{\"source\":{\"id\":\"2610\",\"type\":\"ColumnDataSource\"}},\"id\":\"2614\",\"type\":\"CDSView\"}],\"root_ids\":[\"2534\"]},\"title\":\"Bokeh Application\",\"version\":\"1.2.0\"}};\n",
       "  var render_items = [{\"docid\":\"42847075-de0e-42c7-b8de-2febc6bd948e\",\"roots\":{\"2534\":\"7c92991b-238d-45c7-b060-a9dfcba920f7\"}}];\n",
       "  root.Bokeh.embed.embed_items_notebook(docs_json, render_items);\n",
       "\n",
       "  }\n",
       "  if (root.Bokeh !== undefined) {\n",
       "    embed_document(root);\n",
       "  } else {\n",
       "    var attempts = 0;\n",
       "    var timer = setInterval(function(root) {\n",
       "      if (root.Bokeh !== undefined) {\n",
       "        embed_document(root);\n",
       "        clearInterval(timer);\n",
       "      }\n",
       "      attempts++;\n",
       "      if (attempts > 100) {\n",
       "        console.log(\"Bokeh: ERROR: Unable to run BokehJS code because BokehJS library is missing\");\n",
       "        clearInterval(timer);\n",
       "      }\n",
       "    }, 10, root)\n",
       "  }\n",
       "})(window);"
      ],
      "application/vnd.bokehjs_exec.v0+json": ""
     },
     "metadata": {
      "application/vnd.bokehjs_exec.v0+json": {
       "id": "2534"
      }
     },
     "output_type": "display_data"
    }
   ],
   "source": [
    "p = bokeh_catplot.ecdf(\n",
    "    data=df,\n",
    "    cats='ID',\n",
    "    val='impact force (mN)',\n",
    "    p=p\n",
    ")\n",
    "\n",
    "bokeh.io.show(p)"
   ]
  },
  {
   "cell_type": "markdown",
   "metadata": {},
   "source": [
    "## Customization with Bokeh-catplot\n",
    "\n",
    "You may have noticed in the discussion of ECDFs that I introduced some new keyword arguments, `formal` and `p`. In fact, each of the four plotting functions also has the following additional optional keyword arguments.\n",
    "\n",
    "- `palette`: A list of hex colors to use for coloring the markers for each category. By default, it uses the default color scheme of [Vega-Lite](https://vega.github.io/vega-lite/).\n",
    "- `order`: If specified, the ordering of the categories to use on the categorical axis and legend (if applicable). Otherwise, the order of the inputted data frame is used.\n",
    "- `p`: If specified, the `bokeh.plotting.Figure` object to use for the plot. If not specified, a new figure is created.\n",
    "\n",
    "The respective plotting functions also have kwargs that are specific to each (such as `formal` for `bokeh_catplot.ecdf()`. Examples highlighting some, but not all, customizations follow. You can find out what kwargs are available for each function by reading their doc strings, e.g., with\n",
    "\n",
    "```python\n",
    "bokeh_catplot.box?\n",
    "```\n",
    "\n",
    "Any kwargs not in the function call signature are passed to `bokeh.plotting.figure()` when the figure is instantiated."
   ]
  },
  {
   "cell_type": "markdown",
   "metadata": {},
   "source": [
    "#### Customizing box plots\n",
    "\n",
    "We can also have horizontal box plots."
   ]
  },
  {
   "cell_type": "code",
   "execution_count": 15,
   "metadata": {},
   "outputs": [
    {
     "data": {
      "text/html": [
       "\n",
       "\n",
       "\n",
       "\n",
       "\n",
       "\n",
       "  <div class=\"bk-root\" id=\"7a83a284-0ed7-4b84-bb21-0b833f919098\" data-root-id=\"4602\"></div>\n"
      ]
     },
     "metadata": {},
     "output_type": "display_data"
    },
    {
     "data": {
      "application/javascript": [
       "(function(root) {\n",
       "  function embed_document(root) {\n",
       "    \n",
       "  var docs_json = {\"af51098b-7f1f-40df-a057-9ed9fae19122\":{\"roots\":{\"references\":[{\"attributes\":{\"below\":[{\"id\":\"4610\",\"type\":\"LinearAxis\"}],\"center\":[{\"id\":\"4614\",\"type\":\"Grid\"},{\"id\":\"4618\",\"type\":\"Grid\"}],\"left\":[{\"id\":\"4615\",\"type\":\"CategoricalAxis\"}],\"plot_height\":300,\"plot_width\":400,\"renderers\":[{\"id\":\"4640\",\"type\":\"GlyphRenderer\"},{\"id\":\"4645\",\"type\":\"GlyphRenderer\"},{\"id\":\"4650\",\"type\":\"GlyphRenderer\"},{\"id\":\"4655\",\"type\":\"GlyphRenderer\"},{\"id\":\"4660\",\"type\":\"GlyphRenderer\"}],\"title\":{\"id\":\"4796\",\"type\":\"Title\"},\"toolbar\":{\"id\":\"4625\",\"type\":\"Toolbar\"},\"x_range\":{\"id\":\"4603\",\"type\":\"DataRange1d\"},\"x_scale\":{\"id\":\"4606\",\"type\":\"LinearScale\"},\"y_range\":{\"id\":\"4601\",\"type\":\"FactorRange\"},\"y_scale\":{\"id\":\"4608\",\"type\":\"CategoricalScale\"}},\"id\":\"4602\",\"subtype\":\"Figure\",\"type\":\"Plot\"},{\"attributes\":{\"source\":{\"id\":\"4632\",\"type\":\"ColumnDataSource\"}},\"id\":\"4656\",\"type\":\"CDSView\"},{\"attributes\":{},\"id\":\"4622\",\"type\":\"SaveTool\"},{\"attributes\":{\"data_source\":{\"id\":\"4632\",\"type\":\"ColumnDataSource\"},\"glyph\":{\"id\":\"4653\",\"type\":\"HBar\"},\"hover_glyph\":null,\"muted_glyph\":null,\"nonselection_glyph\":{\"id\":\"4654\",\"type\":\"HBar\"},\"selection_glyph\":null,\"view\":{\"id\":\"4656\",\"type\":\"CDSView\"}},\"id\":\"4655\",\"type\":\"GlyphRenderer\"},{\"attributes\":{\"overlay\":{\"id\":\"4806\",\"type\":\"BoxAnnotation\"}},\"id\":\"4621\",\"type\":\"BoxZoomTool\"},{\"attributes\":{},\"id\":\"4623\",\"type\":\"ResetTool\"},{\"attributes\":{\"fill_alpha\":{\"value\":0.1},\"fill_color\":{\"value\":\"#1f77b4\"},\"height\":{\"value\":0.4},\"left\":{\"field\":\"middle\"},\"line_alpha\":{\"value\":0.1},\"line_color\":{\"value\":\"#1f77b4\"},\"right\":{\"field\":\"middle\"},\"y\":{\"field\":\"cat\"}},\"id\":\"4654\",\"type\":\"HBar\"},{\"attributes\":{\"callback\":null,\"data\":{\"ID\":[\"II\",\"II\",\"II\"],\"__label\":[\"II\",\"II\",\"II\"],\"cat\":[\"II\",\"II\",\"II\"],\"impact force (mN)\":[1612,1539,1453]},\"selected\":{\"id\":\"4805\",\"type\":\"Selection\"},\"selection_policy\":{\"id\":\"4804\",\"type\":\"UnionRenderers\"}},\"id\":\"4633\",\"type\":\"ColumnDataSource\"},{\"attributes\":{},\"id\":\"4624\",\"type\":\"HelpTool\"},{\"attributes\":{\"data_source\":{\"id\":\"4633\",\"type\":\"ColumnDataSource\"},\"glyph\":{\"id\":\"4658\",\"type\":\"Circle\"},\"hover_glyph\":null,\"muted_glyph\":null,\"nonselection_glyph\":{\"id\":\"4659\",\"type\":\"Circle\"},\"selection_glyph\":null,\"view\":{\"id\":\"4661\",\"type\":\"CDSView\"}},\"id\":\"4660\",\"type\":\"GlyphRenderer\"},{\"attributes\":{},\"id\":\"4620\",\"type\":\"WheelZoomTool\"},{\"attributes\":{\"x0\":{\"field\":\"top\"},\"x1\":{\"field\":\"top_whisker\"},\"y0\":{\"field\":\"cat\"},\"y1\":{\"field\":\"cat\"}},\"id\":\"4638\",\"type\":\"Segment\"},{\"attributes\":{},\"id\":\"4803\",\"type\":\"Selection\"},{\"attributes\":{\"active_drag\":\"auto\",\"active_inspect\":\"auto\",\"active_multi\":null,\"active_scroll\":\"auto\",\"active_tap\":\"auto\",\"tools\":[{\"id\":\"4619\",\"type\":\"PanTool\"},{\"id\":\"4620\",\"type\":\"WheelZoomTool\"},{\"id\":\"4621\",\"type\":\"BoxZoomTool\"},{\"id\":\"4622\",\"type\":\"SaveTool\"},{\"id\":\"4623\",\"type\":\"ResetTool\"},{\"id\":\"4624\",\"type\":\"HelpTool\"}]},\"id\":\"4625\",\"type\":\"Toolbar\"},{\"attributes\":{\"fill_alpha\":{\"value\":0.1},\"fill_color\":{\"value\":\"#1f77b4\"},\"line_alpha\":{\"value\":0.1},\"line_color\":{\"value\":\"#1f77b4\"},\"x\":{\"field\":\"impact force (mN)\"},\"y\":{\"field\":\"cat\"}},\"id\":\"4659\",\"type\":\"Circle\"},{\"attributes\":{\"source\":{\"id\":\"4633\",\"type\":\"ColumnDataSource\"}},\"id\":\"4661\",\"type\":\"CDSView\"},{\"attributes\":{\"bottom_units\":\"screen\",\"fill_alpha\":{\"value\":0.5},\"fill_color\":{\"value\":\"lightgrey\"},\"left_units\":\"screen\",\"level\":\"overlay\",\"line_alpha\":{\"value\":1.0},\"line_color\":{\"value\":\"black\"},\"line_dash\":[4,4],\"line_width\":{\"value\":2},\"render_mode\":\"css\",\"right_units\":\"screen\",\"top_units\":\"screen\"},\"id\":\"4806\",\"type\":\"BoxAnnotation\"},{\"attributes\":{\"source\":{\"id\":\"4632\",\"type\":\"ColumnDataSource\"}},\"id\":\"4646\",\"type\":\"CDSView\"},{\"attributes\":{\"callback\":null,\"data\":{\"__label\":[\"I\",\"II\",\"III\",\"IV\"],\"bottom\":[1231.25,422.0,458.75,198.0],\"bottom_whisker\":[473.0,245.0,324.0,22.0],\"cat\":[\"I\",\"II\",\"III\",\"IV\"],\"middle\":[1550.5,573.0,544.0,460.5],\"top\":[1904.75,799.75,615.75,599.0],\"top_whisker\":[2641.0,1182.0,806.0,815.0]},\"selected\":{\"id\":\"4803\",\"type\":\"Selection\"},\"selection_policy\":{\"id\":\"4802\",\"type\":\"UnionRenderers\"}},\"id\":\"4632\",\"type\":\"ColumnDataSource\"},{\"attributes\":{\"factors\":[\"I\",\"II\",\"III\",\"IV\"],\"palette\":[\"#4e79a7\",\"#f28e2b\",\"#e15759\",\"#76b7b2\",\"#59a14f\",\"#edc948\",\"#b07aa1\",\"#ff9da7\",\"#9c755f\",\"#bab0ac\"]},\"id\":\"4634\",\"type\":\"CategoricalColorMapper\"},{\"attributes\":{},\"id\":\"4619\",\"type\":\"PanTool\"},{\"attributes\":{\"data_source\":{\"id\":\"4632\",\"type\":\"ColumnDataSource\"},\"glyph\":{\"id\":\"4643\",\"type\":\"Segment\"},\"hover_glyph\":null,\"muted_glyph\":null,\"nonselection_glyph\":{\"id\":\"4644\",\"type\":\"Segment\"},\"selection_glyph\":null,\"view\":{\"id\":\"4646\",\"type\":\"CDSView\"}},\"id\":\"4645\",\"type\":\"GlyphRenderer\"},{\"attributes\":{\"callback\":null},\"id\":\"4603\",\"type\":\"DataRange1d\"},{\"attributes\":{},\"id\":\"4805\",\"type\":\"Selection\"},{\"attributes\":{\"line_alpha\":{\"value\":0.1},\"line_color\":{\"value\":\"#1f77b4\"},\"x0\":{\"field\":\"bottom\"},\"x1\":{\"field\":\"bottom_whisker\"},\"y0\":{\"field\":\"cat\"},\"y1\":{\"field\":\"cat\"}},\"id\":\"4644\",\"type\":\"Segment\"},{\"attributes\":{\"source\":{\"id\":\"4632\",\"type\":\"ColumnDataSource\"}},\"id\":\"4641\",\"type\":\"CDSView\"},{\"attributes\":{\"dimension\":1,\"grid_line_color\":null,\"ticker\":{\"id\":\"4616\",\"type\":\"CategoricalTicker\"}},\"id\":\"4618\",\"type\":\"Grid\"},{\"attributes\":{},\"id\":\"4606\",\"type\":\"LinearScale\"},{\"attributes\":{\"line_alpha\":{\"value\":0.1},\"line_color\":{\"value\":\"#1f77b4\"},\"x0\":{\"field\":\"top\"},\"x1\":{\"field\":\"top_whisker\"},\"y0\":{\"field\":\"cat\"},\"y1\":{\"field\":\"cat\"}},\"id\":\"4639\",\"type\":\"Segment\"},{\"attributes\":{\"factors\":[\"I\",\"II\",\"III\",\"IV\"],\"palette\":[\"#4e79a7\",\"#f28e2b\",\"#e15759\",\"#76b7b2\",\"#59a14f\",\"#edc948\",\"#b07aa1\",\"#ff9da7\",\"#9c755f\",\"#bab0ac\"]},\"id\":\"4635\",\"type\":\"CategoricalColorMapper\"},{\"attributes\":{},\"id\":\"4608\",\"type\":\"CategoricalScale\"},{\"attributes\":{\"ticker\":{\"id\":\"4611\",\"type\":\"BasicTicker\"}},\"id\":\"4614\",\"type\":\"Grid\"},{\"attributes\":{},\"id\":\"4804\",\"type\":\"UnionRenderers\"},{\"attributes\":{\"x0\":{\"field\":\"bottom\"},\"x1\":{\"field\":\"bottom_whisker\"},\"y0\":{\"field\":\"cat\"},\"y1\":{\"field\":\"cat\"}},\"id\":\"4643\",\"type\":\"Segment\"},{\"attributes\":{\"axis_label\":\"impact force (mN)\",\"formatter\":{\"id\":\"4798\",\"type\":\"BasicTickFormatter\"},\"ticker\":{\"id\":\"4611\",\"type\":\"BasicTicker\"}},\"id\":\"4610\",\"type\":\"LinearAxis\"},{\"attributes\":{\"fill_color\":{\"field\":\"cat\",\"transform\":{\"id\":\"4636\",\"type\":\"CategoricalColorMapper\"}},\"height\":{\"value\":0.4},\"left\":{\"field\":\"bottom\"},\"line_color\":{\"value\":null},\"right\":{\"field\":\"top\"},\"y\":{\"field\":\"cat\"}},\"id\":\"4648\",\"type\":\"HBar\"},{\"attributes\":{\"fill_color\":{\"field\":\"cat\",\"transform\":{\"id\":\"4634\",\"type\":\"CategoricalColorMapper\"}},\"line_color\":{\"field\":\"cat\",\"transform\":{\"id\":\"4635\",\"type\":\"CategoricalColorMapper\"}},\"x\":{\"field\":\"impact force (mN)\"},\"y\":{\"field\":\"cat\"}},\"id\":\"4658\",\"type\":\"Circle\"},{\"attributes\":{\"text\":\"\"},\"id\":\"4796\",\"type\":\"Title\"},{\"attributes\":{\"formatter\":{\"id\":\"4800\",\"type\":\"CategoricalTickFormatter\"},\"ticker\":{\"id\":\"4616\",\"type\":\"CategoricalTicker\"}},\"id\":\"4615\",\"type\":\"CategoricalAxis\"},{\"attributes\":{\"data_source\":{\"id\":\"4632\",\"type\":\"ColumnDataSource\"},\"glyph\":{\"id\":\"4638\",\"type\":\"Segment\"},\"hover_glyph\":null,\"muted_glyph\":null,\"nonselection_glyph\":{\"id\":\"4639\",\"type\":\"Segment\"},\"selection_glyph\":null,\"view\":{\"id\":\"4641\",\"type\":\"CDSView\"}},\"id\":\"4640\",\"type\":\"GlyphRenderer\"},{\"attributes\":{\"fill_alpha\":{\"value\":0.1},\"fill_color\":{\"value\":\"#1f77b4\"},\"height\":{\"value\":0.4},\"left\":{\"field\":\"bottom\"},\"line_alpha\":{\"value\":0.1},\"line_color\":{\"value\":\"#1f77b4\"},\"right\":{\"field\":\"top\"},\"y\":{\"field\":\"cat\"}},\"id\":\"4649\",\"type\":\"HBar\"},{\"attributes\":{},\"id\":\"4616\",\"type\":\"CategoricalTicker\"},{\"attributes\":{\"data_source\":{\"id\":\"4632\",\"type\":\"ColumnDataSource\"},\"glyph\":{\"id\":\"4648\",\"type\":\"HBar\"},\"hover_glyph\":null,\"muted_glyph\":null,\"nonselection_glyph\":{\"id\":\"4649\",\"type\":\"HBar\"},\"selection_glyph\":null,\"view\":{\"id\":\"4651\",\"type\":\"CDSView\"}},\"id\":\"4650\",\"type\":\"GlyphRenderer\"},{\"attributes\":{\"callback\":null,\"factors\":[\"IV\",\"III\",\"II\",\"I\"]},\"id\":\"4601\",\"type\":\"FactorRange\"},{\"attributes\":{},\"id\":\"4800\",\"type\":\"CategoricalTickFormatter\"},{\"attributes\":{\"factors\":[\"I\",\"II\",\"III\",\"IV\"],\"palette\":[\"#4e79a7\",\"#f28e2b\",\"#e15759\",\"#76b7b2\",\"#59a14f\",\"#edc948\",\"#b07aa1\",\"#ff9da7\",\"#9c755f\",\"#bab0ac\"]},\"id\":\"4636\",\"type\":\"CategoricalColorMapper\"},{\"attributes\":{\"source\":{\"id\":\"4632\",\"type\":\"ColumnDataSource\"}},\"id\":\"4651\",\"type\":\"CDSView\"},{\"attributes\":{},\"id\":\"4611\",\"type\":\"BasicTicker\"},{\"attributes\":{},\"id\":\"4798\",\"type\":\"BasicTickFormatter\"},{\"attributes\":{},\"id\":\"4802\",\"type\":\"UnionRenderers\"},{\"attributes\":{\"fill_color\":{\"value\":\"#1f77b4\"},\"height\":{\"value\":0.4},\"left\":{\"field\":\"middle\"},\"line_color\":{\"value\":\"white\"},\"right\":{\"field\":\"middle\"},\"y\":{\"field\":\"cat\"}},\"id\":\"4653\",\"type\":\"HBar\"}],\"root_ids\":[\"4602\"]},\"title\":\"Bokeh Application\",\"version\":\"1.2.0\"}};\n",
       "  var render_items = [{\"docid\":\"af51098b-7f1f-40df-a057-9ed9fae19122\",\"roots\":{\"4602\":\"7a83a284-0ed7-4b84-bb21-0b833f919098\"}}];\n",
       "  root.Bokeh.embed.embed_items_notebook(docs_json, render_items);\n",
       "\n",
       "  }\n",
       "  if (root.Bokeh !== undefined) {\n",
       "    embed_document(root);\n",
       "  } else {\n",
       "    var attempts = 0;\n",
       "    var timer = setInterval(function(root) {\n",
       "      if (root.Bokeh !== undefined) {\n",
       "        embed_document(root);\n",
       "        clearInterval(timer);\n",
       "      }\n",
       "      attempts++;\n",
       "      if (attempts > 100) {\n",
       "        console.log(\"Bokeh: ERROR: Unable to run BokehJS code because BokehJS library is missing\");\n",
       "        clearInterval(timer);\n",
       "      }\n",
       "    }, 10, root)\n",
       "  }\n",
       "})(window);"
      ],
      "application/vnd.bokehjs_exec.v0+json": ""
     },
     "metadata": {
      "application/vnd.bokehjs_exec.v0+json": {
       "id": "4602"
      }
     },
     "output_type": "display_data"
    }
   ],
   "source": [
    "p = bokeh_catplot.box(\n",
    "    data=df,\n",
    "    cats='ID',\n",
    "    val='impact force (mN)',\n",
    "    horizontal=True\n",
    ")\n",
    "\n",
    "bokeh.io.show(p)"
   ]
  },
  {
   "cell_type": "markdown",
   "metadata": {},
   "source": [
    "We can independently specify properties of the marks using `box_kwargs`, `whisker_kwargs`, `median_kwargs`, and `outlier_kwargs`. For example, say we wanted our colors to be [Betancourt red](https://betanalpha.github.io/assets/case_studies/principled_bayesian_workflow.html#step_four:_build_a_generative_model19), and that we wanted the outliers to also be that color and use diamond glyphs."
   ]
  },
  {
   "cell_type": "code",
   "execution_count": 16,
   "metadata": {},
   "outputs": [
    {
     "data": {
      "text/html": [
       "\n",
       "\n",
       "\n",
       "\n",
       "\n",
       "\n",
       "  <div class=\"bk-root\" id=\"cb97c3e3-072d-4c4e-9bdf-b43c9be958ed\" data-root-id=\"4874\"></div>\n"
      ]
     },
     "metadata": {},
     "output_type": "display_data"
    },
    {
     "data": {
      "application/javascript": [
       "(function(root) {\n",
       "  function embed_document(root) {\n",
       "    \n",
       "  var docs_json = {\"5c73924c-f961-484f-838e-f4ce96db008c\":{\"roots\":{\"references\":[{\"attributes\":{\"below\":[{\"id\":\"4882\",\"type\":\"CategoricalAxis\"}],\"center\":[{\"id\":\"4885\",\"type\":\"Grid\"},{\"id\":\"4890\",\"type\":\"Grid\"}],\"left\":[{\"id\":\"4886\",\"type\":\"LinearAxis\"}],\"plot_height\":300,\"plot_width\":400,\"renderers\":[{\"id\":\"4909\",\"type\":\"GlyphRenderer\"},{\"id\":\"4914\",\"type\":\"GlyphRenderer\"},{\"id\":\"4919\",\"type\":\"GlyphRenderer\"},{\"id\":\"4924\",\"type\":\"GlyphRenderer\"},{\"id\":\"4929\",\"type\":\"GlyphRenderer\"},{\"id\":\"4934\",\"type\":\"GlyphRenderer\"},{\"id\":\"4939\",\"type\":\"GlyphRenderer\"}],\"title\":{\"id\":\"5086\",\"type\":\"Title\"},\"toolbar\":{\"id\":\"4897\",\"type\":\"Toolbar\"},\"x_range\":{\"id\":\"4873\",\"type\":\"FactorRange\"},\"x_scale\":{\"id\":\"4878\",\"type\":\"CategoricalScale\"},\"y_range\":{\"id\":\"4876\",\"type\":\"DataRange1d\"},\"y_scale\":{\"id\":\"4880\",\"type\":\"LinearScale\"}},\"id\":\"4874\",\"subtype\":\"Figure\",\"type\":\"Plot\"},{\"attributes\":{\"bottom\":{\"field\":\"top_whisker\"},\"fill_alpha\":{\"value\":0.1},\"fill_color\":{\"value\":\"#1f77b4\"},\"line_alpha\":{\"value\":0.1},\"line_color\":{\"value\":\"#1f77b4\"},\"line_width\":{\"value\":2},\"top\":{\"field\":\"top_whisker\"},\"width\":{\"value\":0.1},\"x\":{\"field\":\"cat\"}},\"id\":\"4918\",\"type\":\"VBar\"},{\"attributes\":{\"source\":{\"id\":\"4904\",\"type\":\"ColumnDataSource\"}},\"id\":\"4935\",\"type\":\"CDSView\"},{\"attributes\":{\"bottom\":{\"field\":\"top_whisker\"},\"fill_color\":{\"value\":\"#1f77b4\"},\"line_color\":{\"value\":\"#7C0000\"},\"line_width\":{\"value\":2},\"top\":{\"field\":\"top_whisker\"},\"width\":{\"value\":0.1},\"x\":{\"field\":\"cat\"}},\"id\":\"4917\",\"type\":\"VBar\"},{\"attributes\":{\"fill_color\":{\"value\":\"#7C0000\"},\"line_color\":{\"value\":\"#7C0000\"},\"x\":{\"field\":\"cat\"},\"y\":{\"field\":\"impact force (mN)\"}},\"id\":\"4937\",\"type\":\"Diamond\"},{\"attributes\":{\"formatter\":{\"id\":\"5088\",\"type\":\"CategoricalTickFormatter\"},\"ticker\":{\"id\":\"4883\",\"type\":\"CategoricalTicker\"}},\"id\":\"4882\",\"type\":\"CategoricalAxis\"},{\"attributes\":{\"source\":{\"id\":\"4904\",\"type\":\"ColumnDataSource\"}},\"id\":\"4920\",\"type\":\"CDSView\"},{\"attributes\":{\"axis_label\":\"impact force (mN)\",\"formatter\":{\"id\":\"5090\",\"type\":\"BasicTickFormatter\"},\"ticker\":{\"id\":\"4887\",\"type\":\"BasicTicker\"}},\"id\":\"4886\",\"type\":\"LinearAxis\"},{\"attributes\":{\"data_source\":{\"id\":\"4904\",\"type\":\"ColumnDataSource\"},\"glyph\":{\"id\":\"4912\",\"type\":\"Segment\"},\"hover_glyph\":null,\"muted_glyph\":null,\"nonselection_glyph\":{\"id\":\"4913\",\"type\":\"Segment\"},\"selection_glyph\":null,\"view\":{\"id\":\"4915\",\"type\":\"CDSView\"}},\"id\":\"4914\",\"type\":\"GlyphRenderer\"},{\"attributes\":{\"fill_alpha\":{\"value\":0.1},\"fill_color\":{\"value\":\"#1f77b4\"},\"line_alpha\":{\"value\":0.1},\"line_color\":{\"value\":\"#1f77b4\"},\"x\":{\"field\":\"cat\"},\"y\":{\"field\":\"impact force (mN)\"}},\"id\":\"4938\",\"type\":\"Diamond\"},{\"attributes\":{},\"id\":\"4883\",\"type\":\"CategoricalTicker\"},{\"attributes\":{\"line_color\":{\"value\":\"#7C0000\"},\"line_width\":{\"value\":2},\"x0\":{\"field\":\"cat\"},\"x1\":{\"field\":\"cat\"},\"y0\":{\"field\":\"bottom\"},\"y1\":{\"field\":\"bottom_whisker\"}},\"id\":\"4912\",\"type\":\"Segment\"},{\"attributes\":{\"data_source\":{\"id\":\"4905\",\"type\":\"ColumnDataSource\"},\"glyph\":{\"id\":\"4937\",\"type\":\"Diamond\"},\"hover_glyph\":null,\"muted_glyph\":null,\"nonselection_glyph\":{\"id\":\"4938\",\"type\":\"Diamond\"},\"selection_glyph\":null,\"view\":{\"id\":\"4940\",\"type\":\"CDSView\"}},\"id\":\"4939\",\"type\":\"GlyphRenderer\"},{\"attributes\":{},\"id\":\"5088\",\"type\":\"CategoricalTickFormatter\"},{\"attributes\":{\"data_source\":{\"id\":\"4904\",\"type\":\"ColumnDataSource\"},\"glyph\":{\"id\":\"4907\",\"type\":\"Segment\"},\"hover_glyph\":null,\"muted_glyph\":null,\"nonselection_glyph\":{\"id\":\"4908\",\"type\":\"Segment\"},\"selection_glyph\":null,\"view\":{\"id\":\"4910\",\"type\":\"CDSView\"}},\"id\":\"4909\",\"type\":\"GlyphRenderer\"},{\"attributes\":{\"bottom\":{\"field\":\"bottom_whisker\"},\"fill_alpha\":{\"value\":0.1},\"fill_color\":{\"value\":\"#1f77b4\"},\"line_alpha\":{\"value\":0.1},\"line_color\":{\"value\":\"#1f77b4\"},\"line_width\":{\"value\":2},\"top\":{\"field\":\"bottom_whisker\"},\"width\":{\"value\":0.1},\"x\":{\"field\":\"cat\"}},\"id\":\"4923\",\"type\":\"VBar\"},{\"attributes\":{\"source\":{\"id\":\"4905\",\"type\":\"ColumnDataSource\"}},\"id\":\"4940\",\"type\":\"CDSView\"},{\"attributes\":{\"source\":{\"id\":\"4904\",\"type\":\"ColumnDataSource\"}},\"id\":\"4915\",\"type\":\"CDSView\"},{\"attributes\":{},\"id\":\"5093\",\"type\":\"Selection\"},{\"attributes\":{},\"id\":\"4878\",\"type\":\"CategoricalScale\"},{\"attributes\":{\"bottom\":{\"field\":\"bottom_whisker\"},\"fill_color\":{\"value\":\"#1f77b4\"},\"line_color\":{\"value\":\"#7C0000\"},\"line_width\":{\"value\":2},\"top\":{\"field\":\"bottom_whisker\"},\"width\":{\"value\":0.1},\"x\":{\"field\":\"cat\"}},\"id\":\"4922\",\"type\":\"VBar\"},{\"attributes\":{\"data_source\":{\"id\":\"4904\",\"type\":\"ColumnDataSource\"},\"glyph\":{\"id\":\"4922\",\"type\":\"VBar\"},\"hover_glyph\":null,\"muted_glyph\":null,\"nonselection_glyph\":{\"id\":\"4923\",\"type\":\"VBar\"},\"selection_glyph\":null,\"view\":{\"id\":\"4925\",\"type\":\"CDSView\"}},\"id\":\"4924\",\"type\":\"GlyphRenderer\"},{\"attributes\":{\"callback\":null,\"factors\":[\"I\",\"II\",\"III\",\"IV\"]},\"id\":\"4873\",\"type\":\"FactorRange\"},{\"attributes\":{},\"id\":\"5094\",\"type\":\"UnionRenderers\"},{\"attributes\":{},\"id\":\"4880\",\"type\":\"LinearScale\"},{\"attributes\":{\"overlay\":{\"id\":\"5096\",\"type\":\"BoxAnnotation\"}},\"id\":\"4893\",\"type\":\"BoxZoomTool\"},{\"attributes\":{\"callback\":null,\"data\":{\"__label\":[\"I\",\"II\",\"III\",\"IV\"],\"bottom\":[1231.25,422.0,458.75,198.0],\"bottom_whisker\":[473.0,245.0,324.0,22.0],\"cat\":[\"I\",\"II\",\"III\",\"IV\"],\"middle\":[1550.5,573.0,544.0,460.5],\"top\":[1904.75,799.75,615.75,599.0],\"top_whisker\":[2641.0,1182.0,806.0,815.0]},\"selected\":{\"id\":\"5093\",\"type\":\"Selection\"},\"selection_policy\":{\"id\":\"5092\",\"type\":\"UnionRenderers\"}},\"id\":\"4904\",\"type\":\"ColumnDataSource\"},{\"attributes\":{\"source\":{\"id\":\"4904\",\"type\":\"ColumnDataSource\"}},\"id\":\"4925\",\"type\":\"CDSView\"},{\"attributes\":{},\"id\":\"5090\",\"type\":\"BasicTickFormatter\"},{\"attributes\":{},\"id\":\"5095\",\"type\":\"Selection\"},{\"attributes\":{\"bottom_units\":\"screen\",\"fill_alpha\":{\"value\":0.5},\"fill_color\":{\"value\":\"lightgrey\"},\"left_units\":\"screen\",\"level\":\"overlay\",\"line_alpha\":{\"value\":1.0},\"line_color\":{\"value\":\"black\"},\"line_dash\":[4,4],\"line_width\":{\"value\":2},\"render_mode\":\"css\",\"right_units\":\"screen\",\"top_units\":\"screen\"},\"id\":\"5096\",\"type\":\"BoxAnnotation\"},{\"attributes\":{\"callback\":null},\"id\":\"4876\",\"type\":\"DataRange1d\"},{\"attributes\":{\"line_alpha\":{\"value\":0.1},\"line_color\":{\"value\":\"#1f77b4\"},\"line_width\":{\"value\":2},\"x0\":{\"field\":\"cat\"},\"x1\":{\"field\":\"cat\"},\"y0\":{\"field\":\"bottom\"},\"y1\":{\"field\":\"bottom_whisker\"}},\"id\":\"4913\",\"type\":\"Segment\"},{\"attributes\":{\"bottom\":{\"field\":\"bottom\"},\"fill_color\":{\"value\":\"#7C0000\"},\"line_color\":{\"value\":null},\"top\":{\"field\":\"top\"},\"width\":{\"value\":0.4},\"x\":{\"field\":\"cat\"}},\"id\":\"4927\",\"type\":\"VBar\"},{\"attributes\":{\"text\":\"\"},\"id\":\"5086\",\"type\":\"Title\"},{\"attributes\":{\"dimension\":1,\"ticker\":{\"id\":\"4887\",\"type\":\"BasicTicker\"}},\"id\":\"4890\",\"type\":\"Grid\"},{\"attributes\":{\"bottom\":{\"field\":\"bottom\"},\"fill_alpha\":{\"value\":0.1},\"fill_color\":{\"value\":\"#1f77b4\"},\"line_alpha\":{\"value\":0.1},\"line_color\":{\"value\":\"#1f77b4\"},\"top\":{\"field\":\"top\"},\"width\":{\"value\":0.4},\"x\":{\"field\":\"cat\"}},\"id\":\"4928\",\"type\":\"VBar\"},{\"attributes\":{},\"id\":\"5092\",\"type\":\"UnionRenderers\"},{\"attributes\":{\"data_source\":{\"id\":\"4904\",\"type\":\"ColumnDataSource\"},\"glyph\":{\"id\":\"4927\",\"type\":\"VBar\"},\"hover_glyph\":null,\"muted_glyph\":null,\"nonselection_glyph\":{\"id\":\"4928\",\"type\":\"VBar\"},\"selection_glyph\":null,\"view\":{\"id\":\"4930\",\"type\":\"CDSView\"}},\"id\":\"4929\",\"type\":\"GlyphRenderer\"},{\"attributes\":{},\"id\":\"4891\",\"type\":\"PanTool\"},{\"attributes\":{\"source\":{\"id\":\"4904\",\"type\":\"ColumnDataSource\"}},\"id\":\"4930\",\"type\":\"CDSView\"},{\"attributes\":{\"grid_line_color\":null,\"ticker\":{\"id\":\"4883\",\"type\":\"CategoricalTicker\"}},\"id\":\"4885\",\"type\":\"Grid\"},{\"attributes\":{\"callback\":null,\"data\":{\"ID\":[\"II\",\"II\",\"II\"],\"__label\":[\"II\",\"II\",\"II\"],\"cat\":[\"II\",\"II\",\"II\"],\"impact force (mN)\":[1612,1539,1453]},\"selected\":{\"id\":\"5095\",\"type\":\"Selection\"},\"selection_policy\":{\"id\":\"5094\",\"type\":\"UnionRenderers\"}},\"id\":\"4905\",\"type\":\"ColumnDataSource\"},{\"attributes\":{\"active_drag\":\"auto\",\"active_inspect\":\"auto\",\"active_multi\":null,\"active_scroll\":\"auto\",\"active_tap\":\"auto\",\"tools\":[{\"id\":\"4891\",\"type\":\"PanTool\"},{\"id\":\"4892\",\"type\":\"WheelZoomTool\"},{\"id\":\"4893\",\"type\":\"BoxZoomTool\"},{\"id\":\"4894\",\"type\":\"SaveTool\"},{\"id\":\"4895\",\"type\":\"ResetTool\"},{\"id\":\"4896\",\"type\":\"HelpTool\"}]},\"id\":\"4897\",\"type\":\"Toolbar\"},{\"attributes\":{\"bottom\":{\"field\":\"middle\"},\"fill_color\":{\"value\":\"#1f77b4\"},\"line_color\":{\"value\":\"white\"},\"top\":{\"field\":\"middle\"},\"width\":{\"value\":0.4},\"x\":{\"field\":\"cat\"}},\"id\":\"4932\",\"type\":\"VBar\"},{\"attributes\":{\"source\":{\"id\":\"4904\",\"type\":\"ColumnDataSource\"}},\"id\":\"4910\",\"type\":\"CDSView\"},{\"attributes\":{\"line_color\":{\"value\":\"#7C0000\"},\"line_width\":{\"value\":2},\"x0\":{\"field\":\"cat\"},\"x1\":{\"field\":\"cat\"},\"y0\":{\"field\":\"top\"},\"y1\":{\"field\":\"top_whisker\"}},\"id\":\"4907\",\"type\":\"Segment\"},{\"attributes\":{\"bottom\":{\"field\":\"middle\"},\"fill_alpha\":{\"value\":0.1},\"fill_color\":{\"value\":\"#1f77b4\"},\"line_alpha\":{\"value\":0.1},\"line_color\":{\"value\":\"#1f77b4\"},\"top\":{\"field\":\"middle\"},\"width\":{\"value\":0.4},\"x\":{\"field\":\"cat\"}},\"id\":\"4933\",\"type\":\"VBar\"},{\"attributes\":{},\"id\":\"4887\",\"type\":\"BasicTicker\"},{\"attributes\":{},\"id\":\"4896\",\"type\":\"HelpTool\"},{\"attributes\":{\"line_alpha\":{\"value\":0.1},\"line_color\":{\"value\":\"#1f77b4\"},\"line_width\":{\"value\":2},\"x0\":{\"field\":\"cat\"},\"x1\":{\"field\":\"cat\"},\"y0\":{\"field\":\"top\"},\"y1\":{\"field\":\"top_whisker\"}},\"id\":\"4908\",\"type\":\"Segment\"},{\"attributes\":{},\"id\":\"4892\",\"type\":\"WheelZoomTool\"},{\"attributes\":{\"data_source\":{\"id\":\"4904\",\"type\":\"ColumnDataSource\"},\"glyph\":{\"id\":\"4932\",\"type\":\"VBar\"},\"hover_glyph\":null,\"muted_glyph\":null,\"nonselection_glyph\":{\"id\":\"4933\",\"type\":\"VBar\"},\"selection_glyph\":null,\"view\":{\"id\":\"4935\",\"type\":\"CDSView\"}},\"id\":\"4934\",\"type\":\"GlyphRenderer\"},{\"attributes\":{},\"id\":\"4895\",\"type\":\"ResetTool\"},{\"attributes\":{},\"id\":\"4894\",\"type\":\"SaveTool\"},{\"attributes\":{\"data_source\":{\"id\":\"4904\",\"type\":\"ColumnDataSource\"},\"glyph\":{\"id\":\"4917\",\"type\":\"VBar\"},\"hover_glyph\":null,\"muted_glyph\":null,\"nonselection_glyph\":{\"id\":\"4918\",\"type\":\"VBar\"},\"selection_glyph\":null,\"view\":{\"id\":\"4920\",\"type\":\"CDSView\"}},\"id\":\"4919\",\"type\":\"GlyphRenderer\"}],\"root_ids\":[\"4874\"]},\"title\":\"Bokeh Application\",\"version\":\"1.2.0\"}};\n",
       "  var render_items = [{\"docid\":\"5c73924c-f961-484f-838e-f4ce96db008c\",\"roots\":{\"4874\":\"cb97c3e3-072d-4c4e-9bdf-b43c9be958ed\"}}];\n",
       "  root.Bokeh.embed.embed_items_notebook(docs_json, render_items);\n",
       "\n",
       "  }\n",
       "  if (root.Bokeh !== undefined) {\n",
       "    embed_document(root);\n",
       "  } else {\n",
       "    var attempts = 0;\n",
       "    var timer = setInterval(function(root) {\n",
       "      if (root.Bokeh !== undefined) {\n",
       "        embed_document(root);\n",
       "        clearInterval(timer);\n",
       "      }\n",
       "      attempts++;\n",
       "      if (attempts > 100) {\n",
       "        console.log(\"Bokeh: ERROR: Unable to run BokehJS code because BokehJS library is missing\");\n",
       "        clearInterval(timer);\n",
       "      }\n",
       "    }, 10, root)\n",
       "  }\n",
       "})(window);"
      ],
      "application/vnd.bokehjs_exec.v0+json": ""
     },
     "metadata": {
      "application/vnd.bokehjs_exec.v0+json": {
       "id": "4874"
      }
     },
     "output_type": "display_data"
    }
   ],
   "source": [
    "p = bokeh_catplot.box(\n",
    "    data=df,\n",
    "    cats='ID',\n",
    "    val='impact force (mN)',\n",
    "    whisker_caps=True,\n",
    "    outlier_marker='diamond',\n",
    "    box_kwargs=dict(fill_color='#7C0000'),\n",
    "    whisker_kwargs=dict(line_color='#7C0000', line_width=2),\n",
    ")\n",
    "\n",
    "bokeh.io.show(p)"
   ]
  },
  {
   "cell_type": "markdown",
   "metadata": {},
   "source": [
    "#### Custominzing strip plots\n",
    "\n",
    "To help alleviate the overlap problem, we can make a strip plot with dash markers and add some transparency."
   ]
  },
  {
   "cell_type": "code",
   "execution_count": 17,
   "metadata": {},
   "outputs": [
    {
     "data": {
      "text/html": [
       "\n",
       "\n",
       "\n",
       "\n",
       "\n",
       "\n",
       "  <div class=\"bk-root\" id=\"32111177-fc8b-42b7-a47e-f54ad46e1736\" data-root-id=\"5164\"></div>\n"
      ]
     },
     "metadata": {},
     "output_type": "display_data"
    },
    {
     "data": {
      "application/javascript": [
       "(function(root) {\n",
       "  function embed_document(root) {\n",
       "    \n",
       "  var docs_json = {\"e5e47753-7afd-4523-b4e8-28b0ec1bf062\":{\"roots\":{\"references\":[{\"attributes\":{\"below\":[{\"id\":\"5172\",\"type\":\"CategoricalAxis\"}],\"center\":[{\"id\":\"5175\",\"type\":\"Grid\"},{\"id\":\"5180\",\"type\":\"Grid\"}],\"left\":[{\"id\":\"5176\",\"type\":\"LinearAxis\"}],\"plot_height\":300,\"plot_width\":400,\"renderers\":[{\"id\":\"5199\",\"type\":\"GlyphRenderer\"}],\"title\":{\"id\":\"5357\",\"type\":\"Title\"},\"toolbar\":{\"id\":\"5187\",\"type\":\"Toolbar\"},\"x_range\":{\"id\":\"5163\",\"type\":\"FactorRange\"},\"x_scale\":{\"id\":\"5168\",\"type\":\"CategoricalScale\"},\"y_range\":{\"id\":\"5166\",\"type\":\"DataRange1d\"},\"y_scale\":{\"id\":\"5170\",\"type\":\"LinearScale\"}},\"id\":\"5164\",\"subtype\":\"Figure\",\"type\":\"Plot\"},{\"attributes\":{\"callback\":null,\"factors\":[\"I\",\"II\",\"III\",\"IV\"]},\"id\":\"5163\",\"type\":\"FactorRange\"},{\"attributes\":{\"overlay\":{\"id\":\"5365\",\"type\":\"BoxAnnotation\"}},\"id\":\"5183\",\"type\":\"BoxZoomTool\"},{\"attributes\":{\"text\":\"\"},\"id\":\"5357\",\"type\":\"Title\"},{\"attributes\":{},\"id\":\"5184\",\"type\":\"SaveTool\"},{\"attributes\":{},\"id\":\"5363\",\"type\":\"UnionRenderers\"},{\"attributes\":{\"active_drag\":\"auto\",\"active_inspect\":\"auto\",\"active_multi\":null,\"active_scroll\":\"auto\",\"active_tap\":\"auto\",\"tools\":[{\"id\":\"5181\",\"type\":\"PanTool\"},{\"id\":\"5182\",\"type\":\"WheelZoomTool\"},{\"id\":\"5183\",\"type\":\"BoxZoomTool\"},{\"id\":\"5184\",\"type\":\"SaveTool\"},{\"id\":\"5185\",\"type\":\"ResetTool\"},{\"id\":\"5186\",\"type\":\"HelpTool\"}]},\"id\":\"5187\",\"type\":\"Toolbar\"},{\"attributes\":{\"callback\":null,\"data\":{\"ID\":[\"I\",\"I\",\"I\",\"I\",\"I\",\"I\",\"I\",\"I\",\"I\",\"I\",\"I\",\"I\",\"I\",\"I\",\"I\",\"I\",\"I\",\"I\",\"I\",\"I\",\"II\",\"II\",\"II\",\"II\",\"II\",\"II\",\"II\",\"II\",\"II\",\"II\",\"II\",\"II\",\"II\",\"II\",\"II\",\"II\",\"II\",\"II\",\"II\",\"II\",\"III\",\"III\",\"III\",\"III\",\"III\",\"III\",\"III\",\"III\",\"III\",\"III\",\"III\",\"III\",\"III\",\"III\",\"III\",\"III\",\"III\",\"III\",\"III\",\"III\",\"IV\",\"IV\",\"IV\",\"IV\",\"IV\",\"IV\",\"IV\",\"IV\",\"IV\",\"IV\",\"IV\",\"IV\",\"IV\",\"IV\",\"IV\",\"IV\",\"IV\",\"IV\",\"IV\",\"IV\"],\"__label\":[\"I\",\"I\",\"I\",\"I\",\"I\",\"I\",\"I\",\"I\",\"I\",\"I\",\"I\",\"I\",\"I\",\"I\",\"I\",\"I\",\"I\",\"I\",\"I\",\"I\",\"II\",\"II\",\"II\",\"II\",\"II\",\"II\",\"II\",\"II\",\"II\",\"II\",\"II\",\"II\",\"II\",\"II\",\"II\",\"II\",\"II\",\"II\",\"II\",\"II\",\"III\",\"III\",\"III\",\"III\",\"III\",\"III\",\"III\",\"III\",\"III\",\"III\",\"III\",\"III\",\"III\",\"III\",\"III\",\"III\",\"III\",\"III\",\"III\",\"III\",\"IV\",\"IV\",\"IV\",\"IV\",\"IV\",\"IV\",\"IV\",\"IV\",\"IV\",\"IV\",\"IV\",\"IV\",\"IV\",\"IV\",\"IV\",\"IV\",\"IV\",\"IV\",\"IV\",\"IV\"],\"cat\":[\"I\",\"I\",\"I\",\"I\",\"I\",\"I\",\"I\",\"I\",\"I\",\"I\",\"I\",\"I\",\"I\",\"I\",\"I\",\"I\",\"I\",\"I\",\"I\",\"I\",\"II\",\"II\",\"II\",\"II\",\"II\",\"II\",\"II\",\"II\",\"II\",\"II\",\"II\",\"II\",\"II\",\"II\",\"II\",\"II\",\"II\",\"II\",\"II\",\"II\",\"III\",\"III\",\"III\",\"III\",\"III\",\"III\",\"III\",\"III\",\"III\",\"III\",\"III\",\"III\",\"III\",\"III\",\"III\",\"III\",\"III\",\"III\",\"III\",\"III\",\"IV\",\"IV\",\"IV\",\"IV\",\"IV\",\"IV\",\"IV\",\"IV\",\"IV\",\"IV\",\"IV\",\"IV\",\"IV\",\"IV\",\"IV\",\"IV\",\"IV\",\"IV\",\"IV\",\"IV\"],\"impact force (mN)\":[1205,2527,1745,1556,493,2276,556,1928,2641,1897,1891,1545,1307,1692,1543,1282,775,2032,1240,473,1612,605,327,946,541,1539,529,628,1453,297,703,269,751,245,1182,515,435,383,457,730,614,414,324,776,611,544,538,579,806,459,458,626,621,544,535,385,401,614,665,488,172,142,37,453,355,22,502,273,720,582,198,198,597,516,815,402,605,711,614,468]},\"selected\":{\"id\":\"5364\",\"type\":\"Selection\"},\"selection_policy\":{\"id\":\"5363\",\"type\":\"UnionRenderers\"}},\"id\":\"5195\",\"type\":\"ColumnDataSource\"},{\"attributes\":{},\"id\":\"5364\",\"type\":\"Selection\"},{\"attributes\":{\"dimension\":1,\"ticker\":{\"id\":\"5177\",\"type\":\"BasicTicker\"}},\"id\":\"5180\",\"type\":\"Grid\"},{\"attributes\":{\"axis_label\":\"impact force (mN)\",\"formatter\":{\"id\":\"5361\",\"type\":\"BasicTickFormatter\"},\"ticker\":{\"id\":\"5177\",\"type\":\"BasicTicker\"}},\"id\":\"5176\",\"type\":\"LinearAxis\"},{\"attributes\":{\"grid_line_color\":null,\"ticker\":{\"id\":\"5173\",\"type\":\"CategoricalTicker\"}},\"id\":\"5175\",\"type\":\"Grid\"},{\"attributes\":{},\"id\":\"5173\",\"type\":\"CategoricalTicker\"},{\"attributes\":{\"callback\":null},\"id\":\"5166\",\"type\":\"DataRange1d\"},{\"attributes\":{\"factors\":[\"I\",\"II\",\"III\",\"IV\"],\"palette\":[\"#4e79a7\",\"#f28e2b\",\"#e15759\",\"#76b7b2\",\"#59a14f\",\"#edc948\",\"#b07aa1\",\"#ff9da7\",\"#9c755f\",\"#bab0ac\"]},\"id\":\"5194\",\"type\":\"CategoricalColorMapper\"},{\"attributes\":{\"formatter\":{\"id\":\"5359\",\"type\":\"CategoricalTickFormatter\"},\"ticker\":{\"id\":\"5173\",\"type\":\"CategoricalTicker\"}},\"id\":\"5172\",\"type\":\"CategoricalAxis\"},{\"attributes\":{},\"id\":\"5170\",\"type\":\"LinearScale\"},{\"attributes\":{\"data_source\":{\"id\":\"5195\",\"type\":\"ColumnDataSource\"},\"glyph\":{\"id\":\"5197\",\"type\":\"Dash\"},\"hover_glyph\":null,\"muted_glyph\":null,\"nonselection_glyph\":{\"id\":\"5198\",\"type\":\"Dash\"},\"selection_glyph\":null,\"view\":{\"id\":\"5200\",\"type\":\"CDSView\"}},\"id\":\"5199\",\"type\":\"GlyphRenderer\"},{\"attributes\":{},\"id\":\"5168\",\"type\":\"CategoricalScale\"},{\"attributes\":{\"fill_alpha\":{\"value\":0.5},\"fill_color\":{\"field\":\"cat\",\"transform\":{\"id\":\"5194\",\"type\":\"CategoricalColorMapper\"}},\"line_alpha\":{\"value\":0.5},\"line_color\":{\"field\":\"cat\",\"transform\":{\"id\":\"5194\",\"type\":\"CategoricalColorMapper\"}},\"size\":{\"units\":\"screen\",\"value\":25.0},\"x\":{\"field\":\"cat\"},\"y\":{\"field\":\"impact force (mN)\"}},\"id\":\"5197\",\"type\":\"Dash\"},{\"attributes\":{\"bottom_units\":\"screen\",\"fill_alpha\":{\"value\":0.5},\"fill_color\":{\"value\":\"lightgrey\"},\"left_units\":\"screen\",\"level\":\"overlay\",\"line_alpha\":{\"value\":1.0},\"line_color\":{\"value\":\"black\"},\"line_dash\":[4,4],\"line_width\":{\"value\":2},\"render_mode\":\"css\",\"right_units\":\"screen\",\"top_units\":\"screen\"},\"id\":\"5365\",\"type\":\"BoxAnnotation\"},{\"attributes\":{},\"id\":\"5359\",\"type\":\"CategoricalTickFormatter\"},{\"attributes\":{},\"id\":\"5186\",\"type\":\"HelpTool\"},{\"attributes\":{},\"id\":\"5177\",\"type\":\"BasicTicker\"},{\"attributes\":{\"source\":{\"id\":\"5195\",\"type\":\"ColumnDataSource\"}},\"id\":\"5200\",\"type\":\"CDSView\"},{\"attributes\":{\"fill_alpha\":{\"value\":0.1},\"fill_color\":{\"value\":\"#1f77b4\"},\"line_alpha\":{\"value\":0.1},\"line_color\":{\"value\":\"#1f77b4\"},\"size\":{\"units\":\"screen\",\"value\":25.0},\"x\":{\"field\":\"cat\"},\"y\":{\"field\":\"impact force (mN)\"}},\"id\":\"5198\",\"type\":\"Dash\"},{\"attributes\":{},\"id\":\"5185\",\"type\":\"ResetTool\"},{\"attributes\":{},\"id\":\"5361\",\"type\":\"BasicTickFormatter\"},{\"attributes\":{},\"id\":\"5181\",\"type\":\"PanTool\"},{\"attributes\":{},\"id\":\"5182\",\"type\":\"WheelZoomTool\"}],\"root_ids\":[\"5164\"]},\"title\":\"Bokeh Application\",\"version\":\"1.2.0\"}};\n",
       "  var render_items = [{\"docid\":\"e5e47753-7afd-4523-b4e8-28b0ec1bf062\",\"roots\":{\"5164\":\"32111177-fc8b-42b7-a47e-f54ad46e1736\"}}];\n",
       "  root.Bokeh.embed.embed_items_notebook(docs_json, render_items);\n",
       "\n",
       "  }\n",
       "  if (root.Bokeh !== undefined) {\n",
       "    embed_document(root);\n",
       "  } else {\n",
       "    var attempts = 0;\n",
       "    var timer = setInterval(function(root) {\n",
       "      if (root.Bokeh !== undefined) {\n",
       "        embed_document(root);\n",
       "        clearInterval(timer);\n",
       "      }\n",
       "      attempts++;\n",
       "      if (attempts > 100) {\n",
       "        console.log(\"Bokeh: ERROR: Unable to run BokehJS code because BokehJS library is missing\");\n",
       "        clearInterval(timer);\n",
       "      }\n",
       "    }, 10, root)\n",
       "  }\n",
       "})(window);"
      ],
      "application/vnd.bokehjs_exec.v0+json": ""
     },
     "metadata": {
      "application/vnd.bokehjs_exec.v0+json": {
       "id": "5164"
      }
     },
     "output_type": "display_data"
    }
   ],
   "source": [
    "p = bokeh_catplot.strip(\n",
    "    data=df,\n",
    "    cats='ID',\n",
    "    val='impact force (mN)',\n",
    "    marker='dash',\n",
    "    marker_kwargs=dict(alpha=0.5)\n",
    ")\n",
    "\n",
    "bokeh.io.show(p)"
   ]
  },
  {
   "cell_type": "markdown",
   "metadata": {},
   "source": [
    "The problem with strip plots is that they can have trouble with overlapping data points. A common approach to deal with this is to \"jitter,\" or place the glyphs with small random displacements along the categorical axis. I do that here, allowing for hover tools that give more information about the respective data points."
   ]
  },
  {
   "cell_type": "code",
   "execution_count": 18,
   "metadata": {},
   "outputs": [
    {
     "data": {
      "text/html": [
       "\n",
       "\n",
       "\n",
       "\n",
       "\n",
       "\n",
       "  <div class=\"bk-root\" id=\"899a6b49-370c-4f89-8afd-ec55995a81ec\" data-root-id=\"5421\"></div>\n"
      ]
     },
     "metadata": {},
     "output_type": "display_data"
    },
    {
     "data": {
      "application/javascript": [
       "(function(root) {\n",
       "  function embed_document(root) {\n",
       "    \n",
       "  var docs_json = {\"389428d4-db07-4115-acdf-146170504304\":{\"roots\":{\"references\":[{\"attributes\":{\"below\":[{\"id\":\"5429\",\"type\":\"CategoricalAxis\"}],\"center\":[{\"id\":\"5432\",\"type\":\"Grid\"},{\"id\":\"5437\",\"type\":\"Grid\"}],\"left\":[{\"id\":\"5433\",\"type\":\"LinearAxis\"}],\"plot_height\":300,\"plot_width\":400,\"renderers\":[{\"id\":\"5459\",\"type\":\"GlyphRenderer\"}],\"title\":{\"id\":\"5626\",\"type\":\"Title\"},\"toolbar\":{\"id\":\"5444\",\"type\":\"Toolbar\"},\"x_range\":{\"id\":\"5420\",\"type\":\"FactorRange\"},\"x_scale\":{\"id\":\"5425\",\"type\":\"CategoricalScale\"},\"y_range\":{\"id\":\"5423\",\"type\":\"DataRange1d\"},\"y_scale\":{\"id\":\"5427\",\"type\":\"LinearScale\"}},\"id\":\"5421\",\"subtype\":\"Figure\",\"type\":\"Plot\"},{\"attributes\":{},\"id\":\"5441\",\"type\":\"SaveTool\"},{\"attributes\":{},\"id\":\"5633\",\"type\":\"Selection\"},{\"attributes\":{},\"id\":\"5442\",\"type\":\"ResetTool\"},{\"attributes\":{},\"id\":\"5632\",\"type\":\"UnionRenderers\"},{\"attributes\":{},\"id\":\"5443\",\"type\":\"HelpTool\"},{\"attributes\":{\"callback\":null,\"data\":{\"ID\":[\"I\",\"I\",\"I\",\"I\",\"I\",\"I\",\"I\",\"I\",\"I\",\"I\",\"I\",\"I\",\"I\",\"I\",\"I\",\"I\",\"I\",\"I\",\"I\",\"I\",\"II\",\"II\",\"II\",\"II\",\"II\",\"II\",\"II\",\"II\",\"II\",\"II\",\"II\",\"II\",\"II\",\"II\",\"II\",\"II\",\"II\",\"II\",\"II\",\"II\",\"III\",\"III\",\"III\",\"III\",\"III\",\"III\",\"III\",\"III\",\"III\",\"III\",\"III\",\"III\",\"III\",\"III\",\"III\",\"III\",\"III\",\"III\",\"III\",\"III\",\"IV\",\"IV\",\"IV\",\"IV\",\"IV\",\"IV\",\"IV\",\"IV\",\"IV\",\"IV\",\"IV\",\"IV\",\"IV\",\"IV\",\"IV\",\"IV\",\"IV\",\"IV\",\"IV\",\"IV\"],\"__label\":[\"I\",\"I\",\"I\",\"I\",\"I\",\"I\",\"I\",\"I\",\"I\",\"I\",\"I\",\"I\",\"I\",\"I\",\"I\",\"I\",\"I\",\"I\",\"I\",\"I\",\"II\",\"II\",\"II\",\"II\",\"II\",\"II\",\"II\",\"II\",\"II\",\"II\",\"II\",\"II\",\"II\",\"II\",\"II\",\"II\",\"II\",\"II\",\"II\",\"II\",\"III\",\"III\",\"III\",\"III\",\"III\",\"III\",\"III\",\"III\",\"III\",\"III\",\"III\",\"III\",\"III\",\"III\",\"III\",\"III\",\"III\",\"III\",\"III\",\"III\",\"IV\",\"IV\",\"IV\",\"IV\",\"IV\",\"IV\",\"IV\",\"IV\",\"IV\",\"IV\",\"IV\",\"IV\",\"IV\",\"IV\",\"IV\",\"IV\",\"IV\",\"IV\",\"IV\",\"IV\"],\"adhesive force (mN)\":[-785,-983,-850,-455,-974,-592,-512,-804,-690,-462,-766,-715,-613,-677,-528,-452,-430,-652,-692,-536,-655,-292,-246,-245,-553,-664,-261,-691,-92,-566,-223,-512,-227,-573,-522,-599,-364,-469,-844,-648,-94,-163,-172,-225,-301,-93,-131,-289,-104,-229,-259,-231,-267,-178,-123,-151,-127,-372,-236,-390,-456,-193,-236,-225,-217,-161,-139,-264,-342,-231,-209,-292,-339,-371,-331,-302,-216,-163,-367,-218],\"cat\":[\"I\",\"I\",\"I\",\"I\",\"I\",\"I\",\"I\",\"I\",\"I\",\"I\",\"I\",\"I\",\"I\",\"I\",\"I\",\"I\",\"I\",\"I\",\"I\",\"I\",\"II\",\"II\",\"II\",\"II\",\"II\",\"II\",\"II\",\"II\",\"II\",\"II\",\"II\",\"II\",\"II\",\"II\",\"II\",\"II\",\"II\",\"II\",\"II\",\"II\",\"III\",\"III\",\"III\",\"III\",\"III\",\"III\",\"III\",\"III\",\"III\",\"III\",\"III\",\"III\",\"III\",\"III\",\"III\",\"III\",\"III\",\"III\",\"III\",\"III\",\"IV\",\"IV\",\"IV\",\"IV\",\"IV\",\"IV\",\"IV\",\"IV\",\"IV\",\"IV\",\"IV\",\"IV\",\"IV\",\"IV\",\"IV\",\"IV\",\"IV\",\"IV\",\"IV\",\"IV\"],\"impact force (mN)\":[1205,2527,1745,1556,493,2276,556,1928,2641,1897,1891,1545,1307,1692,1543,1282,775,2032,1240,473,1612,605,327,946,541,1539,529,628,1453,297,703,269,751,245,1182,515,435,383,457,730,614,414,324,776,611,544,538,579,806,459,458,626,621,544,535,385,401,614,665,488,172,142,37,453,355,22,502,273,720,582,198,198,597,516,815,402,605,711,614,468],\"trial number\":[3,4,1,2,3,4,1,2,3,4,1,2,3,4,5,1,2,3,4,5,1,2,3,4,1,2,3,4,1,2,3,4,1,2,1,2,1,2,3,1,1,2,3,1,2,3,1,2,1,2,3,4,1,2,3,4,1,2,3,4,2,3,4,1,2,3,1,1,2,3,4,1,1,2,3,4,1,2,3,4]},\"selected\":{\"id\":\"5633\",\"type\":\"Selection\"},\"selection_policy\":{\"id\":\"5632\",\"type\":\"UnionRenderers\"}},\"id\":\"5454\",\"type\":\"ColumnDataSource\"},{\"attributes\":{\"callback\":null,\"factors\":[\"I\",\"II\",\"III\",\"IV\"]},\"id\":\"5420\",\"type\":\"FactorRange\"},{\"attributes\":{\"callback\":null},\"id\":\"5423\",\"type\":\"DataRange1d\"},{\"attributes\":{\"bottom_units\":\"screen\",\"fill_alpha\":{\"value\":0.5},\"fill_color\":{\"value\":\"lightgrey\"},\"left_units\":\"screen\",\"level\":\"overlay\",\"line_alpha\":{\"value\":1.0},\"line_color\":{\"value\":\"black\"},\"line_dash\":[4,4],\"line_width\":{\"value\":2},\"render_mode\":\"css\",\"right_units\":\"screen\",\"top_units\":\"screen\"},\"id\":\"5634\",\"type\":\"BoxAnnotation\"},{\"attributes\":{},\"id\":\"5425\",\"type\":\"CategoricalScale\"},{\"attributes\":{\"distribution\":\"normal\",\"range\":{\"id\":\"5420\",\"type\":\"FactorRange\"},\"width\":0.1},\"id\":\"5455\",\"type\":\"Jitter\"},{\"attributes\":{},\"id\":\"5427\",\"type\":\"LinearScale\"},{\"attributes\":{\"formatter\":{\"id\":\"5628\",\"type\":\"CategoricalTickFormatter\"},\"ticker\":{\"id\":\"5430\",\"type\":\"CategoricalTicker\"}},\"id\":\"5429\",\"type\":\"CategoricalAxis\"},{\"attributes\":{},\"id\":\"5430\",\"type\":\"CategoricalTicker\"},{\"attributes\":{\"fill_color\":{\"field\":\"cat\",\"transform\":{\"id\":\"5453\",\"type\":\"CategoricalColorMapper\"}},\"line_color\":{\"field\":\"cat\",\"transform\":{\"id\":\"5453\",\"type\":\"CategoricalColorMapper\"}},\"x\":{\"field\":\"cat\",\"transform\":{\"id\":\"5455\",\"type\":\"Jitter\"}},\"y\":{\"field\":\"impact force (mN)\"}},\"id\":\"5457\",\"type\":\"Circle\"},{\"attributes\":{\"grid_line_color\":null,\"ticker\":{\"id\":\"5430\",\"type\":\"CategoricalTicker\"}},\"id\":\"5432\",\"type\":\"Grid\"},{\"attributes\":{\"fill_alpha\":{\"value\":0.1},\"fill_color\":{\"value\":\"#1f77b4\"},\"line_alpha\":{\"value\":0.1},\"line_color\":{\"value\":\"#1f77b4\"},\"x\":{\"field\":\"cat\",\"transform\":{\"id\":\"5455\",\"type\":\"Jitter\"}},\"y\":{\"field\":\"impact force (mN)\"}},\"id\":\"5458\",\"type\":\"Circle\"},{\"attributes\":{\"axis_label\":\"impact force (mN)\",\"formatter\":{\"id\":\"5630\",\"type\":\"BasicTickFormatter\"},\"ticker\":{\"id\":\"5434\",\"type\":\"BasicTicker\"}},\"id\":\"5433\",\"type\":\"LinearAxis\"},{\"attributes\":{\"data_source\":{\"id\":\"5454\",\"type\":\"ColumnDataSource\"},\"glyph\":{\"id\":\"5457\",\"type\":\"Circle\"},\"hover_glyph\":null,\"muted_glyph\":null,\"nonselection_glyph\":{\"id\":\"5458\",\"type\":\"Circle\"},\"selection_glyph\":null,\"view\":{\"id\":\"5460\",\"type\":\"CDSView\"}},\"id\":\"5459\",\"type\":\"GlyphRenderer\"},{\"attributes\":{},\"id\":\"5434\",\"type\":\"BasicTicker\"},{\"attributes\":{\"source\":{\"id\":\"5454\",\"type\":\"ColumnDataSource\"}},\"id\":\"5460\",\"type\":\"CDSView\"},{\"attributes\":{},\"id\":\"5628\",\"type\":\"CategoricalTickFormatter\"},{\"attributes\":{\"dimension\":1,\"ticker\":{\"id\":\"5434\",\"type\":\"BasicTicker\"}},\"id\":\"5437\",\"type\":\"Grid\"},{\"attributes\":{\"factors\":[\"I\",\"II\",\"III\",\"IV\"],\"palette\":[\"#4e79a7\",\"#f28e2b\",\"#e15759\",\"#76b7b2\",\"#59a14f\",\"#edc948\",\"#b07aa1\",\"#ff9da7\",\"#9c755f\",\"#bab0ac\"]},\"id\":\"5453\",\"type\":\"CategoricalColorMapper\"},{\"attributes\":{},\"id\":\"5630\",\"type\":\"BasicTickFormatter\"},{\"attributes\":{\"callback\":null,\"tooltips\":[[\"trial\",\"@{trial number}\"],[\"adh force\",\"@{adhesive force (mN)}\"]]},\"id\":\"5451\",\"type\":\"HoverTool\"},{\"attributes\":{\"active_drag\":\"auto\",\"active_inspect\":\"auto\",\"active_multi\":null,\"active_scroll\":\"auto\",\"active_tap\":\"auto\",\"tools\":[{\"id\":\"5438\",\"type\":\"PanTool\"},{\"id\":\"5439\",\"type\":\"WheelZoomTool\"},{\"id\":\"5440\",\"type\":\"BoxZoomTool\"},{\"id\":\"5441\",\"type\":\"SaveTool\"},{\"id\":\"5442\",\"type\":\"ResetTool\"},{\"id\":\"5443\",\"type\":\"HelpTool\"},{\"id\":\"5451\",\"type\":\"HoverTool\"}]},\"id\":\"5444\",\"type\":\"Toolbar\"},{\"attributes\":{\"text\":\"\"},\"id\":\"5626\",\"type\":\"Title\"},{\"attributes\":{},\"id\":\"5438\",\"type\":\"PanTool\"},{\"attributes\":{},\"id\":\"5439\",\"type\":\"WheelZoomTool\"},{\"attributes\":{\"overlay\":{\"id\":\"5634\",\"type\":\"BoxAnnotation\"}},\"id\":\"5440\",\"type\":\"BoxZoomTool\"}],\"root_ids\":[\"5421\"]},\"title\":\"Bokeh Application\",\"version\":\"1.2.0\"}};\n",
       "  var render_items = [{\"docid\":\"389428d4-db07-4115-acdf-146170504304\",\"roots\":{\"5421\":\"899a6b49-370c-4f89-8afd-ec55995a81ec\"}}];\n",
       "  root.Bokeh.embed.embed_items_notebook(docs_json, render_items);\n",
       "\n",
       "  }\n",
       "  if (root.Bokeh !== undefined) {\n",
       "    embed_document(root);\n",
       "  } else {\n",
       "    var attempts = 0;\n",
       "    var timer = setInterval(function(root) {\n",
       "      if (root.Bokeh !== undefined) {\n",
       "        embed_document(root);\n",
       "        clearInterval(timer);\n",
       "      }\n",
       "      attempts++;\n",
       "      if (attempts > 100) {\n",
       "        console.log(\"Bokeh: ERROR: Unable to run BokehJS code because BokehJS library is missing\");\n",
       "        clearInterval(timer);\n",
       "      }\n",
       "    }, 10, root)\n",
       "  }\n",
       "})(window);"
      ],
      "application/vnd.bokehjs_exec.v0+json": ""
     },
     "metadata": {
      "application/vnd.bokehjs_exec.v0+json": {
       "id": "5421"
      }
     },
     "output_type": "display_data"
    }
   ],
   "source": [
    "p = bokeh_catplot.strip(\n",
    "    data=df,\n",
    "    cats='ID',\n",
    "    val='impact force (mN)',\n",
    "    jitter=True,\n",
    "    tooltips=[\n",
    "        ('trial', '@{trial number}'),\n",
    "        ('adh force', '@{adhesive force (mN)}')\n",
    "    ]\n",
    ")\n",
    "\n",
    "bokeh.io.show(p)"
   ]
  },
  {
   "cell_type": "markdown",
   "metadata": {},
   "source": [
    "With any of the plots, you can have more than one categorical column, and the categorical axes are nicely spaced and formatted. Here, we'll categorize by frog ID and by trial number."
   ]
  },
  {
   "cell_type": "code",
   "execution_count": 19,
   "metadata": {},
   "outputs": [
    {
     "data": {
      "text/html": [
       "\n",
       "\n",
       "\n",
       "\n",
       "\n",
       "\n",
       "  <div class=\"bk-root\" id=\"efac7d44-5ca2-40a3-9bfd-31e93878b484\" data-root-id=\"5690\"></div>\n"
      ]
     },
     "metadata": {},
     "output_type": "display_data"
    },
    {
     "data": {
      "application/javascript": [
       "(function(root) {\n",
       "  function embed_document(root) {\n",
       "    \n",
       "  var docs_json = {\"d12bc48a-cef2-49f2-b65a-bb576c539e41\":{\"roots\":{\"references\":[{\"attributes\":{\"below\":[{\"id\":\"5698\",\"type\":\"CategoricalAxis\"}],\"center\":[{\"id\":\"5701\",\"type\":\"Grid\"},{\"id\":\"5706\",\"type\":\"Grid\"}],\"left\":[{\"id\":\"5702\",\"type\":\"LinearAxis\"}],\"plot_height\":300,\"plot_width\":550,\"renderers\":[{\"id\":\"5725\",\"type\":\"GlyphRenderer\"}],\"title\":{\"id\":\"5901\",\"type\":\"Title\"},\"toolbar\":{\"id\":\"5713\",\"type\":\"Toolbar\"},\"x_range\":{\"id\":\"5689\",\"type\":\"FactorRange\"},\"x_scale\":{\"id\":\"5694\",\"type\":\"CategoricalScale\"},\"y_range\":{\"id\":\"5692\",\"type\":\"DataRange1d\"},\"y_scale\":{\"id\":\"5696\",\"type\":\"LinearScale\"}},\"id\":\"5690\",\"subtype\":\"Figure\",\"type\":\"Plot\"},{\"attributes\":{},\"id\":\"5696\",\"type\":\"LinearScale\"},{\"attributes\":{\"formatter\":{\"id\":\"5903\",\"type\":\"CategoricalTickFormatter\"},\"ticker\":{\"id\":\"5699\",\"type\":\"CategoricalTicker\"}},\"id\":\"5698\",\"type\":\"CategoricalAxis\"},{\"attributes\":{\"bottom_units\":\"screen\",\"fill_alpha\":{\"value\":0.5},\"fill_color\":{\"value\":\"lightgrey\"},\"left_units\":\"screen\",\"level\":\"overlay\",\"line_alpha\":{\"value\":1.0},\"line_color\":{\"value\":\"black\"},\"line_dash\":[4,4],\"line_width\":{\"value\":2},\"render_mode\":\"css\",\"right_units\":\"screen\",\"top_units\":\"screen\"},\"id\":\"5909\",\"type\":\"BoxAnnotation\"},{\"attributes\":{},\"id\":\"5699\",\"type\":\"CategoricalTicker\"},{\"attributes\":{\"fill_color\":{\"field\":\"trial number\",\"transform\":{\"id\":\"5720\",\"type\":\"CategoricalColorMapper\"}},\"line_color\":{\"field\":\"trial number\",\"transform\":{\"id\":\"5720\",\"type\":\"CategoricalColorMapper\"}},\"x\":{\"field\":\"cat\"},\"y\":{\"field\":\"impact force (mN)\"}},\"id\":\"5723\",\"type\":\"Circle\"},{\"attributes\":{},\"id\":\"5908\",\"type\":\"Selection\"},{\"attributes\":{\"grid_line_color\":null,\"ticker\":{\"id\":\"5699\",\"type\":\"CategoricalTicker\"}},\"id\":\"5701\",\"type\":\"Grid\"},{\"attributes\":{\"fill_alpha\":{\"value\":0.1},\"fill_color\":{\"value\":\"#1f77b4\"},\"line_alpha\":{\"value\":0.1},\"line_color\":{\"value\":\"#1f77b4\"},\"x\":{\"field\":\"cat\"},\"y\":{\"field\":\"impact force (mN)\"}},\"id\":\"5724\",\"type\":\"Circle\"},{\"attributes\":{},\"id\":\"5907\",\"type\":\"UnionRenderers\"},{\"attributes\":{\"axis_label\":\"impact force (mN)\",\"formatter\":{\"id\":\"5905\",\"type\":\"BasicTickFormatter\"},\"ticker\":{\"id\":\"5703\",\"type\":\"BasicTicker\"}},\"id\":\"5702\",\"type\":\"LinearAxis\"},{\"attributes\":{\"data_source\":{\"id\":\"5721\",\"type\":\"ColumnDataSource\"},\"glyph\":{\"id\":\"5723\",\"type\":\"Circle\"},\"hover_glyph\":null,\"muted_glyph\":null,\"nonselection_glyph\":{\"id\":\"5724\",\"type\":\"Circle\"},\"selection_glyph\":null,\"view\":{\"id\":\"5726\",\"type\":\"CDSView\"}},\"id\":\"5725\",\"type\":\"GlyphRenderer\"},{\"attributes\":{},\"id\":\"5703\",\"type\":\"BasicTicker\"},{\"attributes\":{\"source\":{\"id\":\"5721\",\"type\":\"ColumnDataSource\"}},\"id\":\"5726\",\"type\":\"CDSView\"},{\"attributes\":{},\"id\":\"5903\",\"type\":\"CategoricalTickFormatter\"},{\"attributes\":{\"dimension\":1,\"ticker\":{\"id\":\"5703\",\"type\":\"BasicTicker\"}},\"id\":\"5706\",\"type\":\"Grid\"},{\"attributes\":{},\"id\":\"5905\",\"type\":\"BasicTickFormatter\"},{\"attributes\":{\"callback\":null,\"data\":{\"ID\":[\"I\",\"I\",\"I\",\"I\",\"I\",\"I\",\"I\",\"I\",\"I\",\"I\",\"I\",\"I\",\"I\",\"I\",\"I\",\"I\",\"I\",\"I\",\"I\",\"I\",\"II\",\"II\",\"II\",\"II\",\"II\",\"II\",\"II\",\"II\",\"II\",\"II\",\"II\",\"II\",\"II\",\"II\",\"II\",\"II\",\"II\",\"II\",\"II\",\"II\",\"III\",\"III\",\"III\",\"III\",\"III\",\"III\",\"III\",\"III\",\"III\",\"III\",\"III\",\"III\",\"III\",\"III\",\"III\",\"III\",\"III\",\"III\",\"III\",\"III\",\"IV\",\"IV\",\"IV\",\"IV\",\"IV\",\"IV\",\"IV\",\"IV\",\"IV\",\"IV\",\"IV\",\"IV\",\"IV\",\"IV\",\"IV\",\"IV\",\"IV\",\"IV\",\"IV\",\"IV\"],\"__label\":[\"3\",\"4\",\"1\",\"2\",\"3\",\"4\",\"1\",\"2\",\"3\",\"4\",\"1\",\"2\",\"3\",\"4\",\"5\",\"1\",\"2\",\"3\",\"4\",\"5\",\"1\",\"2\",\"3\",\"4\",\"1\",\"2\",\"3\",\"4\",\"1\",\"2\",\"3\",\"4\",\"1\",\"2\",\"1\",\"2\",\"1\",\"2\",\"3\",\"1\",\"1\",\"2\",\"3\",\"1\",\"2\",\"3\",\"1\",\"2\",\"1\",\"2\",\"3\",\"4\",\"1\",\"2\",\"3\",\"4\",\"1\",\"2\",\"3\",\"4\",\"2\",\"3\",\"4\",\"1\",\"2\",\"3\",\"1\",\"1\",\"2\",\"3\",\"4\",\"1\",\"1\",\"2\",\"3\",\"4\",\"1\",\"2\",\"3\",\"4\"],\"cat\":[[\"I\",\"3\"],[\"I\",\"4\"],[\"I\",\"1\"],[\"I\",\"2\"],[\"I\",\"3\"],[\"I\",\"4\"],[\"I\",\"1\"],[\"I\",\"2\"],[\"I\",\"3\"],[\"I\",\"4\"],[\"I\",\"1\"],[\"I\",\"2\"],[\"I\",\"3\"],[\"I\",\"4\"],[\"I\",\"5\"],[\"I\",\"1\"],[\"I\",\"2\"],[\"I\",\"3\"],[\"I\",\"4\"],[\"I\",\"5\"],[\"II\",\"1\"],[\"II\",\"2\"],[\"II\",\"3\"],[\"II\",\"4\"],[\"II\",\"1\"],[\"II\",\"2\"],[\"II\",\"3\"],[\"II\",\"4\"],[\"II\",\"1\"],[\"II\",\"2\"],[\"II\",\"3\"],[\"II\",\"4\"],[\"II\",\"1\"],[\"II\",\"2\"],[\"II\",\"1\"],[\"II\",\"2\"],[\"II\",\"1\"],[\"II\",\"2\"],[\"II\",\"3\"],[\"II\",\"1\"],[\"III\",\"1\"],[\"III\",\"2\"],[\"III\",\"3\"],[\"III\",\"1\"],[\"III\",\"2\"],[\"III\",\"3\"],[\"III\",\"1\"],[\"III\",\"2\"],[\"III\",\"1\"],[\"III\",\"2\"],[\"III\",\"3\"],[\"III\",\"4\"],[\"III\",\"1\"],[\"III\",\"2\"],[\"III\",\"3\"],[\"III\",\"4\"],[\"III\",\"1\"],[\"III\",\"2\"],[\"III\",\"3\"],[\"III\",\"4\"],[\"IV\",\"2\"],[\"IV\",\"3\"],[\"IV\",\"4\"],[\"IV\",\"1\"],[\"IV\",\"2\"],[\"IV\",\"3\"],[\"IV\",\"1\"],[\"IV\",\"1\"],[\"IV\",\"2\"],[\"IV\",\"3\"],[\"IV\",\"4\"],[\"IV\",\"1\"],[\"IV\",\"1\"],[\"IV\",\"2\"],[\"IV\",\"3\"],[\"IV\",\"4\"],[\"IV\",\"1\"],[\"IV\",\"2\"],[\"IV\",\"3\"],[\"IV\",\"4\"]],\"impact force (mN)\":[1205,2527,1745,1556,493,2276,556,1928,2641,1897,1891,1545,1307,1692,1543,1282,775,2032,1240,473,1612,605,327,946,541,1539,529,628,1453,297,703,269,751,245,1182,515,435,383,457,730,614,414,324,776,611,544,538,579,806,459,458,626,621,544,535,385,401,614,665,488,172,142,37,453,355,22,502,273,720,582,198,198,597,516,815,402,605,711,614,468],\"trial number\":[\"3\",\"4\",\"1\",\"2\",\"3\",\"4\",\"1\",\"2\",\"3\",\"4\",\"1\",\"2\",\"3\",\"4\",\"5\",\"1\",\"2\",\"3\",\"4\",\"5\",\"1\",\"2\",\"3\",\"4\",\"1\",\"2\",\"3\",\"4\",\"1\",\"2\",\"3\",\"4\",\"1\",\"2\",\"1\",\"2\",\"1\",\"2\",\"3\",\"1\",\"1\",\"2\",\"3\",\"1\",\"2\",\"3\",\"1\",\"2\",\"1\",\"2\",\"3\",\"4\",\"1\",\"2\",\"3\",\"4\",\"1\",\"2\",\"3\",\"4\",\"2\",\"3\",\"4\",\"1\",\"2\",\"3\",\"1\",\"1\",\"2\",\"3\",\"4\",\"1\",\"1\",\"2\",\"3\",\"4\",\"1\",\"2\",\"3\",\"4\"]},\"selected\":{\"id\":\"5908\",\"type\":\"Selection\"},\"selection_policy\":{\"id\":\"5907\",\"type\":\"UnionRenderers\"}},\"id\":\"5721\",\"type\":\"ColumnDataSource\"},{\"attributes\":{\"factors\":[\"1\",\"2\",\"3\",\"4\",\"5\"],\"palette\":[\"#4e79a7\",\"#f28e2b\",\"#e15759\",\"#76b7b2\",\"#59a14f\",\"#edc948\",\"#b07aa1\",\"#ff9da7\",\"#9c755f\",\"#bab0ac\"]},\"id\":\"5720\",\"type\":\"CategoricalColorMapper\"},{\"attributes\":{\"active_drag\":\"auto\",\"active_inspect\":\"auto\",\"active_multi\":null,\"active_scroll\":\"auto\",\"active_tap\":\"auto\",\"tools\":[{\"id\":\"5707\",\"type\":\"PanTool\"},{\"id\":\"5708\",\"type\":\"WheelZoomTool\"},{\"id\":\"5709\",\"type\":\"BoxZoomTool\"},{\"id\":\"5710\",\"type\":\"SaveTool\"},{\"id\":\"5711\",\"type\":\"ResetTool\"},{\"id\":\"5712\",\"type\":\"HelpTool\"}]},\"id\":\"5713\",\"type\":\"Toolbar\"},{\"attributes\":{},\"id\":\"5707\",\"type\":\"PanTool\"},{\"attributes\":{},\"id\":\"5708\",\"type\":\"WheelZoomTool\"},{\"attributes\":{\"overlay\":{\"id\":\"5909\",\"type\":\"BoxAnnotation\"}},\"id\":\"5709\",\"type\":\"BoxZoomTool\"},{\"attributes\":{},\"id\":\"5710\",\"type\":\"SaveTool\"},{\"attributes\":{},\"id\":\"5711\",\"type\":\"ResetTool\"},{\"attributes\":{},\"id\":\"5712\",\"type\":\"HelpTool\"},{\"attributes\":{\"callback\":null},\"id\":\"5692\",\"type\":\"DataRange1d\"},{\"attributes\":{\"text\":\"\"},\"id\":\"5901\",\"type\":\"Title\"},{\"attributes\":{},\"id\":\"5694\",\"type\":\"CategoricalScale\"},{\"attributes\":{\"callback\":null,\"factors\":[[\"I\",\"1\"],[\"I\",\"2\"],[\"I\",\"3\"],[\"I\",\"4\"],[\"I\",\"5\"],[\"II\",\"1\"],[\"II\",\"2\"],[\"II\",\"3\"],[\"II\",\"4\"],[\"III\",\"1\"],[\"III\",\"2\"],[\"III\",\"3\"],[\"III\",\"4\"],[\"IV\",\"1\"],[\"IV\",\"2\"],[\"IV\",\"3\"],[\"IV\",\"4\"]]},\"id\":\"5689\",\"type\":\"FactorRange\"}],\"root_ids\":[\"5690\"]},\"title\":\"Bokeh Application\",\"version\":\"1.2.0\"}};\n",
       "  var render_items = [{\"docid\":\"d12bc48a-cef2-49f2-b65a-bb576c539e41\",\"roots\":{\"5690\":\"efac7d44-5ca2-40a3-9bfd-31e93878b484\"}}];\n",
       "  root.Bokeh.embed.embed_items_notebook(docs_json, render_items);\n",
       "\n",
       "  }\n",
       "  if (root.Bokeh !== undefined) {\n",
       "    embed_document(root);\n",
       "  } else {\n",
       "    var attempts = 0;\n",
       "    var timer = setInterval(function(root) {\n",
       "      if (root.Bokeh !== undefined) {\n",
       "        embed_document(root);\n",
       "        clearInterval(timer);\n",
       "      }\n",
       "      attempts++;\n",
       "      if (attempts > 100) {\n",
       "        console.log(\"Bokeh: ERROR: Unable to run BokehJS code because BokehJS library is missing\");\n",
       "        clearInterval(timer);\n",
       "      }\n",
       "    }, 10, root)\n",
       "  }\n",
       "})(window);"
      ],
      "application/vnd.bokehjs_exec.v0+json": ""
     },
     "metadata": {
      "application/vnd.bokehjs_exec.v0+json": {
       "id": "5690"
      }
     },
     "output_type": "display_data"
    }
   ],
   "source": [
    "p = bokeh_catplot.strip(\n",
    "    data=df,\n",
    "    cats=['ID', 'trial number'],\n",
    "    val='impact force (mN)',\n",
    "    color_column='trial number',\n",
    "    width=550\n",
    ")\n",
    "\n",
    "bokeh.io.show(p)"
   ]
  },
  {
   "cell_type": "markdown",
   "metadata": {},
   "source": [
    "#### Strip-box plots\n",
    "\n",
    "Even while plotting all of the data, we sometimes want to graphically display summary statistics, in which case overlaying a box plot and a jitter plot is useful. To populate an existing Bokeh figure with new glyphs from another catplot, pass in the `p` kwarg. You should be careful, though, because you need to make sure the `cats`, `val`, and `horizontal` arguments exactly match."
   ]
  },
  {
   "cell_type": "code",
   "execution_count": 20,
   "metadata": {},
   "outputs": [
    {
     "data": {
      "text/html": [
       "\n",
       "\n",
       "\n",
       "\n",
       "\n",
       "\n",
       "  <div class=\"bk-root\" id=\"2c3ff78a-c5e1-43e3-9ff9-2e2fb1868c22\" data-root-id=\"5965\"></div>\n"
      ]
     },
     "metadata": {},
     "output_type": "display_data"
    },
    {
     "data": {
      "application/javascript": [
       "(function(root) {\n",
       "  function embed_document(root) {\n",
       "    \n",
       "  var docs_json = {\"05da2145-7f1a-44cd-afd1-6f4f16ebcab5\":{\"roots\":{\"references\":[{\"attributes\":{\"below\":[{\"id\":\"5973\",\"type\":\"LinearAxis\"}],\"center\":[{\"id\":\"5977\",\"type\":\"Grid\"},{\"id\":\"5981\",\"type\":\"Grid\"}],\"left\":[{\"id\":\"5978\",\"type\":\"CategoricalAxis\"}],\"plot_height\":250,\"plot_width\":400,\"renderers\":[{\"id\":\"6001\",\"type\":\"GlyphRenderer\"},{\"id\":\"6009\",\"type\":\"GlyphRenderer\"},{\"id\":\"6014\",\"type\":\"GlyphRenderer\"},{\"id\":\"6019\",\"type\":\"GlyphRenderer\"},{\"id\":\"6024\",\"type\":\"GlyphRenderer\"},{\"id\":\"6029\",\"type\":\"GlyphRenderer\"},{\"id\":\"6034\",\"type\":\"GlyphRenderer\"}],\"title\":{\"id\":\"6219\",\"type\":\"Title\"},\"toolbar\":{\"id\":\"5988\",\"type\":\"Toolbar\"},\"x_range\":{\"id\":\"5966\",\"type\":\"DataRange1d\"},\"x_scale\":{\"id\":\"5969\",\"type\":\"LinearScale\"},\"y_range\":{\"id\":\"5964\",\"type\":\"FactorRange\"},\"y_scale\":{\"id\":\"5971\",\"type\":\"CategoricalScale\"}},\"id\":\"5965\",\"subtype\":\"Figure\",\"type\":\"Plot\"},{\"attributes\":{\"distribution\":\"normal\",\"range\":{\"id\":\"5964\",\"type\":\"FactorRange\"},\"width\":0.1},\"id\":\"5997\",\"type\":\"Jitter\"},{\"attributes\":{\"fill_color\":{\"value\":\"#1f77b4\"},\"height\":{\"value\":0.4},\"left\":{\"field\":\"middle\"},\"line_color\":{\"value\":\"gray\"},\"right\":{\"field\":\"middle\"},\"y\":{\"field\":\"cat\"}},\"id\":\"6032\",\"type\":\"HBar\"},{\"attributes\":{\"source\":{\"id\":\"6004\",\"type\":\"ColumnDataSource\"}},\"id\":\"6010\",\"type\":\"CDSView\"},{\"attributes\":{\"source\":{\"id\":\"6004\",\"type\":\"ColumnDataSource\"}},\"id\":\"6015\",\"type\":\"CDSView\"},{\"attributes\":{},\"id\":\"5982\",\"type\":\"PanTool\"},{\"attributes\":{\"fill_alpha\":{\"value\":0.1},\"fill_color\":{\"value\":\"#1f77b4\"},\"height\":{\"value\":0.4},\"left\":{\"field\":\"middle\"},\"line_alpha\":{\"value\":0.1},\"line_color\":{\"value\":\"#1f77b4\"},\"right\":{\"field\":\"middle\"},\"y\":{\"field\":\"cat\"}},\"id\":\"6033\",\"type\":\"HBar\"},{\"attributes\":{\"fill_color\":{\"value\":\"#1f77b4\"},\"height\":{\"value\":0.1},\"left\":{\"field\":\"top_whisker\"},\"line_color\":{\"value\":\"gray\"},\"right\":{\"field\":\"top_whisker\"},\"y\":{\"field\":\"cat\"}},\"id\":\"6017\",\"type\":\"HBar\"},{\"attributes\":{\"line_alpha\":{\"value\":0.1},\"line_color\":{\"value\":\"#1f77b4\"},\"x0\":{\"field\":\"bottom\"},\"x1\":{\"field\":\"bottom_whisker\"},\"y0\":{\"field\":\"cat\"},\"y1\":{\"field\":\"cat\"}},\"id\":\"6013\",\"type\":\"Segment\"},{\"attributes\":{\"data_source\":{\"id\":\"6004\",\"type\":\"ColumnDataSource\"},\"glyph\":{\"id\":\"6032\",\"type\":\"HBar\"},\"hover_glyph\":null,\"muted_glyph\":null,\"nonselection_glyph\":{\"id\":\"6033\",\"type\":\"HBar\"},\"selection_glyph\":null,\"view\":{\"id\":\"6035\",\"type\":\"CDSView\"}},\"id\":\"6034\",\"type\":\"GlyphRenderer\"},{\"attributes\":{\"bottom_units\":\"screen\",\"fill_alpha\":{\"value\":0.5},\"fill_color\":{\"value\":\"lightgrey\"},\"left_units\":\"screen\",\"level\":\"overlay\",\"line_alpha\":{\"value\":1.0},\"line_color\":{\"value\":\"black\"},\"line_dash\":[4,4],\"line_width\":{\"value\":2},\"render_mode\":\"css\",\"right_units\":\"screen\",\"top_units\":\"screen\"},\"id\":\"6229\",\"type\":\"BoxAnnotation\"},{\"attributes\":{\"text\":\"\"},\"id\":\"6219\",\"type\":\"Title\"},{\"attributes\":{\"source\":{\"id\":\"6004\",\"type\":\"ColumnDataSource\"}},\"id\":\"6035\",\"type\":\"CDSView\"},{\"attributes\":{\"fill_alpha\":{\"value\":0.1},\"fill_color\":{\"value\":\"#1f77b4\"},\"height\":{\"value\":0.1},\"left\":{\"field\":\"top_whisker\"},\"line_alpha\":{\"value\":0.1},\"line_color\":{\"value\":\"#1f77b4\"},\"right\":{\"field\":\"top_whisker\"},\"y\":{\"field\":\"cat\"}},\"id\":\"6018\",\"type\":\"HBar\"},{\"attributes\":{\"line_color\":{\"value\":\"gray\"},\"x0\":{\"field\":\"bottom\"},\"x1\":{\"field\":\"bottom_whisker\"},\"y0\":{\"field\":\"cat\"},\"y1\":{\"field\":\"cat\"}},\"id\":\"6012\",\"type\":\"Segment\"},{\"attributes\":{},\"id\":\"5983\",\"type\":\"WheelZoomTool\"},{\"attributes\":{},\"id\":\"6227\",\"type\":\"UnionRenderers\"},{\"attributes\":{\"callback\":null,\"factors\":[\"IV\",\"III\",\"II\",\"I\"]},\"id\":\"5964\",\"type\":\"FactorRange\"},{\"attributes\":{\"callback\":null,\"data\":{\"__label\":[\"I\",\"II\",\"III\",\"IV\"],\"bottom\":[1231.25,422.0,458.75,198.0],\"bottom_whisker\":[473.0,245.0,324.0,22.0],\"cat\":[\"I\",\"II\",\"III\",\"IV\"],\"middle\":[1550.5,573.0,544.0,460.5],\"top\":[1904.75,799.75,615.75,599.0],\"top_whisker\":[2641.0,1182.0,806.0,815.0]},\"selected\":{\"id\":\"6228\",\"type\":\"Selection\"},\"selection_policy\":{\"id\":\"6227\",\"type\":\"UnionRenderers\"}},\"id\":\"6004\",\"type\":\"ColumnDataSource\"},{\"attributes\":{},\"id\":\"6228\",\"type\":\"Selection\"},{\"attributes\":{},\"id\":\"6221\",\"type\":\"BasicTickFormatter\"},{\"attributes\":{\"source\":{\"id\":\"6004\",\"type\":\"ColumnDataSource\"}},\"id\":\"6020\",\"type\":\"CDSView\"},{\"attributes\":{},\"id\":\"5985\",\"type\":\"SaveTool\"},{\"attributes\":{\"line_alpha\":{\"value\":0.1},\"line_color\":{\"value\":\"#1f77b4\"},\"x0\":{\"field\":\"top\"},\"x1\":{\"field\":\"top_whisker\"},\"y0\":{\"field\":\"cat\"},\"y1\":{\"field\":\"cat\"}},\"id\":\"6008\",\"type\":\"Segment\"},{\"attributes\":{\"data_source\":{\"id\":\"6004\",\"type\":\"ColumnDataSource\"},\"glyph\":{\"id\":\"6017\",\"type\":\"HBar\"},\"hover_glyph\":null,\"muted_glyph\":null,\"nonselection_glyph\":{\"id\":\"6018\",\"type\":\"HBar\"},\"selection_glyph\":null,\"view\":{\"id\":\"6020\",\"type\":\"CDSView\"}},\"id\":\"6019\",\"type\":\"GlyphRenderer\"},{\"attributes\":{},\"id\":\"6223\",\"type\":\"CategoricalTickFormatter\"},{\"attributes\":{\"overlay\":{\"id\":\"6229\",\"type\":\"BoxAnnotation\"}},\"id\":\"5984\",\"type\":\"BoxZoomTool\"},{\"attributes\":{},\"id\":\"6225\",\"type\":\"UnionRenderers\"},{\"attributes\":{\"fill_color\":{\"value\":\"#1f77b4\"},\"height\":{\"value\":0.1},\"left\":{\"field\":\"bottom_whisker\"},\"line_color\":{\"value\":\"gray\"},\"right\":{\"field\":\"bottom_whisker\"},\"y\":{\"field\":\"cat\"}},\"id\":\"6022\",\"type\":\"HBar\"},{\"attributes\":{},\"id\":\"5979\",\"type\":\"CategoricalTicker\"},{\"attributes\":{\"dimension\":1,\"grid_line_color\":null,\"ticker\":{\"id\":\"5979\",\"type\":\"CategoricalTicker\"}},\"id\":\"5981\",\"type\":\"Grid\"},{\"attributes\":{},\"id\":\"5974\",\"type\":\"BasicTicker\"},{\"attributes\":{\"fill_alpha\":{\"value\":0.1},\"fill_color\":{\"value\":\"#1f77b4\"},\"height\":{\"value\":0.1},\"left\":{\"field\":\"bottom_whisker\"},\"line_alpha\":{\"value\":0.1},\"line_color\":{\"value\":\"#1f77b4\"},\"right\":{\"field\":\"bottom_whisker\"},\"y\":{\"field\":\"cat\"}},\"id\":\"6023\",\"type\":\"HBar\"},{\"attributes\":{\"active_drag\":\"auto\",\"active_inspect\":\"auto\",\"active_multi\":null,\"active_scroll\":\"auto\",\"active_tap\":\"auto\",\"tools\":[{\"id\":\"5982\",\"type\":\"PanTool\"},{\"id\":\"5983\",\"type\":\"WheelZoomTool\"},{\"id\":\"5984\",\"type\":\"BoxZoomTool\"},{\"id\":\"5985\",\"type\":\"SaveTool\"},{\"id\":\"5986\",\"type\":\"ResetTool\"},{\"id\":\"5987\",\"type\":\"HelpTool\"}]},\"id\":\"5988\",\"type\":\"Toolbar\"},{\"attributes\":{\"callback\":null,\"data\":{\"ID\":[\"I\",\"I\",\"I\",\"I\",\"I\",\"I\",\"I\",\"I\",\"I\",\"I\",\"I\",\"I\",\"I\",\"I\",\"I\",\"I\",\"I\",\"I\",\"I\",\"I\",\"II\",\"II\",\"II\",\"II\",\"II\",\"II\",\"II\",\"II\",\"II\",\"II\",\"II\",\"II\",\"II\",\"II\",\"II\",\"II\",\"II\",\"II\",\"II\",\"II\",\"III\",\"III\",\"III\",\"III\",\"III\",\"III\",\"III\",\"III\",\"III\",\"III\",\"III\",\"III\",\"III\",\"III\",\"III\",\"III\",\"III\",\"III\",\"III\",\"III\",\"IV\",\"IV\",\"IV\",\"IV\",\"IV\",\"IV\",\"IV\",\"IV\",\"IV\",\"IV\",\"IV\",\"IV\",\"IV\",\"IV\",\"IV\",\"IV\",\"IV\",\"IV\",\"IV\",\"IV\"],\"__label\":[\"I\",\"I\",\"I\",\"I\",\"I\",\"I\",\"I\",\"I\",\"I\",\"I\",\"I\",\"I\",\"I\",\"I\",\"I\",\"I\",\"I\",\"I\",\"I\",\"I\",\"II\",\"II\",\"II\",\"II\",\"II\",\"II\",\"II\",\"II\",\"II\",\"II\",\"II\",\"II\",\"II\",\"II\",\"II\",\"II\",\"II\",\"II\",\"II\",\"II\",\"III\",\"III\",\"III\",\"III\",\"III\",\"III\",\"III\",\"III\",\"III\",\"III\",\"III\",\"III\",\"III\",\"III\",\"III\",\"III\",\"III\",\"III\",\"III\",\"III\",\"IV\",\"IV\",\"IV\",\"IV\",\"IV\",\"IV\",\"IV\",\"IV\",\"IV\",\"IV\",\"IV\",\"IV\",\"IV\",\"IV\",\"IV\",\"IV\",\"IV\",\"IV\",\"IV\",\"IV\"],\"cat\":[\"I\",\"I\",\"I\",\"I\",\"I\",\"I\",\"I\",\"I\",\"I\",\"I\",\"I\",\"I\",\"I\",\"I\",\"I\",\"I\",\"I\",\"I\",\"I\",\"I\",\"II\",\"II\",\"II\",\"II\",\"II\",\"II\",\"II\",\"II\",\"II\",\"II\",\"II\",\"II\",\"II\",\"II\",\"II\",\"II\",\"II\",\"II\",\"II\",\"II\",\"III\",\"III\",\"III\",\"III\",\"III\",\"III\",\"III\",\"III\",\"III\",\"III\",\"III\",\"III\",\"III\",\"III\",\"III\",\"III\",\"III\",\"III\",\"III\",\"III\",\"IV\",\"IV\",\"IV\",\"IV\",\"IV\",\"IV\",\"IV\",\"IV\",\"IV\",\"IV\",\"IV\",\"IV\",\"IV\",\"IV\",\"IV\",\"IV\",\"IV\",\"IV\",\"IV\",\"IV\"],\"impact force (mN)\":[1205,2527,1745,1556,493,2276,556,1928,2641,1897,1891,1545,1307,1692,1543,1282,775,2032,1240,473,1612,605,327,946,541,1539,529,628,1453,297,703,269,751,245,1182,515,435,383,457,730,614,414,324,776,611,544,538,579,806,459,458,626,621,544,535,385,401,614,665,488,172,142,37,453,355,22,502,273,720,582,198,198,597,516,815,402,605,711,614,468]},\"selected\":{\"id\":\"6226\",\"type\":\"Selection\"},\"selection_policy\":{\"id\":\"6225\",\"type\":\"UnionRenderers\"}},\"id\":\"5996\",\"type\":\"ColumnDataSource\"},{\"attributes\":{},\"id\":\"6226\",\"type\":\"Selection\"},{\"attributes\":{\"data_source\":{\"id\":\"6004\",\"type\":\"ColumnDataSource\"},\"glyph\":{\"id\":\"6022\",\"type\":\"HBar\"},\"hover_glyph\":null,\"muted_glyph\":null,\"nonselection_glyph\":{\"id\":\"6023\",\"type\":\"HBar\"},\"selection_glyph\":null,\"view\":{\"id\":\"6025\",\"type\":\"CDSView\"}},\"id\":\"6024\",\"type\":\"GlyphRenderer\"},{\"attributes\":{\"data_source\":{\"id\":\"6004\",\"type\":\"ColumnDataSource\"},\"glyph\":{\"id\":\"6012\",\"type\":\"Segment\"},\"hover_glyph\":null,\"muted_glyph\":null,\"nonselection_glyph\":{\"id\":\"6013\",\"type\":\"Segment\"},\"selection_glyph\":null,\"view\":{\"id\":\"6015\",\"type\":\"CDSView\"}},\"id\":\"6014\",\"type\":\"GlyphRenderer\"},{\"attributes\":{},\"id\":\"5987\",\"type\":\"HelpTool\"},{\"attributes\":{\"source\":{\"id\":\"6004\",\"type\":\"ColumnDataSource\"}},\"id\":\"6030\",\"type\":\"CDSView\"},{\"attributes\":{\"source\":{\"id\":\"6004\",\"type\":\"ColumnDataSource\"}},\"id\":\"6025\",\"type\":\"CDSView\"},{\"attributes\":{},\"id\":\"5971\",\"type\":\"CategoricalScale\"},{\"attributes\":{},\"id\":\"5986\",\"type\":\"ResetTool\"},{\"attributes\":{\"factors\":[\"I\",\"II\",\"III\",\"IV\"],\"palette\":[\"#4e79a7\",\"#f28e2b\",\"#e15759\",\"#76b7b2\",\"#59a14f\",\"#edc948\",\"#b07aa1\",\"#ff9da7\",\"#9c755f\",\"#bab0ac\"]},\"id\":\"5995\",\"type\":\"CategoricalColorMapper\"},{\"attributes\":{\"fill_color\":{\"field\":\"cat\",\"transform\":{\"id\":\"5995\",\"type\":\"CategoricalColorMapper\"}},\"line_color\":{\"field\":\"cat\",\"transform\":{\"id\":\"5995\",\"type\":\"CategoricalColorMapper\"}},\"x\":{\"field\":\"impact force (mN)\"},\"y\":{\"field\":\"cat\",\"transform\":{\"id\":\"5997\",\"type\":\"Jitter\"}}},\"id\":\"5999\",\"type\":\"Circle\"},{\"attributes\":{\"callback\":null},\"id\":\"5966\",\"type\":\"DataRange1d\"},{\"attributes\":{\"fill_color\":{\"value\":null},\"height\":{\"value\":0.4},\"left\":{\"field\":\"bottom\"},\"line_color\":{\"value\":\"gray\"},\"right\":{\"field\":\"top\"},\"y\":{\"field\":\"cat\"}},\"id\":\"6027\",\"type\":\"HBar\"},{\"attributes\":{\"formatter\":{\"id\":\"6223\",\"type\":\"CategoricalTickFormatter\"},\"ticker\":{\"id\":\"5979\",\"type\":\"CategoricalTicker\"}},\"id\":\"5978\",\"type\":\"CategoricalAxis\"},{\"attributes\":{\"source\":{\"id\":\"5996\",\"type\":\"ColumnDataSource\"}},\"id\":\"6002\",\"type\":\"CDSView\"},{\"attributes\":{\"data_source\":{\"id\":\"6004\",\"type\":\"ColumnDataSource\"},\"glyph\":{\"id\":\"6007\",\"type\":\"Segment\"},\"hover_glyph\":null,\"muted_glyph\":null,\"nonselection_glyph\":{\"id\":\"6008\",\"type\":\"Segment\"},\"selection_glyph\":null,\"view\":{\"id\":\"6010\",\"type\":\"CDSView\"}},\"id\":\"6009\",\"type\":\"GlyphRenderer\"},{\"attributes\":{},\"id\":\"5969\",\"type\":\"LinearScale\"},{\"attributes\":{\"fill_alpha\":{\"value\":0.1},\"fill_color\":{\"value\":\"#1f77b4\"},\"height\":{\"value\":0.4},\"left\":{\"field\":\"bottom\"},\"line_alpha\":{\"value\":0.1},\"line_color\":{\"value\":\"#1f77b4\"},\"right\":{\"field\":\"top\"},\"y\":{\"field\":\"cat\"}},\"id\":\"6028\",\"type\":\"HBar\"},{\"attributes\":{\"ticker\":{\"id\":\"5974\",\"type\":\"BasicTicker\"}},\"id\":\"5977\",\"type\":\"Grid\"},{\"attributes\":{\"data_source\":{\"id\":\"6004\",\"type\":\"ColumnDataSource\"},\"glyph\":{\"id\":\"6027\",\"type\":\"HBar\"},\"hover_glyph\":null,\"muted_glyph\":null,\"nonselection_glyph\":{\"id\":\"6028\",\"type\":\"HBar\"},\"selection_glyph\":null,\"view\":{\"id\":\"6030\",\"type\":\"CDSView\"}},\"id\":\"6029\",\"type\":\"GlyphRenderer\"},{\"attributes\":{\"line_color\":{\"value\":\"gray\"},\"x0\":{\"field\":\"top\"},\"x1\":{\"field\":\"top_whisker\"},\"y0\":{\"field\":\"cat\"},\"y1\":{\"field\":\"cat\"}},\"id\":\"6007\",\"type\":\"Segment\"},{\"attributes\":{\"data_source\":{\"id\":\"5996\",\"type\":\"ColumnDataSource\"},\"glyph\":{\"id\":\"5999\",\"type\":\"Circle\"},\"hover_glyph\":null,\"muted_glyph\":null,\"nonselection_glyph\":{\"id\":\"6000\",\"type\":\"Circle\"},\"selection_glyph\":null,\"view\":{\"id\":\"6002\",\"type\":\"CDSView\"}},\"id\":\"6001\",\"type\":\"GlyphRenderer\"},{\"attributes\":{\"axis_label\":\"impact force (mN)\",\"formatter\":{\"id\":\"6221\",\"type\":\"BasicTickFormatter\"},\"ticker\":{\"id\":\"5974\",\"type\":\"BasicTicker\"}},\"id\":\"5973\",\"type\":\"LinearAxis\"},{\"attributes\":{\"fill_alpha\":{\"value\":0.1},\"fill_color\":{\"value\":\"#1f77b4\"},\"line_alpha\":{\"value\":0.1},\"line_color\":{\"value\":\"#1f77b4\"},\"x\":{\"field\":\"impact force (mN)\"},\"y\":{\"field\":\"cat\",\"transform\":{\"id\":\"5997\",\"type\":\"Jitter\"}}},\"id\":\"6000\",\"type\":\"Circle\"}],\"root_ids\":[\"5965\"]},\"title\":\"Bokeh Application\",\"version\":\"1.2.0\"}};\n",
       "  var render_items = [{\"docid\":\"05da2145-7f1a-44cd-afd1-6f4f16ebcab5\",\"roots\":{\"5965\":\"2c3ff78a-c5e1-43e3-9ff9-2e2fb1868c22\"}}];\n",
       "  root.Bokeh.embed.embed_items_notebook(docs_json, render_items);\n",
       "\n",
       "  }\n",
       "  if (root.Bokeh !== undefined) {\n",
       "    embed_document(root);\n",
       "  } else {\n",
       "    var attempts = 0;\n",
       "    var timer = setInterval(function(root) {\n",
       "      if (root.Bokeh !== undefined) {\n",
       "        embed_document(root);\n",
       "        clearInterval(timer);\n",
       "      }\n",
       "      attempts++;\n",
       "      if (attempts > 100) {\n",
       "        console.log(\"Bokeh: ERROR: Unable to run BokehJS code because BokehJS library is missing\");\n",
       "        clearInterval(timer);\n",
       "      }\n",
       "    }, 10, root)\n",
       "  }\n",
       "})(window);"
      ],
      "application/vnd.bokehjs_exec.v0+json": ""
     },
     "metadata": {
      "application/vnd.bokehjs_exec.v0+json": {
       "id": "5965"
      }
     },
     "output_type": "display_data"
    }
   ],
   "source": [
    "p = bokeh_catplot.strip(\n",
    "    data=df,\n",
    "    cats='ID',\n",
    "    val='impact force (mN)',\n",
    "    horizontal=True,\n",
    "    jitter=True,\n",
    "    height=250\n",
    ")\n",
    "\n",
    "p = bokeh_catplot.box(\n",
    "    data=df,\n",
    "    cats='ID',\n",
    "    val='impact force (mN)',\n",
    "    horizontal=True,\n",
    "    whisker_caps=True,\n",
    "    display_points=False,\n",
    "    box_kwargs=dict(fill_color=None, line_color='gray'),\n",
    "    median_kwargs=dict(line_color='gray'),\n",
    "    whisker_kwargs=dict(line_color='gray'),\n",
    "    p=p,\n",
    ")\n",
    "\n",
    "bokeh.io.show(p)"
   ]
  },
  {
   "cell_type": "markdown",
   "metadata": {},
   "source": [
    "#### Customizing histograms\n",
    "\n",
    "We could plot normalized histograms using the density kwarg, and we'll make the plot a little wider to support the legend."
   ]
  },
  {
   "cell_type": "code",
   "execution_count": 21,
   "metadata": {},
   "outputs": [
    {
     "data": {
      "text/html": [
       "\n",
       "\n",
       "\n",
       "\n",
       "\n",
       "\n",
       "  <div class=\"bk-root\" id=\"921c9995-49b8-4069-8940-667ebb753985\" data-root-id=\"6297\"></div>\n"
      ]
     },
     "metadata": {},
     "output_type": "display_data"
    },
    {
     "data": {
      "application/javascript": [
       "(function(root) {\n",
       "  function embed_document(root) {\n",
       "    \n",
       "  var docs_json = {\"e28fe23f-af1d-44d3-9a1d-2fad7bbe577d\":{\"roots\":{\"references\":[{\"attributes\":{\"below\":[{\"id\":\"6305\",\"type\":\"LinearAxis\"}],\"center\":[{\"id\":\"6309\",\"type\":\"Grid\"},{\"id\":\"6314\",\"type\":\"Grid\"},{\"id\":\"6340\",\"type\":\"Legend\"}],\"left\":[{\"id\":\"6310\",\"type\":\"LinearAxis\"}],\"plot_height\":300,\"plot_width\":400,\"renderers\":[{\"id\":\"6331\",\"type\":\"GlyphRenderer\"},{\"id\":\"6345\",\"type\":\"GlyphRenderer\"}],\"title\":{\"id\":\"6333\",\"type\":\"Title\"},\"toolbar\":{\"id\":\"6321\",\"type\":\"Toolbar\"},\"x_range\":{\"id\":\"6298\",\"type\":\"DataRange1d\"},\"x_scale\":{\"id\":\"6301\",\"type\":\"LinearScale\"},\"y_range\":{\"id\":\"6296\",\"type\":\"DataRange1d\"},\"y_scale\":{\"id\":\"6303\",\"type\":\"LinearScale\"}},\"id\":\"6297\",\"subtype\":\"Figure\",\"type\":\"Plot\"},{\"attributes\":{},\"id\":\"6306\",\"type\":\"BasicTicker\"},{\"attributes\":{\"line_color\":\"#4e79a7\",\"line_width\":2,\"x\":{\"field\":\"x\"},\"y\":{\"field\":\"y\"}},\"id\":\"6329\",\"type\":\"Line\"},{\"attributes\":{\"data_source\":{\"id\":\"6342\",\"type\":\"ColumnDataSource\"},\"glyph\":{\"id\":\"6343\",\"type\":\"Patch\"},\"hover_glyph\":null,\"muted_glyph\":null,\"nonselection_glyph\":{\"id\":\"6344\",\"type\":\"Patch\"},\"selection_glyph\":null,\"view\":{\"id\":\"6346\",\"type\":\"CDSView\"}},\"id\":\"6345\",\"type\":\"GlyphRenderer\"},{\"attributes\":{\"callback\":null,\"start\":0},\"id\":\"6296\",\"type\":\"DataRange1d\"},{\"attributes\":{\"label\":{\"value\":\" \"},\"renderers\":[{\"id\":\"6331\",\"type\":\"GlyphRenderer\"},{\"id\":\"6345\",\"type\":\"GlyphRenderer\"}]},\"id\":\"6341\",\"type\":\"LegendItem\"},{\"attributes\":{},\"id\":\"6301\",\"type\":\"LinearScale\"},{\"attributes\":{\"callback\":null},\"id\":\"6298\",\"type\":\"DataRange1d\"},{\"attributes\":{\"dimension\":1,\"ticker\":{\"id\":\"6311\",\"type\":\"BasicTicker\"}},\"id\":\"6314\",\"type\":\"Grid\"},{\"attributes\":{\"fill_alpha\":0.3,\"fill_color\":\"#4e79a7\",\"line_alpha\":0,\"line_color\":\"#4e79a7\",\"x\":{\"field\":\"x\"},\"y\":{\"field\":\"y\"}},\"id\":\"6343\",\"type\":\"Patch\"},{\"attributes\":{\"fill_alpha\":0.1,\"fill_color\":\"#1f77b4\",\"line_alpha\":0.1,\"line_color\":\"#1f77b4\",\"x\":{\"field\":\"x\"},\"y\":{\"field\":\"y\"}},\"id\":\"6344\",\"type\":\"Patch\"},{\"attributes\":{},\"id\":\"6353\",\"type\":\"UnionRenderers\"},{\"attributes\":{\"line_alpha\":0.1,\"line_color\":\"#1f77b4\",\"line_width\":2,\"x\":{\"field\":\"x\"},\"y\":{\"field\":\"y\"}},\"id\":\"6330\",\"type\":\"Line\"},{\"attributes\":{\"axis_label\":\"x\",\"formatter\":{\"id\":\"6335\",\"type\":\"BasicTickFormatter\"},\"ticker\":{\"id\":\"6306\",\"type\":\"BasicTicker\"}},\"id\":\"6305\",\"type\":\"LinearAxis\"},{\"attributes\":{},\"id\":\"6303\",\"type\":\"LinearScale\"},{\"attributes\":{\"data_source\":{\"id\":\"6328\",\"type\":\"ColumnDataSource\"},\"glyph\":{\"id\":\"6329\",\"type\":\"Line\"},\"hover_glyph\":null,\"muted_glyph\":null,\"nonselection_glyph\":{\"id\":\"6330\",\"type\":\"Line\"},\"selection_glyph\":null,\"view\":{\"id\":\"6332\",\"type\":\"CDSView\"}},\"id\":\"6331\",\"type\":\"GlyphRenderer\"},{\"attributes\":{},\"id\":\"6335\",\"type\":\"BasicTickFormatter\"},{\"attributes\":{\"callback\":null,\"data\":{\"x\":{\"__ndarray__\":\"pW4ehO02CMClbh6E7TYIwEdno3d+OwXAR2ejd347BcDpXyhrD0ACwOlfKGsPQALAFrFavUCJ/r8WsVq9QIn+v1qiZKRikvi/WqJkpGKS+L+ek26LhJvyv56TbouEm/K/xAnx5ExJ6b/ECfHkTEnpv5jYCWYht9q/mNgJZiG32r9A7YwRSN2mv0DtjBFI3aa/SJ2mYc//1D9InaZhz//UPxxsv+KjbeY/HGy/4qNt5j/KxFUKsC3xP8rEVQqwLfE/htNLI44k9z+G00sjjiT3P0LiQTxsG/0/QuJBPGwb/T9/+JsqJYkBQH/4myoliQFA3f8WN5SEBEDd/xY3lIQEQDwHkkMDgAdAPAeSQwOAB0A8B5JDA4AHQKVuHoTtNgjA\",\"dtype\":\"float64\",\"shape\":[36]},\"y\":{\"__ndarray__\":\"AAAAAAAAAACaSmy42vmVP5pKbLja+ZU/QV2HZlF4mz9BXYdmUXibP5PmlL2MN64/k+aUvYw3rj+XmAC7sxi6P5eYALuzGLo/Ruio4gtKxT9G6KjiC0rFP0maFOAyK9E/SZoU4DIr0T+d/Ne1AdvRP53817UB29E/cJmKTfOh1T9wmYpN86HVP5lxtjlHCdg/mXG2OUcJ2D/xheUMPZrUP/GF5Qw9mtQ/yK25IOky0j/Irbkg6TLSP0I2PeXkaMk/QjY95eRoyT89qxtpKpe/Pz2rG2kql78/QV2HZlF4qz9BXYdmUXirP0Fdh2ZReKs/QV2HZlF4qz+SSmy42vmFP5JKbLja+YU/AAAAAAAAAAAAAAAAAAAAAAAAAAAAAAAA\",\"dtype\":\"float64\",\"shape\":[36]}},\"selected\":{\"id\":\"6559\",\"type\":\"Selection\"},\"selection_policy\":{\"id\":\"6558\",\"type\":\"UnionRenderers\"}},\"id\":\"6342\",\"type\":\"ColumnDataSource\"},{\"attributes\":{\"callback\":null,\"data\":{\"x\":{\"__ndarray__\":\"pW4ehO02CMClbh6E7TYIwEdno3d+OwXAR2ejd347BcDpXyhrD0ACwOlfKGsPQALAFrFavUCJ/r8WsVq9QIn+v1qiZKRikvi/WqJkpGKS+L+ek26LhJvyv56TbouEm/K/xAnx5ExJ6b/ECfHkTEnpv5jYCWYht9q/mNgJZiG32r9A7YwRSN2mv0DtjBFI3aa/SJ2mYc//1D9InaZhz//UPxxsv+KjbeY/HGy/4qNt5j/KxFUKsC3xP8rEVQqwLfE/htNLI44k9z+G00sjjiT3P0LiQTxsG/0/QuJBPGwb/T9/+JsqJYkBQH/4myoliQFA3f8WN5SEBEDd/xY3lIQEQDwHkkMDgAdAPAeSQwOAB0A=\",\"dtype\":\"float64\",\"shape\":[34]},\"y\":{\"__ndarray__\":\"AAAAAAAAAACaSmy42vmVP5pKbLja+ZU/QV2HZlF4mz9BXYdmUXibP5PmlL2MN64/k+aUvYw3rj+XmAC7sxi6P5eYALuzGLo/Ruio4gtKxT9G6KjiC0rFP0maFOAyK9E/SZoU4DIr0T+d/Ne1AdvRP53817UB29E/cJmKTfOh1T9wmYpN86HVP5lxtjlHCdg/mXG2OUcJ2D/xheUMPZrUP/GF5Qw9mtQ/yK25IOky0j/Irbkg6TLSP0I2PeXkaMk/QjY95eRoyT89qxtpKpe/Pz2rG2kql78/QV2HZlF4qz9BXYdmUXirP0Fdh2ZReKs/QV2HZlF4qz+SSmy42vmFP5JKbLja+YU/AAAAAAAAAAA=\",\"dtype\":\"float64\",\"shape\":[34]}},\"selected\":{\"id\":\"6354\",\"type\":\"Selection\"},\"selection_policy\":{\"id\":\"6353\",\"type\":\"UnionRenderers\"}},\"id\":\"6328\",\"type\":\"ColumnDataSource\"},{\"attributes\":{},\"id\":\"6337\",\"type\":\"BasicTickFormatter\"},{\"attributes\":{},\"id\":\"6559\",\"type\":\"Selection\"},{\"attributes\":{\"bottom_units\":\"screen\",\"fill_alpha\":{\"value\":0.5},\"fill_color\":{\"value\":\"lightgrey\"},\"left_units\":\"screen\",\"level\":\"overlay\",\"line_alpha\":{\"value\":1.0},\"line_color\":{\"value\":\"black\"},\"line_dash\":[4,4],\"line_width\":{\"value\":2},\"render_mode\":\"css\",\"right_units\":\"screen\",\"top_units\":\"screen\"},\"id\":\"6339\",\"type\":\"BoxAnnotation\"},{\"attributes\":{\"text\":\"\"},\"id\":\"6333\",\"type\":\"Title\"},{\"attributes\":{\"items\":[{\"id\":\"6341\",\"type\":\"LegendItem\"}],\"visible\":false},\"id\":\"6340\",\"type\":\"Legend\"},{\"attributes\":{},\"id\":\"6320\",\"type\":\"HelpTool\"},{\"attributes\":{\"axis_label\":\"density\",\"formatter\":{\"id\":\"6337\",\"type\":\"BasicTickFormatter\"},\"ticker\":{\"id\":\"6311\",\"type\":\"BasicTicker\"}},\"id\":\"6310\",\"type\":\"LinearAxis\"},{\"attributes\":{\"ticker\":{\"id\":\"6306\",\"type\":\"BasicTicker\"}},\"id\":\"6309\",\"type\":\"Grid\"},{\"attributes\":{},\"id\":\"6319\",\"type\":\"ResetTool\"},{\"attributes\":{},\"id\":\"6318\",\"type\":\"SaveTool\"},{\"attributes\":{},\"id\":\"6558\",\"type\":\"UnionRenderers\"},{\"attributes\":{\"overlay\":{\"id\":\"6339\",\"type\":\"BoxAnnotation\"}},\"id\":\"6317\",\"type\":\"BoxZoomTool\"},{\"attributes\":{},\"id\":\"6315\",\"type\":\"PanTool\"},{\"attributes\":{\"source\":{\"id\":\"6342\",\"type\":\"ColumnDataSource\"}},\"id\":\"6346\",\"type\":\"CDSView\"},{\"attributes\":{\"active_drag\":\"auto\",\"active_inspect\":\"auto\",\"active_multi\":null,\"active_scroll\":\"auto\",\"active_tap\":\"auto\",\"tools\":[{\"id\":\"6315\",\"type\":\"PanTool\"},{\"id\":\"6316\",\"type\":\"WheelZoomTool\"},{\"id\":\"6317\",\"type\":\"BoxZoomTool\"},{\"id\":\"6318\",\"type\":\"SaveTool\"},{\"id\":\"6319\",\"type\":\"ResetTool\"},{\"id\":\"6320\",\"type\":\"HelpTool\"}]},\"id\":\"6321\",\"type\":\"Toolbar\"},{\"attributes\":{},\"id\":\"6354\",\"type\":\"Selection\"},{\"attributes\":{},\"id\":\"6311\",\"type\":\"BasicTicker\"},{\"attributes\":{},\"id\":\"6316\",\"type\":\"WheelZoomTool\"},{\"attributes\":{\"source\":{\"id\":\"6328\",\"type\":\"ColumnDataSource\"}},\"id\":\"6332\",\"type\":\"CDSView\"}],\"root_ids\":[\"6297\"]},\"title\":\"Bokeh Application\",\"version\":\"1.2.0\"}};\n",
       "  var render_items = [{\"docid\":\"e28fe23f-af1d-44d3-9a1d-2fad7bbe577d\",\"roots\":{\"6297\":\"921c9995-49b8-4069-8940-667ebb753985\"}}];\n",
       "  root.Bokeh.embed.embed_items_notebook(docs_json, render_items);\n",
       "\n",
       "  }\n",
       "  if (root.Bokeh !== undefined) {\n",
       "    embed_document(root);\n",
       "  } else {\n",
       "    var attempts = 0;\n",
       "    var timer = setInterval(function(root) {\n",
       "      if (root.Bokeh !== undefined) {\n",
       "        embed_document(root);\n",
       "        clearInterval(timer);\n",
       "      }\n",
       "      attempts++;\n",
       "      if (attempts > 100) {\n",
       "        console.log(\"Bokeh: ERROR: Unable to run BokehJS code because BokehJS library is missing\");\n",
       "        clearInterval(timer);\n",
       "      }\n",
       "    }, 10, root)\n",
       "  }\n",
       "})(window);"
      ],
      "application/vnd.bokehjs_exec.v0+json": ""
     },
     "metadata": {
      "application/vnd.bokehjs_exec.v0+json": {
       "id": "6297"
      }
     },
     "output_type": "display_data"
    }
   ],
   "source": [
    "# Plot the histogram\n",
    "p = bokeh_catplot.histogram(\n",
    "    data=df_norm,\n",
    "    cats=None,\n",
    "    val='x',\n",
    "    density=True,\n",
    ")\n",
    "\n",
    "bokeh.io.show(p)"
   ]
  },
  {
   "cell_type": "markdown",
   "metadata": {},
   "source": [
    "#### Customizing ECDFs\n",
    "\n",
    "Instead of plotting a separate ECDF for each category, we can put all of the categories together on one ECDF and color the points by the categorical variable by using the `kind='colored'` kwarg. Note that if we do this, we can only have the \"dot\" style ECDF, not the formal staircase."
   ]
  },
  {
   "cell_type": "code",
   "execution_count": 22,
   "metadata": {},
   "outputs": [
    {
     "data": {
      "text/html": [
       "\n",
       "\n",
       "\n",
       "\n",
       "\n",
       "\n",
       "  <div class=\"bk-root\" id=\"968982a3-7df0-4e05-af3e-8e7323de1b8e\" data-root-id=\"6627\"></div>\n"
      ]
     },
     "metadata": {},
     "output_type": "display_data"
    },
    {
     "data": {
      "application/javascript": [
       "(function(root) {\n",
       "  function embed_document(root) {\n",
       "    \n",
       "  var docs_json = {\"68cfaba1-73df-4764-927f-71b3ec1a9e37\":{\"roots\":{\"references\":[{\"attributes\":{\"below\":[{\"id\":\"6636\",\"type\":\"LinearAxis\"}],\"center\":[{\"id\":\"6640\",\"type\":\"Grid\"},{\"id\":\"6645\",\"type\":\"Grid\"},{\"id\":\"6672\",\"type\":\"Legend\"}],\"left\":[{\"id\":\"6641\",\"type\":\"LinearAxis\"}],\"plot_height\":300,\"plot_width\":400,\"renderers\":[{\"id\":\"6663\",\"type\":\"GlyphRenderer\"},{\"id\":\"6678\",\"type\":\"GlyphRenderer\"},{\"id\":\"6694\",\"type\":\"GlyphRenderer\"},{\"id\":\"6712\",\"type\":\"GlyphRenderer\"}],\"title\":{\"id\":\"6665\",\"type\":\"Title\"},\"toolbar\":{\"id\":\"6652\",\"type\":\"Toolbar\"},\"x_range\":{\"id\":\"6628\",\"type\":\"DataRange1d\"},\"x_scale\":{\"id\":\"6632\",\"type\":\"LinearScale\"},\"y_range\":{\"id\":\"6630\",\"type\":\"DataRange1d\"},\"y_scale\":{\"id\":\"6634\",\"type\":\"LinearScale\"}},\"id\":\"6627\",\"subtype\":\"Figure\",\"type\":\"Plot\"},{\"attributes\":{\"callback\":null},\"id\":\"6630\",\"type\":\"DataRange1d\"},{\"attributes\":{\"axis_label\":\"impact force (mN)\",\"formatter\":{\"id\":\"6667\",\"type\":\"BasicTickFormatter\"},\"ticker\":{\"id\":\"6637\",\"type\":\"BasicTicker\"}},\"id\":\"6636\",\"type\":\"LinearAxis\"},{\"attributes\":{},\"id\":\"6687\",\"type\":\"Selection\"},{\"attributes\":{},\"id\":\"6724\",\"type\":\"UnionRenderers\"},{\"attributes\":{\"callback\":null,\"data\":{\"ID\":[\"II\",\"II\",\"II\",\"II\",\"II\",\"II\",\"II\",\"II\",\"II\",\"II\",\"II\",\"II\",\"II\",\"II\",\"II\",\"II\",\"II\",\"II\",\"II\",\"II\"],\"__ECDF\":{\"__ndarray__\":\"ZmZmZmZm7D9mZmZmZmbgPzMzMzMzM8M/AAAAAAAA6D8zMzMzMzPbP83MzMzMzOo/zczMzMzM2D+amZmZmZnjP2ZmZmZmZuo/AAAAAAAAwD9mZmZmZmbkP5qZmZmZmbk/AAAAAAAA5j9mZmZmZma2P2ZmZmZmZug/MzMzMzMz1z9mZmZmZmbOP2ZmZmZmZsY/zczMzMzM0D+amZmZmZnlPw==\",\"dtype\":\"float64\",\"shape\":[20]},\"__label\":[\"II\",\"II\",\"II\",\"II\",\"II\",\"II\",\"II\",\"II\",\"II\",\"II\",\"II\",\"II\",\"II\",\"II\",\"II\",\"II\",\"II\",\"II\",\"II\",\"II\"],\"impact force (mN)\":[1612,605,327,946,541,1539,529,628,1453,297,703,269,751,245,1182,515,435,383,457,730],\"index\":[20,21,22,23,24,25,26,27,28,29,30,31,32,33,34,35,36,37,38,39]},\"selected\":{\"id\":\"6705\",\"type\":\"Selection\"},\"selection_policy\":{\"id\":\"6704\",\"type\":\"UnionRenderers\"}},\"id\":\"6674\",\"type\":\"ColumnDataSource\"},{\"attributes\":{},\"id\":\"6637\",\"type\":\"BasicTicker\"},{\"attributes\":{\"callback\":null,\"data\":{\"ID\":[\"I\",\"I\",\"I\",\"I\",\"I\",\"I\",\"I\",\"I\",\"I\",\"I\",\"I\",\"I\",\"I\",\"I\",\"I\",\"I\",\"I\",\"I\",\"I\",\"I\"],\"__ECDF\":{\"__ndarray__\":\"zczMzMzM6D+amZmZmZnvPzMzMzMzM+0/AAAAAAAA7D+amZmZmZnVPzMzMzMzM+8/mpmZmZmZ3T9mZmZmZmbuPwAAAAAAAPA/AAAAAAAA7j+amZmZmZntP5qZmZmZmes/AAAAAAAA6j/NzMzMzMzsPzMzMzMzM+s/mpmZmZmZ6T9mZmZmZmbmP83MzMzMzO4/MzMzMzMz6T8AAAAAAADUPw==\",\"dtype\":\"float64\",\"shape\":[20]},\"__label\":[\"I\",\"I\",\"I\",\"I\",\"I\",\"I\",\"I\",\"I\",\"I\",\"I\",\"I\",\"I\",\"I\",\"I\",\"I\",\"I\",\"I\",\"I\",\"I\",\"I\"],\"impact force (mN)\":[1205,2527,1745,1556,493,2276,556,1928,2641,1897,1891,1545,1307,1692,1543,1282,775,2032,1240,473],\"index\":[0,1,2,3,4,5,6,7,8,9,10,11,12,13,14,15,16,17,18,19]},\"selected\":{\"id\":\"6687\",\"type\":\"Selection\"},\"selection_policy\":{\"id\":\"6686\",\"type\":\"UnionRenderers\"}},\"id\":\"6659\",\"type\":\"ColumnDataSource\"},{\"attributes\":{\"label\":{\"value\":\"II\"},\"renderers\":[{\"id\":\"6678\",\"type\":\"GlyphRenderer\"}]},\"id\":\"6689\",\"type\":\"LegendItem\"},{\"attributes\":{},\"id\":\"6725\",\"type\":\"Selection\"},{\"attributes\":{\"ticker\":{\"id\":\"6637\",\"type\":\"BasicTicker\"}},\"id\":\"6640\",\"type\":\"Grid\"},{\"attributes\":{\"callback\":null,\"data\":{\"ID\":[\"IV\",\"IV\",\"IV\",\"IV\",\"IV\",\"IV\",\"IV\",\"IV\",\"IV\",\"IV\",\"IV\",\"IV\",\"IV\",\"IV\",\"IV\",\"IV\",\"IV\",\"IV\",\"IV\",\"IV\"],\"__ECDF\":{\"__ndarray__\":\"mpmZmZmZqT8zMzMzMzOjP5qZmZmZmZk/AAAAAAAA0D/NzMzMzMzEP5qZmZmZmYk/ZmZmZmZm1j/NzMzMzMy8PzMzMzMzM+U/MzMzMzMz3z8AAAAAAACwPzMzMzMzM7M/AAAAAAAA4D8AAAAAAADYP5qZmZmZmec/MzMzMzMzyz/NzMzMzMzgP83MzMzMzOQ/ZmZmZmZm4j8zMzMzMzPTPw==\",\"dtype\":\"float64\",\"shape\":[20]},\"__label\":[\"IV\",\"IV\",\"IV\",\"IV\",\"IV\",\"IV\",\"IV\",\"IV\",\"IV\",\"IV\",\"IV\",\"IV\",\"IV\",\"IV\",\"IV\",\"IV\",\"IV\",\"IV\",\"IV\",\"IV\"],\"impact force (mN)\":[172,142,37,453,355,22,502,273,720,582,198,198,597,516,815,402,605,711,614,468],\"index\":[60,61,62,63,64,65,66,67,68,69,70,71,72,73,74,75,76,77,78,79]},\"selected\":{\"id\":\"6946\",\"type\":\"Selection\"},\"selection_policy\":{\"id\":\"6945\",\"type\":\"UnionRenderers\"}},\"id\":\"6708\",\"type\":\"ColumnDataSource\"},{\"attributes\":{\"label\":{\"value\":\"IV\"},\"renderers\":[{\"id\":\"6712\",\"type\":\"GlyphRenderer\"}]},\"id\":\"6727\",\"type\":\"LegendItem\"},{\"attributes\":{},\"id\":\"6946\",\"type\":\"Selection\"},{\"attributes\":{\"callback\":null,\"data\":{\"ID\":[\"III\",\"III\",\"III\",\"III\",\"III\",\"III\",\"III\",\"III\",\"III\",\"III\",\"III\",\"III\",\"III\",\"III\",\"III\",\"III\",\"III\",\"III\",\"III\",\"III\"],\"__ECDF\":{\"__ndarray__\":\"mpmZmZmZ4T/NzMzMzMzMP5qZmZmZmcE/zczMzMzM5j8zMzMzMzPhPwAAAAAAANw/ZmZmZmZm2j9mZmZmZmbePzMzMzMzM+c/ZmZmZmZm0j+amZmZmZnRPzMzMzMzM+M/zczMzMzM4j/NzMzMzMzcP5qZmZmZmdk/AAAAAAAAyD+amZmZmZnJPwAAAAAAAOI/AAAAAAAA5D/NzMzMzMzUPw==\",\"dtype\":\"float64\",\"shape\":[20]},\"__label\":[\"III\",\"III\",\"III\",\"III\",\"III\",\"III\",\"III\",\"III\",\"III\",\"III\",\"III\",\"III\",\"III\",\"III\",\"III\",\"III\",\"III\",\"III\",\"III\",\"III\"],\"impact force (mN)\":[614,414,324,776,611,544,538,579,806,459,458,626,621,544,535,385,401,614,665,488],\"index\":[40,41,42,43,44,45,46,47,48,49,50,51,52,53,54,55,56,57,58,59]},\"selected\":{\"id\":\"6725\",\"type\":\"Selection\"},\"selection_policy\":{\"id\":\"6724\",\"type\":\"UnionRenderers\"}},\"id\":\"6690\",\"type\":\"ColumnDataSource\"},{\"attributes\":{\"axis_label\":\"ECDF\",\"formatter\":{\"id\":\"6669\",\"type\":\"BasicTickFormatter\"},\"ticker\":{\"id\":\"6642\",\"type\":\"BasicTicker\"}},\"id\":\"6641\",\"type\":\"LinearAxis\"},{\"attributes\":{},\"id\":\"6642\",\"type\":\"BasicTicker\"},{\"attributes\":{\"source\":{\"id\":\"6659\",\"type\":\"ColumnDataSource\"}},\"id\":\"6664\",\"type\":\"CDSView\"},{\"attributes\":{\"dimension\":1,\"ticker\":{\"id\":\"6642\",\"type\":\"BasicTicker\"}},\"id\":\"6645\",\"type\":\"Grid\"},{\"attributes\":{\"data_source\":{\"id\":\"6659\",\"type\":\"ColumnDataSource\"},\"glyph\":{\"id\":\"6661\",\"type\":\"Circle\"},\"hover_glyph\":null,\"muted_glyph\":null,\"nonselection_glyph\":{\"id\":\"6662\",\"type\":\"Circle\"},\"selection_glyph\":null,\"view\":{\"id\":\"6664\",\"type\":\"CDSView\"}},\"id\":\"6663\",\"type\":\"GlyphRenderer\"},{\"attributes\":{\"source\":{\"id\":\"6690\",\"type\":\"ColumnDataSource\"}},\"id\":\"6695\",\"type\":\"CDSView\"},{\"attributes\":{\"data_source\":{\"id\":\"6690\",\"type\":\"ColumnDataSource\"},\"glyph\":{\"id\":\"6692\",\"type\":\"Circle\"},\"hover_glyph\":null,\"muted_glyph\":null,\"nonselection_glyph\":{\"id\":\"6693\",\"type\":\"Circle\"},\"selection_glyph\":null,\"view\":{\"id\":\"6695\",\"type\":\"CDSView\"}},\"id\":\"6694\",\"type\":\"GlyphRenderer\"},{\"attributes\":{},\"id\":\"6945\",\"type\":\"UnionRenderers\"},{\"attributes\":{\"fill_alpha\":{\"value\":0.1},\"fill_color\":{\"value\":\"#1f77b4\"},\"line_alpha\":{\"value\":0.1},\"line_color\":{\"value\":\"#1f77b4\"},\"x\":{\"field\":\"impact force (mN)\"},\"y\":{\"field\":\"__ECDF\"}},\"id\":\"6662\",\"type\":\"Circle\"},{\"attributes\":{\"click_policy\":\"hide\",\"items\":[{\"id\":\"6673\",\"type\":\"LegendItem\"},{\"id\":\"6689\",\"type\":\"LegendItem\"},{\"id\":\"6707\",\"type\":\"LegendItem\"},{\"id\":\"6727\",\"type\":\"LegendItem\"}],\"location\":\"bottom_right\"},\"id\":\"6672\",\"type\":\"Legend\"},{\"attributes\":{\"fill_color\":{\"value\":\"#4e79a7\"},\"line_color\":{\"value\":\"#4e79a7\"},\"x\":{\"field\":\"impact force (mN)\"},\"y\":{\"field\":\"__ECDF\"}},\"id\":\"6661\",\"type\":\"Circle\"},{\"attributes\":{\"fill_alpha\":{\"value\":0.1},\"fill_color\":{\"value\":\"#1f77b4\"},\"line_alpha\":{\"value\":0.1},\"line_color\":{\"value\":\"#1f77b4\"},\"x\":{\"field\":\"impact force (mN)\"},\"y\":{\"field\":\"__ECDF\"}},\"id\":\"6693\",\"type\":\"Circle\"},{\"attributes\":{\"fill_color\":{\"value\":\"#e15759\"},\"line_color\":{\"value\":\"#e15759\"},\"x\":{\"field\":\"impact force (mN)\"},\"y\":{\"field\":\"__ECDF\"}},\"id\":\"6692\",\"type\":\"Circle\"},{\"attributes\":{\"label\":{\"value\":\"I\"},\"renderers\":[{\"id\":\"6663\",\"type\":\"GlyphRenderer\"}]},\"id\":\"6673\",\"type\":\"LegendItem\"},{\"attributes\":{\"active_drag\":\"auto\",\"active_inspect\":\"auto\",\"active_multi\":null,\"active_scroll\":\"auto\",\"active_tap\":\"auto\",\"tools\":[{\"id\":\"6646\",\"type\":\"PanTool\"},{\"id\":\"6647\",\"type\":\"WheelZoomTool\"},{\"id\":\"6648\",\"type\":\"BoxZoomTool\"},{\"id\":\"6649\",\"type\":\"SaveTool\"},{\"id\":\"6650\",\"type\":\"ResetTool\"},{\"id\":\"6651\",\"type\":\"HelpTool\"}]},\"id\":\"6652\",\"type\":\"Toolbar\"},{\"attributes\":{\"text\":\"\"},\"id\":\"6665\",\"type\":\"Title\"},{\"attributes\":{},\"id\":\"6646\",\"type\":\"PanTool\"},{\"attributes\":{},\"id\":\"6704\",\"type\":\"UnionRenderers\"},{\"attributes\":{},\"id\":\"6667\",\"type\":\"BasicTickFormatter\"},{\"attributes\":{},\"id\":\"6647\",\"type\":\"WheelZoomTool\"},{\"attributes\":{},\"id\":\"6705\",\"type\":\"Selection\"},{\"attributes\":{},\"id\":\"6669\",\"type\":\"BasicTickFormatter\"},{\"attributes\":{\"label\":{\"value\":\"III\"},\"renderers\":[{\"id\":\"6694\",\"type\":\"GlyphRenderer\"}]},\"id\":\"6707\",\"type\":\"LegendItem\"},{\"attributes\":{\"overlay\":{\"id\":\"6671\",\"type\":\"BoxAnnotation\"}},\"id\":\"6648\",\"type\":\"BoxZoomTool\"},{\"attributes\":{\"bottom_units\":\"screen\",\"fill_alpha\":{\"value\":0.5},\"fill_color\":{\"value\":\"lightgrey\"},\"left_units\":\"screen\",\"level\":\"overlay\",\"line_alpha\":{\"value\":1.0},\"line_color\":{\"value\":\"black\"},\"line_dash\":[4,4],\"line_width\":{\"value\":2},\"render_mode\":\"css\",\"right_units\":\"screen\",\"top_units\":\"screen\"},\"id\":\"6671\",\"type\":\"BoxAnnotation\"},{\"attributes\":{},\"id\":\"6649\",\"type\":\"SaveTool\"},{\"attributes\":{},\"id\":\"6650\",\"type\":\"ResetTool\"},{\"attributes\":{\"fill_color\":{\"value\":\"#76b7b2\"},\"line_color\":{\"value\":\"#76b7b2\"},\"x\":{\"field\":\"impact force (mN)\"},\"y\":{\"field\":\"__ECDF\"}},\"id\":\"6710\",\"type\":\"Circle\"},{\"attributes\":{\"source\":{\"id\":\"6674\",\"type\":\"ColumnDataSource\"}},\"id\":\"6679\",\"type\":\"CDSView\"},{\"attributes\":{},\"id\":\"6651\",\"type\":\"HelpTool\"},{\"attributes\":{\"data_source\":{\"id\":\"6674\",\"type\":\"ColumnDataSource\"},\"glyph\":{\"id\":\"6676\",\"type\":\"Circle\"},\"hover_glyph\":null,\"muted_glyph\":null,\"nonselection_glyph\":{\"id\":\"6677\",\"type\":\"Circle\"},\"selection_glyph\":null,\"view\":{\"id\":\"6679\",\"type\":\"CDSView\"}},\"id\":\"6678\",\"type\":\"GlyphRenderer\"},{\"attributes\":{\"callback\":null},\"id\":\"6628\",\"type\":\"DataRange1d\"},{\"attributes\":{},\"id\":\"6634\",\"type\":\"LinearScale\"},{\"attributes\":{\"fill_alpha\":{\"value\":0.1},\"fill_color\":{\"value\":\"#1f77b4\"},\"line_alpha\":{\"value\":0.1},\"line_color\":{\"value\":\"#1f77b4\"},\"x\":{\"field\":\"impact force (mN)\"},\"y\":{\"field\":\"__ECDF\"}},\"id\":\"6711\",\"type\":\"Circle\"},{\"attributes\":{\"fill_alpha\":{\"value\":0.1},\"fill_color\":{\"value\":\"#1f77b4\"},\"line_alpha\":{\"value\":0.1},\"line_color\":{\"value\":\"#1f77b4\"},\"x\":{\"field\":\"impact force (mN)\"},\"y\":{\"field\":\"__ECDF\"}},\"id\":\"6677\",\"type\":\"Circle\"},{\"attributes\":{\"source\":{\"id\":\"6708\",\"type\":\"ColumnDataSource\"}},\"id\":\"6713\",\"type\":\"CDSView\"},{\"attributes\":{\"fill_color\":{\"value\":\"#f28e2b\"},\"line_color\":{\"value\":\"#f28e2b\"},\"x\":{\"field\":\"impact force (mN)\"},\"y\":{\"field\":\"__ECDF\"}},\"id\":\"6676\",\"type\":\"Circle\"},{\"attributes\":{},\"id\":\"6632\",\"type\":\"LinearScale\"},{\"attributes\":{},\"id\":\"6686\",\"type\":\"UnionRenderers\"},{\"attributes\":{\"data_source\":{\"id\":\"6708\",\"type\":\"ColumnDataSource\"},\"glyph\":{\"id\":\"6710\",\"type\":\"Circle\"},\"hover_glyph\":null,\"muted_glyph\":null,\"nonselection_glyph\":{\"id\":\"6711\",\"type\":\"Circle\"},\"selection_glyph\":null,\"view\":{\"id\":\"6713\",\"type\":\"CDSView\"}},\"id\":\"6712\",\"type\":\"GlyphRenderer\"}],\"root_ids\":[\"6627\"]},\"title\":\"Bokeh Application\",\"version\":\"1.2.0\"}};\n",
       "  var render_items = [{\"docid\":\"68cfaba1-73df-4764-927f-71b3ec1a9e37\",\"roots\":{\"6627\":\"968982a3-7df0-4e05-af3e-8e7323de1b8e\"}}];\n",
       "  root.Bokeh.embed.embed_items_notebook(docs_json, render_items);\n",
       "\n",
       "  }\n",
       "  if (root.Bokeh !== undefined) {\n",
       "    embed_document(root);\n",
       "  } else {\n",
       "    var attempts = 0;\n",
       "    var timer = setInterval(function(root) {\n",
       "      if (root.Bokeh !== undefined) {\n",
       "        embed_document(root);\n",
       "        clearInterval(timer);\n",
       "      }\n",
       "      attempts++;\n",
       "      if (attempts > 100) {\n",
       "        console.log(\"Bokeh: ERROR: Unable to run BokehJS code because BokehJS library is missing\");\n",
       "        clearInterval(timer);\n",
       "      }\n",
       "    }, 10, root)\n",
       "  }\n",
       "})(window);"
      ],
      "application/vnd.bokehjs_exec.v0+json": ""
     },
     "metadata": {
      "application/vnd.bokehjs_exec.v0+json": {
       "id": "6627"
      }
     },
     "output_type": "display_data"
    }
   ],
   "source": [
    "p = bokeh_catplot.ecdf(\n",
    "    data=df,\n",
    "    cats='ID',\n",
    "    val='impact force (mN)',\n",
    "    kind='colored',\n",
    ")\n",
    "\n",
    "bokeh.io.show(p)"
   ]
  },
  {
   "cell_type": "markdown",
   "metadata": {},
   "source": [
    "## Don't make bar graphs\n",
    "\n",
    "Bar graphs, especially with error bars (in which case they are called dynamite plots), are typically awful. They are pervasive in biology papers. I have yet to find a single example where a bar graph is the best choice. Strip plots (with jitter) or even box plots, are more informative and almost always preferred. In fact, ECDFs are often better even than these. Here is a simple message:\n",
    "\n",
    "<center><font color=\"tomato\"><b>Don't make bar graphs.</b></font></center><br/>\n",
    "\n",
    "What should I do instead you ask? The answer is simple: **plot all of your data** when you can. If you can't, box plots are always better than bar graphs."
   ]
  },
  {
   "cell_type": "markdown",
   "metadata": {},
   "source": [
    "## Computing environment"
   ]
  },
  {
   "cell_type": "code",
   "execution_count": 23,
   "metadata": {},
   "outputs": [
    {
     "name": "stdout",
     "output_type": "stream",
     "text": [
      "CPython 3.6.8\n",
      "IPython 7.1.1\n",
      "\n",
      "numpy 1.16.4\n",
      "pandas 0.24.2\n",
      "bokeh 1.2.0\n",
      "bokeh_catplot 0.1.3\n",
      "jupyterlab 1.0.2\n"
     ]
    }
   ],
   "source": [
    "%load_ext watermark\n",
    "%watermark -v -p numpy,pandas,bokeh,bokeh_catplot,jupyterlab"
   ]
  },
  {
   "cell_type": "code",
   "execution_count": null,
   "metadata": {},
   "outputs": [],
   "source": []
  }
 ],
 "metadata": {
  "anaconda-cloud": {},
  "kernelspec": {
   "display_name": "Python 3",
   "language": "python",
   "name": "python3"
  },
  "language_info": {
   "codemirror_mode": {
    "name": "ipython",
    "version": 3
   },
   "file_extension": ".py",
   "mimetype": "text/x-python",
   "name": "python",
   "nbconvert_exporter": "python",
   "pygments_lexer": "ipython3",
   "version": "3.6.8"
  }
 },
 "nbformat": 4,
 "nbformat_minor": 2
}
